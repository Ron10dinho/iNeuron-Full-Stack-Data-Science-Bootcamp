{
 "cells": [
  {
   "cell_type": "markdown",
   "id": "79d54369-d91f-4df9-a237-d42f1c23af2a",
   "metadata": {},
   "source": [
    "#### 1 . Write a Python program to Display Fibonacci Sequence using Recursion ? "
   ]
  },
  {
   "cell_type": "code",
   "execution_count": 2,
   "id": "f3d38ca5-f614-46d8-9bac-654c0eafdc5d",
   "metadata": {},
   "outputs": [
    {
     "name": "stdin",
     "output_type": "stream",
     "text": [
      "Enter number :  10\n"
     ]
    },
    {
     "name": "stdout",
     "output_type": "stream",
     "text": [
      "Fibonacci Sequence :\n",
      "0\n",
      "1\n",
      "1\n",
      "2\n",
      "3\n",
      "5\n",
      "8\n",
      "13\n",
      "21\n",
      "34\n"
     ]
    }
   ],
   "source": [
    "def recursion_fibonacci(n):\n",
    "    if n <= 1:\n",
    "        return n\n",
    "    else:\n",
    "        return (recursion_fibonacci(n-1) + recursion_fibonacci(n-2))\n",
    "\n",
    "def check():\n",
    "    number = int(input(\"Enter number : \"))\n",
    "    if number <= 0:\n",
    "        print(\"Enter a positive integer .\")\n",
    "    else:\n",
    "        print(\"Fibonacci Sequence :\")\n",
    "        for i in range(number):\n",
    "            print(recursion_fibonacci(i))\n",
    "\n",
    "check()"
   ]
  },
  {
   "cell_type": "markdown",
   "id": "e02d2ae9-3aee-408e-9458-09b4e08394a8",
   "metadata": {},
   "source": [
    "#### 2.  Write a Python program to find Factorial of Number using Recursion ?"
   ]
  },
  {
   "cell_type": "code",
   "execution_count": 8,
   "id": "931aa4e2-bc04-4f8e-80d9-96f365a09fce",
   "metadata": {},
   "outputs": [
    {
     "name": "stdin",
     "output_type": "stream",
     "text": [
      "Enter a number :  5\n"
     ]
    },
    {
     "name": "stdout",
     "output_type": "stream",
     "text": [
      "The factorial of 5 is 120\n"
     ]
    }
   ],
   "source": [
    "def fact(n):\n",
    "    if n == 1:\n",
    "        return n\n",
    "    else:\n",
    "        return n*fact(n-1)\n",
    "\n",
    "def check():\n",
    "    num = int(input(\"Enter a number : \"))\n",
    "    if num < 0 :\n",
    "        print(\"Enter positive integer .\")\n",
    "    elif num == 0:\n",
    "        print(\"The factorial of 0 is 1.\")\n",
    "    else:\n",
    "        print(\"The factorial of\",num,\"is\",fact(num))\n",
    "\n",
    "check()"
   ]
  },
  {
   "cell_type": "markdown",
   "id": "8d9290c3-01ca-4677-82eb-af10c9eb292b",
   "metadata": {},
   "source": [
    "#### 3. Write a Python program to calculate your Body Mass Index ? "
   ]
  },
  {
   "cell_type": "code",
   "execution_count": 15,
   "id": "548de46f-87ec-49a7-8c53-58a93dc19f70",
   "metadata": {},
   "outputs": [
    {
     "name": "stdin",
     "output_type": "stream",
     "text": [
      "Enter height : 1.79\n",
      "Enter weight : 70\n"
     ]
    },
    {
     "name": "stdout",
     "output_type": "stream",
     "text": [
      "The BMI is 21 so Healthy\n"
     ]
    }
   ],
   "source": [
    "def calculate(height,weight):\n",
    "    bmi = weight / (height**2)\n",
    "    return bmi\n",
    "def bmi():\n",
    "    height = float(input(\"Enter height :\"))\n",
    "    weight = float(input(\"Enter weight :\"))\n",
    "    \n",
    "    bmi = calculate(height,weight)\n",
    "    print(\"The BMI is\",int(bmi),\"so \",end='')\n",
    "    \n",
    "    if (bmi<18.5):\n",
    "        print(\"Underweight\")\n",
    "    elif ( bmi >= 18.5 and bmi < 24.9):\n",
    "        print(\"Healthy\")\n",
    "    elif ( bmi >= 24.9 and bmi < 30):\n",
    "        print(\"Overweight\")\n",
    "    elif ( bmi >= 30):\n",
    "        print(\"Suffering from Obesity\")\n",
    "    \n",
    "bmi()"
   ]
  },
  {
   "cell_type": "markdown",
   "id": "a088470d-9414-4bee-8f2d-e7ea0f17e4dc",
   "metadata": {},
   "source": [
    "#### 4. Write a program to calculate the natural logarithm of any number ?"
   ]
  },
  {
   "cell_type": "code",
   "execution_count": 18,
   "id": "9c30a06c-3cc7-4044-8984-0312f7d4ed96",
   "metadata": {},
   "outputs": [
    {
     "name": "stdin",
     "output_type": "stream",
     "text": [
      " 100\n"
     ]
    },
    {
     "data": {
      "text/plain": [
       "4.605170185988092"
      ]
     },
     "execution_count": 18,
     "metadata": {},
     "output_type": "execute_result"
    }
   ],
   "source": [
    "import math\n",
    "def calc():\n",
    "    num = float(input())\n",
    "    return math.log(num)\n",
    "calc()"
   ]
  },
  {
   "cell_type": "markdown",
   "id": "4aabc1b9-3e68-4f7f-9ecb-00ccc0ffb205",
   "metadata": {},
   "source": [
    "#### 5. Write a Python Program for cube sum of first n natural numbers ? "
   ]
  },
  {
   "cell_type": "code",
   "execution_count": 27,
   "id": "d0925ffd-3df6-48d0-8c08-0ec133e8da18",
   "metadata": {},
   "outputs": [
    {
     "name": "stdin",
     "output_type": "stream",
     "text": [
      "Enter a number : 4\n"
     ]
    },
    {
     "data": {
      "text/plain": [
       "100"
      ]
     },
     "execution_count": 27,
     "metadata": {},
     "output_type": "execute_result"
    }
   ],
   "source": [
    "def cube_sum():\n",
    "    n = int(input(\"Enter a number :\"))\n",
    "    sum = 0\n",
    "    for i in range(1,n+1):\n",
    "        sum += pow(i,3)\n",
    "    return sum\n",
    "cube_sum()"
   ]
  },
  {
   "cell_type": "code",
   "execution_count": null,
   "id": "0e0d8983-bf25-4608-8dae-907c471680c1",
   "metadata": {},
   "outputs": [],
   "source": []
  }
 ],
 "metadata": {
  "kernelspec": {
   "display_name": "Python 3 (ipykernel)",
   "language": "python",
   "name": "python3"
  },
  "language_info": {
   "codemirror_mode": {
    "name": "ipython",
    "version": 3
   },
   "file_extension": ".py",
   "mimetype": "text/x-python",
   "name": "python",
   "nbconvert_exporter": "python",
   "pygments_lexer": "ipython3",
   "version": "3.9.7"
  }
 },
 "nbformat": 4,
 "nbformat_minor": 5
}

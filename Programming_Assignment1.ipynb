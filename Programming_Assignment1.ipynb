{
 "cells": [
  {
   "cell_type": "markdown",
   "id": "b22ed307-b13f-4136-9a4a-d9635a5f9912",
   "metadata": {},
   "source": [
    "#### Write a Python program to print \"Hello Python\" ?"
   ]
  },
  {
   "cell_type": "code",
   "execution_count": 1,
   "id": "ea075279-f0e4-4583-b742-9fa69dc02340",
   "metadata": {},
   "outputs": [
    {
     "name": "stdout",
     "output_type": "stream",
     "text": [
      "Hello World\n"
     ]
    }
   ],
   "source": [
    "def intro(name):\n",
    "    print(name)\n",
    "intro(\"Hello World\")"
   ]
  },
  {
   "cell_type": "markdown",
   "id": "2f05f816-558d-4e50-9322-d85bc61ab54f",
   "metadata": {},
   "source": [
    "#### Write a Python program to do arithmetical operations addition and division.?"
   ]
  },
  {
   "cell_type": "code",
   "execution_count": 2,
   "id": "58fb96b2-55e3-4829-824c-cd11ff6da122",
   "metadata": {},
   "outputs": [
    {
     "name": "stdout",
     "output_type": "stream",
     "text": [
      "Addition : 30\n",
      "Division : 2.0\n"
     ]
    }
   ],
   "source": [
    "def maths(a,b):\n",
    "    print(\"Addition :\",a+b)\n",
    "    print(\"Division :\",a/b)\n",
    "maths(20,10)"
   ]
  },
  {
   "cell_type": "markdown",
   "id": "dbb77d0d-bf5d-4deb-8ace-227d29c93a42",
   "metadata": {},
   "source": [
    "#### Write a Python program to find the area of the triangle ? "
   ]
  },
  {
   "cell_type": "code",
   "execution_count": 3,
   "id": "c363f3ce-bba9-4906-8c8a-4e26620453fc",
   "metadata": {},
   "outputs": [
    {
     "name": "stdout",
     "output_type": "stream",
     "text": [
      "Base : 20\n",
      "Height : 10\n",
      "Area of the triangle : 100.0\n"
     ]
    }
   ],
   "source": [
    "def area(b,h):\n",
    "    print(\"Base :\",b)\n",
    "    print(\"Height :\",h)\n",
    "    print(\"Area of the triangle :\",(1/2)*b*h)\n",
    "area(20,10)"
   ]
  },
  {
   "cell_type": "markdown",
   "id": "d9195e23-03c7-4d8a-bdef-9e00e93be928",
   "metadata": {},
   "source": [
    "#### Write a Python program to swap two variables ? "
   ]
  },
  {
   "cell_type": "code",
   "execution_count": 7,
   "id": "4b5d248f-abb6-4772-9011-fae262d6767b",
   "metadata": {},
   "outputs": [
    {
     "name": "stdout",
     "output_type": "stream",
     "text": [
      "a and b : 10 20\n",
      "a and b : 20 10\n"
     ]
    }
   ],
   "source": [
    "def swap(a,b):\n",
    "    print(\"a and b :\",a,b)\n",
    "    temp = a\n",
    "    a = b\n",
    "    b = temp\n",
    "    print(\"a and b :\",a,b)\n",
    "swap(10,20)"
   ]
  },
  {
   "cell_type": "markdown",
   "id": "f6330a3e-6049-4bd1-8893-8cf562b9b015",
   "metadata": {},
   "source": [
    "#### Write a Python program to generate a random number ? "
   ]
  },
  {
   "cell_type": "code",
   "execution_count": 11,
   "id": "9ce15856-f691-4452-bac1-1a5c632b7dce",
   "metadata": {},
   "outputs": [
    {
     "name": "stdout",
     "output_type": "stream",
     "text": [
      "Number generated :  7\n"
     ]
    }
   ],
   "source": [
    "import random\n",
    "x = random.randint(0,9)\n",
    "print(\"Number generated : \",x)"
   ]
  },
  {
   "cell_type": "code",
   "execution_count": 12,
   "id": "e2f5ce46-290b-4203-9aa6-76f760913bd0",
   "metadata": {},
   "outputs": [
    {
     "name": "stdout",
     "output_type": "stream",
     "text": [
      "Number generated :  3\n"
     ]
    }
   ],
   "source": [
    "import random\n",
    "x = random.randint(0,9)\n",
    "print(\"Number generated : \",x)"
   ]
  },
  {
   "cell_type": "code",
   "execution_count": null,
   "id": "83a61dc9-8c28-46d4-96d8-abec78ce68fb",
   "metadata": {},
   "outputs": [],
   "source": []
  }
 ],
 "metadata": {
  "kernelspec": {
   "display_name": "Python 3 (ipykernel)",
   "language": "python",
   "name": "python3"
  },
  "language_info": {
   "codemirror_mode": {
    "name": "ipython",
    "version": 3
   },
   "file_extension": ".py",
   "mimetype": "text/x-python",
   "name": "python",
   "nbconvert_exporter": "python",
   "pygments_lexer": "ipython3",
   "version": "3.9.7"
  }
 },
 "nbformat": 4,
 "nbformat_minor": 5
}

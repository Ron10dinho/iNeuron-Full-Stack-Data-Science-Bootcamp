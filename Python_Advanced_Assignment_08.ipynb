{
 "cells": [
  {
   "cell_type": "markdown",
   "id": "0ef980b5-49c8-4934-b573-890e27df554a",
   "metadata": {},
   "source": [
    "### Q1. What are the two latest user-defined exception constraints in Python 3.X ? "
   ]
  },
  {
   "cell_type": "markdown",
   "id": "9efb1171-5d72-4874-8459-c85182fee731",
   "metadata": {},
   "source": [
    "__raise__ and __assert__ are the two latest user-defined exception constraints in Python  3"
   ]
  },
  {
   "cell_type": "markdown",
   "id": "c188221f-a74f-4769-a26b-7c35afb7ea25",
   "metadata": {},
   "source": [
    "### Q2. How are class-based exceptions that have been raised matched to handlers ? "
   ]
  },
  {
   "cell_type": "markdown",
   "id": "04c27397-6ae5-4921-8d63-aa3da5fd3ee1",
   "metadata": {},
   "source": [
    "In Python , users can define custom exceptions by creating a new class. This exception class has to be derived , either directly or indirectly from built-in Exception class. \n",
    "\n",
    "Example:"
   ]
  },
  {
   "cell_type": "code",
   "execution_count": 1,
   "id": "f83f890a-ca87-448e-89d8-74b744c04f2a",
   "metadata": {},
   "outputs": [
    {
     "ename": "toYoungToVote",
     "evalue": "Too Young to Vote",
     "output_type": "error",
     "traceback": [
      "\u001b[1;31m---------------------------------------------------------------------------\u001b[0m",
      "\u001b[1;31mtoYoungToVote\u001b[0m                             Traceback (most recent call last)",
      "Cell \u001b[1;32mIn[1], line 6\u001b[0m\n\u001b[0;32m      4\u001b[0m age \u001b[38;5;241m=\u001b[39m \u001b[38;5;241m12\u001b[39m\n\u001b[0;32m      5\u001b[0m \u001b[38;5;28;01mif\u001b[39;00m age \u001b[38;5;241m<\u001b[39m\u001b[38;5;241m=\u001b[39m \u001b[38;5;241m18\u001b[39m:\n\u001b[1;32m----> 6\u001b[0m     \u001b[38;5;28;01mraise\u001b[39;00m toYoungToVote(\u001b[38;5;124m\"\u001b[39m\u001b[38;5;124mToo Young to Vote\u001b[39m\u001b[38;5;124m\"\u001b[39m)\n",
      "\u001b[1;31mtoYoungToVote\u001b[0m: Too Young to Vote"
     ]
    }
   ],
   "source": [
    "class toYoungToVote(Exception):\n",
    "    def __init__(self, msg):\n",
    "        self.msg = msg\n",
    "age = 12\n",
    "if age <= 18:\n",
    "    raise toYoungToVote(\"Too Young to Vote\")"
   ]
  },
  {
   "cell_type": "markdown",
   "id": "2a27541e-2392-47c7-b9cd-6e8597874fc0",
   "metadata": {},
   "source": [
    "### Q3. Describe two methods for attaching context information to exception artifacts ? "
   ]
  },
  {
   "cell_type": "markdown",
   "id": "4f521f5d-2a5d-47ad-ab81-251bb84d825f",
   "metadata": {},
   "source": [
    "The process() method of LoggerAdapter is where the contextual information is added to the logging output. It passes the message and keyword arguments of the logging call, and it passes back modified versions of these to use in the call to the underlying logger.\n",
    "\n",
    "The exception() method can also be used, logs a message with level ERROR on this logger. The arguments are interpreted for debug() . Exception info is added to the logging message."
   ]
  },
  {
   "cell_type": "markdown",
   "id": "16169b69-03bd-4410-96fb-36a8c5d43394",
   "metadata": {},
   "source": [
    "### Q4. Describe two methods for specifying the text of an exception object's error message ? "
   ]
  },
  {
   "cell_type": "markdown",
   "id": "a3bb6e7f-b4f0-43af-a89b-0ec5843c6fa2",
   "metadata": {},
   "source": [
    "__raise__ and __assert__ are two methods for specifying the text of an exception object's error message. \n",
    "\n",
    "__raise__ statement is used to trigger explicit exception , if certain condition is not met as per the requirement of the programmer. \n",
    "\n",
    "__assert__ statements are used to avoid code failure. This statement takes a Boolean condition output of which if True, further program executes. If output of assert statement is False, it raises an Assertion Error."
   ]
  },
  {
   "cell_type": "markdown",
   "id": "d2c2c072-e6c6-4fc7-9364-bd25cf052d8c",
   "metadata": {},
   "source": [
    "### Q5. Why do you no longer use string-based exceptions ? "
   ]
  },
  {
   "cell_type": "markdown",
   "id": "9bcf3cce-b10a-4d91-a9d0-b0484453eac3",
   "metadata": {},
   "source": [
    "String-based Exceptions does not inherit from Exceptions, so plain exceptions catch all exceptions and not only system."
   ]
  },
  {
   "cell_type": "code",
   "execution_count": null,
   "id": "1cccec27-eb78-4c6d-bb32-29a5b184a517",
   "metadata": {},
   "outputs": [],
   "source": []
  }
 ],
 "metadata": {
  "kernelspec": {
   "display_name": "Python 3 (ipykernel)",
   "language": "python",
   "name": "python3"
  },
  "language_info": {
   "codemirror_mode": {
    "name": "ipython",
    "version": 3
   },
   "file_extension": ".py",
   "mimetype": "text/x-python",
   "name": "python",
   "nbconvert_exporter": "python",
   "pygments_lexer": "ipython3",
   "version": "3.10.9"
  }
 },
 "nbformat": 4,
 "nbformat_minor": 5
}

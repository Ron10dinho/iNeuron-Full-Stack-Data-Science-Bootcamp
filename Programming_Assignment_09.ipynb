{
 "cells": [
  {
   "cell_type": "markdown",
   "id": "c0056e94-6417-43b4-89ca-dd1a8ea75dfd",
   "metadata": {},
   "source": [
    "#### 1. Write a Python Program to check if the given number is a Disarium Number ? "
   ]
  },
  {
   "cell_type": "code",
   "execution_count": 9,
   "id": "39a29034-1312-430a-a65c-4f8a6dd88cd3",
   "metadata": {},
   "outputs": [
    {
     "name": "stdin",
     "output_type": "stream",
     "text": [
      "Enter a number : 175\n"
     ]
    },
    {
     "name": "stdout",
     "output_type": "stream",
     "text": [
      "175 is a disarium number.\n"
     ]
    }
   ],
   "source": [
    "def check_disarium():\n",
    "    num = int(input(\"Enter a number :\"))\n",
    "    rem = 0\n",
    "    sum = 0\n",
    "    length = 0\n",
    "    n = num \n",
    "    num1 = num\n",
    "    while (num != 0):\n",
    "        length += 1\n",
    "        num = num // 10\n",
    "    # print(length)\n",
    "    len = length\n",
    "    n = num1\n",
    "    while (num1 > 0):\n",
    "        rem = num1 % 10\n",
    "        sum = sum + int(rem**len)\n",
    "        # print(sum)\n",
    "        num1 = num1 // 10\n",
    "        len -= 1\n",
    "    if(sum == n):\n",
    "        print(str(n) + \" is a disarium number.\")\n",
    "    else:\n",
    "        print(str(n) + \" is not a disarium number.\")\n",
    "check_disarium()"
   ]
  },
  {
   "cell_type": "markdown",
   "id": "c1dab2d4-a276-4fd2-8cb0-c0cb0d5e2af2",
   "metadata": {},
   "source": [
    "#### 2. Write a Python Program to print all Disarium Numbers between 1 to 100 ?"
   ]
  },
  {
   "cell_type": "code",
   "execution_count": 12,
   "id": "9549450a-675a-47d5-a256-2ebf8e17559a",
   "metadata": {},
   "outputs": [
    {
     "name": "stdout",
     "output_type": "stream",
     "text": [
      "Disarium Numbers between 1 and 100 are :\n",
      "1 2 3 4 5 6 7 8 9 89 "
     ]
    }
   ],
   "source": [
    "def calculate_length(n):\n",
    "    length = 0\n",
    "    while (n!=0):\n",
    "        length += 1\n",
    "        n=n//10\n",
    "    return length\n",
    "def sumOfDigits(num):\n",
    "    rem = sum = 0\n",
    "    len = calculate_length(num)\n",
    "    while(num > 0):\n",
    "        rem = num % 10\n",
    "        sum += (rem**len)\n",
    "        num = num // 10\n",
    "        len = len - 1\n",
    "    return sum\n",
    "result = 0\n",
    "print(\"Disarium Numbers between 1 and 100 are :\")\n",
    "for i in range(1,101):\n",
    "    result = sumOfDigits(i)\n",
    "    if result == i:\n",
    "        print(i,end=' ')"
   ]
  },
  {
   "cell_type": "markdown",
   "id": "0f78dc73-6184-41ae-8e31-00de8543837f",
   "metadata": {},
   "source": [
    "#### 3. Write a Python Program to check if the given number is a Happy Number ? "
   ]
  },
  {
   "cell_type": "code",
   "execution_count": 42,
   "id": "06eb8ca0-11cd-4661-a6c7-5813d7fed5aa",
   "metadata": {},
   "outputs": [
    {
     "name": "stdin",
     "output_type": "stream",
     "text": [
      "Enter a number : 7\n"
     ]
    },
    {
     "name": "stdout",
     "output_type": "stream",
     "text": [
      "7 49 97 130 10 1 \n",
      "7 is a Happy Number\n"
     ]
    }
   ],
   "source": [
    "def isHappy_2(n):\n",
    "    r = sum_total = 0\n",
    "    while (n > 0):\n",
    "        r = n % 10\n",
    "        sum_total += r**2\n",
    "        n //= 10\n",
    "    return sum_total\n",
    "\n",
    "\n",
    "def check_ishappy():\n",
    "    n = int(input(\"Enter a number :\"))\n",
    "    res = n\n",
    "    print(res,end=' ')\n",
    "    while(res != 1 and res != 4):\n",
    "        res = isHappy_2(res)\n",
    "        print(res,end=' ')\n",
    "    if (res == 1):\n",
    "        print()\n",
    "        print(f\"{n} is a Happy Number\")\n",
    "    else:\n",
    "        print()\n",
    "        print(f\"{n} is not a Happy Number\")\n",
    "check_ishappy()"
   ]
  },
  {
   "cell_type": "markdown",
   "id": "2d039514-10dd-4fdf-9869-5b7bd4b7ab72",
   "metadata": {},
   "source": [
    "#### 4. Write a Python Program to print all Happy Numbers between 1 and 100 ?"
   ]
  },
  {
   "cell_type": "code",
   "execution_count": 55,
   "id": "f4001fb7-e83e-4c48-9fcf-d44c1ae1e593",
   "metadata": {},
   "outputs": [
    {
     "name": "stdout",
     "output_type": "stream",
     "text": [
      "List of Happy Numbers between 1 and 100 .\n",
      "1 7 10 13 19 23 28 31 32 44 49 68 70 79 82 86 91 94 97 100 "
     ]
    }
   ],
   "source": [
    "def isHappyNumber(num):\n",
    "    rem = sum = 0\n",
    "    while (num > 0):\n",
    "        rem = num % 10\n",
    "        sum += (rem**2)\n",
    "        num //= 10\n",
    "    return sum\n",
    "print(\"List of Happy Numbers between 1 and 100 .\")\n",
    "for i in range(1,101):\n",
    "    result = i\n",
    "\n",
    "    while (result != 1 and result != 4):\n",
    "        result = isHappyNumber(result)\n",
    "    if (result == 1):\n",
    "        print(i,end=' ')"
   ]
  },
  {
   "cell_type": "markdown",
   "id": "430cd049-b0e7-48e2-b5a0-bb4183441e9d",
   "metadata": {},
   "source": [
    "#### 5. Write a Python Program to determine whether the given number is a Harshad Number ? "
   ]
  },
  {
   "cell_type": "code",
   "execution_count": 59,
   "id": "cc944120-c32b-46a0-bd06-e0f5e57569bf",
   "metadata": {},
   "outputs": [
    {
     "name": "stdin",
     "output_type": "stream",
     "text": [
      "Enter a number : 156\n"
     ]
    },
    {
     "name": "stdout",
     "output_type": "stream",
     "text": [
      "156 is a harshad number.\n"
     ]
    }
   ],
   "source": [
    "def check_harshad():\n",
    "    num = int(input(\"Enter a number :\"))\n",
    "    rem = sum = 0\n",
    "    n = num\n",
    "    while (num > 0):\n",
    "        rem = num % 10\n",
    "        sum += rem\n",
    "        num = num // 10\n",
    "    if (n%sum) == 0:\n",
    "        print(str(n) + \" is a harshad number.\")\n",
    "    else:\n",
    "        print(str(n) + \" is not a harshad number.\")\n",
    "check_harshad()"
   ]
  },
  {
   "cell_type": "markdown",
   "id": "02c06a4f-524c-4abc-a0c6-f07942aa28f7",
   "metadata": {},
   "source": [
    "#### 6. Write a Python Program to print all pronic numbers between 1 and 100 ?"
   ]
  },
  {
   "cell_type": "code",
   "execution_count": 62,
   "id": "be1b355d-dd78-481b-9735-ef9b59c4cfee",
   "metadata": {},
   "outputs": [
    {
     "name": "stdout",
     "output_type": "stream",
     "text": [
      "Pronic Numbers between 1 and 100: \n",
      "2 6 12 20 30 42 56 72 90 "
     ]
    }
   ],
   "source": [
    "def isPronicNumber(num):\n",
    "    flag = False\n",
    "    for j in range(1,num+1):\n",
    "        if((j*(j+1)) == num):\n",
    "            flag = True\n",
    "            break\n",
    "    return flag\n",
    "\n",
    "print(\"Pronic Numbers between 1 and 100: \")\n",
    "for i in range(1,101):\n",
    "    if(isPronicNumber(i)):\n",
    "        print(i,end=' ')"
   ]
  },
  {
   "cell_type": "code",
   "execution_count": null,
   "id": "5e7a93e6-4500-41a2-88e0-243adef14c75",
   "metadata": {},
   "outputs": [],
   "source": []
  }
 ],
 "metadata": {
  "kernelspec": {
   "display_name": "Python 3 (ipykernel)",
   "language": "python",
   "name": "python3"
  },
  "language_info": {
   "codemirror_mode": {
    "name": "ipython",
    "version": 3
   },
   "file_extension": ".py",
   "mimetype": "text/x-python",
   "name": "python",
   "nbconvert_exporter": "python",
   "pygments_lexer": "ipython3",
   "version": "3.9.7"
  }
 },
 "nbformat": 4,
 "nbformat_minor": 5
}

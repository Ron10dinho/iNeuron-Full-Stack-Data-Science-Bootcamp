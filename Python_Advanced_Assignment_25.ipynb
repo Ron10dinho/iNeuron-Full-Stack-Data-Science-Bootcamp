{
 "cells": [
  {
   "cell_type": "markdown",
   "id": "c9ad7b0a-03ea-4166-baab-38520d0861e4",
   "metadata": {},
   "source": [
    "### Q1. What is the distinction between a numpy array and a pandas data frame? Is there a way to convert between the two if there is? "
   ]
  },
  {
   "cell_type": "markdown",
   "id": "8a3b72f8-d488-4752-8c15-45cf06221c7c",
   "metadata": {},
   "source": [
    "Numpy Ndarray provides a lot of convenient and optimized methods for performing several mathematical operations on vectors.\n",
    "\n",
    "Pandas Dataframe is an in-memory 2-dimensional tabular representation of data. In simpler words, it can be seen as a spreadsheet having rows and columns.\n",
    "\n",
    "Conversion : Dataframe=pandas.DataFrame(array)"
   ]
  },
  {
   "cell_type": "markdown",
   "id": "d3d5e7e3-fe79-4098-b814-4c80642a111f",
   "metadata": {},
   "source": [
    "### Q2. What can go wrong when an user enters in a stock-ticker symbol, and how do you handle it? "
   ]
  },
  {
   "cell_type": "markdown",
   "id": "e7206fac-b048-4e37-b94c-0f057e0d9eb4",
   "metadata": {},
   "source": [
    "Entering an incorrect stock-ticker symbol will raise an error. To mitigate this issue, first find a website / API which allows you to lookup stock symbols and provide information. Then you can query that API for information. "
   ]
  },
  {
   "cell_type": "markdown",
   "id": "f9848767-9727-431d-b263-370309a4bc0e",
   "metadata": {},
   "source": [
    "### Q3. Identify some of the plotting techniques that are used to produce a stock-market chart."
   ]
  },
  {
   "cell_type": "markdown",
   "id": "f8ac8027-f484-4e1d-9494-8a883e938d92",
   "metadata": {},
   "source": [
    "Bar chart, Line chart are used for plotting."
   ]
  },
  {
   "cell_type": "markdown",
   "id": "007dc4e9-fc2a-4325-bcdf-5bca430cca10",
   "metadata": {},
   "source": [
    "### Q4. Why is it essential to print a legend on a stock market chart? "
   ]
  },
  {
   "cell_type": "markdown",
   "id": "96508dbd-9a61-4f42-bfb6-3f1c97f0dc6a",
   "metadata": {},
   "source": [
    "Legend will help comparison between different stocks, so will be essential on a stock market chart"
   ]
  },
  {
   "cell_type": "markdown",
   "id": "9436f5de-29af-4356-84ed-fb50714a827f",
   "metadata": {},
   "source": [
    "### Q5. What is the best way to limit the length of a pandas data frame to less than a year? "
   ]
  },
  {
   "cell_type": "markdown",
   "id": "ec27f91e-a90d-4e70-8c8a-9e43c7e526e4",
   "metadata": {},
   "source": [
    "We can use start and end parameters for that. In start we write the date from where we are starting and at the end we write the end date. SO within this span we can restric the duration.Also we can use the parameters like periods for how much times we need the duration and we can also use the frequency parameter."
   ]
  },
  {
   "cell_type": "markdown",
   "id": "e3eb89bb-6eac-4fd9-8081-dc00b1c19379",
   "metadata": {},
   "source": [
    "### Q6. What is the definition of a 180-day moving average? "
   ]
  },
  {
   "cell_type": "markdown",
   "id": "18aac957-cf57-4f12-a356-569b0c16c3c6",
   "metadata": {},
   "source": [
    " The 180-day moving average is represented as a line on charts and represents the average price over the past 180 days. The moving average can give traders a sense regarding whether the trend is up or down, while also identifying potential support or resistance areas."
   ]
  },
  {
   "cell_type": "markdown",
   "id": "07ce800d-da56-44eb-9e72-85ce27fbcfb0",
   "metadata": {},
   "source": [
    "### Q7. Did the chapter&#39;s final example use &quot;indirect&quot; importing? If so, how exactly do you do it? "
   ]
  },
  {
   "cell_type": "code",
   "execution_count": null,
   "id": "22e43d2f-a111-43da-b431-0db7ec5d9a63",
   "metadata": {},
   "outputs": [],
   "source": []
  }
 ],
 "metadata": {
  "kernelspec": {
   "display_name": "Python 3 (ipykernel)",
   "language": "python",
   "name": "python3"
  },
  "language_info": {
   "codemirror_mode": {
    "name": "ipython",
    "version": 3
   },
   "file_extension": ".py",
   "mimetype": "text/x-python",
   "name": "python",
   "nbconvert_exporter": "python",
   "pygments_lexer": "ipython3",
   "version": "3.10.9"
  }
 },
 "nbformat": 4,
 "nbformat_minor": 5
}

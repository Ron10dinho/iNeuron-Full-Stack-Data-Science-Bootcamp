{
 "cells": [
  {
   "cell_type": "markdown",
   "id": "3d823dcb-4a11-48f1-bbef-debbe38aef84",
   "metadata": {},
   "source": [
    "#### 1. Write a Python program to Extract unique values dictionary values ?"
   ]
  },
  {
   "cell_type": "code",
   "execution_count": 2,
   "id": "b0ce7367-02e7-4774-81fd-536206ea989a",
   "metadata": {},
   "outputs": [
    {
     "name": "stdout",
     "output_type": "stream",
     "text": [
      "The unique values list : [1, 2, 3, 4, 5, 6, 7, 8, 10, 12]\n"
     ]
    }
   ],
   "source": [
    "dict1 = {'A' : [1, 3, 5, 4],\n",
    "             'B' : [4, 6, 8, 10],\n",
    "             'C' : [6, 12, 4 ,8],\n",
    "             'D' : [5, 7, 2]}\n",
    "\n",
    "res = list(sorted({ele for val in dict1.values() for ele in val}))\n",
    "\n",
    "print(\"The unique values list :\",res)"
   ]
  },
  {
   "cell_type": "markdown",
   "id": "6a16e017-d3e9-4895-9f03-56f8c7661dcb",
   "metadata": {},
   "source": [
    "#### 2. Write a Python program to find the sum of all items in a dictionary ? "
   ]
  },
  {
   "cell_type": "code",
   "execution_count": 3,
   "id": "e8e81b5e-609e-4952-80a8-91c7daa0d1a1",
   "metadata": {},
   "outputs": [
    {
     "name": "stdout",
     "output_type": "stream",
     "text": [
      "The sum of all items in the dictionary : 600\n"
     ]
    }
   ],
   "source": [
    "def returnSum(dict1):\n",
    "    lst = []\n",
    "    for i in dict1:\n",
    "        lst.append(dict1[i])\n",
    "    final = sum(lst)\n",
    "    print(\"The sum of all items in the dictionary :\",final)\n",
    "dict1 = {'a': 100, 'b': 200, 'c': 300}\n",
    "returnSum(dict1)"
   ]
  },
  {
   "cell_type": "markdown",
   "id": "ebd2071f-23bd-4ace-8ada-87d5b0644540",
   "metadata": {},
   "source": [
    "#### 3. Write a Python program to merging two dictionaries ? "
   ]
  },
  {
   "cell_type": "code",
   "execution_count": 5,
   "id": "af7946fd-1ba9-4df7-aa42-502539628c6b",
   "metadata": {},
   "outputs": [
    {
     "name": "stdout",
     "output_type": "stream",
     "text": [
      "Updated dictionary after merging : {2: 'b', 4: 'd', 1: 'a'}\n"
     ]
    }
   ],
   "source": [
    "dict_1 = {1: 'a', 2: 'b'}\n",
    "dict_2 = {2: 'c', 4: 'd'}\n",
    "\n",
    "dict_3 = dict_2.copy()\n",
    "dict_3.update(dict_1)\n",
    "\n",
    "print(\"Updated dictionary after merging :\",dict_3)"
   ]
  },
  {
   "cell_type": "markdown",
   "id": "897163eb-429d-4208-a4a4-8ba3ce49bbd8",
   "metadata": {},
   "source": [
    "#### 4. Write a Python program to convert key-values list to flat dictionary ? "
   ]
  },
  {
   "cell_type": "code",
   "execution_count": 11,
   "id": "4dbe66f3-7f6f-46cf-829a-2fb3db29b065",
   "metadata": {},
   "outputs": [
    {
     "name": "stdout",
     "output_type": "stream",
     "text": [
      "The original dictionary is : {'month': [1, 2, 3], 'name': ['Jan', 'Feb', 'March']}\n",
      "Flattened dictionary :  {1: 'Jan', 2: 'Feb', 3: 'March'}\n"
     ]
    }
   ],
   "source": [
    "test_dict = {'month' : [1, 2, 3],\n",
    "            'name' : ['Jan', 'Feb', 'March']}\n",
    "print(\"The original dictionary is :\",str(test_dict))\n",
    "x = list(test_dict.values())\n",
    "# print(x)\n",
    "a=x[0]\n",
    "# print(a)\n",
    "b=x[1]\n",
    "# print(b)\n",
    "d=dict()\n",
    "for i in range(len(a)):\n",
    "    d[a[i]] = b[i]\n",
    "print(\"Flattened dictionary : \",str(d))"
   ]
  },
  {
   "cell_type": "markdown",
   "id": "b50a9510-c0c9-45b3-9355-0c2aadbd3fa9",
   "metadata": {},
   "source": [
    "#### 5. Write a Python program to insertion at the beginning in OrderedDict ? "
   ]
  },
  {
   "cell_type": "code",
   "execution_count": 13,
   "id": "1cd2d77c-f5d5-472c-b247-438f8ba1c307",
   "metadata": {},
   "outputs": [
    {
     "name": "stdout",
     "output_type": "stream",
     "text": [
      "Resultant Dictionary :OrderedDict([('c', '4'), ('d', '4'), ('a', '1'), ('b', '2')])\n"
     ]
    }
   ],
   "source": [
    "from collections import OrderedDict\n",
    "ini_dict1 = OrderedDict([('a', '1'), ('b', '2')])\n",
    "ini_dict2 = OrderedDict([(\"c\", '4'), (\"d\", '4')])\n",
    "both = OrderedDict(list(ini_dict2.items()) + list(ini_dict1.items()))\n",
    "print(\"Resultant Dictionary :\"+str(both))"
   ]
  },
  {
   "cell_type": "markdown",
   "id": "dbf0b814-4105-4835-aa47-de0683968d6a",
   "metadata": {},
   "source": [
    "#### 6. Write a Python program to check order of character in string using OrderedDict() ?"
   ]
  },
  {
   "cell_type": "code",
   "execution_count": 15,
   "id": "8ef88a18-842d-42c0-8a97-63f57574186d",
   "metadata": {},
   "outputs": [
    {
     "name": "stdout",
     "output_type": "stream",
     "text": [
      "True\n"
     ]
    }
   ],
   "source": [
    "from collections import OrderedDict\n",
    "def checkOrder(inp,pattern):\n",
    "    dict1 = OrderedDict.fromkeys(inp)\n",
    "    ptrlen = 0\n",
    "    for key,value in dict1.items():\n",
    "        if (key == pattern[ptrlen]):\n",
    "            ptrlen += 1\n",
    "        if (ptrlen == (len(pattern))):\n",
    "            return 'True'\n",
    "    return \" False \"\n",
    "inp = 'engineers rock'\n",
    "pattern = 'er'\n",
    "print(checkOrder(inp,pattern))"
   ]
  },
  {
   "cell_type": "markdown",
   "id": "70356a3e-0052-46a6-ba49-a83dffaab144",
   "metadata": {},
   "source": [
    "#### 7. Write a Python program to sort Python Dictionaries by Key or value ? "
   ]
  },
  {
   "cell_type": "code",
   "execution_count": 17,
   "id": "67f14f04-4c3b-4999-abec-1ce5e07c10f0",
   "metadata": {},
   "outputs": [
    {
     "name": "stdout",
     "output_type": "stream",
     "text": [
      "key_value {2: 56, 1: 2, 5: 12, 4: 24, 6: 18, 3: 323}\n",
      "1 2 3 4 5 6 "
     ]
    }
   ],
   "source": [
    "def dict1():\n",
    "    key_value = {}\n",
    "    key_value[2] = 56\n",
    "    key_value[1] = 2\n",
    "    key_value[5] = 12\n",
    "    key_value[4] = 24\n",
    "    key_value[6] = 18\n",
    "    key_value[3] = 323\n",
    "    \n",
    "    print('key_value',key_value)\n",
    "    for i in sorted(key_value.keys()):\n",
    "        print(i,end=' ')\n",
    "dict1()"
   ]
  },
  {
   "cell_type": "code",
   "execution_count": null,
   "id": "ef1bfe0a-67d6-439e-9a0e-7c85c4f76142",
   "metadata": {},
   "outputs": [],
   "source": []
  }
 ],
 "metadata": {
  "kernelspec": {
   "display_name": "Python 3 (ipykernel)",
   "language": "python",
   "name": "python3"
  },
  "language_info": {
   "codemirror_mode": {
    "name": "ipython",
    "version": 3
   },
   "file_extension": ".py",
   "mimetype": "text/x-python",
   "name": "python",
   "nbconvert_exporter": "python",
   "pygments_lexer": "ipython3",
   "version": "3.9.7"
  }
 },
 "nbformat": 4,
 "nbformat_minor": 5
}

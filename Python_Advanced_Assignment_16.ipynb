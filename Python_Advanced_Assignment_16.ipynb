{
 "cells": [
  {
   "cell_type": "markdown",
   "id": "83f92a3d-f0cf-4aef-ab5b-1417f1bb01da",
   "metadata": {},
   "source": [
    "### Q1. What is the benefit of regular expressions? "
   ]
  },
  {
   "cell_type": "markdown",
   "id": "92b2e401-30e0-45ff-b246-509c97738927",
   "metadata": {},
   "source": [
    "Regular Expressions, also known as regex or regexp, are used to match strings of text such as particular characters, words, or patterns of characters. It means that we can match and extract any string pattern from the text with the help of regular expressions. it helps the programmers to Write less and cleaner code. it also avoids multiple use of if/else statements."
   ]
  },
  {
   "cell_type": "markdown",
   "id": "a275ad3d-c832-4f7c-bf63-f9741f792ee1",
   "metadata": {},
   "source": [
    "### Q2. Describe the difference between the effects of \"(ab)c+\" and \"a(bc)+\" Which of these, if any, is the unqualified pattern \"abc+\"? "
   ]
  },
  {
   "cell_type": "markdown",
   "id": "1e686c4d-9b60-4f9d-aa0c-6fa418a20e0a",
   "metadata": {},
   "source": [
    "Both (ab)c+ and a(bc)+ are valid patterns. the difference between both these patterns is in (ab)c+ ab is group whereas in a(bc)+ bc is a group."
   ]
  },
  {
   "cell_type": "markdown",
   "id": "23c05a36-3710-4287-971c-11f09b89ce2d",
   "metadata": {},
   "source": [
    "### Q3. How much do you need to use the following sentence while using regular expressions?\n",
    " "
   ]
  },
  {
   "cell_type": "markdown",
   "id": "89c4e88c-d059-4891-81b4-ccf34b116d88",
   "metadata": {},
   "source": [
    "import re statement always has to be imported before using regular expressions."
   ]
  },
  {
   "cell_type": "markdown",
   "id": "ca7448f3-d560-408a-a332-1319fac3dc8d",
   "metadata": {},
   "source": [
    "### Q4. Which characters have special significance in square brackets when expressing a range, and under what circumstances?\n",
    "\n"
   ]
  },
  {
   "cell_type": "markdown",
   "id": "5ff91f7b-a8b9-44ed-8e46-e88521568f3b",
   "metadata": {},
   "source": [
    "The Characters .,*,?,^,or,(), have a special signiface when used with square brackets. They need not be be explicitly escaped by \\ as in case of pattern texts in a raw string."
   ]
  },
  {
   "cell_type": "markdown",
   "id": "5d499ff3-ca96-4476-80b9-7b309bfdc162",
   "metadata": {},
   "source": [
    "### Q5. How does compiling a regular-expression object benefit you? "
   ]
  },
  {
   "cell_type": "markdown",
   "id": "370d4f02-3f87-46f8-a6bb-ab7b818c4f30",
   "metadata": {},
   "source": [
    "We can Combine a regular expression pattern into pattern Objects.Which can be used for pattern matching. it also helps to search a pattern again without rewritting it."
   ]
  },
  {
   "cell_type": "markdown",
   "id": "76fcac33-ff13-45a7-a758-e3c2b03de462",
   "metadata": {},
   "source": [
    "### Q6. What are some examples of how to use the match object returned by re.match and re.search? "
   ]
  },
  {
   "cell_type": "markdown",
   "id": "ee5b0ce9-22ee-4425-898c-3f7c5857b9a5",
   "metadata": {},
   "source": [
    "The re.search() and re.match() both are functions of re module in python. These functions are very efficient and fast for searching in strings. The function searches for some substring in a string and returns a match object if found, else it returns none.\n",
    "\n",
    "There is a difference between the use of both functions. Both return the first match of a substring found in the string, but re.match() searches only from the beginning of the string and return match object if found. But if a match of substring is found somewhere in the middle of the string, it returns none.\n",
    "\n",
    "While re.search() searches for the whole string even if the string contains multi-lines and tries to find a match of the substring in all the lines of string"
   ]
  },
  {
   "cell_type": "markdown",
   "id": "0059ba22-9b78-4e75-a662-507b5dd7d14d",
   "metadata": {},
   "source": [
    "### Q7. What is the difference between using a vertical bar (|) as an alteration and using square brackets as a character set?\n",
    " "
   ]
  },
  {
   "cell_type": "markdown",
   "id": "10a514e6-2bc9-4302-bde6-f8e3805064bc",
   "metadata": {},
   "source": [
    " When | is used then patterns searches for or option. i.e <pattern_1>|<pattern_2> means it searches as <pattern_1>or<<pattern_2> in the searched string. the first occurance of matched string will be returned as the Match Object. Using Character set in square Brackets searches for all the character set in the square bracket and if match is found, it returns it."
   ]
  },
  {
   "cell_type": "markdown",
   "id": "b08e3e1e-8462-4efb-b915-decd1a59437c",
   "metadata": {},
   "source": [
    "### Q8. In regular-expression search patterns, why is it necessary to use the raw-string indicator (r)? In replacement strings?\n",
    " "
   ]
  },
  {
   "cell_type": "markdown",
   "id": "260bf507-0200-4eb1-85b5-493d5c27f79e",
   "metadata": {},
   "source": [
    "Raw Strings are used in the regular-expression search patterns, so that blackslashes donot have to be escaped."
   ]
  },
  {
   "cell_type": "code",
   "execution_count": null,
   "id": "1096b2fa-5478-4f77-8757-4dbc6cb2543b",
   "metadata": {},
   "outputs": [],
   "source": []
  }
 ],
 "metadata": {
  "kernelspec": {
   "display_name": "Python 3 (ipykernel)",
   "language": "python",
   "name": "python3"
  },
  "language_info": {
   "codemirror_mode": {
    "name": "ipython",
    "version": 3
   },
   "file_extension": ".py",
   "mimetype": "text/x-python",
   "name": "python",
   "nbconvert_exporter": "python",
   "pygments_lexer": "ipython3",
   "version": "3.10.9"
  }
 },
 "nbformat": 4,
 "nbformat_minor": 5
}

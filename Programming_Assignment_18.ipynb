{
 "cells": [
  {
   "cell_type": "markdown",
   "id": "7f92e304-a0a4-4997-bc97-a1630af546c4",
   "metadata": {},
   "source": [
    "#### Answer 1 "
   ]
  },
  {
   "cell_type": "code",
   "execution_count": 1,
   "id": "2dd6ad53-7573-4fca-8196-f3f6cda050e1",
   "metadata": {},
   "outputs": [
    {
     "data": {
      "text/plain": [
       "[1, 2]"
      ]
     },
     "execution_count": 1,
     "metadata": {},
     "output_type": "execute_result"
    }
   ],
   "source": [
    "def filter_list(lst):\n",
    "    empty = []\n",
    "    for ele in lst:\n",
    "        if type(ele) == int and ele >= 0:\n",
    "            empty.append(ele)\n",
    "    return empty\n",
    "filter_list([1,2,\"a\",\"b\"])"
   ]
  },
  {
   "cell_type": "markdown",
   "id": "47bb859a-500e-4948-b37e-eea80ca35287",
   "metadata": {},
   "source": [
    "#### Answer 2 "
   ]
  },
  {
   "cell_type": "code",
   "execution_count": 3,
   "id": "ad3a1bda-12c2-4778-92b2-2f08460745c5",
   "metadata": {},
   "outputs": [
    {
     "name": "stdin",
     "output_type": "stream",
     "text": [
      "Enter string : Hello World\n"
     ]
    },
    {
     "name": "stdout",
     "output_type": "stream",
     "text": [
      "Reversed : DLROw OLLEh\n"
     ]
    }
   ],
   "source": [
    "def reversal():\n",
    "    inp = input(\"Enter string :\")\n",
    "    print(f\"Reversed : {inp[::-1].swapcase()}\")\n",
    "reversal()"
   ]
  },
  {
   "cell_type": "markdown",
   "id": "a73f818c-8fbe-4e07-b50c-ca2a00350830",
   "metadata": {},
   "source": [
    "#### Answer 3"
   ]
  },
  {
   "cell_type": "code",
   "execution_count": 7,
   "id": "931e3469-e29a-43dc-852f-3cecad0421ff",
   "metadata": {},
   "outputs": [
    {
     "name": "stdout",
     "output_type": "stream",
     "text": [
      "First = 1\n",
      "Middle = [2, 3, 4, 5]\n",
      "Last = 6\n"
     ]
    }
   ],
   "source": [
    "lst = [1,2,3,4,5,6]\n",
    "print(f\"First = {lst[0]}\")\n",
    "print(f\"Middle = {lst[1:-1]}\")\n",
    "print(f\"Last = {lst[-1]}\")"
   ]
  },
  {
   "cell_type": "markdown",
   "id": "9e215ffc-02db-4631-b743-c79b2467d917",
   "metadata": {},
   "source": [
    "#### Answer 4 "
   ]
  },
  {
   "cell_type": "code",
   "execution_count": 9,
   "id": "7ff6db7c-4315-48da-ba9f-ac7c985f3a7f",
   "metadata": {},
   "outputs": [
    {
     "name": "stdout",
     "output_type": "stream",
     "text": [
      "Factorial of 5 = 120\n"
     ]
    }
   ],
   "source": [
    "def factorial(n):\n",
    "    if n == 0:\n",
    "        return 1\n",
    "    return ((n) * factorial(n-1))\n",
    "n = 5\n",
    "print(f\"Factorial of {n} = {factorial(n)}\")"
   ]
  },
  {
   "cell_type": "markdown",
   "id": "93ef9513-2f59-4ae3-aadd-af04e4da317a",
   "metadata": {},
   "source": [
    "#### Answer 5 "
   ]
  },
  {
   "cell_type": "code",
   "execution_count": 10,
   "id": "0c10fb21-0cae-4108-89ae-179726e3e41b",
   "metadata": {},
   "outputs": [
    {
     "name": "stdout",
     "output_type": "stream",
     "text": [
      "[3, 2, 4, 4, 5, 2, 1, 1]\n"
     ]
    }
   ],
   "source": [
    "def swap(lst,value):\n",
    "    f_half = []\n",
    "    s_half = []\n",
    "    for ele in lst:\n",
    "        if ele == value:\n",
    "            s_half.append(ele)\n",
    "        else:\n",
    "            f_half.append(ele)\n",
    "    f_half.extend(s_half)\n",
    "    return f_half\n",
    "lst = [1,3,2,4,4,5,2,1]\n",
    "print(swap(lst,1))"
   ]
  },
  {
   "cell_type": "code",
   "execution_count": null,
   "id": "0b41142f-8459-4df5-9064-059467647e61",
   "metadata": {},
   "outputs": [],
   "source": []
  }
 ],
 "metadata": {
  "kernelspec": {
   "display_name": "Python 3 (ipykernel)",
   "language": "python",
   "name": "python3"
  },
  "language_info": {
   "codemirror_mode": {
    "name": "ipython",
    "version": 3
   },
   "file_extension": ".py",
   "mimetype": "text/x-python",
   "name": "python",
   "nbconvert_exporter": "python",
   "pygments_lexer": "ipython3",
   "version": "3.9.7"
  }
 },
 "nbformat": 4,
 "nbformat_minor": 5
}

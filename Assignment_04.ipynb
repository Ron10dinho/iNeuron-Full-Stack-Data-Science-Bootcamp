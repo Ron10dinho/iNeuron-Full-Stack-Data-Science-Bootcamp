{
 "cells": [
  {
   "cell_type": "markdown",
   "id": "22df05f8-086b-486e-a5df-e2b8c527d25b",
   "metadata": {},
   "source": [
    "#### Answer 1 :\n",
    "\n",
    "[] = Empty list . "
   ]
  },
  {
   "cell_type": "markdown",
   "id": "f16d4695-4ad6-4240-8083-ce449ffe83c7",
   "metadata": {},
   "source": [
    "#### Answer 2 : \n"
   ]
  },
  {
   "cell_type": "code",
   "execution_count": 1,
   "id": "9c66aaeb-5858-4f13-90e5-daabe8339d29",
   "metadata": {},
   "outputs": [
    {
     "name": "stdout",
     "output_type": "stream",
     "text": [
      "[2, 4, 'hello', 8, 10]\n"
     ]
    }
   ],
   "source": [
    "spam = [2,4,6,8,10]\n",
    "spam[2] = 'hello'\n",
    "print(spam)"
   ]
  },
  {
   "cell_type": "markdown",
   "id": "481faff7-df2b-4be8-953a-4d122d41b49b",
   "metadata": {},
   "source": [
    "#### Answer 3 :"
   ]
  },
  {
   "cell_type": "code",
   "execution_count": 3,
   "id": "7b2ab7ac-6fcb-4cce-81e8-ec625d592ab3",
   "metadata": {},
   "outputs": [
    {
     "data": {
      "text/plain": [
       "'d'"
      ]
     },
     "execution_count": 3,
     "metadata": {},
     "output_type": "execute_result"
    }
   ],
   "source": [
    "spam = ['a','b','c','d']\n",
    "spam[int(int('3'*2)//11)]"
   ]
  },
  {
   "cell_type": "markdown",
   "id": "fac3e6db-170e-4270-8a0d-61034b77d993",
   "metadata": {},
   "source": [
    "#### Answer 4"
   ]
  },
  {
   "cell_type": "code",
   "execution_count": 5,
   "id": "3644717d-3803-4bf6-a8d8-dec43ffec172",
   "metadata": {},
   "outputs": [
    {
     "data": {
      "text/plain": [
       "'d'"
      ]
     },
     "execution_count": 5,
     "metadata": {},
     "output_type": "execute_result"
    }
   ],
   "source": [
    "spam[-1]"
   ]
  },
  {
   "cell_type": "markdown",
   "id": "bcf2c9e1-90b2-42ed-b745-8fe58af146c7",
   "metadata": {},
   "source": [
    "#### Answer 5"
   ]
  },
  {
   "cell_type": "code",
   "execution_count": 7,
   "id": "0dc87f88-602c-4684-bf2e-fa1a5d4a9643",
   "metadata": {},
   "outputs": [
    {
     "data": {
      "text/plain": [
       "['a', 'b']"
      ]
     },
     "execution_count": 7,
     "metadata": {},
     "output_type": "execute_result"
    }
   ],
   "source": [
    "spam[:2]"
   ]
  },
  {
   "cell_type": "code",
   "execution_count": null,
   "id": "d7946f8c-157f-432f-9d4e-d15846fe562d",
   "metadata": {},
   "outputs": [],
   "source": []
  },
  {
   "cell_type": "code",
   "execution_count": 12,
   "id": "769908ac-7820-4ae7-90a7-084f147671a0",
   "metadata": {},
   "outputs": [],
   "source": [
    "bacon = [3.14,'cat',11,'cat',True]"
   ]
  },
  {
   "cell_type": "markdown",
   "id": "97092a89-afd0-45ed-b3a4-ba4fb070330e",
   "metadata": {},
   "source": [
    "#### Answer 6"
   ]
  },
  {
   "cell_type": "code",
   "execution_count": 9,
   "id": "8bc23d69-cbe5-4bcb-998c-6f6e97175713",
   "metadata": {},
   "outputs": [
    {
     "data": {
      "text/plain": [
       "1"
      ]
     },
     "execution_count": 9,
     "metadata": {},
     "output_type": "execute_result"
    }
   ],
   "source": [
    "bacon.index('cat')"
   ]
  },
  {
   "cell_type": "markdown",
   "id": "dd24457b-7d17-4da4-a8f4-767c2e4e344e",
   "metadata": {},
   "source": [
    "#### Answer 7"
   ]
  },
  {
   "cell_type": "code",
   "execution_count": 16,
   "id": "6f927d0a-8b63-48f7-801e-68304b62df3a",
   "metadata": {},
   "outputs": [
    {
     "data": {
      "text/plain": [
       "[3.14, 'cat', 11, 'cat', True]"
      ]
     },
     "execution_count": 16,
     "metadata": {},
     "output_type": "execute_result"
    }
   ],
   "source": [
    "bacon"
   ]
  },
  {
   "cell_type": "code",
   "execution_count": 17,
   "id": "1e2bd78e-d55c-4491-bfec-f19a93db896e",
   "metadata": {},
   "outputs": [],
   "source": [
    "bacon.append(99)"
   ]
  },
  {
   "cell_type": "code",
   "execution_count": 18,
   "id": "616a5f71-a9c3-488e-951b-10c6efa75bc5",
   "metadata": {},
   "outputs": [
    {
     "data": {
      "text/plain": [
       "[3.14, 'cat', 11, 'cat', True, 99]"
      ]
     },
     "execution_count": 18,
     "metadata": {},
     "output_type": "execute_result"
    }
   ],
   "source": [
    "bacon"
   ]
  },
  {
   "cell_type": "markdown",
   "id": "8492564d-8aff-46a5-a2cc-2ab308980882",
   "metadata": {},
   "source": [
    "#### Answer 8"
   ]
  },
  {
   "cell_type": "code",
   "execution_count": 19,
   "id": "1f4df4f8-db4e-47d4-99cf-d0f0db61dea0",
   "metadata": {},
   "outputs": [
    {
     "data": {
      "text/plain": [
       "[3.14, 'cat', 11, 'cat', True, 99]"
      ]
     },
     "execution_count": 19,
     "metadata": {},
     "output_type": "execute_result"
    }
   ],
   "source": [
    "bacon"
   ]
  },
  {
   "cell_type": "code",
   "execution_count": 20,
   "id": "cb57a28c-7f63-4366-94fd-ced5854f290a",
   "metadata": {},
   "outputs": [],
   "source": [
    "bacon.remove('cat')"
   ]
  },
  {
   "cell_type": "code",
   "execution_count": 21,
   "id": "808362c1-42e3-4eda-997c-298993de7553",
   "metadata": {},
   "outputs": [
    {
     "data": {
      "text/plain": [
       "[3.14, 11, 'cat', True, 99]"
      ]
     },
     "execution_count": 21,
     "metadata": {},
     "output_type": "execute_result"
    }
   ],
   "source": [
    "bacon"
   ]
  },
  {
   "cell_type": "markdown",
   "id": "89908f19-7774-487f-b0db-b33c73cdab73",
   "metadata": {},
   "source": [
    "#### Answer 9\n",
    "\n",
    "Operator for list concatenation = \"+\"\n",
    "\n",
    "Operator for list replicattion = \"*\"\n"
   ]
  },
  {
   "cell_type": "markdown",
   "id": "3be50fb7-5330-4517-bda5-bd9716756162",
   "metadata": {},
   "source": [
    "#### Answer 10\n",
    "\n",
    "append() can add values to the end of a list , insert() can add them anywhere in the list."
   ]
  },
  {
   "cell_type": "markdown",
   "id": "f6aee8d8-773d-45f0-9a2f-7d113ff868d8",
   "metadata": {},
   "source": [
    "#### Answer 11\n",
    "\n",
    "- del statement\n",
    "- remove() method"
   ]
  },
  {
   "cell_type": "markdown",
   "id": "6e142e95-92a2-441d-8469-3732beeb8d73",
   "metadata": {},
   "source": [
    "#### Answer 12\n",
    "\n",
    "- Both can be passed onto a len() function\n",
    "- Have indexes and slices \n",
    "- Both can be used in for loops\n",
    "- Can be concatenated / replicated\n",
    "- Can be used with the in and not in operators"
   ]
  },
  {
   "cell_type": "markdown",
   "id": "b0cb02bc-07d0-4954-a7c9-782d2661ae3d",
   "metadata": {},
   "source": [
    "#### Answer 13\n",
    "Difference between Tuples and Lists : \n",
    "\n",
    "Lists \n",
    "- Mutable i.e values can be added , removed or changed.\n",
    "- Presented using []\n",
    "\n",
    "Tuples\n",
    "- Immutable i.e. values can not be changed at all.\n",
    "- Presented using ()"
   ]
  },
  {
   "cell_type": "markdown",
   "id": "0fba5144-2295-444a-94e4-43720f579eba",
   "metadata": {},
   "source": [
    "#### Answer 14"
   ]
  },
  {
   "cell_type": "code",
   "execution_count": 23,
   "id": "ebedc5ad-081f-41c3-a8c1-f0dc40c5c361",
   "metadata": {},
   "outputs": [
    {
     "data": {
      "text/plain": [
       "tuple"
      ]
     },
     "execution_count": 23,
     "metadata": {},
     "output_type": "execute_result"
    }
   ],
   "source": [
    "test_tuple = (14,)\n",
    "type(test_tuple)"
   ]
  },
  {
   "cell_type": "markdown",
   "id": "ff2ff4ef-e7bc-4ac7-88bc-36f61a7bf73e",
   "metadata": {},
   "source": [
    "#### Answer 15\n",
    "\n",
    "Using the \"list()\" and \"tuple()\" functions respectively."
   ]
  },
  {
   "cell_type": "markdown",
   "id": "6b9ccf61-03f2-4cd6-8fe4-f782d97814a9",
   "metadata": {},
   "source": [
    "#### Answer 16\n",
    "They contain references to list values ."
   ]
  },
  {
   "cell_type": "markdown",
   "id": "a3c66a60-4c34-4160-88e8-1062464f246d",
   "metadata": {},
   "source": [
    "#### Answer 17\n",
    "\n",
    "copy.copy() will do a shallow copy of a list .\n",
    "\n",
    "copy.deepcopy() function will do a deep copy of a list i.e. it will duplicate any lists inside the lists. "
   ]
  },
  {
   "cell_type": "code",
   "execution_count": null,
   "id": "34f9faf8-c788-4484-9293-c0767a7c8e3d",
   "metadata": {},
   "outputs": [],
   "source": []
  }
 ],
 "metadata": {
  "kernelspec": {
   "display_name": "Python 3 (ipykernel)",
   "language": "python",
   "name": "python3"
  },
  "language_info": {
   "codemirror_mode": {
    "name": "ipython",
    "version": 3
   },
   "file_extension": ".py",
   "mimetype": "text/x-python",
   "name": "python",
   "nbconvert_exporter": "python",
   "pygments_lexer": "ipython3",
   "version": "3.9.7"
  }
 },
 "nbformat": 4,
 "nbformat_minor": 5
}

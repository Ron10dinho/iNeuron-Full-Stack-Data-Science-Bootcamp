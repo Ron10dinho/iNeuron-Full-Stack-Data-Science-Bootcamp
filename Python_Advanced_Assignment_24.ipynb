{
 "cells": [
  {
   "cell_type": "markdown",
   "id": "db899a12-8851-4f90-889b-b8be023b01d1",
   "metadata": {},
   "source": [
    "### Q1. Is it permissible to use several import statements to import the same module? What would the goal be? Can you think of a situation where it would be beneficial ? "
   ]
  },
  {
   "cell_type": "markdown",
   "id": "69a90e65-0e7e-4b9a-b1b8-b1d208ad9b01",
   "metadata": {},
   "source": [
    "Yes, it is permissible to use several import statements to import the same module. It is used in case when we have to import multiple functions from same module."
   ]
  },
  {
   "cell_type": "markdown",
   "id": "a09c7505-b422-480f-9931-bf1e90461f1c",
   "metadata": {},
   "source": [
    "### Q2. What are some of a module's characteristics? (Name at least one.) "
   ]
  },
  {
   "cell_type": "markdown",
   "id": "f3b5dd30-7711-43b8-9e4a-c769ac578ccd",
   "metadata": {},
   "source": [
    "The following are some of a module's characteristics:\n",
    "\n",
    "- __name__ : It returns the name of the module\n",
    "- __doc__ : It denotes the documentation string line written in a module code.\n",
    "- __file__ : It holds the name and path of the module file from which it is loaded\n",
    "- __dict__ : It return a dictionary object of module attributes, functions and other definitions and their respective values"
   ]
  },
  {
   "cell_type": "markdown",
   "id": "c58022b5-92fc-4694-9087-6e27372f463c",
   "metadata": {},
   "source": [
    "### Q3. Circular importing, such as when two modules import each other, can lead to dependencies and bugs that aren't visible. How can you go about creating a program that avoids mutual importing? "
   ]
  },
  {
   "cell_type": "markdown",
   "id": "c1594d5c-e39b-4d5e-97ad-75d66e50d229",
   "metadata": {},
   "source": [
    "Circular importing means importing the two modules in each other. If suppose we are wokring in MOD1.py file and it is importing some function say F2() from some other module say MOD2.PY file or we can do vice-versa. What will happen is: This will give an import error.\n",
    "\n",
    "This is because when we import F2() function from module MOD2.py, then this will execute MOD2.py file. And in MOD2.py file there is an another statement of importing MOD1.py module.\n",
    "\n",
    "This will result in endless loop. To avoid this error just do one thingWe can use if __name__ == '__main__'\n",
    "\n",
    "In the function, you can't directly refer to the function in the program. The addition of this sentence avoids the endless loop of the program ."
   ]
  },
  {
   "cell_type": "markdown",
   "id": "845bd172-826a-4f5d-b338-181e9eb45a2f",
   "metadata": {},
   "source": [
    "### Q4. Why is __all__ in Python ? "
   ]
  },
  {
   "cell_type": "markdown",
   "id": "a7e105c1-b370-4ea8-85b2-72da6bd08707",
   "metadata": {},
   "source": [
    " It provides list of all modules present in a library."
   ]
  },
  {
   "cell_type": "markdown",
   "id": "29be4794-3e51-4f6b-a26b-0b33a6f6bdac",
   "metadata": {},
   "source": [
    "### Q5. In what situation is it useful to refer to the __name__ attribute or the string __main_ _ ? "
   ]
  },
  {
   "cell_type": "markdown",
   "id": "b7351cb7-a079-43a1-94a5-6294960b0074",
   "metadata": {},
   "source": [
    " During the time of execution of the code if we want to refer the module in which we are working on then we uses name attribute. In that case it will return the module in which we are working on. Suppose if that moudle is being imported from some other module then name will have the name of that moudle from where the current module has been imported. The current module in which we are working is refer to the string __main __."
   ]
  },
  {
   "cell_type": "markdown",
   "id": "834a9c59-9871-4d1a-b5dc-7d4f476b9d1f",
   "metadata": {},
   "source": [
    "### Q6. What are some of the benefits of attaching a program counter to the RPN interpreter application, which interprets an RPN script line by line? "
   ]
  },
  {
   "cell_type": "code",
   "execution_count": null,
   "id": "68799ad6-b588-4409-a37d-7c45619197b8",
   "metadata": {},
   "outputs": [],
   "source": []
  },
  {
   "cell_type": "markdown",
   "id": "ad4e68aa-70af-4665-8045-7e9f3a5b3d16",
   "metadata": {},
   "source": [
    "### Q7. What are the minimum expressions or statements (or both) that you&#39;d need to render a basic programming language like RPN primitive but complete— that is, capable of carrying out any computerised task theoretically possible? "
   ]
  },
  {
   "cell_type": "code",
   "execution_count": null,
   "id": "929001bc-85fb-4c5a-abef-f436a148d11a",
   "metadata": {},
   "outputs": [],
   "source": []
  }
 ],
 "metadata": {
  "kernelspec": {
   "display_name": "Python 3 (ipykernel)",
   "language": "python",
   "name": "python3"
  },
  "language_info": {
   "codemirror_mode": {
    "name": "ipython",
    "version": 3
   },
   "file_extension": ".py",
   "mimetype": "text/x-python",
   "name": "python",
   "nbconvert_exporter": "python",
   "pygments_lexer": "ipython3",
   "version": "3.10.9"
  }
 },
 "nbformat": 4,
 "nbformat_minor": 5
}

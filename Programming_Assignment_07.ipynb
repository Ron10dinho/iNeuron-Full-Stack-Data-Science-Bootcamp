{
 "cells": [
  {
   "cell_type": "markdown",
   "id": "cae0ad05-ee51-4695-a63e-535a5c28602f",
   "metadata": {},
   "source": [
    "#### 1. Write a Python Program to find sum of Array ? "
   ]
  },
  {
   "cell_type": "code",
   "execution_count": 31,
   "id": "0382ec0f-0774-450f-8737-c453625ef807",
   "metadata": {},
   "outputs": [],
   "source": [
    "def sum_array():\n",
    "    total = 0\n",
    "    n = int(input(\"Enter range :\"))\n",
    "    arr = [int(input(f\"({x})Enter number : \")) for x in range(1,n+1)]\n",
    "    for i in arr:\n",
    "        total += i\n",
    "    print(\"Array =\",arr)\n",
    "    return f\"Sum of the array = {total}\""
   ]
  },
  {
   "cell_type": "code",
   "execution_count": 32,
   "id": "033f203d-5f51-44cc-b1ee-a176ec472017",
   "metadata": {},
   "outputs": [
    {
     "name": "stdin",
     "output_type": "stream",
     "text": [
      "Enter range : 5\n",
      "(1)Enter number :  23\n",
      "(2)Enter number :  34\n",
      "(3)Enter number :  33\n",
      "(4)Enter number :  29\n",
      "(5)Enter number :  10\n"
     ]
    },
    {
     "name": "stdout",
     "output_type": "stream",
     "text": [
      "Array = [23, 34, 33, 29, 10]\n",
      "Sum of the array = 129\n"
     ]
    }
   ],
   "source": [
    "print(sum_array())"
   ]
  },
  {
   "cell_type": "markdown",
   "id": "837dde6f-7276-4fec-9ca1-9520594433f0",
   "metadata": {},
   "source": [
    "#### 2. Write a Python Program to find the largest element in an array ?"
   ]
  },
  {
   "cell_type": "code",
   "execution_count": 40,
   "id": "e7737720-200c-4de4-8363-3b50184fe1b7",
   "metadata": {},
   "outputs": [],
   "source": [
    "def largest():\n",
    "    n = int(input(\"Enter range :\"))\n",
    "    # arr = [int(input(\"Enter number : \") for x in range(n))]\n",
    "    arr = [int(input(f\"({x})Enter number : \")) for x in range(1,n+1)]\n",
    "    max = arr[0]\n",
    "    for i in range(len(arr)):\n",
    "        if arr[i] > max:\n",
    "            max = arr[i]\n",
    "    print(\"Array =\",arr)\n",
    "    print(\"Largest element in the array :\",max)"
   ]
  },
  {
   "cell_type": "code",
   "execution_count": 41,
   "id": "dba1fd57-b141-45e5-93dd-e6fb431bd1d9",
   "metadata": {},
   "outputs": [
    {
     "name": "stdin",
     "output_type": "stream",
     "text": [
      "Enter range : 4\n",
      "(1)Enter number :  10\n",
      "(2)Enter number :  20\n",
      "(3)Enter number :  30\n",
      "(4)Enter number :  25\n"
     ]
    },
    {
     "name": "stdout",
     "output_type": "stream",
     "text": [
      "Array = [10, 20, 30, 25]\n",
      "Largest element in the array : 30\n"
     ]
    }
   ],
   "source": [
    "largest()"
   ]
  },
  {
   "cell_type": "markdown",
   "id": "882745d3-a106-455e-889b-d067d01ff68b",
   "metadata": {},
   "source": [
    "#### 3. Write a Python Program for array rotation ? "
   ]
  },
  {
   "cell_type": "code",
   "execution_count": 46,
   "id": "f2e91968-5e0a-48a6-af77-dd188e230b9e",
   "metadata": {},
   "outputs": [
    {
     "name": "stdout",
     "output_type": "stream",
     "text": [
      "[1, 2, 3, 4, 5, 6]\n",
      "Rotated list :[3, 4, 5, 6, 1, 2]\n"
     ]
    }
   ],
   "source": [
    "def rotate_list(arr,d,n):\n",
    "    arr[:] = arr[d:n]+arr[0:d]\n",
    "    return arr\n",
    "arr = [1,2,3,4,5,6]\n",
    "print(arr)\n",
    "print(\"Rotated list :\",end='')\n",
    "print(rotate_list(arr,2,len(arr)))"
   ]
  },
  {
   "cell_type": "markdown",
   "id": "a976b364-a3da-4d3c-9d0c-529b28429d13",
   "metadata": {},
   "source": [
    "#### 4. Write a python program to split the array and add the first part to the end ?"
   ]
  },
  {
   "cell_type": "code",
   "execution_count": 62,
   "id": "d4c3c7cb-3ca4-43bb-b6e8-0cf48ed0d379",
   "metadata": {},
   "outputs": [
    {
     "name": "stdout",
     "output_type": "stream",
     "text": [
      "Array : [12, 33, 45, 43, 3, 4, 5]\n",
      "Array after : [43, 3, 4, 5, 12, 33, 45]\n"
     ]
    }
   ],
   "source": [
    "def splitArr(arr,n,k):\n",
    "    for i in range(0,k):\n",
    "        x = arr[0]\n",
    "        for j in range(0,n-1):\n",
    "            arr[j] = arr[j+1]\n",
    "        arr[n-1] = x\n",
    "arr = [12,33,45,43,3,4,5]\n",
    "n = len(arr)\n",
    "if len(arr) % 2 == 0:\n",
    "    position = (len(arr) // 2) - 1\n",
    "else:\n",
    "    position = (len(arr) // 2)\n",
    "print(\"Array :\",arr)\n",
    "splitArr(arr,n,position)\n",
    "print(\"Array after :\",arr)\n",
    "\n"
   ]
  },
  {
   "cell_type": "markdown",
   "id": "9703ccca-6056-492d-b129-f4b4d98d8f43",
   "metadata": {},
   "source": [
    "#### 5. Write a Python program to check if the given array is Monotonic ? "
   ]
  },
  {
   "cell_type": "code",
   "execution_count": 78,
   "id": "198fde77-013e-4644-8327-e61c5c9da29e",
   "metadata": {},
   "outputs": [
    {
     "name": "stdin",
     "output_type": "stream",
     "text": [
      "Enter number of values :  5\n",
      "Enter value : 6\n",
      "Enter value : 5\n",
      "Enter value : 4\n",
      "Enter value : 3\n",
      "Enter value : 2\n"
     ]
    },
    {
     "name": "stdout",
     "output_type": "stream",
     "text": [
      "Given array : [6, 5, 4, 3, 2]\n",
      "Yes, it is monotonic.\n"
     ]
    }
   ],
   "source": [
    "def check():\n",
    "    n = int(input(\"Enter number of values : \"))\n",
    "    arr = [int(input(\"Enter value :\")) for x in range(n)]\n",
    "    print(\"Given array :\",arr)\n",
    "    inc = True\n",
    "    dec = True\n",
    "    for i in range(0,n-1):\n",
    "        if arr[i] > arr[i+1]:\n",
    "            inc = False\n",
    "    for i in range(0,n-1):\n",
    "        if arr[i] < arr[i+1]:\n",
    "            dec = False\n",
    "    return inc or dec\n",
    "# arr = [1,2,3,3,1]\n",
    "ans = check()\n",
    "if ans == True:\n",
    "    print(\"Yes, it is monotonic.\")\n",
    "else:\n",
    "    print(\"No, it is not monotonic.\")"
   ]
  },
  {
   "cell_type": "code",
   "execution_count": null,
   "id": "1f07cec5-f727-446f-9172-0a3194c7ec9a",
   "metadata": {},
   "outputs": [],
   "source": []
  }
 ],
 "metadata": {
  "kernelspec": {
   "display_name": "Python 3 (ipykernel)",
   "language": "python",
   "name": "python3"
  },
  "language_info": {
   "codemirror_mode": {
    "name": "ipython",
    "version": 3
   },
   "file_extension": ".py",
   "mimetype": "text/x-python",
   "name": "python",
   "nbconvert_exporter": "python",
   "pygments_lexer": "ipython3",
   "version": "3.9.7"
  }
 },
 "nbformat": 4,
 "nbformat_minor": 5
}

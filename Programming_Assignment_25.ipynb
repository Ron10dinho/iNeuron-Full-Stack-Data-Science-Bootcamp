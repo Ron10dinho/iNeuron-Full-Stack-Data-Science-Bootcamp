{
 "cells": [
  {
   "cell_type": "markdown",
   "id": "93076fc2-9e8d-4d2d-800b-9f3e5f7d6d5f",
   "metadata": {},
   "source": [
    "#### Answer 1."
   ]
  },
  {
   "cell_type": "code",
   "execution_count": 6,
   "id": "41b9fd7a-508e-4922-a7b3-4f6588c4dced",
   "metadata": {},
   "outputs": [
    {
     "name": "stdin",
     "output_type": "stream",
     "text": [
      "Enter a : 3\n",
      "Enter b : 5\n",
      "Enter c : 3\n"
     ]
    },
    {
     "name": "stdout",
     "output_type": "stream",
     "text": [
      "2 digits are equal .\n"
     ]
    }
   ],
   "source": [
    "def equal():\n",
    "    a = int(input(\"Enter a :\"))\n",
    "    b = int(input(\"Enter b :\"))\n",
    "    c = int(input(\"Enter c :\"))\n",
    "    if a == b == c:\n",
    "        print(\"3 digits are equal .\")\n",
    "    elif a == b or b == c or c == a:\n",
    "        print(\"2 digits are equal .\")\n",
    "    else:\n",
    "        print(\"No digits are equal .\")\n",
    "equal()"
   ]
  },
  {
   "cell_type": "markdown",
   "id": "701fa4e9-7b0a-4c52-b992-82b4ca4cc887",
   "metadata": {},
   "source": [
    "#### Answer 2."
   ]
  },
  {
   "cell_type": "code",
   "execution_count": 12,
   "id": "f9ef61b4-e778-43c0-9652-37e8d3912bbc",
   "metadata": {},
   "outputs": [
    {
     "name": "stdout",
     "output_type": "stream",
     "text": [
      "List of keys-values tuples : [('likes', 2), ('dislikes', 3), ('followers', 10)]\n"
     ]
    }
   ],
   "source": [
    "def dict_to_list(dictionary):\n",
    "    empty = []\n",
    "    for keys,values in dictionary.items():\n",
    "        empty.append((keys,values))\n",
    "    print(f\"List of keys-values tuples : {empty}\")\n",
    "dictionary = {\"likes\": 2,\n",
    "    \"dislikes\": 3,\n",
    "    \"followers\": 10}\n",
    "dict_to_list(dictionary)"
   ]
  },
  {
   "cell_type": "markdown",
   "id": "ddbd3d22-96e2-48db-a0ab-d0db94a313d5",
   "metadata": {},
   "source": [
    "#### Answer 3."
   ]
  },
  {
   "cell_type": "code",
   "execution_count": 13,
   "id": "124c2707-dbce-4645-8e20-6fe18a61385a",
   "metadata": {},
   "outputs": [
    {
     "name": "stdout",
     "output_type": "stream",
     "text": [
      "['a', 'v', 'y', 'z'] = {'a': 'A', 'v': 'V', 'y': 'Y', 'z': 'Z'}\n"
     ]
    }
   ],
   "source": [
    "def mapping(inp):\n",
    "    empty = {}\n",
    "    for ele in inp:\n",
    "        empty[ele] = ele.upper()\n",
    "    print(f\"{inp} = {empty}\")\n",
    "mapping([\"a\", \"v\", \"y\", \"z\"])"
   ]
  },
  {
   "cell_type": "markdown",
   "id": "f83d1d82-f535-4cc1-8cb8-87c7244eff07",
   "metadata": {},
   "source": [
    "#### Answer 4."
   ]
  },
  {
   "cell_type": "code",
   "execution_count": 15,
   "id": "7ac5b8b9-b373-49f1-aee9-f8b408f3df0d",
   "metadata": {},
   "outputs": [
    {
     "name": "stdout",
     "output_type": "stream",
     "text": [
      "Final list : Applus und Bununus\n"
     ]
    }
   ],
   "source": [
    "def vow_replace(inp,vowel):\n",
    "    vowels_list = ['a','e','i','o','u']\n",
    "    empty = ''\n",
    "    for ele in inp:\n",
    "        if ele in vowels_list:\n",
    "            empty += vowel\n",
    "        else:\n",
    "            empty += ele\n",
    "    print(f\"Final list : {empty}\")\n",
    "\n",
    "vow_replace(\"Apples and Bananas\",\"u\")"
   ]
  },
  {
   "cell_type": "markdown",
   "id": "28c79d00-20a3-43a2-8abc-e1267ddefb23",
   "metadata": {},
   "source": [
    "#### Answer 5."
   ]
  },
  {
   "cell_type": "code",
   "execution_count": 16,
   "id": "51c8a4bc-7ca3-4d65-aa72-bd7512c926b3",
   "metadata": {},
   "outputs": [
    {
     "name": "stdout",
     "output_type": "stream",
     "text": [
      "Result : To Be oR NoT To Be! \n"
     ]
    }
   ],
   "source": [
    "def ascii_capitalise(inp):\n",
    "    output = ''\n",
    "    for ele in inp.lower():\n",
    "        if (ord(ele)%2 == 0):\n",
    "            output += ele.upper()\n",
    "        else:\n",
    "            output += ele\n",
    "    print(f\"Result : {output} \")\n",
    "ascii_capitalise(\"to be or not to be!\")"
   ]
  },
  {
   "cell_type": "code",
   "execution_count": null,
   "id": "13a2e839-eba5-4813-912e-a511d7cecb7c",
   "metadata": {},
   "outputs": [],
   "source": []
  }
 ],
 "metadata": {
  "kernelspec": {
   "display_name": "Python 3 (ipykernel)",
   "language": "python",
   "name": "python3"
  },
  "language_info": {
   "codemirror_mode": {
    "name": "ipython",
    "version": 3
   },
   "file_extension": ".py",
   "mimetype": "text/x-python",
   "name": "python",
   "nbconvert_exporter": "python",
   "pygments_lexer": "ipython3",
   "version": "3.9.7"
  }
 },
 "nbformat": 4,
 "nbformat_minor": 5
}

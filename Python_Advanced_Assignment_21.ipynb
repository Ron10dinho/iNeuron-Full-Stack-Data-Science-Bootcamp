{
 "cells": [
  {
   "cell_type": "markdown",
   "id": "fbf05b3b-b86f-40f1-9ae9-9d2f5d599950",
   "metadata": {},
   "source": [
    "###  Q1. What is a probability distribution, exactly? If the values are meant to be random, how can you predict them at all ?"
   ]
  },
  {
   "cell_type": "markdown",
   "id": "9331d6b4-a966-44b6-84c8-120475cf2486",
   "metadata": {},
   "source": [
    "A probability distribution describes how a random variable is distributed.\n",
    "\n",
    "It tells us which values a random variable is most likely to take on and which values are less likely. Based on the previous data and the occurences of the random event, we can predict the outcome in terms of probabilities."
   ]
  },
  {
   "cell_type": "markdown",
   "id": "789d3886-bbe1-4091-803d-6796462e8016",
   "metadata": {},
   "source": [
    "### Q2. Is there a distinction between true random numbers and pseudo-random numbers, if there is one? Why are the latter considered “good enough”? "
   ]
  },
  {
   "cell_type": "markdown",
   "id": "1cdc42bd-8808-4b60-8997-4aaf7addcc91",
   "metadata": {},
   "source": [
    " True Random Numbers are true physical values while pseudo-random numbers are generated internally by a program . Latter is considered good enough as they have sort of uniform distribution."
   ]
  },
  {
   "cell_type": "markdown",
   "id": "63d70cc1-146f-423f-9371-708b80c683d0",
   "metadata": {},
   "source": [
    "### Q3. What are the two main factors that influence the behaviour of a \"normal\" probability distribution ? "
   ]
  },
  {
   "cell_type": "markdown",
   "id": "57a8b62e-7dae-426f-a40c-7681c17aa137",
   "metadata": {},
   "source": [
    "Normal Probability Distribution are influenced by two factors mean and the variance."
   ]
  },
  {
   "cell_type": "markdown",
   "id": "634d5d1f-03af-44e7-b3fa-e019553bea80",
   "metadata": {},
   "source": [
    "### Q4. Provide a real-life example of a normal distribution ? "
   ]
  },
  {
   "cell_type": "markdown",
   "id": "ef4ec219-1c69-4152-9517-0e95f3b17e89",
   "metadata": {},
   "source": [
    "A Real-life example of a normal distribution are heights or blood pressure measurements"
   ]
  },
  {
   "cell_type": "markdown",
   "id": "e7df8999-2ca8-453e-8212-75aabae4a5d9",
   "metadata": {},
   "source": [
    "### Q5. In the short term, how can you expect a probability distribution to behave? What do you think will happen as the number of trials grows ? "
   ]
  },
  {
   "cell_type": "markdown",
   "id": "e1b4ca23-dd0a-4f57-be0b-ad38b770cb07",
   "metadata": {},
   "source": [
    "Variance will decrease with number of trials"
   ]
  },
  {
   "cell_type": "markdown",
   "id": "0617a7fa-98f0-4e14-a122-28ee2f6b49fc",
   "metadata": {},
   "source": [
    "### Q6. What kind of object can be shuffled by using random.shuffle ? "
   ]
  },
  {
   "cell_type": "markdown",
   "id": "4d6d6ca5-ea08-45bc-a3da-2e2206f2dc43",
   "metadata": {},
   "source": [
    "lists (list), strings (str) and tuples (tuple) objects can be shuffled by using random.shuffle."
   ]
  },
  {
   "cell_type": "markdown",
   "id": "f72f5f2e-ce00-454e-b1db-54575c3d8c4d",
   "metadata": {},
   "source": [
    "### Q7. Describe the math package's general categories of functions ? "
   ]
  },
  {
   "cell_type": "markdown",
   "id": "77280bc0-b1b6-4842-a5ed-57f809610b36",
   "metadata": {},
   "source": [
    "The Math package's general categories of functions are:\n",
    "\n",
    "- Trigonometric functions\n",
    "- Quadratic functions\n",
    "- Exponential functions\n",
    "- Hyperbolic functions\n",
    "- Periodic functions\n",
    "- Arithmetic functions\n",
    "- Logarithimic functions\n",
    "- Conversions to Integer"
   ]
  },
  {
   "cell_type": "markdown",
   "id": "19efeea7-c09e-4e5e-a069-1ae668d65d2e",
   "metadata": {},
   "source": [
    "### Q8. What is the relationship between exponentiation and logarithms ?"
   ]
  },
  {
   "cell_type": "markdown",
   "id": "1e04c2af-2f32-48ed-90dc-1fe53b0c65de",
   "metadata": {},
   "source": [
    "Exponentiation and logarithms are inverse of each other."
   ]
  },
  {
   "cell_type": "markdown",
   "id": "d19ca96d-9231-44b3-b2db-94496683f434",
   "metadata": {},
   "source": [
    "### Q9. What are the three logarithmic functions that Python supports ?\n",
    " "
   ]
  },
  {
   "cell_type": "markdown",
   "id": "3b45711e-dcd3-4dad-8922-60bbca34a760",
   "metadata": {},
   "source": [
    "The Three Logarithmic Functions that Python supports are:\n",
    "\n",
    "- log2(x) - logarithmic value of x to base 2\n",
    "- log10(x) - logarithmic value of x to base 10\n",
    "- log1p(a) - This function is used to compute logarithm(1+a) ."
   ]
  },
  {
   "cell_type": "code",
   "execution_count": null,
   "id": "b4691ac1-20cf-470a-acb4-181075c65929",
   "metadata": {},
   "outputs": [],
   "source": []
  }
 ],
 "metadata": {
  "kernelspec": {
   "display_name": "Python 3 (ipykernel)",
   "language": "python",
   "name": "python3"
  },
  "language_info": {
   "codemirror_mode": {
    "name": "ipython",
    "version": 3
   },
   "file_extension": ".py",
   "mimetype": "text/x-python",
   "name": "python",
   "nbconvert_exporter": "python",
   "pygments_lexer": "ipython3",
   "version": "3.10.9"
  }
 },
 "nbformat": 4,
 "nbformat_minor": 5
}

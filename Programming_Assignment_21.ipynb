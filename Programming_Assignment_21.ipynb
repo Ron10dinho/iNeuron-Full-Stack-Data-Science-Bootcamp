{
 "cells": [
  {
   "cell_type": "markdown",
   "id": "962b536e-84ae-4d0c-a66c-f4a6c901cae1",
   "metadata": {},
   "source": [
    "#### Answer 1. "
   ]
  },
  {
   "cell_type": "code",
   "execution_count": 1,
   "id": "cd236e57-5624-4327-a1b2-03733a4ffc99",
   "metadata": {},
   "outputs": [
    {
     "name": "stdout",
     "output_type": "stream",
     "text": [
      "Updated List : [6, 7, 8, 9, 1]\n"
     ]
    }
   ],
   "source": [
    "def remove(lst,num):\n",
    "    if len(lst) > 1:\n",
    "        lst.append(num)\n",
    "        lst.remove(lst[0])\n",
    "        print(f\"Updated List : {lst}\")\n",
    "    else:\n",
    "        print(\"Error.\")\n",
    "\n",
    "lst = [5,6,7,8,9]\n",
    "num = 1\n",
    "remove(lst,num)\n",
    "    "
   ]
  },
  {
   "cell_type": "markdown",
   "id": "1aff1f14-2c3f-4476-a5bb-2c4c6c7b7959",
   "metadata": {},
   "source": [
    "#### Answer 2. "
   ]
  },
  {
   "cell_type": "code",
   "execution_count": 2,
   "id": "26b28a59-4c22-49e7-979b-5b22e4d3340c",
   "metadata": {},
   "outputs": [
    {
     "name": "stdout",
     "output_type": "stream",
     "text": [
      "Total sum of budget : 65700\n"
     ]
    }
   ],
   "source": [
    "def sum_budgets(dictionary):\n",
    "    sum = 0\n",
    "    for ele in dictionary:\n",
    "        sum += ele[\"budget\"]\n",
    "    print(f\"Total sum of budget : {sum}\")\n",
    "\n",
    "sum_budgets([\n",
    "{ \"name\": \"John\", \"age\": 21, \"budget\": 23000 },\n",
    "{ \"name\": \"Steve\", \"age\": 32, \"budget\": 40000 },\n",
    "{ \"name\": \"Martin\", \"age\": 16, \"budget\": 2700 }\n",
    "])"
   ]
  },
  {
   "cell_type": "markdown",
   "id": "4e485d52-334a-4547-8949-c8229220e1a1",
   "metadata": {},
   "source": [
    "#### Answer 3. "
   ]
  },
  {
   "cell_type": "code",
   "execution_count": 3,
   "id": "e45aea15-6759-407d-8c05-cf8a7372b3af",
   "metadata": {},
   "outputs": [
    {
     "name": "stdout",
     "output_type": "stream",
     "text": [
      "Alphabetised : acehkr\n"
     ]
    }
   ],
   "source": [
    "def alphabet_soup(string):\n",
    "    output = ''.join(sorted(string))\n",
    "    print(f\"Alphabetised : {output}\")\n",
    "alphabet_soup(\"hacker\")"
   ]
  },
  {
   "cell_type": "markdown",
   "id": "8f01d181-7f2d-4b62-a8ff-ff2269d57204",
   "metadata": {},
   "source": [
    "#### Answer 4. "
   ]
  },
  {
   "cell_type": "code",
   "execution_count": 5,
   "id": "8e86f8a2-1981-45fb-8011-97d6e2d82334",
   "metadata": {},
   "outputs": [
    {
     "name": "stdout",
     "output_type": "stream",
     "text": [
      "Compound Interest : 15399.26\n"
     ]
    }
   ],
   "source": [
    "def compound_interest(p,t,r,c):\n",
    "    ci  = (p * (1 + (r/c))**(c*t))\n",
    "    print(f\"Compound Interest : {ci:.2f}\")\n",
    "compound_interest(3500,15,0.1,4)"
   ]
  },
  {
   "cell_type": "markdown",
   "id": "6f972f3b-8116-4d92-bcea-0b2cf3e2a1ff",
   "metadata": {},
   "source": [
    "#### Answer 5."
   ]
  },
  {
   "cell_type": "code",
   "execution_count": 7,
   "id": "3063d1a8-df7e-4bfa-84e4-c7cba1a5d80f",
   "metadata": {},
   "outputs": [
    {
     "name": "stdout",
     "output_type": "stream",
     "text": [
      "Updated List : [9, 2, 16]\n"
     ]
    }
   ],
   "source": [
    "def return_int(lst):\n",
    "    empty = []\n",
    "    for ele in lst:\n",
    "        if type(ele) == int:\n",
    "            empty.append(ele)\n",
    "    print(f\"Updated List : {empty}\")\n",
    "lst = [9, 2, \"space\", \"car\", \"lion\", 16]\n",
    "(return_int(lst))"
   ]
  },
  {
   "cell_type": "code",
   "execution_count": null,
   "id": "c42f2c1f-aeb2-41db-a5a3-18ab6694f9ba",
   "metadata": {},
   "outputs": [],
   "source": []
  }
 ],
 "metadata": {
  "kernelspec": {
   "display_name": "Python 3 (ipykernel)",
   "language": "python",
   "name": "python3"
  },
  "language_info": {
   "codemirror_mode": {
    "name": "ipython",
    "version": 3
   },
   "file_extension": ".py",
   "mimetype": "text/x-python",
   "name": "python",
   "nbconvert_exporter": "python",
   "pygments_lexer": "ipython3",
   "version": "3.9.7"
  }
 },
 "nbformat": 4,
 "nbformat_minor": 5
}

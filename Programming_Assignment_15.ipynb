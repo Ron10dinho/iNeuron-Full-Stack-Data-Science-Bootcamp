{
 "cells": [
  {
   "cell_type": "markdown",
   "id": "a199d9d4-4aa6-4a9a-a6ec-4f571ae538ee",
   "metadata": {},
   "source": [
    "#### Answer 1 "
   ]
  },
  {
   "cell_type": "code",
   "execution_count": 6,
   "id": "bff94581-930c-4a07-9f85-a92705975ad5",
   "metadata": {},
   "outputs": [
    {
     "name": "stdout",
     "output_type": "stream",
     "text": [
      "0 35 70 "
     ]
    }
   ],
   "source": [
    "def div(num):\n",
    "    empty = []\n",
    "    for ele in range(num):\n",
    "        if(ele%5==0) and (ele%7==0):\n",
    "            empty.append(ele)\n",
    "    for a in empty:\n",
    "        print(a,end=' ')\n",
    "div(100)"
   ]
  },
  {
   "cell_type": "markdown",
   "id": "74658c32-8f5d-490b-9b99-70c61d32c664",
   "metadata": {},
   "source": [
    "#### Answer 2 "
   ]
  },
  {
   "cell_type": "code",
   "execution_count": 20,
   "id": "c036d748-5e73-4bf7-881f-239292b97188",
   "metadata": {},
   "outputs": [
    {
     "name": "stdin",
     "output_type": "stream",
     "text": [
      "Enter value : 10\n"
     ]
    },
    {
     "name": "stdout",
     "output_type": "stream",
     "text": [
      "0 2 4 6 8 10 "
     ]
    }
   ],
   "source": [
    "def generate_even():\n",
    "    num = int(input(\"Enter value :\"))\n",
    "    for ele in range(num+1):\n",
    "        if ele%2 == 0:\n",
    "            yield ele\n",
    "for element in generate_even():\n",
    "    print(element,end=' ')"
   ]
  },
  {
   "cell_type": "markdown",
   "id": "73eb6c39-5fde-4f6c-a3de-b2199f41175c",
   "metadata": {},
   "source": [
    "#### Answer 3"
   ]
  },
  {
   "cell_type": "code",
   "execution_count": 19,
   "id": "9f7da7fc-0d41-435b-ad4a-a520495f0d03",
   "metadata": {},
   "outputs": [
    {
     "name": "stdout",
     "output_type": "stream",
     "text": [
      "[0, 1, 1, 2, 3, 5, 8]\n"
     ]
    }
   ],
   "source": [
    "def fib(num):\n",
    "    # num = int(input(\"Enter value :\"))\n",
    "    if num == 0:\n",
    "        return 0\n",
    "    elif num == 1:\n",
    "        return 1\n",
    "    else:\n",
    "        return fib(num-1) + fib(num-2)\n",
    "print([fib(ele) for ele in range(7)])"
   ]
  },
  {
   "cell_type": "markdown",
   "id": "eb6f9101-df98-4cd8-b151-afc1651ec246",
   "metadata": {},
   "source": [
    "#### Answer 4"
   ]
  },
  {
   "cell_type": "code",
   "execution_count": 16,
   "id": "df8302f7-83d6-4109-8cb7-f8b96020cd36",
   "metadata": {},
   "outputs": [
    {
     "name": "stdin",
     "output_type": "stream",
     "text": [
      "Enter email : john@google.com\n"
     ]
    },
    {
     "name": "stdout",
     "output_type": "stream",
     "text": [
      "Username of john@google.com is john\n"
     ]
    }
   ],
   "source": [
    "def username():\n",
    "    inp = input(\"Enter email :\")\n",
    "    output = inp.split(\"@\")\n",
    "    print(f\"Username of {inp} is {output[0]}\")\n",
    "username()"
   ]
  },
  {
   "cell_type": "markdown",
   "id": "91edcf8b-053f-46e2-8b32-260cda529674",
   "metadata": {},
   "source": [
    "#### Answer 5"
   ]
  },
  {
   "cell_type": "code",
   "execution_count": 15,
   "id": "2a1d566b-b1eb-436b-83b0-608ae943281b",
   "metadata": {},
   "outputs": [
    {
     "name": "stdout",
     "output_type": "stream",
     "text": [
      "400\n"
     ]
    }
   ],
   "source": [
    "class Shape:\n",
    "    def area(self):\n",
    "        return 0\n",
    "class Square(Shape):\n",
    "    def __init__(self,length):\n",
    "        self.length = length\n",
    "    def area(self):\n",
    "        return self.length * self.length\n",
    "square = Square(20)\n",
    "print(square.area())"
   ]
  },
  {
   "cell_type": "code",
   "execution_count": null,
   "id": "2cabb635-dd74-480f-8598-4756b1464a2d",
   "metadata": {},
   "outputs": [],
   "source": []
  }
 ],
 "metadata": {
  "kernelspec": {
   "display_name": "Python 3 (ipykernel)",
   "language": "python",
   "name": "python3"
  },
  "language_info": {
   "codemirror_mode": {
    "name": "ipython",
    "version": 3
   },
   "file_extension": ".py",
   "mimetype": "text/x-python",
   "name": "python",
   "nbconvert_exporter": "python",
   "pygments_lexer": "ipython3",
   "version": "3.9.7"
  }
 },
 "nbformat": 4,
 "nbformat_minor": 5
}

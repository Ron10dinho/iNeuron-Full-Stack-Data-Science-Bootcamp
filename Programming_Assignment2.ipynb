{
 "cells": [
  {
   "cell_type": "markdown",
   "id": "19c4e87e-7400-44e9-9466-cfabc40800c9",
   "metadata": {},
   "source": [
    "#### Write a Python program to convert kilometers to miles ? "
   ]
  },
  {
   "cell_type": "code",
   "execution_count": 6,
   "id": "150c7e69-6a71-49d0-9d20-a16c00cb5981",
   "metadata": {},
   "outputs": [
    {
     "name": "stdin",
     "output_type": "stream",
     "text": [
      "Enter number of kilometers :  100\n"
     ]
    },
    {
     "name": "stdout",
     "output_type": "stream",
     "text": [
      "100.00 kilometers is 62.14 miles\n"
     ]
    }
   ],
   "source": [
    "conversion_factor = 0.621371\n",
    "kilometers = int(input(\"Enter number of kilometers : \"))\n",
    "miles = kilometers * conversion_factor\n",
    "print(\"%0.2f kilometers is %0.2f miles\"%(kilometers,miles))"
   ]
  },
  {
   "cell_type": "markdown",
   "id": "04b5035c-685e-4161-b74f-e54bf7646d2a",
   "metadata": {},
   "source": [
    "#### Write a Python program to convert Celcius to Fahrenheit ? "
   ]
  },
  {
   "cell_type": "code",
   "execution_count": 11,
   "id": "1bfdefa6-53b6-4652-88c9-88400f1348c9",
   "metadata": {},
   "outputs": [
    {
     "name": "stdin",
     "output_type": "stream",
     "text": [
      "Enter celcius :  38\n"
     ]
    },
    {
     "name": "stdout",
     "output_type": "stream",
     "text": [
      "38.00 deg celcius is 100.40 deg fahrenheit. \n"
     ]
    }
   ],
   "source": [
    "celcius = int(input(\"Enter celcius : \"))\n",
    "fahrenheit =  (celcius * 1.8) + 32\n",
    "print(\"%0.2f deg celcius is %0.2f deg fahrenheit. \"%(celcius , fahrenheit))"
   ]
  },
  {
   "cell_type": "markdown",
   "id": "77181922-009e-4f7c-8b1f-dd2ea67947ab",
   "metadata": {},
   "source": [
    "#### Write a Python Program to display a Calendar ? "
   ]
  },
  {
   "cell_type": "code",
   "execution_count": 12,
   "id": "8b16f03b-49d1-439a-83b4-6d27fb330dbc",
   "metadata": {},
   "outputs": [
    {
     "name": "stdout",
     "output_type": "stream",
     "text": [
      "     July 2022\n",
      "Mo Tu We Th Fr Sa Su\n",
      "             1  2  3\n",
      " 4  5  6  7  8  9 10\n",
      "11 12 13 14 15 16 17\n",
      "18 19 20 21 22 23 24\n",
      "25 26 27 28 29 30 31\n",
      "\n"
     ]
    }
   ],
   "source": [
    "import calendar\n",
    "year = 2022\n",
    "month = 7\n",
    "print(calendar.month(year,month))"
   ]
  },
  {
   "cell_type": "markdown",
   "id": "d496be78-5113-4f2a-a8a1-d0302f6c0662",
   "metadata": {},
   "source": [
    "#### Write a Python program to solve quadratic equation?"
   ]
  },
  {
   "cell_type": "code",
   "execution_count": 21,
   "id": "f5493646-7f5b-49e7-9b47-055541a5ed37",
   "metadata": {},
   "outputs": [
    {
     "name": "stdout",
     "output_type": "stream",
     "text": [
      "The solutions are (-2-1j) and (-2+1j)\n"
     ]
    }
   ],
   "source": [
    "import cmath\n",
    "\n",
    "def quad_math(a,b,c):\n",
    "    d = (b**2) - (4*a*c)\n",
    "    root_1 = (-b-cmath.sqrt(d))/(2*a)\n",
    "    root_2 = (-b+cmath.sqrt(d))/(2*a)\n",
    "\n",
    "    print(f\"The solutions are {root_1} and {root_2}\")\n",
    "quad_math(1,4,5)"
   ]
  },
  {
   "cell_type": "markdown",
   "id": "bcbd1c94-5c03-4ab6-8de6-16f725c464c4",
   "metadata": {},
   "source": [
    "#### Write a Python program to swap two variables without temp variable?"
   ]
  },
  {
   "cell_type": "code",
   "execution_count": 25,
   "id": "b96f1b5f-0089-47a0-8d5a-21efaaced665",
   "metadata": {},
   "outputs": [
    {
     "name": "stdout",
     "output_type": "stream",
     "text": [
      "Before swap (x,y) : 10 20\n",
      "After swap (x,y) : 20 10\n"
     ]
    }
   ],
   "source": [
    "def swap(x,y):\n",
    "    print(\"Before swap (x,y) :\",x,y)\n",
    "    x,y = y,x\n",
    "    print(\"After swap (x,y) :\",x,y)\n",
    "swap(10,20)"
   ]
  },
  {
   "cell_type": "code",
   "execution_count": null,
   "id": "ec4a0a27-cdd9-443d-86bb-f709da8a29fc",
   "metadata": {},
   "outputs": [],
   "source": []
  }
 ],
 "metadata": {
  "kernelspec": {
   "display_name": "Python 3 (ipykernel)",
   "language": "python",
   "name": "python3"
  },
  "language_info": {
   "codemirror_mode": {
    "name": "ipython",
    "version": 3
   },
   "file_extension": ".py",
   "mimetype": "text/x-python",
   "name": "python",
   "nbconvert_exporter": "python",
   "pygments_lexer": "ipython3",
   "version": "3.9.7"
  }
 },
 "nbformat": 4,
 "nbformat_minor": 5
}

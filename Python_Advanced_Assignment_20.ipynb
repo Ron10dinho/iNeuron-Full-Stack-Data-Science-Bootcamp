{
 "cells": [
  {
   "cell_type": "markdown",
   "id": "c5382798-cce2-4628-a0d3-1320c0f083dd",
   "metadata": {},
   "source": [
    "### Q1. Compare and contrast the float and Decimal classes benefits and drawbacks ? "
   ]
  },
  {
   "cell_type": "markdown",
   "id": "8d14687f-2cd9-4c2a-bbf8-1619a39daece",
   "metadata": {},
   "source": [
    "Both the float and decimal types store numerical values in Python\n",
    "\n",
    "Use floats when convinience and speed matters . A float gives you an approximation of the number you declare . \n",
    "\n",
    "Use decimals when precision matters , generally , they are more precise than floats. "
   ]
  },
  {
   "cell_type": "markdown",
   "id": "3a5be226-b729-436e-bf1a-3caf1ed29bbc",
   "metadata": {},
   "source": [
    "### Q2. Decimal('1.200') and Decimal('1.2') are two objects to consider. In what sense are these the same object? Are these just two ways of representing the exact same value, or do they correspond to different internal states ?"
   ]
  },
  {
   "cell_type": "markdown",
   "id": "063979e9-3c4e-4b6e-a18e-916b0d4deea4",
   "metadata": {},
   "source": [
    " Both values are same but internal representation at storage Is different. Precsion differs, Decimal('1.200') gives internally 1.200 and Decimal('1.2') gives 1.2."
   ]
  },
  {
   "cell_type": "markdown",
   "id": "4820ff5b-2859-4922-a84d-f1ec8642a3a5",
   "metadata": {},
   "source": [
    "### Q3. What happens if the equality of Decimal('1.200') and Decimal('1.2') is checked ?"
   ]
  },
  {
   "cell_type": "markdown",
   "id": "b923d6c4-da39-4d3e-8ca7-39c89e551375",
   "metadata": {},
   "source": [
    "Both values are checked to be equal , they only differ in precision."
   ]
  },
  {
   "cell_type": "markdown",
   "id": "3ccba29f-7fa5-407f-9020-5354a409f789",
   "metadata": {},
   "source": [
    "### Q4. Why is it preferable to start a Decimal object with a string rather than a floating-point value ?"
   ]
  },
  {
   "cell_type": "markdown",
   "id": "1b2815ef-50a5-4a54-8cd0-a7e1977952eb",
   "metadata": {},
   "source": [
    " Floating-point value is converted to Decimal format. Decimal can store float value with absolute precision. But when float value is given as Decimal object,it first has to be converted from floating point value which might already have rounding error.\n",
    "\n",
    "Hence it is preferable to start a Decimal object with a string."
   ]
  },
  {
   "cell_type": "markdown",
   "id": "368e8c9b-3c35-4314-8e83-df918b3a03c1",
   "metadata": {},
   "source": [
    "### Q5. In an arithmetic phrase, how simple is it to combine Decimal objects with integers ? "
   ]
  },
  {
   "cell_type": "markdown",
   "id": "c9778750-4f74-4949-8eb6-f715cc6e48c8",
   "metadata": {},
   "source": [
    "We can do it with use of Decimal()."
   ]
  },
  {
   "cell_type": "markdown",
   "id": "b098fcf1-b108-45e0-a6f8-eb1af119bfd0",
   "metadata": {},
   "source": [
    "###  Q6. Can Decimal objects and floating-point values be combined easily ?"
   ]
  },
  {
   "cell_type": "markdown",
   "id": "e06fd548-3a59-47ce-a232-08f88914983c",
   "metadata": {},
   "source": [
    "Arithmetic operfations like Adding,subtracting or multiplying a Decimal object by a floating-point value is generates an error.\n",
    "\n",
    "To do these operations, the floating point has to be converted to a Decimal."
   ]
  },
  {
   "cell_type": "markdown",
   "id": "462ed927-e17e-458c-b64b-dd6fa3c26d89",
   "metadata": {},
   "source": [
    "### Q7. Using the Fraction class but not the Decimal class, give an example of a quantity that can be expressed with absolute precision ? "
   ]
  },
  {
   "cell_type": "markdown",
   "id": "e713c64e-6345-4a62-bace-3f01523bbe3a",
   "metadata": {},
   "source": [
    "Value of 0.5 will be represented as ½."
   ]
  },
  {
   "cell_type": "markdown",
   "id": "219c5143-2a8d-43de-beab-1f104f11f521",
   "metadata": {},
   "source": [
    "### Q8. Describe a quantity that can be accurately expressed by the Decimal or Fraction classes but not by a floating-point value."
   ]
  },
  {
   "cell_type": "code",
   "execution_count": null,
   "id": "a90ca2f9-3aaf-4d70-b2da-82f72c9504f0",
   "metadata": {},
   "outputs": [],
   "source": []
  },
  {
   "cell_type": "markdown",
   "id": "c6aacb5c-5713-423f-a8b5-0b4b831f2344",
   "metadata": {},
   "source": [
    "### Q9.Consider the following two fraction objects: Fraction(1, 2) and Fraction(1, 2). (5, 10). Is the internal state of these two objects the same? Why do you think that is ? "
   ]
  },
  {
   "cell_type": "markdown",
   "id": "e6b52095-7f9d-49de-9105-54f222da8287",
   "metadata": {},
   "source": [
    "Both will be reduced to 1/2"
   ]
  },
  {
   "cell_type": "markdown",
   "id": "41adbd79-2083-446d-8345-7249b5cf231d",
   "metadata": {},
   "source": [
    "### Q10. How do the Fraction class and the integer type (int) relate to each other? Containment or inheritance ? "
   ]
  },
  {
   "cell_type": "markdown",
   "id": "0b868a45-a1c0-4ddb-ad02-e635af2a638f",
   "metadata": {},
   "source": [
    " Fraction class and integer type(int) are related in form of a container.It contains two ints, one the numerator and the other the denominator"
   ]
  },
  {
   "cell_type": "code",
   "execution_count": null,
   "id": "d3a08258-12f7-4531-b7ff-7ae9c70f6c9b",
   "metadata": {},
   "outputs": [],
   "source": []
  }
 ],
 "metadata": {
  "kernelspec": {
   "display_name": "Python 3 (ipykernel)",
   "language": "python",
   "name": "python3"
  },
  "language_info": {
   "codemirror_mode": {
    "name": "ipython",
    "version": 3
   },
   "file_extension": ".py",
   "mimetype": "text/x-python",
   "name": "python",
   "nbconvert_exporter": "python",
   "pygments_lexer": "ipython3",
   "version": "3.10.9"
  }
 },
 "nbformat": 4,
 "nbformat_minor": 5
}

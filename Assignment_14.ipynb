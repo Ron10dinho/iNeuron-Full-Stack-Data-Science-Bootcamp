{
 "cells": [
  {
   "cell_type": "markdown",
   "id": "9402eaa4-6389-4d57-a730-5f34b3b40da5",
   "metadata": {},
   "source": [
    "#### Answer 1."
   ]
  },
  {
   "cell_type": "markdown",
   "id": "8f865008-bd35-44e2-9bd3-aa34120a125f",
   "metadata": {},
   "source": [
    "RGBA = Red , Green , Blue and Alpha (opacity) value . "
   ]
  },
  {
   "cell_type": "markdown",
   "id": "798b0e49-8e50-4af3-9c0f-b4a20b2d48ba",
   "metadata": {},
   "source": [
    "#### Answer 2."
   ]
  },
  {
   "cell_type": "markdown",
   "id": "45b8e6ad-0b06-41fc-ba1e-433d9f6f36eb",
   "metadata": {},
   "source": [
    "ImageColor.getcolor() gives rgba value at any image."
   ]
  },
  {
   "cell_type": "markdown",
   "id": "099110d9-1f7f-448d-bdb1-f10b8dc500f2",
   "metadata": {},
   "source": [
    "#### Answer 3."
   ]
  },
  {
   "cell_type": "markdown",
   "id": "202afeb0-b61d-47ec-b7d9-3b05004bf1df",
   "metadata": {},
   "source": [
    "A box tuple contains 4 values : the left-edge x-coordinate, the top-edge y-coordinate,the width, and the height, respectively."
   ]
  },
  {
   "cell_type": "markdown",
   "id": "96d71bb2-5a4c-4f85-b480-794bfc595cf3",
   "metadata": {},
   "source": [
    "#### Answer 4."
   ]
  },
  {
   "cell_type": "code",
   "execution_count": null,
   "id": "d8fbfbba-7cea-48a2-ae24-ce05c687ea3a",
   "metadata": {},
   "outputs": [],
   "source": [
    "from PIL import Image\n",
    "pic = Image.open('Pic.jpg')\n",
    "print(f'Width, Height -> {pic.width},{pic.height}')"
   ]
  },
  {
   "cell_type": "markdown",
   "id": "501fce7d-c328-4da3-a878-0c45a077e805",
   "metadata": {},
   "source": [
    "#### Answer 5."
   ]
  },
  {
   "cell_type": "markdown",
   "id": "f0c69d2f-2b65-4ba0-b103-00ede75ebf28",
   "metadata": {},
   "source": [
    "img.crop(method) will be called.\n",
    "\n",
    "Acc. to the question  -> img.crop((0,50,50,50))\n"
   ]
  },
  {
   "cell_type": "markdown",
   "id": "1eac2a52-395a-43e9-8e78-db99152aedc6",
   "metadata": {},
   "source": [
    "#### Answer 6."
   ]
  },
  {
   "cell_type": "markdown",
   "id": "10257052-fce4-4e8c-be71-057f250c9583",
   "metadata": {},
   "source": [
    "using the .save() method , with the name of the save file as the argument."
   ]
  },
  {
   "cell_type": "markdown",
   "id": "27c453fb-5e42-4f20-aa6a-62d2f1ed4703",
   "metadata": {},
   "source": [
    "#### Answer 7."
   ]
  },
  {
   "cell_type": "markdown",
   "id": "3093545e-7de7-4f07-8ef1-b8cd86cebbe7",
   "metadata": {},
   "source": [
    "ImageDraw module contains Pillows shape drawing methods . "
   ]
  },
  {
   "cell_type": "markdown",
   "id": "ffe12e11-127e-4866-a5b6-8d3ceb8dd5a7",
   "metadata": {},
   "source": [
    "#### Answer 8."
   ]
  },
  {
   "cell_type": "markdown",
   "id": "4d152612-5c4b-4f5c-8137-c360813f3862",
   "metadata": {},
   "source": [
    "ImageDraw objects have shape-drawing methods (point(),line(), rectangle()).\n",
    "\n",
    "They are returned by passing the image object to the ImageDraw.Draw() function ."
   ]
  },
  {
   "cell_type": "code",
   "execution_count": null,
   "id": "0cb5cadf-28c5-49ca-a3e7-85858314cbaf",
   "metadata": {},
   "outputs": [],
   "source": []
  }
 ],
 "metadata": {
  "kernelspec": {
   "display_name": "Python 3 (ipykernel)",
   "language": "python",
   "name": "python3"
  },
  "language_info": {
   "codemirror_mode": {
    "name": "ipython",
    "version": 3
   },
   "file_extension": ".py",
   "mimetype": "text/x-python",
   "name": "python",
   "nbconvert_exporter": "python",
   "pygments_lexer": "ipython3",
   "version": "3.9.7"
  }
 },
 "nbformat": 4,
 "nbformat_minor": 5
}

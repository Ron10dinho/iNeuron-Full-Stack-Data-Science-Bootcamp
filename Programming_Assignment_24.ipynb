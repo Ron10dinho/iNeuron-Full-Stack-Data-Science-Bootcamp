{
 "cells": [
  {
   "cell_type": "markdown",
   "id": "c7c03ab5-64e0-41a6-bd0a-2b33906a0c8f",
   "metadata": {},
   "source": [
    "#### Answer 1."
   ]
  },
  {
   "cell_type": "code",
   "execution_count": 1,
   "id": "2c6c4bc7-0096-460a-b01e-60323f9adbbb",
   "metadata": {},
   "outputs": [
    {
     "name": "stdout",
     "output_type": "stream",
     "text": [
      "Result : [1, 2, 3, 40, 5, 6, 7, 80]\n"
     ]
    }
   ],
   "source": [
    "def amplify(inp):\n",
    "    empty = []\n",
    "    for ele in range(1,inp+1):\n",
    "        if ele % 4 == 0:\n",
    "            empty.append(ele*10)\n",
    "        else:\n",
    "            empty.append(ele)\n",
    "    print(f\"Result : {empty}\")\n",
    "amplify(8)"
   ]
  },
  {
   "cell_type": "markdown",
   "id": "77e5419e-d195-4da7-879c-09a908d1dc75",
   "metadata": {},
   "source": [
    "#### Answer 2."
   ]
  },
  {
   "cell_type": "code",
   "execution_count": 2,
   "id": "269b7a2f-ee1e-4258-ab69-3d9f1d2fd53f",
   "metadata": {},
   "outputs": [
    {
     "name": "stdout",
     "output_type": "stream",
     "text": [
      "Unique number : 7\n"
     ]
    }
   ],
   "source": [
    "def unique(lst):\n",
    "    empty = ''\n",
    "    for ele in set(lst):\n",
    "        if lst.count(ele) == 1:\n",
    "            empty = ele\n",
    "    print(f\"Unique number : {empty}\")\n",
    "    \n",
    "unique([3, 3, 3, 7,5,2, 3, 3])\n"
   ]
  },
  {
   "cell_type": "markdown",
   "id": "6a9e9ca3-9011-4c85-9a34-d839e26b53f9",
   "metadata": {},
   "source": [
    "#### Answer 3."
   ]
  },
  {
   "cell_type": "code",
   "execution_count": 7,
   "id": "bec8a52b-0ac3-47c3-9976-7a6c439d962f",
   "metadata": {},
   "outputs": [
    {
     "name": "stdout",
     "output_type": "stream",
     "text": [
      "Area : 62\n"
     ]
    }
   ],
   "source": [
    "import math\n",
    "class Circles:\n",
    "    def __init__(self,radius):\n",
    "        self.radius = radius\n",
    "    def getArea(self):\n",
    "        print(f\"Area : {round(math.pi*self.radius*self.radius)}\")\n",
    "    def getPerimeter(self):\n",
    "        print(f\"Perimeter : {round(2*math.pi*self.radius)}\")\n",
    "circle = Circles(4.44)\n",
    "circle.getArea()"
   ]
  },
  {
   "cell_type": "markdown",
   "id": "e949ff7d-7a17-4e46-86d9-7644a6a7c72a",
   "metadata": {},
   "source": [
    "#### Answer 4."
   ]
  },
  {
   "cell_type": "code",
   "execution_count": 8,
   "id": "33dc0066-a264-4778-9e67-359cff8b7b17",
   "metadata": {},
   "outputs": [
    {
     "name": "stdout",
     "output_type": "stream",
     "text": [
      "['Apple', 'Google', 'Microsoft']\n"
     ]
    }
   ],
   "source": [
    "def sort_by_length(lst):\n",
    "    print(sorted(lst, key = len))\n",
    "lst = [\"Google\", \"Apple\", \"Microsoft\"]\n",
    "sort_by_length(lst)"
   ]
  },
  {
   "cell_type": "markdown",
   "id": "2ddb5897-2d19-4e05-bd34-0bb8fdd454f5",
   "metadata": {},
   "source": [
    "#### Answer 5."
   ]
  },
  {
   "cell_type": "code",
   "execution_count": 11,
   "id": "78feb006-d494-4392-a680-50b6d4f2cc98",
   "metadata": {},
   "outputs": [
    {
     "name": "stdout",
     "output_type": "stream",
     "text": [
      "(3, 4, 5) = True, it is a Pythagorean triplet .\n",
      "(4, 3, 6) = False , it is not a Pythagorean triplet .\n"
     ]
    }
   ],
   "source": [
    "def is_triplet(a,b,c):\n",
    "    if ((a**2 + b**2) == (c**2)):\n",
    "        print(f\"{a,b,c} = True, it is a Pythagorean triplet .\")\n",
    "    else:\n",
    "        print(f\"{a,b,c} = False , it is not a Pythagorean triplet .\")\n",
    "is_triplet(3,4,5)\n",
    "is_triplet(4,3,6)"
   ]
  },
  {
   "cell_type": "code",
   "execution_count": null,
   "id": "de73a1a4-8d2b-4e49-9d46-27801d04dde6",
   "metadata": {},
   "outputs": [],
   "source": []
  }
 ],
 "metadata": {
  "kernelspec": {
   "display_name": "Python 3 (ipykernel)",
   "language": "python",
   "name": "python3"
  },
  "language_info": {
   "codemirror_mode": {
    "name": "ipython",
    "version": 3
   },
   "file_extension": ".py",
   "mimetype": "text/x-python",
   "name": "python",
   "nbconvert_exporter": "python",
   "pygments_lexer": "ipython3",
   "version": "3.9.7"
  }
 },
 "nbformat": 4,
 "nbformat_minor": 5
}

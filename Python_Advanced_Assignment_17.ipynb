{
 "cells": [
  {
   "cell_type": "markdown",
   "id": "4bc5f1bb-e9bd-4e0f-ae45-159380e5f9e1",
   "metadata": {},
   "source": [
    "### Q1. Explain the difference between greedy and non-greedy syntax with visual terms in as few words as possible. What is the bare minimum effort required to transform a greedy pattern into a non-greedy one? What characters or characters can you introduce or change?"
   ]
  },
  {
   "cell_type": "markdown",
   "id": "cbefd38c-194f-4471-a520-41f758c6fa83",
   "metadata": {},
   "source": [
    "The Main difference between Greedy and Non Greedy Match Syntax is The Greedy Match will try to match as many repetitions of the quantified pattern as possible Whereas The Non Greedy Match will try to match as few repetitions of the quantified pattern as possible"
   ]
  },
  {
   "cell_type": "code",
   "execution_count": 1,
   "id": "85ce1bdc-1948-48b1-88ef-80e8752ec4b3",
   "metadata": {},
   "outputs": [
    {
     "name": "stdout",
     "output_type": "stream",
     "text": [
      "['vvvvvv', '']\n",
      "['', 'v', '', 'v', '', 'v', '', 'v', '', 'v', '', 'v', '']\n"
     ]
    }
   ],
   "source": [
    "import re\n",
    "print(re.findall(\"v*\",\"vvvvvv\")) # greedy match syntax\n",
    "print(re.findall(\"v*?\",\"vvvvvv\")) # Non greedy Syntax"
   ]
  },
  {
   "cell_type": "markdown",
   "id": "e3e19a05-6d97-4a3b-96d4-89eada581997",
   "metadata": {},
   "source": [
    "### Q2. When exactly does greedy versus non-greedy make a difference? What if you're looking for a non-greedy match but the only one available is greedy? "
   ]
  },
  {
   "cell_type": "markdown",
   "id": "74eaa590-0793-4631-b41f-7a46da6996c7",
   "metadata": {},
   "source": [
    " The Greedy Match will try to match as many repetitions of the quantified pattern as possible. The Non Greedy Match will try to match as few repetitions of the quantified pattern as possible. If only Non Greedy Match is available, we can use other filtering or pattern matching methods of regex and further identify the required pattern."
   ]
  },
  {
   "cell_type": "markdown",
   "id": "3e8c051b-d1c7-4d74-bbf0-d6b4a01d6070",
   "metadata": {},
   "source": [
    "### Q3. In a simple match of a string, which looks only for one match and does not do any replacement, is the use of a nontagged group likely to make any practical difference? "
   ]
  },
  {
   "cell_type": "markdown",
   "id": "f719b9ff-fb14-4581-9d55-9cf857b98f56",
   "metadata": {},
   "source": [
    "In this Case The Non Tagged Group will not make any diffrence in this case."
   ]
  },
  {
   "cell_type": "code",
   "execution_count": 2,
   "id": "62e2579d-3530-4f80-bc9a-ca2fb618209b",
   "metadata": {},
   "outputs": [
    {
     "name": "stdout",
     "output_type": "stream",
     "text": [
      "Phone number found -> 234\n",
      "Phone number found -> 234\n"
     ]
    }
   ],
   "source": [
    "phoneNumRegex = re.compile(r'\\d\\d\\d')\n",
    "num = phoneNumRegex.search('My number is 234-567-8901.')\n",
    "print(f'Phone number found -> {num.group()}') # Non Tagged group\n",
    "print(f'Phone number found -> {num.group(0)}') # Tagged Group"
   ]
  },
  {
   "cell_type": "markdown",
   "id": "f129764a-5798-4ccb-bff0-8ebd9884fc8e",
   "metadata": {},
   "source": [
    "### Q4. Describe a scenario in which using a nontagged category would have a significant impact on the program's outcomes ? "
   ]
  },
  {
   "cell_type": "markdown",
   "id": "49e102c4-c929-44cd-a894-1a4e4087ebbc",
   "metadata": {},
   "source": [
    "Here in the below Code Snippet . decimal is not tagged or captured. It will useful in scenarios where the separator of value in a string is of no use and we need to capture only the values."
   ]
  },
  {
   "cell_type": "code",
   "execution_count": 3,
   "id": "f5a7949c-b899-4c55-b9c4-ee001d811fc4",
   "metadata": {},
   "outputs": [
    {
     "data": {
      "text/plain": [
       "('135', '456')"
      ]
     },
     "execution_count": 3,
     "metadata": {},
     "output_type": "execute_result"
    }
   ],
   "source": [
    "text='135.456'\n",
    "pattern=r'(\\d+)(?:.)(\\d+)'\n",
    "regobj=re.compile(pattern)\n",
    "matobj=regobj.search(text)\n",
    "matobj.groups()"
   ]
  },
  {
   "cell_type": "markdown",
   "id": "22adda99-af90-4e80-aaeb-a0f2086aa4de",
   "metadata": {},
   "source": [
    "### Q5. Unlike a normal regex pattern, a look-ahead condition does not consume the characters it examines. Describe a situation in which this could make a difference in the results of your programme ? "
   ]
  },
  {
   "cell_type": "markdown",
   "id": "af3cfb76-8a8e-44d9-8ed1-00575169e160",
   "metadata": {},
   "source": [
    " While counting the number of multiple lines or mutiple sentence in a string the positive look ahead makes a difference, without which we wont get the correct count of lines or sentences in a string."
   ]
  },
  {
   "cell_type": "markdown",
   "id": "3f1cbcdf-ef12-4f09-95a4-b69f08153a2b",
   "metadata": {},
   "source": [
    "### Q6. In standard expressions, what is the difference between positive look-ahead and negative look-ahead ? "
   ]
  },
  {
   "cell_type": "markdown",
   "id": "71fed373-7f03-456f-886a-f1936cd16a85",
   "metadata": {},
   "source": [
    "Positive Lookahead allows to add a condition for what follows. Negative Lookahead is similar, but it looks behind. That is, it allows to match a pattern only if there’s something before it."
   ]
  },
  {
   "cell_type": "markdown",
   "id": "e381dd71-28fb-4c7f-b437-ae236bdcf33b",
   "metadata": {},
   "source": [
    "### Q7. What is the benefit of referring to groups by name rather than by number in a standard expression? "
   ]
  },
  {
   "cell_type": "markdown",
   "id": "79c9f663-40b8-447c-8700-ee39317de7ff",
   "metadata": {},
   "source": [
    " Referring to groups by name rather than by number in a standard expression helps to keep the code clear and easy to understand."
   ]
  },
  {
   "cell_type": "markdown",
   "id": "e13a7494-4b98-4920-ae42-722ec381cfa3",
   "metadata": {},
   "source": [
    "### Q8. Can you identify repeated items within a target string using named groups, as in \"The cow jumped over the moon\"? "
   ]
  },
  {
   "cell_type": "code",
   "execution_count": 4,
   "id": "848e1a6c-fbab-4b3a-aac7-56705b66cbf0",
   "metadata": {},
   "outputs": [
    {
     "data": {
      "text/plain": [
       "['The', 'the']"
      ]
     },
     "execution_count": 4,
     "metadata": {},
     "output_type": "execute_result"
    }
   ],
   "source": [
    "text = \"The cow jumped over the moon\"\n",
    "regobj=re.compile(r'(?P<w1>The)',re.I)\n",
    "regobj.findall(text)"
   ]
  },
  {
   "cell_type": "markdown",
   "id": "11d808b2-47aa-401e-a262-cdd87717a2fd",
   "metadata": {},
   "source": [
    "### Q9. When parsing a string, what is at least one thing that the Scanner interface does for you that the re.findall feature does not ? "
   ]
  },
  {
   "cell_type": "markdown",
   "id": "c52dc8e6-b630-4571-9145-e0ad36f4b36c",
   "metadata": {},
   "source": [
    "re.findall() module is used to search for all occurrences that match a given pattern. In contrast, re.search() will only return the first occurrence that matches the specified pattern. re.findall() will iterate over all the lines of the file and will return all non-overlapping matches of pattern in a single step."
   ]
  },
  {
   "cell_type": "markdown",
   "id": "e5d3e1df-9b06-4694-8880-053b5681ff99",
   "metadata": {},
   "source": [
    "### Q10. Does a scanner object have to be named scanner? "
   ]
  },
  {
   "cell_type": "markdown",
   "id": "02ef387a-571d-4c08-a49d-9fc50248e3c3",
   "metadata": {},
   "source": [
    "Yes, It may have any name."
   ]
  },
  {
   "cell_type": "code",
   "execution_count": null,
   "id": "366a832a-de4d-4477-bfe8-419aeda72131",
   "metadata": {},
   "outputs": [],
   "source": []
  }
 ],
 "metadata": {
  "kernelspec": {
   "display_name": "Python 3 (ipykernel)",
   "language": "python",
   "name": "python3"
  },
  "language_info": {
   "codemirror_mode": {
    "name": "ipython",
    "version": 3
   },
   "file_extension": ".py",
   "mimetype": "text/x-python",
   "name": "python",
   "nbconvert_exporter": "python",
   "pygments_lexer": "ipython3",
   "version": "3.10.9"
  }
 },
 "nbformat": 4,
 "nbformat_minor": 5
}

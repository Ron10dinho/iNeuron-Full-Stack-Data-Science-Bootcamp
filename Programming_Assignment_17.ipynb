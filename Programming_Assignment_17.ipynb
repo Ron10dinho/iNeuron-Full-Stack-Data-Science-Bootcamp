{
 "cells": [
  {
   "cell_type": "markdown",
   "id": "a199d9d4-4aa6-4a9a-a6ec-4f571ae538ee",
   "metadata": {},
   "source": [
    "#### Answer 1 "
   ]
  },
  {
   "cell_type": "code",
   "execution_count": 8,
   "id": "f0798f55-1698-4129-90e2-b038afe33b1b",
   "metadata": {},
   "outputs": [
    {
     "name": "stdout",
     "output_type": "stream",
     "text": [
      "(1, 10, 2) ➞ 30\n"
     ]
    }
   ],
   "source": [
    "def evenDivisible(a,b,c):\n",
    "    divList = []\n",
    "    for num in range(a,b+1):\n",
    "        if num%c == 0:\n",
    "            divList.append(num)\n",
    "    print(f'{a,b,c} ➞ {sum(divList)}')\n",
    "\n",
    "evenDivisible(1,10,2)"
   ]
  },
  {
   "cell_type": "markdown",
   "id": "97f8087f-2a53-4d3e-8392-5d0c723cf521",
   "metadata": {},
   "source": [
    "#### Answer 2 "
   ]
  },
  {
   "cell_type": "code",
   "execution_count": 10,
   "id": "b66d4c66-3eba-4085-acd5-ef9fd241605a",
   "metadata": {},
   "outputs": [
    {
     "name": "stdin",
     "output_type": "stream",
     "text": [
      "Enter string : 1 < 4 < 5\n"
     ]
    },
    {
     "name": "stdout",
     "output_type": "stream",
     "text": [
      "1 < 4 < 5 -> True\n"
     ]
    }
   ],
   "source": [
    "def check():\n",
    "    inp = input(\"Enter string :\")\n",
    "    output = eval(inp)\n",
    "    print(f\"{inp} -> {output}\")\n",
    "check()"
   ]
  },
  {
   "cell_type": "code",
   "execution_count": 11,
   "id": "1793fc81-e544-42b1-b8da-14cabcdb6bac",
   "metadata": {},
   "outputs": [
    {
     "name": "stdin",
     "output_type": "stream",
     "text": [
      "Enter string : 4 < 3 < 6\n"
     ]
    },
    {
     "name": "stdout",
     "output_type": "stream",
     "text": [
      "4 < 3 < 6 -> False\n"
     ]
    }
   ],
   "source": [
    "check()"
   ]
  },
  {
   "cell_type": "markdown",
   "id": "e765fc34-685b-499f-95f7-03308d41b188",
   "metadata": {},
   "source": [
    "#### Answer 3"
   ]
  },
  {
   "cell_type": "code",
   "execution_count": 15,
   "id": "c225bfa6-fead-4cd3-a48b-d87b730ad2b3",
   "metadata": {},
   "outputs": [
    {
     "name": "stdin",
     "output_type": "stream",
     "text": [
      "Enter string : the aardvark\n",
      "Enter character : #\n"
     ]
    },
    {
     "name": "stdout",
     "output_type": "stream",
     "text": [
      "Replacing vowels in the string 'the aardvark' with # = th# ##rdv#rk\n"
     ]
    }
   ],
   "source": [
    "def change():\n",
    "    vowels = ['a','e','i','o','u','A','E','I','O','U']\n",
    "    inp = input(\"Enter string :\")\n",
    "    inp_1 = inp\n",
    "    char = input(\"Enter character :\")\n",
    "    for ele in inp:\n",
    "        if ele in vowels:\n",
    "            inp = inp.replace(ele,char)\n",
    "    print(f\"Replacing vowels in the string '{inp_1}' with {char} = {inp}\")\n",
    "change() "
   ]
  },
  {
   "cell_type": "markdown",
   "id": "cd51729b-e60e-444f-b259-8a37c491758f",
   "metadata": {},
   "source": [
    "#### Answer 4 "
   ]
  },
  {
   "cell_type": "code",
   "execution_count": 18,
   "id": "253aed5b-364d-4cd9-bac0-f6c74a320ed1",
   "metadata": {},
   "outputs": [
    {
     "name": "stdout",
     "output_type": "stream",
     "text": [
      "Factorial of 5 is 120\n"
     ]
    }
   ],
   "source": [
    "def factorial(n):\n",
    "    if n == 0:\n",
    "        return 1\n",
    "    return n * factorial (n-1)\n",
    "n = 5\n",
    "print(f\"Factorial of {n} is {factorial(n)}\")"
   ]
  },
  {
   "cell_type": "markdown",
   "id": "f1177d19-c417-4825-9bd2-555b2f9c02ae",
   "metadata": {},
   "source": [
    "#### Answer 5 "
   ]
  },
  {
   "cell_type": "code",
   "execution_count": 21,
   "id": "e7c804dc-18ba-43cb-8e27-a7dc70467aa4",
   "metadata": {},
   "outputs": [
    {
     "name": "stdin",
     "output_type": "stream",
     "text": [
      "Enter 1st String : abcde\n",
      "Enter 2nd String : bcdef\n"
     ]
    },
    {
     "name": "stdout",
     "output_type": "stream",
     "text": [
      "Hamming Distance = 5\n"
     ]
    }
   ],
   "source": [
    "def hamming_dist():\n",
    "    inp_1 = input(\"Enter 1st String :\")\n",
    "    inp_2 = input(\"Enter 2nd String :\")\n",
    "    if len(inp_1) == len(inp_2):\n",
    "        count = 0\n",
    "        for i in range(len(inp_1)):\n",
    "            if inp_1[i] != inp_2[i]:\n",
    "                count += 1\n",
    "        print(f\"Hamming Distance = {count}\")\n",
    "    else:\n",
    "        print(\"Invalid , both strings need to be of the same length\")\n",
    "hamming_dist()"
   ]
  },
  {
   "cell_type": "code",
   "execution_count": null,
   "id": "8311f3c8-c606-43a2-861b-9c9732cebed6",
   "metadata": {},
   "outputs": [],
   "source": []
  }
 ],
 "metadata": {
  "kernelspec": {
   "display_name": "Python 3 (ipykernel)",
   "language": "python",
   "name": "python3"
  },
  "language_info": {
   "codemirror_mode": {
    "name": "ipython",
    "version": 3
   },
   "file_extension": ".py",
   "mimetype": "text/x-python",
   "name": "python",
   "nbconvert_exporter": "python",
   "pygments_lexer": "ipython3",
   "version": "3.9.7"
  }
 },
 "nbformat": 4,
 "nbformat_minor": 5
}

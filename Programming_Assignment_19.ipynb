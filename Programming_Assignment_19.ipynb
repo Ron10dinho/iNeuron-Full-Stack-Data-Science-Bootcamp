{
 "cells": [
  {
   "cell_type": "markdown",
   "id": "cb6290d6-f3d7-45aa-b51b-268b2a90b693",
   "metadata": {},
   "source": [
    "#### Answer 1. "
   ]
  },
  {
   "cell_type": "code",
   "execution_count": 2,
   "id": "a4466c71-5550-4238-94a6-ebe479afb944",
   "metadata": {},
   "outputs": [
    {
     "name": "stdin",
     "output_type": "stream",
     "text": [
      "Enter string : Hello World\n"
     ]
    },
    {
     "name": "stdout",
     "output_type": "stream",
     "text": [
      "HHeelllloo  WWoorrlldd\n"
     ]
    }
   ],
   "source": [
    "def repeat():\n",
    "    inp = input(\"Enter string :\")\n",
    "    output = ''\n",
    "    for ele in inp:\n",
    "        output += ele*2\n",
    "    return output\n",
    "print(repeat())"
   ]
  },
  {
   "cell_type": "markdown",
   "id": "783df477-2678-4cf3-9b51-e7d0f009c4bb",
   "metadata": {},
   "source": [
    "#### Answer 2. "
   ]
  },
  {
   "cell_type": "code",
   "execution_count": 9,
   "id": "c1410296-6e5f-458c-bb0e-867b5d107e05",
   "metadata": {},
   "outputs": [
    {
     "data": {
      "text/plain": [
       "False"
      ]
     },
     "execution_count": 9,
     "metadata": {},
     "output_type": "execute_result"
    }
   ],
   "source": [
    "def reverse(inp):\n",
    "    # inp = input(\"Enter 'True' or 'False' :\")\n",
    "    if type(inp) == bool:\n",
    "        return not inp\n",
    "    else:\n",
    "        return \"Invalid , enter Boolean.\"\n",
    "reverse(True)"
   ]
  },
  {
   "cell_type": "code",
   "execution_count": 11,
   "id": "9367523c-e3d1-4e6a-b867-600275295c61",
   "metadata": {},
   "outputs": [
    {
     "data": {
      "text/plain": [
       "'Invalid , enter Boolean.'"
      ]
     },
     "execution_count": 11,
     "metadata": {},
     "output_type": "execute_result"
    }
   ],
   "source": [
    "reverse('a')"
   ]
  },
  {
   "cell_type": "markdown",
   "id": "21c4dc11-abc6-4814-a99e-eb3196155e38",
   "metadata": {},
   "source": [
    "#### Answer 3. "
   ]
  },
  {
   "cell_type": "code",
   "execution_count": 13,
   "id": "363fcf82-8272-42d3-9e25-107fecd626b4",
   "metadata": {},
   "outputs": [
    {
     "name": "stdout",
     "output_type": "stream",
     "text": [
      "Output : 0.008m\n"
     ]
    }
   ],
   "source": [
    "def num_layers(inp):\n",
    "    output = 0.5\n",
    "    for ele in range(inp):\n",
    "        output = output * 2\n",
    "    print(f\"Output : {output/1000}m\")\n",
    "num_layers(4)"
   ]
  },
  {
   "cell_type": "markdown",
   "id": "e9fb6b65-f9c2-4d15-a1e3-5fc971e26568",
   "metadata": {},
   "source": [
    "#### Answer 4. "
   ]
  },
  {
   "cell_type": "code",
   "execution_count": 1,
   "id": "828f362d-f932-4d76-8c16-992c24d4abd5",
   "metadata": {},
   "outputs": [
    {
     "name": "stdin",
     "output_type": "stream",
     "text": [
      "Enter string : eDaBiT\n"
     ]
    },
    {
     "name": "stdout",
     "output_type": "stream",
     "text": [
      "index_of_caps('eDaBiT') -> [1, 3, 5] \n"
     ]
    }
   ],
   "source": [
    "def cap_index():\n",
    "    inp = input(\"Enter string :\")\n",
    "    output = []\n",
    "    for ele in inp:\n",
    "        if ele.isupper():\n",
    "            output.append(inp.index(ele))\n",
    "    print(f\"index_of_caps('{inp}') -> {output} \")\n",
    "cap_index()"
   ]
  },
  {
   "cell_type": "markdown",
   "id": "bbe0618c-3319-4fba-a299-8ce2d090af5e",
   "metadata": {},
   "source": [
    "#### Answer 5. "
   ]
  },
  {
   "cell_type": "code",
   "execution_count": 2,
   "id": "cc9e118d-a3cd-4e12-9278-a15c361a7290",
   "metadata": {},
   "outputs": [
    {
     "name": "stdin",
     "output_type": "stream",
     "text": [
      "Enter value : 8\n"
     ]
    },
    {
     "name": "stdout",
     "output_type": "stream",
     "text": [
      "Output = [2, 4, 6, 8]\n"
     ]
    }
   ],
   "source": [
    "def even_nums():\n",
    "    inp = int(input(\"Enter value :\"))\n",
    "    output = [i for i in range(1,inp+1) if i%2 == 0]\n",
    "    print(f\"Output = {output}\")\n",
    "even_nums()"
   ]
  },
  {
   "cell_type": "code",
   "execution_count": null,
   "id": "a08c139a-ba49-4769-b533-ee2ce0448517",
   "metadata": {},
   "outputs": [],
   "source": []
  }
 ],
 "metadata": {
  "kernelspec": {
   "display_name": "Python 3 (ipykernel)",
   "language": "python",
   "name": "python3"
  },
  "language_info": {
   "codemirror_mode": {
    "name": "ipython",
    "version": 3
   },
   "file_extension": ".py",
   "mimetype": "text/x-python",
   "name": "python",
   "nbconvert_exporter": "python",
   "pygments_lexer": "ipython3",
   "version": "3.9.7"
  }
 },
 "nbformat": 4,
 "nbformat_minor": 5
}

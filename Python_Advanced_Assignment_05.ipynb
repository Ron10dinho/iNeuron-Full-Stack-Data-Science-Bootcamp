{
 "cells": [
  {
   "cell_type": "markdown",
   "id": "18433a17-b981-4095-b5b1-baf5624ded9e",
   "metadata": {},
   "source": [
    "### Q1. What is the meaning of multiple inheritance ?"
   ]
  },
  {
   "cell_type": "markdown",
   "id": "0454ca54-a9c2-40b6-97de-4bf5af3360a6",
   "metadata": {},
   "source": [
    "Inheritance is nothing but reusing the code of Parent Class by the Child Class. Similarly when a child class inherits its properties from multiple Parent classes this scenario is called Multiple Inheritance."
   ]
  },
  {
   "cell_type": "markdown",
   "id": "8dde96b5-76b3-442b-9b19-a00950eeb0fd",
   "metadata": {},
   "source": [
    "### Q2. What is the concept of Delegation ? "
   ]
  },
  {
   "cell_type": "markdown",
   "id": "120a74e9-1677-4ad1-ab0a-3b59e783ab45",
   "metadata": {},
   "source": [
    "Delegation provides a proxy object for any class that you want on top of the main class. It is like a wrapper to your class so that you can access limited resources of the main class.\n",
    "\n",
    "Example :"
   ]
  },
  {
   "cell_type": "code",
   "execution_count": 1,
   "id": "07f5634b-06b8-44cb-bbfa-bc6829203f4c",
   "metadata": {},
   "outputs": [],
   "source": [
    "class myClass:\n",
    "    def sayHi(self):\n",
    "        print(\"Hello\")\n",
    "    def whoAmI(self):\n",
    "        print(\"I am the main class.\")\n",
    "class newClass:\n",
    "    def __init__(self, obj):\n",
    "        self.main = obj\n",
    "    def welcome(self):\n",
    "        self.main.sayHi()"
   ]
  },
  {
   "cell_type": "code",
   "execution_count": 2,
   "id": "11d1e5a6-0733-4c61-91c3-4c3196d6e5a4",
   "metadata": {},
   "outputs": [
    {
     "name": "stdout",
     "output_type": "stream",
     "text": [
      "Hello\n",
      "Hello\n",
      "Hello\n",
      "I am the main class.\n"
     ]
    }
   ],
   "source": [
    "m = myClass()\n",
    "n = newClass(m)\n",
    "m.sayHi()\n",
    "n.main.sayHi()\n",
    "n.welcome()\n",
    "n.main.whoAmI()"
   ]
  },
  {
   "cell_type": "markdown",
   "id": "e33291d4-e9af-457b-b34d-ed94d1163798",
   "metadata": {},
   "source": [
    "### Q3. What is the concept of Composition ? "
   ]
  },
  {
   "cell_type": "markdown",
   "id": "3a930c07-8fc1-4c72-b190-3c0a44da997c",
   "metadata": {},
   "source": [
    "In the concept of composition, it refers to one or more other classes by using instances of those classes as an instance variable. \n",
    "\n",
    "Irrespective of inheritance in this approach all the parent class members are not inherited into child class , but only required methods from a class are used by using class instances."
   ]
  },
  {
   "cell_type": "code",
   "execution_count": 3,
   "id": "a8b32a2b-d5d2-4c9b-b15f-ab1c52728688",
   "metadata": {},
   "outputs": [
    {
     "name": "stdout",
     "output_type": "stream",
     "text": [
      "Total Salary : 9600\n"
     ]
    }
   ],
   "source": [
    "class Salary:\n",
    "    def __init__(self,pay):\n",
    "        self.pay = pay\n",
    "    def get_total(self):\n",
    "        return self.pay*12\n",
    "    \n",
    "class Employee:\n",
    "    def __init__(self,pay,bonus):\n",
    "        self.pay = pay\n",
    "        self.bonus = bonus\n",
    "        self.obj_salary = Salary(self.pay)\n",
    "    def annual_salary(self):\n",
    "        return f'Total Salary : {str(self.obj_salary.get_total())}'\n",
    "\n",
    "obj_emp = Employee(800,500)\n",
    "print(obj_emp.annual_salary())"
   ]
  },
  {
   "cell_type": "markdown",
   "id": "e2a8cc78-fc85-4cb7-a37a-85b7b163872f",
   "metadata": {},
   "source": [
    "###  Q4. What are bound methods and how do we use them?"
   ]
  },
  {
   "cell_type": "markdown",
   "id": "c9c1b784-c3e8-4761-a5b7-462ae09fd02f",
   "metadata": {},
   "source": [
    " If a function is an attribute of class and it is accessed via the instances, they are called bound methods. A bound method is one that has self as its first argument. Since these are dependent on the instance of classes, these are also known as instance methods."
   ]
  },
  {
   "cell_type": "code",
   "execution_count": 4,
   "id": "6533243b-601f-4761-a6d1-05965dbdfb31",
   "metadata": {},
   "outputs": [
    {
     "name": "stdout",
     "output_type": "stream",
     "text": [
      "Called method_one\n",
      "Called method_two\n",
      "Called method_two\n",
      "Called method_three\n"
     ]
    }
   ],
   "source": [
    "class Test:\n",
    "    def method_one(self): # bound method\n",
    "        print(\"Called method_one\")\n",
    "    @classmethod\n",
    "    def method_two(cls): # unbound method\n",
    "        print(\"Called method_two\")\n",
    "    @staticmethod\n",
    "    def method_three(): # static method\n",
    "        print(\"Called method_three\")\n",
    "\n",
    "test = Test()\n",
    "test.method_one() # accessing through instance object\n",
    "test.method_two() # accessing through instance object\n",
    "Test.method_two() # accessing directly through class\n",
    "Test.method_three() # accessing directly through class"
   ]
  },
  {
   "cell_type": "markdown",
   "id": "c3f39cd2-4392-4746-90b3-5e1492408e0a",
   "metadata": {},
   "source": [
    "### Q5. What is the purpose of pseudoprivate attributes? "
   ]
  },
  {
   "cell_type": "markdown",
   "id": "691370e1-642b-4066-b289-26763270fe9f",
   "metadata": {},
   "source": [
    " Pseudoprivate attributes are also useful in larger frameworks or tools, both to avoid introducing new method names that might accidentally hide definitions elsewhere in the class tree and to reduce the chance of internal methods being replaced by names defined lower in the tree. If a method is intended for use only within a class that may be mixed into other classes, the double underscore prefix ensures that the method won't interfere with other names in the tree, especially in multiple-inheritance scenarios\n",
    "\n",
    "Pseudoprivate names also prevent subclasses from accidentally redefining the internal method's names,"
   ]
  },
  {
   "cell_type": "code",
   "execution_count": 5,
   "id": "a97c3d58-a70e-454a-8a12-9e09c6d5007a",
   "metadata": {},
   "outputs": [],
   "source": [
    "class Super:\n",
    "    def method(self): # A real application method\n",
    "        pass\n",
    "class Tool:\n",
    "    def _method(self): # becomes _Tool_method\n",
    "        pass\n",
    "    def other(self): # uses internal method\n",
    "        self._method()\n",
    "class Subl(Tool,Super):\n",
    "    def actions(self):\n",
    "        self.method()\n",
    "class Sub2(Tool):\n",
    "    def __init__(self):\n",
    "        self.method = 99"
   ]
  },
  {
   "cell_type": "code",
   "execution_count": null,
   "id": "7b217e96-dd77-4ae3-a00b-704dc518d079",
   "metadata": {},
   "outputs": [],
   "source": []
  }
 ],
 "metadata": {
  "kernelspec": {
   "display_name": "Python 3 (ipykernel)",
   "language": "python",
   "name": "python3"
  },
  "language_info": {
   "codemirror_mode": {
    "name": "ipython",
    "version": 3
   },
   "file_extension": ".py",
   "mimetype": "text/x-python",
   "name": "python",
   "nbconvert_exporter": "python",
   "pygments_lexer": "ipython3",
   "version": "3.10.9"
  }
 },
 "nbformat": 4,
 "nbformat_minor": 5
}

{
 "cells": [
  {
   "cell_type": "markdown",
   "id": "c85d2686-0c4b-4538-9ad8-416c3dceadeb",
   "metadata": {},
   "source": [
    "### Q1. What is the difference between __getattr__ and __getattribute__?"
   ]
  },
  {
   "cell_type": "markdown",
   "id": "498632cf-cd72-4280-8643-4d9e8ed53c52",
   "metadata": {},
   "source": [
    "The main difference between __getattr__ and __getattribute__ is that if the attribute was not found by the usual way then __getattr__ is used. Whereas the __getattribute__ is used before looking at the actual attributes on the object."
   ]
  },
  {
   "cell_type": "markdown",
   "id": "f6d6b30d-421f-4350-9c85-d9a42b77b6fe",
   "metadata": {},
   "source": [
    "### Q2. What is the difference between properties and descriptors? "
   ]
  },
  {
   "cell_type": "markdown",
   "id": "64f71748-d5d9-429e-b843-831dd35655d1",
   "metadata": {},
   "source": [
    "The differences between Properties and Descriptors is:\n",
    "\n",
    "* Properties : With Properties we can bind getter, setter and delete functions together with an attribute name, using the built-in property function or @property decorator. When we do this, each reference to an attribute looks like simple, direct access, but involes the appropriate function of the object.\n",
    "\n",
    "* Descriptor : With Descriptor we can bind getter, setter and delete functions into a seperate class. we then assign an object of this class to the attribute name in our main class. When we do this, each reference to an attribute looks like simple, direct access but invokes an appropriate function of descriptor object."
   ]
  },
  {
   "cell_type": "markdown",
   "id": "31dbf552-585d-49c4-986c-efc1afafbad4",
   "metadata": {},
   "source": [
    "### Q3. What are the key differences in functionality between getattr and getattribute, as well as properties and descriptors? "
   ]
  },
  {
   "cell_type": "markdown",
   "id": "dba62f6d-799e-4b07-a32f-abf59d3afe2a",
   "metadata": {},
   "source": [
    "The Key Differences between __getattr__, __getattribute__, Properties and Descriptors are:\n",
    "\n",
    "__getattr__: Python will call this method whenever you request an attribute that hasn't already been defined\n",
    "\n",
    "__getattribute__ : This method will invoked before looking at the actual attributes on the object. Means,if we have __getattribute__ method in our class, python invokes this method for every attribute regardless whether it exists or not.\n",
    "\n",
    "Properties: With Properties we can bind getter, setter and delete functions together with an attribute name, using the built-in property function or @property decorator. When we do this, each reference to an attribute looks like simple, direct access, but involes the appropriate function of the object.\n",
    "\n",
    "Descriptor: With Descriptor we can bind getter, setter and delete functions into a seperate class. we then assign an object of this class to the attribute name in our main class. When we do this, each reference to an attribute looks like simple, direct access but invokes an appropriate function of descriptor object."
   ]
  },
  {
   "cell_type": "code",
   "execution_count": null,
   "id": "3b912363-c921-4616-a531-9eb53bac3cca",
   "metadata": {},
   "outputs": [],
   "source": []
  }
 ],
 "metadata": {
  "kernelspec": {
   "display_name": "Python 3 (ipykernel)",
   "language": "python",
   "name": "python3"
  },
  "language_info": {
   "codemirror_mode": {
    "name": "ipython",
    "version": 3
   },
   "file_extension": ".py",
   "mimetype": "text/x-python",
   "name": "python",
   "nbconvert_exporter": "python",
   "pygments_lexer": "ipython3",
   "version": "3.10.9"
  }
 },
 "nbformat": 4,
 "nbformat_minor": 5
}

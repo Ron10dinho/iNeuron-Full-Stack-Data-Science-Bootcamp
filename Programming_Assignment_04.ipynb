{
 "cells": [
  {
   "cell_type": "markdown",
   "id": "a2c112d1-d1de-4cb2-98ab-95cbe388acf8",
   "metadata": {},
   "source": [
    "#### Answer 1"
   ]
  },
  {
   "cell_type": "code",
   "execution_count": 4,
   "id": "957853d5-0942-4f26-bceb-9f40085a20f8",
   "metadata": {},
   "outputs": [
    {
     "name": "stdin",
     "output_type": "stream",
     "text": [
      "Enter number : 4\n"
     ]
    },
    {
     "name": "stdout",
     "output_type": "stream",
     "text": [
      "Factorial =  24\n"
     ]
    }
   ],
   "source": [
    "def factorial():\n",
    "    num = int(input(\"Enter number :\"))\n",
    "    factorial = 1\n",
    "    if num < 0:\n",
    "        print(\"No factorial for negative numbers.\")\n",
    "    elif num == 0:\n",
    "        print(\"Factorial = 1\")\n",
    "    else:\n",
    "        for numbers in range(1,num+1):\n",
    "            factorial *= numbers\n",
    "        print(\"Factorial = \",factorial)\n",
    "factorial()"
   ]
  },
  {
   "cell_type": "markdown",
   "id": "83349080-93e8-43e4-93dc-b34c44a3d028",
   "metadata": {},
   "source": [
    "#### Answer 2"
   ]
  },
  {
   "cell_type": "code",
   "execution_count": 6,
   "id": "6006ddef-9e83-4cf4-8bee-d11e8b0c34ef",
   "metadata": {},
   "outputs": [
    {
     "name": "stdin",
     "output_type": "stream",
     "text": [
      "Enter number : 5\n"
     ]
    },
    {
     "name": "stdout",
     "output_type": "stream",
     "text": [
      "5 * 1 = 5\n",
      "5 * 2 = 10\n",
      "5 * 3 = 15\n",
      "5 * 4 = 20\n",
      "5 * 5 = 25\n",
      "5 * 6 = 30\n",
      "5 * 7 = 35\n",
      "5 * 8 = 40\n",
      "5 * 9 = 45\n",
      "5 * 10 = 50\n"
     ]
    }
   ],
   "source": [
    "def mult_table():\n",
    "    num = int(input(\"Enter number :\"))\n",
    "    if num < 0 :\n",
    "        print(\"Error\")\n",
    "    elif num == 0:\n",
    "        print(\"0\")\n",
    "    else:\n",
    "        for i in range(1,11):\n",
    "            print(f\"{num} * {i} = {num*i}\")\n",
    "mult_table()"
   ]
  },
  {
   "cell_type": "markdown",
   "id": "52d1c5e6-7710-43d6-b2f2-cc871293fc07",
   "metadata": {},
   "source": [
    "#### Answer 3"
   ]
  },
  {
   "cell_type": "code",
   "execution_count": 13,
   "id": "08fa63b6-68a2-433b-9f11-5608ce48b1b1",
   "metadata": {},
   "outputs": [
    {
     "name": "stdin",
     "output_type": "stream",
     "text": [
      "Enter number : 20\n"
     ]
    },
    {
     "name": "stdout",
     "output_type": "stream",
     "text": [
      "Fibonacci sequence:\n",
      "0 1 1 2 3 5 8 13 21 34 55 89 144 233 377 610 987 1597 2584 4181 "
     ]
    }
   ],
   "source": [
    "def print_fib():\n",
    "    num = int(input(\"Enter number :\"))\n",
    "    n1 , n2 = 0 , 1\n",
    "    count = 0\n",
    "    if num <= 0:\n",
    "        print(\"Incorrect.Enter positive number.\")\n",
    "    elif num == 1:\n",
    "        print(\"Fibonacci sequence upto \",num,\":\",n1)\n",
    "    else:\n",
    "        print(\"Fibonacci sequence:\")\n",
    "        while count < num:\n",
    "            print(n1,end=' ')\n",
    "            nth = n1 + n2\n",
    "            n1 = n2\n",
    "            n2 = nth\n",
    "            count += 1\n",
    "print_fib()"
   ]
  },
  {
   "cell_type": "markdown",
   "id": "dd9ccac7-0102-4df6-99fa-0f1a57621230",
   "metadata": {},
   "source": [
    "#### Answer 4"
   ]
  },
  {
   "cell_type": "code",
   "execution_count": 31,
   "id": "f2738d1c-6678-4b3b-b9aa-569f8799e12c",
   "metadata": {},
   "outputs": [
    {
     "name": "stdin",
     "output_type": "stream",
     "text": [
      "Enter number :  1634\n"
     ]
    },
    {
     "name": "stdout",
     "output_type": "stream",
     "text": [
      "1634 is an Armstrong number.\n"
     ]
    }
   ],
   "source": [
    "def check_armstrong():\n",
    "    num = int(input(\"Enter number : \"))\n",
    "    sum = 0\n",
    "    temp = num\n",
    "    while temp > 0:\n",
    "        order = len(str(num))\n",
    "        digit = temp % 10\n",
    "        sum += digit ** order\n",
    "        temp = temp // 10\n",
    "    if num == sum :\n",
    "        print(num,\"is an Armstrong number.\")\n",
    "    else:\n",
    "        print(num,'is not an Armstrong number.')\n",
    "check_armstrong()"
   ]
  },
  {
   "cell_type": "code",
   "execution_count": 21,
   "id": "46038927-87ca-45dc-9829-dd5e5bd65127",
   "metadata": {},
   "outputs": [
    {
     "name": "stdin",
     "output_type": "stream",
     "text": [
      "Enter number :  301\n"
     ]
    },
    {
     "name": "stdout",
     "output_type": "stream",
     "text": [
      "301 is not an Armstrong number.\n"
     ]
    }
   ],
   "source": [
    "check_armstrong()"
   ]
  },
  {
   "cell_type": "markdown",
   "id": "ac3b15e1-201f-43c8-a3b2-eb5aca625488",
   "metadata": {},
   "source": [
    "#### Answer 5"
   ]
  },
  {
   "cell_type": "code",
   "execution_count": 27,
   "id": "fa60059e-d580-4ba6-bb68-a08feca281dd",
   "metadata": {},
   "outputs": [
    {
     "name": "stdin",
     "output_type": "stream",
     "text": [
      "Enter lower range : 100\n",
      "Enter upper range : 2000\n"
     ]
    },
    {
     "name": "stdout",
     "output_type": "stream",
     "text": [
      "153\n",
      "370\n",
      "371\n",
      "407\n",
      "1634\n"
     ]
    }
   ],
   "source": [
    "def check_armstrong_2():\n",
    "    lower_range = int(input(\"Enter lower range :\"))\n",
    "    upper_range = int(input(\"Enter upper range :\"))\n",
    "    for num in range(lower_range,upper_range+1):\n",
    "        order = len(str(num))\n",
    "        sum = 0\n",
    "        temp = num\n",
    "        while temp > 0:\n",
    "            digit = temp%10\n",
    "            sum += digit ** order\n",
    "            temp //= 10\n",
    "        if num == sum:\n",
    "            print(num)\n",
    "check_armstrong_2()"
   ]
  },
  {
   "cell_type": "markdown",
   "id": "e53055d6-f790-4970-905d-432370add5c8",
   "metadata": {},
   "source": [
    "#### Answer 6"
   ]
  },
  {
   "cell_type": "code",
   "execution_count": 37,
   "id": "a87da49c-bb88-4312-a610-c6a8d741feb1",
   "metadata": {},
   "outputs": [
    {
     "name": "stdin",
     "output_type": "stream",
     "text": [
      "Enter number : 10\n"
     ]
    },
    {
     "name": "stdout",
     "output_type": "stream",
     "text": [
      "Total sum : 55\n"
     ]
    }
   ],
   "source": [
    "def sum_num():\n",
    "    num = int(input(\"Enter number :\"))\n",
    "    if num < 0:\n",
    "        print(\"Enter positive number.\")\n",
    "    else:\n",
    "        sum = 0\n",
    "        for numbers in range(1,num+1):\n",
    "            sum += numbers\n",
    "        print(\"Total sum :\",sum)\n",
    "sum_num()"
   ]
  },
  {
   "cell_type": "code",
   "execution_count": null,
   "id": "d2e427ed-6f4d-4580-b143-25e7d9518331",
   "metadata": {},
   "outputs": [],
   "source": []
  }
 ],
 "metadata": {
  "kernelspec": {
   "display_name": "Python 3 (ipykernel)",
   "language": "python",
   "name": "python3"
  },
  "language_info": {
   "codemirror_mode": {
    "name": "ipython",
    "version": 3
   },
   "file_extension": ".py",
   "mimetype": "text/x-python",
   "name": "python",
   "nbconvert_exporter": "python",
   "pygments_lexer": "ipython3",
   "version": "3.9.7"
  }
 },
 "nbformat": 4,
 "nbformat_minor": 5
}

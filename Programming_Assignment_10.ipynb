{
 "cells": [
  {
   "cell_type": "markdown",
   "id": "416b38e1-ec6b-48b7-a8f3-cb65e22f9982",
   "metadata": {},
   "source": [
    "#### 1. Write a Python program to find sum of elements in list ?"
   ]
  },
  {
   "cell_type": "code",
   "execution_count": 4,
   "id": "e42f2b1f-b206-414d-a269-1b7ff46ac0f3",
   "metadata": {},
   "outputs": [
    {
     "name": "stdout",
     "output_type": "stream",
     "text": [
      "Sum of all elements in the list : 135\n"
     ]
    }
   ],
   "source": [
    "def find_sum(lst):\n",
    "    # n = int(input(\"Number of inputs :\"))\n",
    "    # lst = [int(input(\"Enter values\") for x in range(n))]\n",
    "    total = 0\n",
    "    for ele in range(0,len(lst)):\n",
    "        total += lst[ele]\n",
    "    print(\"Sum of all elements in the list :\",total)\n",
    "lst = [23,44,33,24,11]\n",
    "find_sum(lst)"
   ]
  },
  {
   "cell_type": "markdown",
   "id": "fd3f1d22-fa97-4aef-9bd4-10a459c3250a",
   "metadata": {},
   "source": [
    "#### 2. Write a Python program to multiply all elements in the list ? "
   ]
  },
  {
   "cell_type": "code",
   "execution_count": 6,
   "id": "7018befa-0a11-4b81-b520-f76be3f26201",
   "metadata": {},
   "outputs": [
    {
     "name": "stdout",
     "output_type": "stream",
     "text": [
      "Sum of all elements in the list : 8816544\n"
     ]
    }
   ],
   "source": [
    "def find_sum(lst):\n",
    "    # n = int(input(\"Number of inputs :\"))\n",
    "    # lst = [int(input(\"Enter values\") for x in range(n))]\n",
    "    total = 1\n",
    "    for ele in range(0,len(lst)):\n",
    "        total = total * lst[ele]\n",
    "    print(\"Sum of all elements in the list :\",total)\n",
    "lst = [23,44,33,24,11]\n",
    "find_sum(lst)"
   ]
  },
  {
   "cell_type": "markdown",
   "id": "dd843c4c-56c9-4900-982d-8d5647f8b3e5",
   "metadata": {},
   "source": [
    "#### 3. Write a Python Program to find smallest number in a list ? "
   ]
  },
  {
   "cell_type": "code",
   "execution_count": 7,
   "id": "6f2fe048-514e-47db-b89f-ac0b082d4f1e",
   "metadata": {},
   "outputs": [
    {
     "name": "stdout",
     "output_type": "stream",
     "text": [
      "The smallest number in the list : 11\n"
     ]
    }
   ],
   "source": [
    "def smallest(lst):\n",
    "    lst.sort()\n",
    "    print(\"The smallest number in the list :\",lst[0])\n",
    "lst = [23,44,33,24,11]\n",
    "smallest(lst)"
   ]
  },
  {
   "cell_type": "markdown",
   "id": "72decd8e-56e9-4852-9101-8893c1766cc8",
   "metadata": {},
   "source": [
    "#### 4. Write a Python Program to find the largest number in a list ? "
   ]
  },
  {
   "cell_type": "code",
   "execution_count": 8,
   "id": "27f2b239-01da-4c04-a350-4006a06c71b2",
   "metadata": {},
   "outputs": [
    {
     "name": "stdout",
     "output_type": "stream",
     "text": [
      "The largest number in the list : 44\n"
     ]
    }
   ],
   "source": [
    "def largest(lst):\n",
    "    lst.sort()\n",
    "    print(\"The largest number in the list :\",lst[-1])\n",
    "lst = [23,44,33,24,11]\n",
    "largest(lst)"
   ]
  },
  {
   "cell_type": "markdown",
   "id": "6f68cfd4-fc61-444c-ad93-af3a810cfbe0",
   "metadata": {},
   "source": [
    "#### 5. Write a Python program to find the second largest number in a list ? "
   ]
  },
  {
   "cell_type": "code",
   "execution_count": 10,
   "id": "193b77f0-3a0f-4d39-acae-433e22cd2186",
   "metadata": {},
   "outputs": [
    {
     "name": "stdout",
     "output_type": "stream",
     "text": [
      "The second largest number in the list : 33\n"
     ]
    }
   ],
   "source": [
    "def largest_2(lst):\n",
    "    lst.sort()\n",
    "    if len(lst) >= 2:\n",
    "        print(\"The second largest number in the list :\",lst[-2])\n",
    "    else:\n",
    "        print(\"Invalid.\")\n",
    "lst = [23,44,33,24,11]\n",
    "largest_2(lst)"
   ]
  },
  {
   "cell_type": "markdown",
   "id": "6c108043-822f-4727-a251-2bd95fc86f0a",
   "metadata": {},
   "source": [
    "#### 6. Write a Python Program to find N largest elements from a list ? "
   ]
  },
  {
   "cell_type": "code",
   "execution_count": 11,
   "id": "a80f899d-a8a4-463c-8535-fcd032f8cc8d",
   "metadata": {},
   "outputs": [
    {
     "name": "stdout",
     "output_type": "stream",
     "text": [
      "[44, 33, 24]\n"
     ]
    }
   ],
   "source": [
    "def N_max(lst,n):\n",
    "    final_list = []\n",
    "    for i in range(0,n):\n",
    "        max1 = 0\n",
    "        for j in range(len(lst)):\n",
    "            if lst[j] > max1:\n",
    "                max1 = lst[j]\n",
    "        lst.remove(max1)\n",
    "        final_list.append(max1)\n",
    "    print(final_list)\n",
    "lst = [23,44,33,24,11]\n",
    "n = 3\n",
    "N_max(lst,n)"
   ]
  },
  {
   "cell_type": "markdown",
   "id": "83c6cbd7-35f2-4ec9-827a-4e9b7ddf2ebd",
   "metadata": {},
   "source": [
    "#### 7. Write a Python program to print even numbers in a list ?"
   ]
  },
  {
   "cell_type": "code",
   "execution_count": 12,
   "id": "cde95813-03b3-4bbe-adab-fa944ca83836",
   "metadata": {},
   "outputs": [
    {
     "name": "stdout",
     "output_type": "stream",
     "text": [
      "[44, 24]\n"
     ]
    }
   ],
   "source": [
    "def even(lst):\n",
    "    empty_list = []\n",
    "    for numbers in lst:\n",
    "        if numbers % 2 == 0:\n",
    "            empty_list.append(numbers)\n",
    "    print(empty_list)\n",
    "lst = [23,44,33,24,11]\n",
    "even(lst)"
   ]
  },
  {
   "cell_type": "markdown",
   "id": "0c691811-12c7-4fa1-a559-4b50be8e2673",
   "metadata": {},
   "source": [
    "#### 8. Write a Python program to print odd numbers in a list ?"
   ]
  },
  {
   "cell_type": "code",
   "execution_count": 14,
   "id": "5155a30d-bac1-4ab3-bebc-300b84bb4579",
   "metadata": {},
   "outputs": [
    {
     "name": "stdout",
     "output_type": "stream",
     "text": [
      "[23, 33, 11]\n"
     ]
    }
   ],
   "source": [
    "def odd(lst):\n",
    "    empty_list = []\n",
    "    for numbers in lst:\n",
    "        if numbers % 2 != 0:\n",
    "            empty_list.append(numbers)\n",
    "    print(empty_list)\n",
    "lst = [23,44,33,24,11]\n",
    "odd(lst)"
   ]
  },
  {
   "cell_type": "markdown",
   "id": "68210a00-9a4d-4883-855a-5f96cffaa31d",
   "metadata": {},
   "source": [
    "#### 9. Write a Python program to remove empty list from list ? "
   ]
  },
  {
   "cell_type": "code",
   "execution_count": 15,
   "id": "f50d047e-38b4-4ced-b5ab-b46c9f2d550f",
   "metadata": {},
   "outputs": [
    {
     "name": "stdout",
     "output_type": "stream",
     "text": [
      "The original list : [5, 6, [], 3, [], [], 9]\n",
      "List after empty list removal : [5, 6, 3, 9]\n"
     ]
    }
   ],
   "source": [
    "def remove_empty_list(lst):\n",
    "    print(\"The original list :\",lst)\n",
    "    res = [ele for ele in lst if ele != []]\n",
    "    print(\"List after empty list removal :\",res)\n",
    "lst = [5, 6, [], 3, [], [], 9]\n",
    "remove_empty_list(lst)"
   ]
  },
  {
   "cell_type": "markdown",
   "id": "81ef7061-7ddd-4ea9-a902-d861d628bfda",
   "metadata": {},
   "source": [
    "#### 10. Write a Python program for cloning or copying a list ?"
   ]
  },
  {
   "cell_type": "code",
   "execution_count": 18,
   "id": "3ecf92be-76fe-46fa-8136-e35e1ebffa73",
   "metadata": {},
   "outputs": [
    {
     "name": "stdout",
     "output_type": "stream",
     "text": [
      "Original list : [5, 6, 3, 9]\n",
      "Cloned list : [5, 6, 3, 9]\n"
     ]
    }
   ],
   "source": [
    "def cloning(lst):\n",
    "    print(\"Original list :\",lst)\n",
    "    lst_copy = lst[:]\n",
    "    print(\"Cloned list :\" ,lst_copy)\n",
    "lst = [5, 6, 3, 9]\n",
    "cloning(lst)"
   ]
  },
  {
   "cell_type": "markdown",
   "id": "3a50f79f-207b-403d-82c9-40147a4b1579",
   "metadata": {},
   "source": [
    "#### 11. Write a Python program to Count occurences of an element in a list ? "
   ]
  },
  {
   "cell_type": "code",
   "execution_count": 20,
   "id": "a785d2f7-37e5-4710-9478-c883359e7b82",
   "metadata": {},
   "outputs": [
    {
     "name": "stdout",
     "output_type": "stream",
     "text": [
      "8 occurs 5 times in the list ([8, 6, 8, 10, 8, 20, 10, 8, 8])\n"
     ]
    }
   ],
   "source": [
    "def countX(lst,x):\n",
    "    count = 0\n",
    "    for ele in lst:\n",
    "        if(ele == x):\n",
    "            count += 1\n",
    "    print(f\"{x} occurs {count} times in the list ({lst})\")\n",
    "lst = [8, 6, 8, 10, 8, 20, 10, 8, 8]\n",
    "x = 8\n",
    "(countX(lst,x))"
   ]
  },
  {
   "cell_type": "code",
   "execution_count": null,
   "id": "9edac0cc-7856-47f8-b340-f6e770b9f927",
   "metadata": {},
   "outputs": [],
   "source": []
  }
 ],
 "metadata": {
  "kernelspec": {
   "display_name": "Python 3 (ipykernel)",
   "language": "python",
   "name": "python3"
  },
  "language_info": {
   "codemirror_mode": {
    "name": "ipython",
    "version": 3
   },
   "file_extension": ".py",
   "mimetype": "text/x-python",
   "name": "python",
   "nbconvert_exporter": "python",
   "pygments_lexer": "ipython3",
   "version": "3.9.7"
  }
 },
 "nbformat": 4,
 "nbformat_minor": 5
}

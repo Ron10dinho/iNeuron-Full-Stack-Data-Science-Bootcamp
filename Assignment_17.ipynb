{
 "cells": [
  {
   "cell_type": "markdown",
   "id": "0050a8c4-991d-4363-9091-63e6fd95469b",
   "metadata": {},
   "source": [
    "#### Answer 1."
   ]
  },
  {
   "cell_type": "code",
   "execution_count": 2,
   "id": "fa89fadc-ffcb-4dac-8ab0-a587df8ddfbc",
   "metadata": {},
   "outputs": [
    {
     "name": "stdout",
     "output_type": "stream",
     "text": [
      "Too low\n",
      "Just Right \n"
     ]
    }
   ],
   "source": [
    "def guess_me(number):\n",
    "    if number < 7:\n",
    "        print(\"Too low\")\n",
    "    elif number > 7:\n",
    "        print(\"Too high\")\n",
    "    else:\n",
    "        print(\"Just Right \")\n",
    "guess_me(4)\n",
    "guess_me(7)"
   ]
  },
  {
   "cell_type": "markdown",
   "id": "6d47514e-2fec-4ff2-9f4a-434074586724",
   "metadata": {},
   "source": [
    "#### Answer 2"
   ]
  },
  {
   "cell_type": "code",
   "execution_count": 3,
   "id": "86486d56-7fa7-42c7-b882-2d27ca866d3a",
   "metadata": {},
   "outputs": [
    {
     "name": "stdout",
     "output_type": "stream",
     "text": [
      "Too Low.\n",
      "Too Low.\n",
      "Too Low.\n",
      "Too Low.\n",
      "Too Low.\n",
      "Too Low.\n",
      "Found it!\n"
     ]
    }
   ],
   "source": [
    "guess_me = 7\n",
    "start = 1\n",
    "while True:\n",
    "    if start < guess_me:\n",
    "        print(\"Too Low.\")\n",
    "    elif start == guess_me:\n",
    "        print(\"Found it!\")\n",
    "        break\n",
    "    else:\n",
    "        print(\"oops\")\n",
    "        break\n",
    "    start += 1"
   ]
  },
  {
   "cell_type": "markdown",
   "id": "d63730f0-ee73-47b3-af01-b1d65de9c8a4",
   "metadata": {},
   "source": [
    "#### Answer 3"
   ]
  },
  {
   "cell_type": "code",
   "execution_count": 4,
   "id": "cfd40d50-2821-4284-979a-275d7b7b9794",
   "metadata": {},
   "outputs": [
    {
     "name": "stdout",
     "output_type": "stream",
     "text": [
      "3 2 1 0 "
     ]
    }
   ],
   "source": [
    "lst = [3,2,1,0]\n",
    "for ele in lst:\n",
    "    print(ele,end=' ')"
   ]
  },
  {
   "cell_type": "markdown",
   "id": "62e85668-4835-4182-adab-e6c86e2e7635",
   "metadata": {},
   "source": [
    "#### Answer 4"
   ]
  },
  {
   "cell_type": "code",
   "execution_count": 6,
   "id": "17d7b655-d056-423d-ac31-085ef4509f97",
   "metadata": {},
   "outputs": [
    {
     "name": "stdout",
     "output_type": "stream",
     "text": [
      "[0, 2, 4, 6, 8, 10]\n"
     ]
    }
   ],
   "source": [
    "print([x for x in range(11) if x%2 == 0])"
   ]
  },
  {
   "cell_type": "markdown",
   "id": "b2e029bf-f1ca-460b-bfe6-95f47079a8ac",
   "metadata": {},
   "source": [
    "#### Answer 5"
   ]
  },
  {
   "cell_type": "code",
   "execution_count": 7,
   "id": "a9bba08f-ddc3-4cf4-a579-dab7bdde590c",
   "metadata": {},
   "outputs": [
    {
     "name": "stdout",
     "output_type": "stream",
     "text": [
      "{0: 0, 1: 1, 2: 4, 3: 9, 4: 16, 5: 25, 6: 36, 7: 49, 8: 64, 9: 81}\n"
     ]
    }
   ],
   "source": [
    "print({x:x**2 for x in range(10)})"
   ]
  },
  {
   "cell_type": "markdown",
   "id": "c9d6864a-0e97-437e-a427-cbf7fe0c37ca",
   "metadata": {},
   "source": [
    "#### Answer 6"
   ]
  },
  {
   "cell_type": "code",
   "execution_count": 9,
   "id": "c6f53772-25a2-4bc6-8477-f7a87955c2fa",
   "metadata": {},
   "outputs": [
    {
     "name": "stdout",
     "output_type": "stream",
     "text": [
      "{1, 3, 5, 7, 9}\n"
     ]
    }
   ],
   "source": [
    "print({x for x in range(10) if x%2 != 0})"
   ]
  },
  {
   "cell_type": "markdown",
   "id": "2b916b3c-5cd9-498a-92c2-357b16a47948",
   "metadata": {},
   "source": [
    "#### Answer 7"
   ]
  },
  {
   "cell_type": "code",
   "execution_count": 11,
   "id": "c201b387-758c-4cb9-aecb-151d1f43dd4c",
   "metadata": {},
   "outputs": [
    {
     "name": "stdout",
     "output_type": "stream",
     "text": [
      "Got 0 Got 1 Got 2 Got 3 Got 4 Got 5 Got 6 Got 7 Got 8 Got 9 "
     ]
    }
   ],
   "source": [
    "generator = ('Got '+str(x) for x in range(10))\n",
    "for ele in generator:\n",
    "    print(ele,end=' ')"
   ]
  },
  {
   "cell_type": "markdown",
   "id": "d4b4165d-2819-4331-8aee-688f36d3e36e",
   "metadata": {},
   "source": [
    "#### Answer 8"
   ]
  },
  {
   "cell_type": "code",
   "execution_count": 12,
   "id": "4c9470d7-2634-439b-85f5-d16136e9d28b",
   "metadata": {},
   "outputs": [
    {
     "name": "stdout",
     "output_type": "stream",
     "text": [
      "['Harry', 'Ron', 'Hermione']\n"
     ]
    }
   ],
   "source": [
    "def good():\n",
    "    x = ['Harry','Ron','Hermione']\n",
    "    return x\n",
    "print(good())"
   ]
  },
  {
   "cell_type": "markdown",
   "id": "d7567283-e307-4ffe-b4d2-1f116ce58914",
   "metadata": {},
   "source": [
    "#### Answer 9"
   ]
  },
  {
   "cell_type": "code",
   "execution_count": 14,
   "id": "b5635aeb-b85f-4532-b953-abc99859d1d3",
   "metadata": {},
   "outputs": [
    {
     "data": {
      "text/plain": [
       "5"
      ]
     },
     "execution_count": 14,
     "metadata": {},
     "output_type": "execute_result"
    }
   ],
   "source": [
    "def get_odds():\n",
    "    empty = []\n",
    "    for ele in range(10):\n",
    "        if ele%2 != 0:\n",
    "            empty.append(ele)\n",
    "    yield empty\n",
    "next(get_odds())[2]"
   ]
  },
  {
   "cell_type": "markdown",
   "id": "819783cc-427c-49dd-aed5-114e259b5354",
   "metadata": {},
   "source": [
    "#### Answer 10"
   ]
  },
  {
   "cell_type": "code",
   "execution_count": 17,
   "id": "4ea66ee6-f2f0-45ca-9dfa-afa65dd0ad59",
   "metadata": {},
   "outputs": [
    {
     "name": "stdout",
     "output_type": "stream",
     "text": [
      "Caught in oops -> name 'a' is not defined\n"
     ]
    }
   ],
   "source": [
    "class OopsException(Exception):\n",
    "    pass\n",
    "def test(input):\n",
    "    if input < 0:\n",
    "        raise OopsException(a)\n",
    "try:\n",
    "    test(-100)\n",
    "except Exception as e:\n",
    "    print(\"Caught in oops ->\",e)"
   ]
  },
  {
   "cell_type": "markdown",
   "id": "a7ba633c-20d5-4aba-a14f-632136dbf4b0",
   "metadata": {},
   "source": [
    "#### Answer 11"
   ]
  },
  {
   "cell_type": "code",
   "execution_count": 19,
   "id": "9f2a4f0b-d3b0-43c1-8586-a810f9cd4b3b",
   "metadata": {},
   "outputs": [
    {
     "name": "stdout",
     "output_type": "stream",
     "text": [
      "{'Creature of Habit': 'A nun turns into a monster', 'Crewel Fate': 'A haunted yarn shop'}\n"
     ]
    }
   ],
   "source": [
    "titles = ['Creature of Habit','Crewel Fate']\n",
    "plot = ['A nun turns into a monster','A haunted yarn shop']\n",
    "output = dict(zip(titles,plot))\n",
    "print(output)"
   ]
  },
  {
   "cell_type": "code",
   "execution_count": null,
   "id": "c0567efc-ea6a-42ef-b9f3-816a81acfdc9",
   "metadata": {},
   "outputs": [],
   "source": []
  }
 ],
 "metadata": {
  "kernelspec": {
   "display_name": "Python 3 (ipykernel)",
   "language": "python",
   "name": "python3"
  },
  "language_info": {
   "codemirror_mode": {
    "name": "ipython",
    "version": 3
   },
   "file_extension": ".py",
   "mimetype": "text/x-python",
   "name": "python",
   "nbconvert_exporter": "python",
   "pygments_lexer": "ipython3",
   "version": "3.9.7"
  }
 },
 "nbformat": 4,
 "nbformat_minor": 5
}

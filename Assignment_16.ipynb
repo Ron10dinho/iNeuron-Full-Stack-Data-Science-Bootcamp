{
 "cells": [
  {
   "cell_type": "markdown",
   "id": "95c0b15e-465a-4b27-a404-e92b4ca59c6e",
   "metadata": {},
   "source": [
    "#### Answer 1."
   ]
  },
  {
   "cell_type": "code",
   "execution_count": 3,
   "id": "59daf35b-ae05-4d51-b641-72d66396a0dc",
   "metadata": {},
   "outputs": [
    {
     "name": "stdout",
     "output_type": "stream",
     "text": [
      "[1998, 1999, 2000, 2001, 2002, 2003]\n"
     ]
    }
   ],
   "source": [
    "years_list = [ele for ele in range(1998,2004)]\n",
    "print(years_list)"
   ]
  },
  {
   "cell_type": "markdown",
   "id": "dad1a233-a5dd-4c2a-903a-f709e169753b",
   "metadata": {},
   "source": [
    "#### Answer 2"
   ]
  },
  {
   "cell_type": "code",
   "execution_count": 4,
   "id": "b8aee9a6-a3c1-4959-811c-1ebe81d18fe2",
   "metadata": {},
   "outputs": [
    {
     "name": "stdout",
     "output_type": "stream",
     "text": [
      "2001\n"
     ]
    }
   ],
   "source": [
    "print(years_list[3])"
   ]
  },
  {
   "cell_type": "markdown",
   "id": "945707d0-4525-4334-b263-7cd57af127e1",
   "metadata": {},
   "source": [
    "#### Answer 3"
   ]
  },
  {
   "cell_type": "code",
   "execution_count": 5,
   "id": "c8b9471c-eb5a-4b6d-92de-98fb6735c1ae",
   "metadata": {},
   "outputs": [
    {
     "name": "stdout",
     "output_type": "stream",
     "text": [
      "2003\n"
     ]
    }
   ],
   "source": [
    "print(years_list[-1])"
   ]
  },
  {
   "cell_type": "markdown",
   "id": "9c79bed1-6029-4411-b751-e359026842b9",
   "metadata": {},
   "source": [
    "#### Answer 4"
   ]
  },
  {
   "cell_type": "code",
   "execution_count": 6,
   "id": "eda6f93b-4445-4c75-9120-2f275fd6ed6f",
   "metadata": {},
   "outputs": [
    {
     "name": "stdout",
     "output_type": "stream",
     "text": [
      "['mozzarella', 'cinderella', 'salmonella']\n"
     ]
    }
   ],
   "source": [
    "things = [ele+'ella' for ele in ['mozzar','cinder','salmon']]\n",
    "print(things)"
   ]
  },
  {
   "cell_type": "markdown",
   "id": "941e39cb-7eaa-4b2b-a317-f935d6f0f993",
   "metadata": {},
   "source": [
    "#### Answer 5"
   ]
  },
  {
   "cell_type": "code",
   "execution_count": 10,
   "id": "ca7ca93a-42d7-46db-8690-deca7977f430",
   "metadata": {},
   "outputs": [
    {
     "name": "stdout",
     "output_type": "stream",
     "text": [
      "['mozzarella', 'cinderella', 'salmonella']\n"
     ]
    }
   ],
   "source": [
    "for ele in range(len(things)):\n",
    "    if things[ele] == 'cinderella':\n",
    "        things[ele] == things[ele].capitalize()\n",
    "print(things)"
   ]
  },
  {
   "cell_type": "markdown",
   "id": "f7a78c25-16cd-4a03-9349-ddb61b985691",
   "metadata": {},
   "source": [
    "#### Answer 6"
   ]
  },
  {
   "cell_type": "code",
   "execution_count": 11,
   "id": "ccc2cce3-9150-4ece-a0de-7207c0b633fc",
   "metadata": {},
   "outputs": [
    {
     "name": "stdout",
     "output_type": "stream",
     "text": [
      "['Groucho', 'Chico', 'Harpo']\n"
     ]
    }
   ],
   "source": [
    "surprise_list = ['Groucho','Chico','Harpo']\n",
    "print(surprise_list)"
   ]
  },
  {
   "cell_type": "markdown",
   "id": "b3eed667-87e2-4657-aebc-17fb14c6d23d",
   "metadata": {},
   "source": [
    "#### Answer 7"
   ]
  },
  {
   "cell_type": "code",
   "execution_count": 12,
   "id": "c6aebb52-669d-4b7a-a2be-d6b4649cfbde",
   "metadata": {},
   "outputs": [
    {
     "name": "stdout",
     "output_type": "stream",
     "text": [
      "Oprah\n"
     ]
    }
   ],
   "source": [
    "print(surprise_list[-1].lower()[::-1].capitalize())"
   ]
  },
  {
   "cell_type": "markdown",
   "id": "143ff8da-1982-4f03-8e1f-88b087c6812c",
   "metadata": {},
   "source": [
    "#### Answer 8"
   ]
  },
  {
   "cell_type": "code",
   "execution_count": 14,
   "id": "8e202b61-8554-42a6-ac4d-7527e69ff7e4",
   "metadata": {},
   "outputs": [
    {
     "name": "stdout",
     "output_type": "stream",
     "text": [
      "{'dog': 'chien', 'cat': 'chat', 'walrus': 'morse'}\n"
     ]
    }
   ],
   "source": [
    "e2f = {'dog':'chien','cat':'chat','walrus':'morse'}\n",
    "print(e2f)"
   ]
  },
  {
   "cell_type": "markdown",
   "id": "554ef194-3758-449d-a945-075a464b7b1c",
   "metadata": {},
   "source": [
    "#### Answer 9"
   ]
  },
  {
   "cell_type": "code",
   "execution_count": 15,
   "id": "91803b84-2e2f-49da-b77e-ac1d24d34847",
   "metadata": {},
   "outputs": [
    {
     "name": "stdout",
     "output_type": "stream",
     "text": [
      "morse\n"
     ]
    }
   ],
   "source": [
    "print(e2f.get('walrus'))"
   ]
  },
  {
   "cell_type": "markdown",
   "id": "bb6a9ad1-df9b-443e-8f40-4437da97f775",
   "metadata": {},
   "source": [
    "#### Answer 10"
   ]
  },
  {
   "cell_type": "code",
   "execution_count": 17,
   "id": "16d07218-09eb-422a-8279-b76c67de55c0",
   "metadata": {},
   "outputs": [
    {
     "name": "stdout",
     "output_type": "stream",
     "text": [
      "{'chien': 'dog', 'chat': 'cat', 'morse': 'walrus'}\n"
     ]
    }
   ],
   "source": [
    "f2e = dict([ele[::-1] for ele in e2f.items()])\n",
    "print(f2e)"
   ]
  },
  {
   "cell_type": "markdown",
   "id": "e97d2127-44d0-41d9-ad87-ac29bc078156",
   "metadata": {},
   "source": [
    "#### Answer 11"
   ]
  },
  {
   "cell_type": "code",
   "execution_count": 18,
   "id": "90d12803-0f58-4d40-8d92-62e8d9bd1160",
   "metadata": {},
   "outputs": [
    {
     "name": "stdout",
     "output_type": "stream",
     "text": [
      "dog\n"
     ]
    }
   ],
   "source": [
    "print(f2e.get('chien'))"
   ]
  },
  {
   "cell_type": "markdown",
   "id": "e20dee91-1c67-49ec-8e1c-bd9b5a5d3aae",
   "metadata": {},
   "source": [
    "#### Answer 12"
   ]
  },
  {
   "cell_type": "code",
   "execution_count": 19,
   "id": "0ea5c424-493e-4968-84a1-e6e1bb6a0458",
   "metadata": {},
   "outputs": [
    {
     "name": "stdout",
     "output_type": "stream",
     "text": [
      "['dog', 'cat', 'walrus']\n"
     ]
    }
   ],
   "source": [
    "print(list(e2f.keys()))"
   ]
  },
  {
   "cell_type": "markdown",
   "id": "a34e1172-fd10-48e0-a1a3-4f175f4e3552",
   "metadata": {},
   "source": [
    "#### Answer 13"
   ]
  },
  {
   "cell_type": "code",
   "execution_count": 20,
   "id": "715a1f06-735e-42a2-b480-8db1f02ec2d1",
   "metadata": {},
   "outputs": [
    {
     "name": "stdout",
     "output_type": "stream",
     "text": [
      "{'animals': {'cats': ['Henri', 'Grumpy', 'Lucy'], 'octopi': {}, 'emus': {}}, 'plants': {}, 'other': {}}\n"
     ]
    }
   ],
   "source": [
    "life = {\n",
    "    'animals':{\n",
    "        'cats':['Henri','Grumpy','Lucy'],\n",
    "        'octopi':{},\n",
    "        'emus':{}\n",
    "    },\n",
    "    'plants':{},\n",
    "    'other':{}\n",
    "}\n",
    "print(life)"
   ]
  },
  {
   "cell_type": "markdown",
   "id": "50741996-c678-434b-adc0-1a56bb267e17",
   "metadata": {},
   "source": [
    "#### Answer 14"
   ]
  },
  {
   "cell_type": "code",
   "execution_count": 21,
   "id": "61fc4adc-d9f1-4139-aa57-5ef2b9dfbd2e",
   "metadata": {},
   "outputs": [
    {
     "name": "stdout",
     "output_type": "stream",
     "text": [
      "['animals', 'plants', 'other']\n"
     ]
    }
   ],
   "source": [
    "print(list(life.keys()))"
   ]
  },
  {
   "cell_type": "markdown",
   "id": "9e773482-ab03-444b-91e9-b77d41b671b8",
   "metadata": {},
   "source": [
    "#### Answer 15"
   ]
  },
  {
   "cell_type": "code",
   "execution_count": 23,
   "id": "d68311d7-4a80-4cf8-a359-0fcf7f1a44c6",
   "metadata": {},
   "outputs": [
    {
     "name": "stdout",
     "output_type": "stream",
     "text": [
      "['cats', 'octopi', 'emus']\n"
     ]
    }
   ],
   "source": [
    "print(list(life['animals'].keys()))"
   ]
  },
  {
   "cell_type": "markdown",
   "id": "8b04332e-2d8e-4b5c-b912-14ceb984b195",
   "metadata": {},
   "source": [
    "#### Answer 16"
   ]
  },
  {
   "cell_type": "code",
   "execution_count": 24,
   "id": "31353b3d-18a8-4241-9332-c96f67755236",
   "metadata": {},
   "outputs": [
    {
     "name": "stdout",
     "output_type": "stream",
     "text": [
      "['Henri', 'Grumpy', 'Lucy']\n"
     ]
    }
   ],
   "source": [
    "print(life['animals']['cats'])"
   ]
  },
  {
   "cell_type": "code",
   "execution_count": null,
   "id": "e89cef4d-deb4-4af0-8edd-3fa69a00469d",
   "metadata": {},
   "outputs": [],
   "source": []
  }
 ],
 "metadata": {
  "kernelspec": {
   "display_name": "Python 3 (ipykernel)",
   "language": "python",
   "name": "python3"
  },
  "language_info": {
   "codemirror_mode": {
    "name": "ipython",
    "version": 3
   },
   "file_extension": ".py",
   "mimetype": "text/x-python",
   "name": "python",
   "nbconvert_exporter": "python",
   "pygments_lexer": "ipython3",
   "version": "3.9.7"
  }
 },
 "nbformat": 4,
 "nbformat_minor": 5
}

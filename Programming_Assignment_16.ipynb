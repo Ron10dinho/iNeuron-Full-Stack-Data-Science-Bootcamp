{
 "cells": [
  {
   "cell_type": "markdown",
   "id": "19e7468c-55f4-46e4-9b3a-ccaf463f0cff",
   "metadata": {},
   "source": [
    "#### Answer 1."
   ]
  },
  {
   "cell_type": "code",
   "execution_count": 4,
   "id": "b3f6c288-3c0b-4ffc-b676-8d21201c9739",
   "metadata": {},
   "outputs": [
    {
     "name": "stdin",
     "output_type": "stream",
     "text": [
      "Enter a word : incredible\n"
     ]
    },
    {
     "name": "stdout",
     "output_type": "stream",
     "text": [
      "incredible -> in... in... incredible?\n"
     ]
    }
   ],
   "source": [
    "def stutters():\n",
    "    inp = input(\"Enter a word :\")\n",
    "    # out_string = in_string.replace(in_string[0:2],((in_string[0:2]+'... ')*2)+ in_string[0:2])  +'?'\n",
    "    out_string = inp[:2] + \"... \" + inp[:2] + \"... \"+inp+\"?\"\n",
    "    print(f\"{inp} -> {out_string}\")\n",
    "stutters()"
   ]
  },
  {
   "cell_type": "markdown",
   "id": "a9a1a8d0-6324-4a22-8b20-ba4cb017d960",
   "metadata": {},
   "source": [
    "#### Answer 2."
   ]
  },
  {
   "cell_type": "code",
   "execution_count": 13,
   "id": "73c4edab-924c-4e40-a591-ca316de1cb0b",
   "metadata": {},
   "outputs": [
    {
     "name": "stdin",
     "output_type": "stream",
     "text": [
      "Enter angle in Radians : 1\n"
     ]
    },
    {
     "name": "stdout",
     "output_type": "stream",
     "text": [
      "1 radian(s) -> 57.30 degrees.\n"
     ]
    }
   ],
   "source": [
    "import math\n",
    "def radian():\n",
    "    inp = int(input(\"Enter angle in Radians :\"))\n",
    "    output = (180/math.pi)*inp\n",
    "    print(f\"{inp} radian(s) -> {output:.2f} degrees.\")\n",
    "radian()"
   ]
  },
  {
   "cell_type": "markdown",
   "id": "57ca884a-0455-4284-ad76-bda0dc8f55f9",
   "metadata": {},
   "source": [
    "#### Answer 3."
   ]
  },
  {
   "cell_type": "code",
   "execution_count": 14,
   "id": "274c4525-2058-4334-8ab1-5d0f6e45264c",
   "metadata": {},
   "outputs": [
    {
     "name": "stdin",
     "output_type": "stream",
     "text": [
      "Enter number : 1025\n"
     ]
    },
    {
     "name": "stdout",
     "output_type": "stream",
     "text": [
      "1025 is not a Curzon Number.\n"
     ]
    }
   ],
   "source": [
    "def curzon():\n",
    "    inp = int(input(\"Enter number :\"))\n",
    "    if (pow(2,inp)+1)%((2*inp)+1) == 0:\n",
    "        print(f\"{inp} is a Curzon Number.\")\n",
    "    else:\n",
    "        print(f\"{inp} is not a Curzon Number.\")\n",
    "curzon()"
   ]
  },
  {
   "cell_type": "code",
   "execution_count": 15,
   "id": "57bb6673-f0ee-42cd-bb14-963aa9197446",
   "metadata": {},
   "outputs": [
    {
     "name": "stdin",
     "output_type": "stream",
     "text": [
      "Enter number : 5\n"
     ]
    },
    {
     "name": "stdout",
     "output_type": "stream",
     "text": [
      "5 is a Curzon Number.\n"
     ]
    }
   ],
   "source": [
    "curzon()"
   ]
  },
  {
   "cell_type": "markdown",
   "id": "c5e5ded7-6623-4c30-b0b3-b892c8d6b714",
   "metadata": {},
   "source": [
    "#### Answer 4."
   ]
  },
  {
   "cell_type": "code",
   "execution_count": 17,
   "id": "444be749-1a1d-4441-9904-65a439ebc9ce",
   "metadata": {},
   "outputs": [
    {
     "name": "stdin",
     "output_type": "stream",
     "text": [
      "Enter the side length of Hexagon : 2\n"
     ]
    },
    {
     "name": "stdout",
     "output_type": "stream",
     "text": [
      "Area of Hexagon : 10.39.\n"
     ]
    }
   ],
   "source": [
    "import math\n",
    "def area_Hexagon():\n",
    "    inp = int(input(\"Enter the side length of Hexagon :\"))\n",
    "    output = ((3*math.sqrt(3))/2)*(pow(inp,2))\n",
    "    print(f\"Area of Hexagon : {output:.2f}.\")\n",
    "area_Hexagon()"
   ]
  },
  {
   "cell_type": "markdown",
   "id": "70a0e0aa-93fd-4d11-9535-7f218d1af2cc",
   "metadata": {},
   "source": [
    "#### Answer 5."
   ]
  },
  {
   "cell_type": "code",
   "execution_count": 19,
   "id": "c53047b0-4a93-45f1-adf7-87d3e334dfab",
   "metadata": {},
   "outputs": [
    {
     "name": "stdin",
     "output_type": "stream",
     "text": [
      "Enter value : 5\n"
     ]
    },
    {
     "name": "stdout",
     "output_type": "stream",
     "text": [
      "Binary of 5 is 101.\n"
     ]
    }
   ],
   "source": [
    "def Binary():\n",
    "    inp = int(input(\"Enter value :\"))\n",
    "    output = bin(inp).replace('0b','')\n",
    "    print(f\"Binary of {inp} is {output}.\")\n",
    "Binary()"
   ]
  },
  {
   "cell_type": "code",
   "execution_count": null,
   "id": "6ec253e7-bff8-4a75-afab-b778a8b2064d",
   "metadata": {},
   "outputs": [],
   "source": []
  }
 ],
 "metadata": {
  "kernelspec": {
   "display_name": "Python 3 (ipykernel)",
   "language": "python",
   "name": "python3"
  },
  "language_info": {
   "codemirror_mode": {
    "name": "ipython",
    "version": 3
   },
   "file_extension": ".py",
   "mimetype": "text/x-python",
   "name": "python",
   "nbconvert_exporter": "python",
   "pygments_lexer": "ipython3",
   "version": "3.9.7"
  }
 },
 "nbformat": 4,
 "nbformat_minor": 5
}

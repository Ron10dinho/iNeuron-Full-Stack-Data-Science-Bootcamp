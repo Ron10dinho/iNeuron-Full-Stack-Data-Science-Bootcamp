{
 "cells": [
  {
   "cell_type": "markdown",
   "id": "19580565-7d78-4063-a3c1-5452da7fafcd",
   "metadata": {},
   "source": [
    "#### Answer 1"
   ]
  },
  {
   "cell_type": "markdown",
   "id": "0497b4fa-dba8-4d93-935e-bff566147991",
   "metadata": {},
   "source": [
    "PyInputPlus is not a part of the Python standard library . "
   ]
  },
  {
   "cell_type": "markdown",
   "id": "3f93246c-dfa3-489a-bd3a-cf486dac1788",
   "metadata": {},
   "source": [
    "#### Answer 2"
   ]
  },
  {
   "cell_type": "markdown",
   "id": "f39a778b-9bd0-4241-a646-2fa3bbb58f30",
   "metadata": {},
   "source": [
    "For ease of usage , while calling out the function , we can enter a shorter name ."
   ]
  },
  {
   "cell_type": "markdown",
   "id": "de2c431a-7200-4efb-8a49-acc9b1a0c027",
   "metadata": {},
   "source": [
    "#### Answer 3"
   ]
  },
  {
   "cell_type": "markdown",
   "id": "8ad2185c-ddd0-4bca-90bf-8fb1f8c4fe25",
   "metadata": {},
   "source": [
    "inputInt() = Accepts integer value and also takes additional parameters like min , max , greaterThan and lessThan for bounds . \n",
    "\n",
    "inputFloat() - Accepts floating point value and also takes additional parameters like min , max , greaterThan and lessThan ."
   ]
  },
  {
   "cell_type": "markdown",
   "id": "64027a14-5d12-4235-a724-e0649d1da127",
   "metadata": {},
   "source": [
    "#### Answer 4"
   ]
  },
  {
   "cell_type": "markdown",
   "id": "07e3336c-5616-4c48-90cb-28abc1db4656",
   "metadata": {},
   "source": [
    "import pyinputplus as pyip\n",
    "\n",
    "wholenumber = pyip.inputInt(prompt='Enter a number: ',min=0,max=100)\n",
    "\n",
    "print(wholenumber)"
   ]
  },
  {
   "cell_type": "markdown",
   "id": "a88cc7f7-ac0f-4c4f-bca9-8a276fab02f6",
   "metadata": {},
   "source": [
    "#### Answer 5"
   ]
  },
  {
   "cell_type": "markdown",
   "id": "49e50b2d-4a6f-4d11-9b15-9298a2c9cd1a",
   "metadata": {},
   "source": [
    "allowRegexes and blockRegexes keyword arguments to take list of regular expression strings to determine what the pyinputplus function will reject or accept valid input . "
   ]
  },
  {
   "cell_type": "markdown",
   "id": "ff607f3e-c5f6-4cde-b1f5-a03d68a6ac53",
   "metadata": {},
   "source": [
    "#### Answer 6"
   ]
  },
  {
   "cell_type": "markdown",
   "id": "033adfec-95c6-471a-843c-6bf67e3d0447",
   "metadata": {},
   "source": [
    "It will show 2 exceptions : \n",
    "\n",
    "    - ValidationException : Blank values are not allowed by inputStr() function by default .  \n",
    "    - RetryLimitException : Because we have reached max limit and we have specified when using the limit parameter . "
   ]
  },
  {
   "cell_type": "markdown",
   "id": "88a76cd8-3348-4049-b282-d6df1fa20723",
   "metadata": {},
   "source": [
    "#### Answer 7"
   ]
  },
  {
   "cell_type": "markdown",
   "id": "a27ff753-1f56-485e-ba86-9d5a1eef86a1",
   "metadata": {},
   "source": [
    "As the default parameter is set to \"hello\" , instead of showing the RetryLimitException exception , the function will return \"hello\" as response to the calling function . "
   ]
  },
  {
   "cell_type": "code",
   "execution_count": null,
   "id": "95ac8ff3-6bf0-4118-8682-4171fcde9ff3",
   "metadata": {},
   "outputs": [],
   "source": []
  }
 ],
 "metadata": {
  "kernelspec": {
   "display_name": "Python 3 (ipykernel)",
   "language": "python",
   "name": "python3"
  },
  "language_info": {
   "codemirror_mode": {
    "name": "ipython",
    "version": 3
   },
   "file_extension": ".py",
   "mimetype": "text/x-python",
   "name": "python",
   "nbconvert_exporter": "python",
   "pygments_lexer": "ipython3",
   "version": "3.9.7"
  }
 },
 "nbformat": 4,
 "nbformat_minor": 5
}

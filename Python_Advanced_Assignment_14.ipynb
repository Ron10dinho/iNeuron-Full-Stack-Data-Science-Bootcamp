{
 "cells": [
  {
   "cell_type": "markdown",
   "id": "be4452d7-93a8-477a-ad2a-eaf527d35f01",
   "metadata": {},
   "source": [
    "### Q1. Is an assignment operator like += only for show? Is it possible that it would lead to faster results at the runtime ? "
   ]
  },
  {
   "cell_type": "markdown",
   "id": "877b2a26-bb20-4f8e-b1ab-79aeb5eeccd4",
   "metadata": {},
   "source": [
    " A=A+1 evaluates to finding A, adding 1 to it. Then storing the value again in variable A. This expression makes Python to look for memory holder of a twice. But A+=1 simply means value of A is to incremented by 1. As memory address has to be identified once, += leads to faster operation."
   ]
  },
  {
   "cell_type": "markdown",
   "id": "43457c61-4945-4b2e-b319-6bafd7e9e4d9",
   "metadata": {},
   "source": [
    "### Q2. What is the smallest no of statements you'd have to write in most programming languages to replace the Python expr a, b = a + b, a ? "
   ]
  },
  {
   "cell_type": "markdown",
   "id": "bb169161-2548-4b78-a3bd-c3143deea841",
   "metadata": {},
   "source": [
    "Minimum number of lines required to write above code in languages other Python will be 4, two for assigning initial values for variables a and b, and two for reassignment i.e. a=a+b and b=a"
   ]
  },
  {
   "cell_type": "markdown",
   "id": "154f8554-01cd-44be-a316-064fa857d6dd",
   "metadata": {},
   "source": [
    "###  Q3. In Python, what is the most effective way to set a list of 100 integers to 0?"
   ]
  },
  {
   "cell_type": "markdown",
   "id": "52222174-fb3d-48de-9c82-da696638fbaf",
   "metadata": {},
   "source": [
    " The Most effective way to set a list of 100 integers to 0 in python is by using repition operator(*) or by using list comprehension."
   ]
  },
  {
   "cell_type": "code",
   "execution_count": 4,
   "id": "345c49e1-8aed-4d8f-b73e-a973a2f11d90",
   "metadata": {},
   "outputs": [
    {
     "name": "stdout",
     "output_type": "stream",
     "text": [
      "[0, 0, 0, 0, 0, 0, 0, 0, 0, 0, 0, 0, 0, 0, 0, 0, 0, 0, 0, 0, 0, 0, 0, 0, 0, 0, 0, 0, 0, 0, 0, 0, 0, 0, 0, 0, 0, 0, 0, 0, 0, 0, 0, 0, 0, 0, 0, 0, 0, 0, 0, 0, 0, 0, 0, 0, 0, 0, 0, 0, 0, 0, 0, 0, 0, 0, 0, 0, 0, 0, 0, 0, 0, 0, 0, 0, 0, 0, 0, 0, 0, 0, 0, 0, 0, 0, 0, 0, 0, 0, 0, 0, 0, 0, 0, 0, 0, 0, 0, 0, 0]\n"
     ]
    }
   ],
   "source": [
    "lst = [0 for i in range(101)]\n",
    "\n",
    "print(lst)"
   ]
  },
  {
   "cell_type": "markdown",
   "id": "7f6336ce-b877-4358-a866-a340668a515a",
   "metadata": {},
   "source": [
    "### Q4. What is the most effective way to initialise a list of 99 integers that repeats the sequence 1, 2, 3? S If necessary, show step-by-step instructions on how to accomplish this. "
   ]
  },
  {
   "cell_type": "code",
   "execution_count": 5,
   "id": "ac41b2b6-0919-423e-93bf-a148d8b262ee",
   "metadata": {},
   "outputs": [
    {
     "name": "stdout",
     "output_type": "stream",
     "text": [
      "[1, 2, 3, 1, 2, 3, 1, 2, 3, 1, 2, 3, 1, 2, 3, 1, 2, 3, 1, 2, 3, 1, 2, 3, 1, 2, 3, 1, 2, 3, 1, 2, 3, 1, 2, 3, 1, 2, 3, 1, 2, 3, 1, 2, 3, 1, 2, 3, 1, 2, 3, 1, 2, 3, 1, 2, 3, 1, 2, 3, 1, 2, 3, 1, 2, 3, 1, 2, 3, 1, 2, 3, 1, 2, 3, 1, 2, 3, 1, 2, 3, 1, 2, 3, 1, 2, 3, 1, 2, 3, 1, 2, 3, 1, 2, 3, 1, 2, 3]\n"
     ]
    }
   ],
   "source": [
    "lst = [1,2,3]*33\n",
    "print(lst)"
   ]
  },
  {
   "cell_type": "markdown",
   "id": "ea81bccb-9967-42a2-91fa-bcf7ce201303",
   "metadata": {},
   "source": [
    "### Q5. If you're using IDLE to run a Python application, explain how to print a multidimensional list as efficiently?\n",
    " "
   ]
  },
  {
   "cell_type": "code",
   "execution_count": 9,
   "id": "3a3a89de-b4fb-40aa-93a8-4b626631f400",
   "metadata": {},
   "outputs": [
    {
     "name": "stdout",
     "output_type": "stream",
     "text": [
      "1 1 2 2 3 3 4 4 5 5 "
     ]
    }
   ],
   "source": [
    "temp = [[1,1],[2,2],[3,3],[4,4],[5,5]]\n",
    "for x in range(len(temp)):\n",
    "    for y in range(len(temp[x])):\n",
    "        print(temp[x][y], end=' ')"
   ]
  },
  {
   "cell_type": "markdown",
   "id": "4bacdf8a-9afe-4f91-b05c-1f387b79651f",
   "metadata": {},
   "source": [
    "### Q6. Is it possible to use list comprehension with a string? If so, how can you go about doing it?\n",
    "  "
   ]
  },
  {
   "cell_type": "markdown",
   "id": "fb26ddf7-7234-4d80-80a5-77ecc10db8fe",
   "metadata": {},
   "source": [
    "List comprehension with string is possible."
   ]
  },
  {
   "cell_type": "code",
   "execution_count": 10,
   "id": "f68df033-f789-4210-a49d-6ef12e7af4ab",
   "metadata": {},
   "outputs": [
    {
     "name": "stdout",
     "output_type": "stream",
     "text": [
      "['H', 'e', 'l', 'l', 'o', '_', 'w', 'o', 'r', 'l', 'd']\n"
     ]
    }
   ],
   "source": [
    "string = 'Hello_world'\n",
    "lst = [i for i in string]\n",
    "print(lst)"
   ]
  },
  {
   "cell_type": "markdown",
   "id": "cdb58478-d5c7-48a2-8b76-366cce118fdc",
   "metadata": {},
   "source": [
    "### Q7.From the command line, how do you get support with a user-written Python programme? Is this possible from inside IDLE?"
   ]
  },
  {
   "cell_type": "markdown",
   "id": "483822a6-5ca9-4ae6-a4a1-a42fef198e66",
   "metadata": {},
   "source": [
    "Get support with a user-written Python Programme: Start a command prompt (Windows) or terminal window (Linux/Mac). If the current working directory is the same as the location in which you saved the file, you can simply specify the filename as a command-line argument to the Python interpreter.\n",
    "\n",
    "Get support with a User-written Python Program from IDLE: You can also create script files and run them in IDLE. From the Shell window menu, select File → New File. That should open an additional editing window. Type in the code to be executed. From the menu in that window, select File → Save or File → Save As… and save the file to disk. Then select Run → Run Module. The output should appear back in the interpreter"
   ]
  },
  {
   "cell_type": "markdown",
   "id": "5b276922-2ecf-435d-abc6-daa5654af166",
   "metadata": {},
   "source": [
    "### Q8. Functions are said to be “first-class objects” in Python but not in most other languages, such as C++ or Java. What can you do in Python with a function (callable object) that you can't do in C or C++? "
   ]
  },
  {
   "cell_type": "markdown",
   "id": "1941ae46-ef03-4d5f-ad1e-8673697cbbe7",
   "metadata": {},
   "source": [
    "Tasks performed with the functions in python are :\n",
    "- A function is an instance of the Object type\n",
    "- You can store a function in a variable\n",
    "- Pass a function as a parameter\n",
    "- Return the function from a function\n",
    "- Store them in Data Structures such as hash tables, lists"
   ]
  },
  {
   "cell_type": "markdown",
   "id": "e9f6f71d-3b9d-47ac-8942-197f3fdd8b81",
   "metadata": {},
   "source": [
    "### Q9. How do you distinguish between a wrapper, a wrapped feature, and a decorator? "
   ]
  },
  {
   "cell_type": "markdown",
   "id": "69d1ac1f-fe3c-4353-b6a2-a65702e972bd",
   "metadata": {},
   "source": [
    "Wrappers Around the functions are known as Decrators."
   ]
  },
  {
   "cell_type": "markdown",
   "id": "55622641-3dc2-4758-a962-eb61382a40fd",
   "metadata": {},
   "source": [
    "### Q10. If a function is a generator function, what does it return? "
   ]
  },
  {
   "cell_type": "markdown",
   "id": "5cc4dd78-e982-4f33-bb01-52a210ec5a3b",
   "metadata": {},
   "source": [
    " Generator functions are a special kind of function that return a lazy iterator. These are objects that you can loop over like a list. However, unlike lists, lazy iterators do not store their contents in memory."
   ]
  },
  {
   "cell_type": "markdown",
   "id": "6caa7d25-b2b2-4f1a-960c-d2a988dffeb0",
   "metadata": {},
   "source": [
    "### Q11. What is the one improvement that must be made to a function in order for it to become a generator function in the Python language?"
   ]
  },
  {
   "cell_type": "markdown",
   "id": "050a40ee-0b3d-4c1d-aa94-c4735bfb944d",
   "metadata": {},
   "source": [
    " Generator is a written as normal function but uses yield keyword to return values instead of return keyword."
   ]
  },
  {
   "cell_type": "markdown",
   "id": "6ddcc6dd-89d4-4984-9c37-7d4a2d3f3ddc",
   "metadata": {},
   "source": [
    "### Q12. Identify at least one benefit of generators. "
   ]
  },
  {
   "cell_type": "markdown",
   "id": "e5f9c49e-a2db-481a-b4eb-ee1069a60e4a",
   "metadata": {},
   "source": [
    "return statement sends a specified value back to its caller whereas yield statment can produce a sequence of values. We should use generator when we want to iterate over a sequence, but don’t want to store the entire sequence in memory."
   ]
  },
  {
   "cell_type": "code",
   "execution_count": null,
   "id": "f5687614-9a8d-47e2-a1e0-e17ac9d8da90",
   "metadata": {},
   "outputs": [],
   "source": []
  }
 ],
 "metadata": {
  "kernelspec": {
   "display_name": "Python 3 (ipykernel)",
   "language": "python",
   "name": "python3"
  },
  "language_info": {
   "codemirror_mode": {
    "name": "ipython",
    "version": 3
   },
   "file_extension": ".py",
   "mimetype": "text/x-python",
   "name": "python",
   "nbconvert_exporter": "python",
   "pygments_lexer": "ipython3",
   "version": "3.10.9"
  }
 },
 "nbformat": 4,
 "nbformat_minor": 5
}

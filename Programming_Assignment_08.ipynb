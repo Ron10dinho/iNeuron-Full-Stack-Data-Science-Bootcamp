{
 "cells": [
  {
   "cell_type": "markdown",
   "id": "11e3355e-c288-427e-9728-61e76246ef93",
   "metadata": {},
   "source": [
    "#### 1. Write a Python Program to Add Two Matrices ? "
   ]
  },
  {
   "cell_type": "code",
   "execution_count": 6,
   "id": "aa3a6ba9-4e6b-408c-8f18-dfde33091229",
   "metadata": {},
   "outputs": [
    {
     "name": "stdout",
     "output_type": "stream",
     "text": [
      "[14, 6, 9]\n",
      "[5, 7, 9]\n",
      "[11, 11, 7]\n"
     ]
    }
   ],
   "source": [
    "def add_matrices(x,y):\n",
    "    result = [[0,0,0],[0,0,0],[0,0,0]]\n",
    "    for i in range(len(x)):\n",
    "        for j in range(len(x[0])):\n",
    "            result[i][j] = x[i][j] + y[i][j]\n",
    "    for r in result:\n",
    "        print(r)\n",
    "x = [[12,3,5],[4,5,6],[5,6,3]]\n",
    "y = [[2,3,4],[1,2,3],[6,5,4]]\n",
    "add_matrices(x,y)"
   ]
  },
  {
   "cell_type": "markdown",
   "id": "9348b47b-5e79-44d7-843c-9290aa1bbad6",
   "metadata": {},
   "source": [
    "#### 2. Write a Python Program to Multiply Two Matrices ?"
   ]
  },
  {
   "cell_type": "code",
   "execution_count": 8,
   "id": "f874981f-f25e-41d0-90fd-f90e41b636c7",
   "metadata": {},
   "outputs": [
    {
     "name": "stdout",
     "output_type": "stream",
     "text": [
      "[57, 67, 77]\n",
      "[49, 52, 55]\n",
      "[34, 42, 50]\n"
     ]
    }
   ],
   "source": [
    "def multiply_matrices(x,y):\n",
    "    result = [[0,0,0],[0,0,0],[0,0,0]]\n",
    "    for i in range(len(x)):\n",
    "        for j in range(len(y[0])):\n",
    "            for k in range(len(y)):\n",
    "                result[i][j] += x[i][k] * y[k][j]\n",
    "    for r in result:\n",
    "        print(r)\n",
    "x = [[12,3,5],[4,5,6],[5,6,3]]\n",
    "y = [[2,3,4],[1,2,3],[6,5,4]]\n",
    "multiply_matrices(x,y)"
   ]
  },
  {
   "cell_type": "markdown",
   "id": "d4800230-8c93-4f3f-8c5f-b62cc282fcf2",
   "metadata": {},
   "source": [
    "#### 3. Write a Python program to transpose a matrix ?"
   ]
  },
  {
   "cell_type": "code",
   "execution_count": 13,
   "id": "27c41886-0a76-4e0f-afce-f5c48af67b07",
   "metadata": {},
   "outputs": [
    {
     "name": "stdout",
     "output_type": "stream",
     "text": [
      "[23, 53, 99]\n",
      "[4, 2, 4]\n"
     ]
    }
   ],
   "source": [
    "x = [[23,4],[53,2],[99,4]]\n",
    "result = [[0,0,0],[0,0,0]]\n",
    "for i in range(len(x)):\n",
    "    for j in range(len(x[0])):\n",
    "        result[j][i] = x[i][j]\n",
    "for r in result:\n",
    "    print(r)"
   ]
  },
  {
   "cell_type": "markdown",
   "id": "c7dd7ffc-6955-4605-939d-58be7759fddd",
   "metadata": {},
   "source": [
    "#### 4. Write a Python Program to Sort words in Alphabetic Order ? "
   ]
  },
  {
   "cell_type": "code",
   "execution_count": 16,
   "id": "2773d95e-5698-4ab6-977d-d1ba222e7e9a",
   "metadata": {},
   "outputs": [
    {
     "name": "stdin",
     "output_type": "stream",
     "text": [
      "Enter a sentence : Revisit each Concept two to three Times to develop Lifetime familiarity With it \n"
     ]
    },
    {
     "name": "stdout",
     "output_type": "stream",
     "text": [
      "The sorted words are :\n",
      "concept\n",
      "develop\n",
      "each\n",
      "familiarity\n",
      "it\n",
      "lifetime\n",
      "revisit\n",
      "three\n",
      "times\n",
      "to\n",
      "to\n",
      "two\n",
      "with\n"
     ]
    }
   ],
   "source": [
    "def sort_words():\n",
    "    string = input(\"Enter a sentence :\")\n",
    "    words = [word.lower() for word in string.split()]\n",
    "    words.sort()\n",
    "    print(\"The sorted words are :\")\n",
    "    for word in words:\n",
    "        print(word)\n",
    "sort_words()"
   ]
  },
  {
   "cell_type": "markdown",
   "id": "b85cf111-2a1d-49c3-b09d-6fe293a950d5",
   "metadata": {},
   "source": [
    "#### 5. Write a Python Program to Remove Punctuation from a String ? "
   ]
  },
  {
   "cell_type": "code",
   "execution_count": 18,
   "id": "64a17c12-e706-478e-885b-9a94a18a19c3",
   "metadata": {},
   "outputs": [
    {
     "name": "stdin",
     "output_type": "stream",
     "text": [
      "Enter a sentence : Goodmorning !!!! Hello ,,,, how are you ?@!$\n"
     ]
    },
    {
     "name": "stdout",
     "output_type": "stream",
     "text": [
      "Removing Punctuations :\n",
      "Goodmorning  Hello  how are you \n"
     ]
    }
   ],
   "source": [
    "def remove_punctuations():\n",
    "    punctuations = '''!()-[]{};:'\"\\,<>./?@#$%^&*_~'''\n",
    "    string = input(\"Enter a sentence :\")\n",
    "    empty = \"\"\n",
    "    for char in string:\n",
    "        if char not in punctuations:\n",
    "            empty += char\n",
    "    print(\"Removing Punctuations :\")\n",
    "    print(empty)\n",
    "\n",
    "remove_punctuations()"
   ]
  },
  {
   "cell_type": "code",
   "execution_count": null,
   "id": "cf2e20f1-8363-44c6-8297-23ce698750ab",
   "metadata": {},
   "outputs": [],
   "source": []
  }
 ],
 "metadata": {
  "kernelspec": {
   "display_name": "Python 3 (ipykernel)",
   "language": "python",
   "name": "python3"
  },
  "language_info": {
   "codemirror_mode": {
    "name": "ipython",
    "version": 3
   },
   "file_extension": ".py",
   "mimetype": "text/x-python",
   "name": "python",
   "nbconvert_exporter": "python",
   "pygments_lexer": "ipython3",
   "version": "3.9.7"
  }
 },
 "nbformat": 4,
 "nbformat_minor": 5
}

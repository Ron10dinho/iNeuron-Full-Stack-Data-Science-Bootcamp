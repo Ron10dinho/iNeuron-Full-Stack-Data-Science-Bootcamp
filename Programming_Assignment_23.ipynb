{
 "cells": [
  {
   "cell_type": "markdown",
   "id": "f1c363d7-2560-4f83-89a9-e51f1d8507e2",
   "metadata": {},
   "source": [
    "#### Answer 1. "
   ]
  },
  {
   "cell_type": "code",
   "execution_count": 2,
   "id": "49f3b551-7a5d-4cc2-a13e-ae9f6ae48970",
   "metadata": {},
   "outputs": [
    {
     "name": "stdout",
     "output_type": "stream",
     "text": [
      "True\n",
      "False\n"
     ]
    }
   ],
   "source": [
    "def is_symmetrical(inp):\n",
    "    if str(inp) == str(inp)[::-1]:\n",
    "        print(True)\n",
    "    else:\n",
    "        print(False)\n",
    "is_symmetrical(1112111)\n",
    "is_symmetrical(12567)"
   ]
  },
  {
   "cell_type": "markdown",
   "id": "5bcaee75-02ec-448c-8a2a-34a944de2346",
   "metadata": {},
   "source": [
    "#### Answer 2 "
   ]
  },
  {
   "cell_type": "code",
   "execution_count": 8,
   "id": "87067150-f3df-4624-a667-9fc17961f369",
   "metadata": {},
   "outputs": [
    {
     "name": "stdout",
     "output_type": "stream",
     "text": [
      "After multiplying 2, 3 = 6\n"
     ]
    }
   ],
   "source": [
    "def multiply_nums(string):\n",
    "    empty = string.replace(' ','').split(',')\n",
    "    # print(empty)\n",
    "    num = 1\n",
    "    for ele in empty:\n",
    "        num = num * int(ele)\n",
    "    print(f\"After multiplying {string} = {num}\")\n",
    "multiply_nums(\"2, 3\")"
   ]
  },
  {
   "cell_type": "markdown",
   "id": "fac4b7df-1f44-434b-a665-ed11ade9240e",
   "metadata": {},
   "source": [
    "#### Answer 3 "
   ]
  },
  {
   "cell_type": "code",
   "execution_count": 10,
   "id": "285adc0f-e35b-4f08-b99e-5cdfa8b918d9",
   "metadata": {},
   "outputs": [
    {
     "name": "stdout",
     "output_type": "stream",
     "text": [
      "After squaring every digit : 4 16 64 9\n"
     ]
    }
   ],
   "source": [
    "def square_digits(inp):\n",
    "    lst = [str(int(ele)**2) for ele in str(inp)]\n",
    "    output = ' '.join(lst)\n",
    "    print(f\"After squaring every digit : {output}\")\n",
    "square_digits(2483)"
   ]
  },
  {
   "cell_type": "markdown",
   "id": "74844880-3f26-4841-9f71-24082c57c004",
   "metadata": {},
   "source": [
    "#### Answer 4 "
   ]
  },
  {
   "cell_type": "code",
   "execution_count": 11,
   "id": "82d540db-ff40-4333-99b1-654c7aa8f3c2",
   "metadata": {},
   "outputs": [
    {
     "name": "stdout",
     "output_type": "stream",
     "text": [
      "Final : [1, 3, 5]\n"
     ]
    }
   ],
   "source": [
    "def setify(lst):\n",
    "    empty = sorted(set(lst))\n",
    "    print(f\"Final : {empty}\")\n",
    "    \n",
    "setify([1,3,3,5,5])\n",
    "    "
   ]
  },
  {
   "cell_type": "markdown",
   "id": "cb95f250-5f6f-4952-a575-687be3bedbe9",
   "metadata": {},
   "source": [
    "#### Answer 5"
   ]
  },
  {
   "cell_type": "code",
   "execution_count": 12,
   "id": "08b85be7-9ca6-44d6-8081-11d15af36fe9",
   "metadata": {},
   "outputs": [
    {
     "name": "stdout",
     "output_type": "stream",
     "text": [
      "Mean of 42  ➞ 3\n"
     ]
    }
   ],
   "source": [
    "def mean(in_num):\n",
    "    in_list = [int(ele) for ele in str(in_num)]\n",
    "    out_num = sum(in_list)/len(str(in_num))\n",
    "    print(f'Mean of {in_num}  ➞ {out_num:.0f}')\n",
    "    \n",
    "mean(42)"
   ]
  },
  {
   "cell_type": "code",
   "execution_count": null,
   "id": "99eb7a4d-faea-45da-ae22-5d9dcd5462b6",
   "metadata": {},
   "outputs": [],
   "source": []
  }
 ],
 "metadata": {
  "kernelspec": {
   "display_name": "Python 3 (ipykernel)",
   "language": "python",
   "name": "python3"
  },
  "language_info": {
   "codemirror_mode": {
    "name": "ipython",
    "version": 3
   },
   "file_extension": ".py",
   "mimetype": "text/x-python",
   "name": "python",
   "nbconvert_exporter": "python",
   "pygments_lexer": "ipython3",
   "version": "3.9.7"
  }
 },
 "nbformat": 4,
 "nbformat_minor": 5
}

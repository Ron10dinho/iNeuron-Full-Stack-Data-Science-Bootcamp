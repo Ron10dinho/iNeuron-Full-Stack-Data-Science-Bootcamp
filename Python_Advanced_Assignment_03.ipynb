{
 "cells": [
  {
   "cell_type": "markdown",
   "id": "4e9b6706-74b9-4e0a-bfad-cc7b19876c15",
   "metadata": {},
   "source": [
    "### Q1. What is the concept of an abstract superclass ? "
   ]
  },
  {
   "cell_type": "markdown",
   "id": "fd8406fb-2ead-4e71-8938-692bd551621d",
   "metadata": {},
   "source": [
    "An abstract class can be consiered as a blueprint for other classes . It allows you to create a set of methods that must be created within any child classes built from the abstract class . \n",
    "\n",
    "A class which contains one or more abstract methods is called an Abstract Class.\n",
    "\n",
    "While designing large functional units we use an abstract class. When we want to provide a common interface for different implementations of a component , we use an abstract class.\n",
    "\n",
    "By defining an Abstract base class, you can define a common API (Application Program Interface) for a set of subclasses. \n",
    "\n",
    "How it works : By default , Python does not provide abstract classes. It comes with a module that provides the base for defining Abstract Class Bases (ABC) . A method becomes abstract when decorated with the keyword @abstractmethod.\n",
    "\n",
    "Example :"
   ]
  },
  {
   "cell_type": "code",
   "execution_count": 1,
   "id": "3c820c19-110c-40b0-93fc-d586b6ee2125",
   "metadata": {},
   "outputs": [
    {
     "name": "stdout",
     "output_type": "stream",
     "text": [
      "I have 3 sides.\n",
      "I have 4 sides.\n",
      "I have 5 sides.\n",
      "I have 6 sides.\n"
     ]
    }
   ],
   "source": [
    "from abc import ABC, abstractmethod\n",
    "class Polygon(ABC):\n",
    "    @abstractmethod\n",
    "    def no_of_sides(self):\n",
    "        pass\n",
    "class Triangle(Polygon):\n",
    "    # overriding abstract method\n",
    "    def no_of_sides(self):\n",
    "        print(\"I have 3 sides.\")\n",
    "class Pentagon(Polygon):\n",
    "    # overriding abstract method\n",
    "    def no_of_sides(self):\n",
    "        print(\"I have 5 sides.\")\n",
    "class Hexagon(Polygon):\n",
    "    # overriding abstract method\n",
    "    def no_of_sides(self):\n",
    "        print(\"I have 6 sides.\")\n",
    "class Quadrilateral(Polygon):\n",
    "    # overriding abstract method\n",
    "    def no_of_sides(self):\n",
    "        print(\"I have 4 sides.\")\n",
    "R = Triangle()\n",
    "R.no_of_sides()\n",
    "K = Quadrilateral()\n",
    "K.no_of_sides()\n",
    "R = Pentagon()\n",
    "R.no_of_sides()\n",
    "K = Hexagon()\n",
    "K.no_of_sides()"
   ]
  },
  {
   "cell_type": "markdown",
   "id": "c50a1576-c3f8-4800-b868-7c695f5e7050",
   "metadata": {},
   "source": [
    "### Q2. What happens when a class statement's top level contains a basic assignment statement ? "
   ]
  },
  {
   "cell_type": "markdown",
   "id": "a57e301d-c634-41ad-ad86-b9d042ec4b9f",
   "metadata": {},
   "source": [
    "When a Class statement's top leel contains a basic assignment statement, it is usually treated as a class attribute or class level variable.\n",
    "\n",
    "When an instance of a class is created a single copy of class attributes is maintained and shared to all instances of class, where as each instance object maintains its own copy of instance variables.\n",
    "\n",
    "Example:"
   ]
  },
  {
   "cell_type": "code",
   "execution_count": 2,
   "id": "00a23782-6bbd-4ecb-aa9a-adb4b2b12872",
   "metadata": {},
   "outputs": [],
   "source": [
    "class Person:\n",
    "    species = 'Homosapiens' # class attributes\n",
    "    def __init__(self, name, gender):\n",
    "        self.name = name # instance attributes\n",
    "        self.gender = gender"
   ]
  },
  {
   "cell_type": "markdown",
   "id": "b04fd34a-8f2d-4f76-a7f4-8d63a2ba7450",
   "metadata": {},
   "source": [
    "### Q3. Why does a class need to manually call a superclass's \"__init__\" method ?"
   ]
  },
  {
   "cell_type": "markdown",
   "id": "1926d632-5ca1-4cf2-8d01-806e8ebd7aaa",
   "metadata": {},
   "source": [
    "So as to not override the parent class __init__ method , the child class has to manually call a parent superclass's __init__ using super() method."
   ]
  },
  {
   "cell_type": "code",
   "execution_count": 5,
   "id": "7e1813c6-3643-4ffa-b73f-5d84056eb035",
   "metadata": {},
   "outputs": [
    {
     "data": {
      "text/plain": [
       "{'name': 'John', 'age': 23, 'salary': 20000}"
      ]
     },
     "execution_count": 5,
     "metadata": {},
     "output_type": "execute_result"
    }
   ],
   "source": [
    "class Person:\n",
    "    def __init__(self, name, age):\n",
    "        self.name = name\n",
    "        self.age = age\n",
    "class Employee(Person):\n",
    "    def __init__(self, name, age, salary):\n",
    "        super().__init__(name, age)\n",
    "        self.salary = salary\n",
    "emp_1 = Employee('John', 23, 20000)\n",
    "emp_1.__dict__"
   ]
  },
  {
   "cell_type": "markdown",
   "id": "fd482aeb-73dd-4fc9-85a4-a47764a4bef4",
   "metadata": {},
   "source": [
    "### Q4. How can you augment, instead of completely replacing an inherited method ?"
   ]
  },
  {
   "cell_type": "markdown",
   "id": "21284830-93eb-470d-80cc-d91686ce6695",
   "metadata": {},
   "source": [
    "Using the super() method to augment and not completely replace the inherited method."
   ]
  },
  {
   "cell_type": "code",
   "execution_count": 11,
   "id": "6ccf4f46-43b1-4008-a510-8f31e887c35c",
   "metadata": {},
   "outputs": [
    {
     "name": "stdout",
     "output_type": "stream",
     "text": [
      "{'name': 'Wick', 'age': 'Male', 'salary': 10000}\n"
     ]
    }
   ],
   "source": [
    "class Person:\n",
    "    def __init__(self, name, age):\n",
    "        self.name = name\n",
    "        self.age = age\n",
    "class Employee(Person):\n",
    "    def __init__(self, name, age, salary):\n",
    "        super().__init__(name, age)\n",
    "        self.salary = salary\n",
    "emp_1 = Employee('Wick','Male',10000)\n",
    "print(emp_1.__dict__)"
   ]
  },
  {
   "cell_type": "markdown",
   "id": "cc9dc831-979b-42f5-a6c3-ed4fd57813f4",
   "metadata": {},
   "source": [
    "### Q5. How is the local scope of a class different from that of a function?"
   ]
  },
  {
   "cell_type": "markdown",
   "id": "3e1a9626-f342-4ac9-a2e7-6c9bc8496523",
   "metadata": {},
   "source": [
    "A variable inside a class also has a local variable scope . Variables which are defined in the class body (but outside all methods) are called as class level variables or class attributes , they can be referenced by their names within the same scope , but they can also be accessed from outside this scope if we use the attribute access operator (.). on a class or an instance of the class."
   ]
  },
  {
   "cell_type": "code",
   "execution_count": 13,
   "id": "4c14d947-502d-4b3d-8098-1369dc5fc08a",
   "metadata": {},
   "outputs": [
    {
     "name": "stdout",
     "output_type": "stream",
     "text": [
      "Name is Jack\n",
      "Name variable is not available outside hello function scope.\n",
      "Homosapiens\n",
      "Homosapiens\n"
     ]
    }
   ],
   "source": [
    "def hello(name):\n",
    "    name = name\n",
    "    print(f\"Name is {name}\")\n",
    "hello(\"Jack\")\n",
    "try:\n",
    "    name\n",
    "except NameError:\n",
    "    print(\"Name variable is not available outside hello function scope.\")\n",
    "class Person:\n",
    "    species = 'Homosapiens'\n",
    "    def __init__(self):\n",
    "        pass\n",
    "print(Person.species) # Accessing species using class name\n",
    "Male = Person()\n",
    "print(Male.species) # Accessing species using instance of class"
   ]
  },
  {
   "cell_type": "code",
   "execution_count": null,
   "id": "5b3d9ac3-c59c-4f10-b192-e08140a9f7e1",
   "metadata": {},
   "outputs": [],
   "source": []
  }
 ],
 "metadata": {
  "kernelspec": {
   "display_name": "Python 3 (ipykernel)",
   "language": "python",
   "name": "python3"
  },
  "language_info": {
   "codemirror_mode": {
    "name": "ipython",
    "version": 3
   },
   "file_extension": ".py",
   "mimetype": "text/x-python",
   "name": "python",
   "nbconvert_exporter": "python",
   "pygments_lexer": "ipython3",
   "version": "3.9.13"
  }
 },
 "nbformat": 4,
 "nbformat_minor": 5
}

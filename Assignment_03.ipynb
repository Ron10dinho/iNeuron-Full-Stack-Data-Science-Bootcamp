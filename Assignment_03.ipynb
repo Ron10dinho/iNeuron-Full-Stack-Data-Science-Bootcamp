{
 "cells": [
  {
   "cell_type": "markdown",
   "id": "bf6b4a09-245f-4885-8f84-19a4992c887b",
   "metadata": {},
   "source": [
    "#### Ques 1 : Why are functions advantageous to have in your programs ? "
   ]
  },
  {
   "cell_type": "markdown",
   "id": "840a749a-c945-459e-a0c7-bf1cbf9d5c0e",
   "metadata": {},
   "source": [
    "#### Answer : "
   ]
  },
  {
   "cell_type": "markdown",
   "id": "4618d5be-ac4c-4067-bc24-3600271f00d0",
   "metadata": {},
   "source": [
    "- Functions reduce the need for duplicate code. \n",
    "- Functions make the programs shorter , easier to read and update .\n",
    "- Functions allow for code reusability."
   ]
  },
  {
   "cell_type": "markdown",
   "id": "cba94f3c-1e36-475f-9f5c-f92beb5641f6",
   "metadata": {},
   "source": [
    "#### Ques 2 : When does the code in a function run : when it is specified or when it is called ? "
   ]
  },
  {
   "cell_type": "markdown",
   "id": "0ab3d6ad-5414-40b9-9528-58f9e541b48b",
   "metadata": {},
   "source": [
    "#### Answer :"
   ]
  },
  {
   "cell_type": "markdown",
   "id": "5205f128-c1a1-4932-9aab-ec0a24f918d1",
   "metadata": {},
   "source": [
    "The code in a function runs when it is called . "
   ]
  },
  {
   "cell_type": "markdown",
   "id": "d1b2b0be-c39b-4651-921d-e057c6363688",
   "metadata": {},
   "source": [
    "#### Ques 3 : What statement creates a function ? "
   ]
  },
  {
   "cell_type": "markdown",
   "id": "5b80ff44-b088-4929-9dcc-1471dc6ef810",
   "metadata": {},
   "source": [
    "#### Answer : "
   ]
  },
  {
   "cell_type": "markdown",
   "id": "c902448a-7232-45e0-ac84-94e57c3005e9",
   "metadata": {},
   "source": [
    "The \"def\" statement creates a function"
   ]
  },
  {
   "cell_type": "markdown",
   "id": "cd82f27d-65f5-4338-9b07-6a49a8da0f9e",
   "metadata": {},
   "source": [
    "#### Ques 4 : What is the difference between a function and a function call ? "
   ]
  },
  {
   "cell_type": "markdown",
   "id": "b83a1b0a-66ec-4d5c-91a1-311c8963207e",
   "metadata": {},
   "source": [
    "#### Answer : "
   ]
  },
  {
   "cell_type": "markdown",
   "id": "c89e5c56-d128-4370-9e20-d68052817a34",
   "metadata": {},
   "source": [
    "Function : It is the procedure to achieve a particular result . \n",
    "\n",
    "Function Call : Using the function to do a particular task at any point in a program .\n"
   ]
  },
  {
   "cell_type": "markdown",
   "id": "3586b04e-5aa0-4104-a8ed-2de3d57c554c",
   "metadata": {},
   "source": [
    "#### Ques 5 : How many global scopes are there in a Python program ? How many local scopes ? "
   ]
  },
  {
   "cell_type": "markdown",
   "id": "2431ebf6-082a-454f-a7b0-aa404a511de7",
   "metadata": {},
   "source": [
    "There is one global scope .\n",
    "\n",
    "A local scope is created whenever there is a function call ."
   ]
  },
  {
   "cell_type": "markdown",
   "id": "c2bbcdf3-5f82-4e81-b97a-18aeb4a51117",
   "metadata": {},
   "source": [
    "#### Ques 6 : What happens to variables in a local scope when the function call returns?\n"
   ]
  },
  {
   "cell_type": "markdown",
   "id": "864d55cc-6dde-4a56-a631-dc5784a7adc2",
   "metadata": {},
   "source": [
    "#### Answer :"
   ]
  },
  {
   "cell_type": "markdown",
   "id": "4c87bfb6-ba31-4b2c-991e-57dfe7f52a79",
   "metadata": {},
   "source": [
    "Local scope is destroyed with all the variables being forgotten."
   ]
  },
  {
   "cell_type": "markdown",
   "id": "3209660b-703b-40ef-8fd2-52cb01f197d2",
   "metadata": {},
   "source": [
    "#### Ques 7 : What is the concept of a return value? Is it possible to have a return value in an expression?"
   ]
  },
  {
   "cell_type": "markdown",
   "id": "b05fe0f9-3c52-467d-8d9f-5e0962e409f5",
   "metadata": {},
   "source": [
    "#### Answer : "
   ]
  },
  {
   "cell_type": "markdown",
   "id": "5652fef9-5c66-4388-bd1f-fc44cb341b96",
   "metadata": {},
   "source": [
    "The function call evaluates to a return value . \n",
    "\n",
    "Return value can be used as the part of an expression ."
   ]
  },
  {
   "cell_type": "markdown",
   "id": "f235afdf-694f-4b3d-b1bd-1e7595c02e91",
   "metadata": {},
   "source": [
    "#### Ques 8 : If a function does not have a return statement, what is the return value of a call to that function?"
   ]
  },
  {
   "cell_type": "markdown",
   "id": "c109171d-0945-404f-b88c-d3e36253ae04",
   "metadata": {},
   "source": [
    "#### Answer : "
   ]
  },
  {
   "cell_type": "markdown",
   "id": "30023f5f-7c52-47a2-86e7-87bd59664aad",
   "metadata": {},
   "source": [
    "In case of no return statement to a function , its return value is \"None\"."
   ]
  },
  {
   "cell_type": "markdown",
   "id": "b010848e-0aab-4d65-aa5d-d3a3fc93973b",
   "metadata": {},
   "source": [
    "#### Ques 9 : How do you make a function variable refer to the global variable?\n"
   ]
  },
  {
   "cell_type": "markdown",
   "id": "3100ba84-7a21-4150-8714-4285fb5d9524",
   "metadata": {},
   "source": [
    "#### Answer : "
   ]
  },
  {
   "cell_type": "markdown",
   "id": "cd7774e4-c9f4-462a-8afd-eb572e9b985d",
   "metadata": {},
   "source": [
    "To refer to a global variable in a function , the \"global\" keyword can be used."
   ]
  },
  {
   "cell_type": "markdown",
   "id": "be5f567c-0f1c-4d92-96ca-2b7570e83b9f",
   "metadata": {},
   "source": [
    "#### Ques 10 : What is the data type of None ?"
   ]
  },
  {
   "cell_type": "markdown",
   "id": "24058270-ac1e-4d98-85d2-42ab2873e113",
   "metadata": {},
   "source": [
    "#### Answer : "
   ]
  },
  {
   "cell_type": "markdown",
   "id": "b2f0dd47-9d10-448a-84be-36cbedb99a05",
   "metadata": {},
   "source": [
    "NoneType"
   ]
  },
  {
   "cell_type": "markdown",
   "id": "8b17fb39-f2a0-4f77-8823-90c9de0a2a6a",
   "metadata": {},
   "source": [
    "#### Ques 11 : What does the sentence import areallyourpetsnamederic do?"
   ]
  },
  {
   "cell_type": "markdown",
   "id": "d88bf458-3815-4ac5-b5fe-5cf28e6abba9",
   "metadata": {},
   "source": [
    "#### Answer 11 :"
   ]
  },
  {
   "cell_type": "markdown",
   "id": "f5367f13-7bde-4d72-b011-41a8731c0008",
   "metadata": {},
   "source": [
    "Imports a module of the same name."
   ]
  },
  {
   "cell_type": "markdown",
   "id": "2f287fdb-2c06-4b87-ad3a-f6dbd13f80f0",
   "metadata": {},
   "source": [
    "#### Ques 12 : . If you had a bacon() feature in a spam module, what would you call it after importing spam?"
   ]
  },
  {
   "cell_type": "markdown",
   "id": "0d4c9f56-641e-4101-b2ad-8a3b3e441ac7",
   "metadata": {},
   "source": [
    "#### Answer :"
   ]
  },
  {
   "cell_type": "markdown",
   "id": "504ef719-b8ec-4cfb-8d2c-fce7448abd9c",
   "metadata": {},
   "source": [
    "Function can be called spam.bacon()"
   ]
  },
  {
   "cell_type": "markdown",
   "id": "9dac8614-1ab0-483b-9bfb-0b0d749286b0",
   "metadata": {},
   "source": [
    "#### Ques 13 : What can you do to save a programme from crashing if it encounters an error?"
   ]
  },
  {
   "cell_type": "markdown",
   "id": "aa4beec1-cefe-49c3-93a2-f4010880d213",
   "metadata": {},
   "source": [
    "#### Answer :"
   ]
  },
  {
   "cell_type": "markdown",
   "id": "50b2eb5c-3615-4743-8634-ad25462da175",
   "metadata": {},
   "source": [
    "Use try and except."
   ]
  },
  {
   "cell_type": "markdown",
   "id": "be5db926-f987-441f-8994-31dc5fe441d3",
   "metadata": {},
   "source": [
    "#### Ques 14 : What is the purpose of the try clause? What is the purpose of the except clause?"
   ]
  },
  {
   "cell_type": "markdown",
   "id": "77f740cd-7ce4-4c1f-858d-7d3312c4cef9",
   "metadata": {},
   "source": [
    "#### Answer : "
   ]
  },
  {
   "cell_type": "markdown",
   "id": "805141db-d7ed-4b56-b058-f8161844e2df",
   "metadata": {},
   "source": [
    "The code that could potentially cause an error goes in the try clause. The code that executes if an error happens goes in the except clause."
   ]
  },
  {
   "cell_type": "code",
   "execution_count": null,
   "id": "9c10aee0-e9d1-4b6b-964d-641d8383394d",
   "metadata": {},
   "outputs": [],
   "source": []
  }
 ],
 "metadata": {
  "kernelspec": {
   "display_name": "Python 3 (ipykernel)",
   "language": "python",
   "name": "python3"
  },
  "language_info": {
   "codemirror_mode": {
    "name": "ipython",
    "version": 3
   },
   "file_extension": ".py",
   "mimetype": "text/x-python",
   "name": "python",
   "nbconvert_exporter": "python",
   "pygments_lexer": "ipython3",
   "version": "3.9.7"
  }
 },
 "nbformat": 4,
 "nbformat_minor": 5
}

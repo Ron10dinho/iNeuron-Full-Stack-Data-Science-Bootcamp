{
 "cells": [
  {
   "cell_type": "markdown",
   "id": "711755b2-7ca7-4721-a43c-148c93a36f19",
   "metadata": {},
   "source": [
    "#### Answer 1"
   ]
  },
  {
   "cell_type": "code",
   "execution_count": 2,
   "id": "7bfbe28f-2179-472e-bc90-2316b8602bda",
   "metadata": {},
   "outputs": [
    {
     "name": "stdout",
     "output_type": "stream",
     "text": [
      "1 2 8\n"
     ]
    }
   ],
   "source": [
    "def func(a , b = 6, c = 8):\n",
    "    print(a,b,c)\n",
    "func(1,2)"
   ]
  },
  {
   "cell_type": "markdown",
   "id": "506b989b-fec8-4f6e-9345-92c5291bf685",
   "metadata": {},
   "source": [
    "Calling the function with the arguments (1,2) , assigns the values as a = 1, b = 2 and since the default value for (b,c) were added , calling c returned the value 8."
   ]
  },
  {
   "cell_type": "markdown",
   "id": "1da551f8-fa0a-4781-ab22-d2620e1d130a",
   "metadata": {},
   "source": [
    "#### Answer 2 "
   ]
  },
  {
   "cell_type": "code",
   "execution_count": 3,
   "id": "986f27e1-0cb7-498b-bf4f-924cce91a44d",
   "metadata": {},
   "outputs": [
    {
     "name": "stdout",
     "output_type": "stream",
     "text": [
      "1 2 3\n"
     ]
    }
   ],
   "source": [
    "def func(a,b,c=5):\n",
    "    print(a,b,c)\n",
    "func(1,c=3,b=2)"
   ]
  },
  {
   "cell_type": "markdown",
   "id": "6447b9d6-abc5-42ad-8e91-02051cdf2eed",
   "metadata": {},
   "source": [
    "Default value of (c,b) changed to (3,2) and thus changing the order of arguments ."
   ]
  },
  {
   "cell_type": "markdown",
   "id": "91aab426-adb1-4973-b38e-0f9cca9cee4e",
   "metadata": {},
   "source": [
    "#### Answer 3 "
   ]
  },
  {
   "cell_type": "code",
   "execution_count": 4,
   "id": "b208fde3-5743-4ee8-9bd0-d244556fd6d1",
   "metadata": {},
   "outputs": [
    {
     "name": "stdout",
     "output_type": "stream",
     "text": [
      "1 (2, 3)\n"
     ]
    }
   ],
   "source": [
    "def func(a,*pargs):\n",
    "    print(a,pargs)\n",
    "func(1,2,3)"
   ]
  },
  {
   "cell_type": "markdown",
   "id": "8d9b82fe-3393-47bc-a741-f700e5853e1b",
   "metadata": {},
   "source": [
    "*pargs stands for variable length arguments , used to store values when the number of values to be stored is unknown . All the values under this function will be stored in a tuple ."
   ]
  },
  {
   "cell_type": "markdown",
   "id": "c5cbae84-27f3-4ed2-a40f-72841d8db65e",
   "metadata": {},
   "source": [
    "#### Answer 4 "
   ]
  },
  {
   "cell_type": "code",
   "execution_count": 5,
   "id": "160c43a4-f2e9-4200-9da2-9cb207381c04",
   "metadata": {},
   "outputs": [
    {
     "name": "stdout",
     "output_type": "stream",
     "text": [
      "1 {'c': 3, 'b': 2}\n"
     ]
    }
   ],
   "source": [
    "def func(a, **kwargs):\n",
    "    print(a,kwargs)\n",
    "func(a=1,c=3,b=2)"
   ]
  },
  {
   "cell_type": "markdown",
   "id": "4247e5fc-caf4-457e-9faf-ae28b5216bf0",
   "metadata": {},
   "source": [
    "Same as *pargs (in the answer above ) with the difference being that it stores values as keyword argumnets i.e passing key:value pairs as input to a function . All the values will be stored in a dictionary."
   ]
  },
  {
   "cell_type": "markdown",
   "id": "1ddbb34a-1175-491d-b458-9c50ae1065cd",
   "metadata": {},
   "source": [
    "#### Answer 5"
   ]
  },
  {
   "cell_type": "code",
   "execution_count": 7,
   "id": "552ee6e3-062e-4c92-a3ed-5b00d234a768",
   "metadata": {},
   "outputs": [
    {
     "name": "stdout",
     "output_type": "stream",
     "text": [
      "1 5 6 5\n"
     ]
    }
   ],
   "source": [
    "def func(a,b,c=8,d=5):\n",
    "    print(a,b,c,d)\n",
    "func(1,*(5,6))"
   ]
  },
  {
   "cell_type": "markdown",
   "id": "9a4759b2-ba64-4b66-b833-f0e11a767068",
   "metadata": {},
   "source": [
    "The value of 'a' is defined. All the other values , the function expands *(5,6) , with b = 5 and c = 6 , and the default value of d = 5 is printed alongside ."
   ]
  },
  {
   "cell_type": "markdown",
   "id": "fed7795d-d162-4625-b01a-24e6aee52c9a",
   "metadata": {},
   "source": [
    "#### Answer 6 "
   ]
  },
  {
   "cell_type": "code",
   "execution_count": 10,
   "id": "7bf803ce-c911-4b55-9999-7834fac17e41",
   "metadata": {},
   "outputs": [],
   "source": [
    "def func(a,b,c) : \n",
    "    a = 2 ; b[0] = 'x' ; c['a'] = 'y'"
   ]
  },
  {
   "cell_type": "code",
   "execution_count": 11,
   "id": "f591b77d-d6cf-4c04-9dd1-314b0b19cad3",
   "metadata": {},
   "outputs": [
    {
     "data": {
      "text/plain": [
       "(1, ['x'], {'a': 'y'})"
      ]
     },
     "execution_count": 11,
     "metadata": {},
     "output_type": "execute_result"
    }
   ],
   "source": [
    "l = 1; m = [1]; n = {'a':0}\n",
    "func(l,m,n)\n",
    "l,m,n"
   ]
  },
  {
   "cell_type": "markdown",
   "id": "112a2162-6b5a-4952-872e-84b2d1d203d2",
   "metadata": {},
   "source": [
    "Eventhough Python gives importance to indentation. its provides a facility to declare an entire function in one single line. where statements in a function body are sepereated by ;\n",
    "\n",
    "When l,m,n are provided as inputs to the function. its modifies the values of l,m,n and sets the value of l=2 ,m=['x'] and n={'a':'y'}"
   ]
  },
  {
   "cell_type": "code",
   "execution_count": null,
   "id": "1b716088-1046-4837-a9a2-d0a35ea9e946",
   "metadata": {},
   "outputs": [],
   "source": []
  }
 ],
 "metadata": {
  "kernelspec": {
   "display_name": "Python 3 (ipykernel)",
   "language": "python",
   "name": "python3"
  },
  "language_info": {
   "codemirror_mode": {
    "name": "ipython",
    "version": 3
   },
   "file_extension": ".py",
   "mimetype": "text/x-python",
   "name": "python",
   "nbconvert_exporter": "python",
   "pygments_lexer": "ipython3",
   "version": "3.9.7"
  }
 },
 "nbformat": 4,
 "nbformat_minor": 5
}

{
 "cells": [
  {
   "cell_type": "code",
   "execution_count": 1,
   "id": "4d168a85-afda-4a50-b55d-2cc78d4f6af3",
   "metadata": {},
   "outputs": [
    {
     "name": "stdout",
     "output_type": "stream",
     "text": [
      "def hours():\n",
      "    print(\"Open 9-5 daily\")\n"
     ]
    }
   ],
   "source": [
    "!type zoo.py"
   ]
  },
  {
   "cell_type": "markdown",
   "id": "4ea6abb0-1a89-42c7-853c-8fce9f997105",
   "metadata": {},
   "source": [
    "#### Answer 1 "
   ]
  },
  {
   "cell_type": "code",
   "execution_count": 2,
   "id": "c03f6bf1-e9ab-46b7-8d3d-63c758386084",
   "metadata": {},
   "outputs": [],
   "source": [
    "import zoo"
   ]
  },
  {
   "cell_type": "code",
   "execution_count": 3,
   "id": "5855f47d-11f1-4039-a1b8-44fb2299561e",
   "metadata": {},
   "outputs": [
    {
     "name": "stdout",
     "output_type": "stream",
     "text": [
      "Open 9-5 daily\n"
     ]
    }
   ],
   "source": [
    "zoo.hours()"
   ]
  },
  {
   "cell_type": "markdown",
   "id": "a0235795-9511-4468-a7e2-71e598d76380",
   "metadata": {},
   "source": [
    "#### Answer 2 "
   ]
  },
  {
   "cell_type": "code",
   "execution_count": 4,
   "id": "41817b20-2cf6-4919-93f2-88e91764238d",
   "metadata": {},
   "outputs": [
    {
     "name": "stdout",
     "output_type": "stream",
     "text": [
      "Open 9-5 daily\n"
     ]
    }
   ],
   "source": [
    "import zoo as menagerie\n",
    "menagerie.hours()"
   ]
  },
  {
   "cell_type": "markdown",
   "id": "6495bbb8-3b0b-4513-8276-760e48cafaef",
   "metadata": {},
   "source": [
    "#### Answer 3 "
   ]
  },
  {
   "cell_type": "code",
   "execution_count": 5,
   "id": "22a9cef4-7e0a-42cd-8dc0-84a0b6e38699",
   "metadata": {},
   "outputs": [
    {
     "name": "stdout",
     "output_type": "stream",
     "text": [
      "Open 9-5 daily\n"
     ]
    }
   ],
   "source": [
    "from zoo import hours\n",
    "hours()"
   ]
  },
  {
   "cell_type": "markdown",
   "id": "68dcab81-7270-44fb-b1a0-6982dde8c597",
   "metadata": {},
   "source": [
    "#### Answer 4 "
   ]
  },
  {
   "cell_type": "code",
   "execution_count": 6,
   "id": "b1e93c47-5bcd-4265-b7e7-7bdf84b1bdec",
   "metadata": {},
   "outputs": [
    {
     "name": "stdout",
     "output_type": "stream",
     "text": [
      "Open 9-5 daily\n"
     ]
    }
   ],
   "source": [
    "from zoo import hours as info\n",
    "info()"
   ]
  },
  {
   "cell_type": "markdown",
   "id": "b35dcf18-5a06-403d-a7bf-cfab69427591",
   "metadata": {},
   "source": [
    "#### Answer 5 "
   ]
  },
  {
   "cell_type": "code",
   "execution_count": 7,
   "id": "c5349df5-9502-469c-a66f-6b5be6b166ef",
   "metadata": {},
   "outputs": [
    {
     "name": "stdout",
     "output_type": "stream",
     "text": [
      "{'a': 1, 'b': 2, 'c': 3}\n"
     ]
    }
   ],
   "source": [
    "plain_dict = {'a':1,'b':2,'c':3}\n",
    "print(plain_dict)"
   ]
  },
  {
   "cell_type": "markdown",
   "id": "b99189e2-58a6-4b4e-8af9-6f87a1384cb4",
   "metadata": {},
   "source": [
    "#### Answer 6"
   ]
  },
  {
   "cell_type": "code",
   "execution_count": 9,
   "id": "c1f7f27f-8e79-40e1-b986-aa5e2694b738",
   "metadata": {},
   "outputs": [
    {
     "name": "stdout",
     "output_type": "stream",
     "text": [
      "Plain Dictionary : {'a': 1, 'b': 2, 'c': 3}\n",
      "Updated Dictionary : OrderedDict([('a', 1), ('b', 2), ('c', 3)])\n"
     ]
    }
   ],
   "source": [
    "from collections import OrderedDict\n",
    "fancy = OrderedDict(plain_dict)\n",
    "print(f\"Plain Dictionary : {plain_dict}\")\n",
    "print(f\"Updated Dictionary : {fancy}\")"
   ]
  },
  {
   "cell_type": "markdown",
   "id": "c6b0748a-9d8a-4899-9b1d-3743f1e6f773",
   "metadata": {},
   "source": [
    "#### Answer 7 "
   ]
  },
  {
   "cell_type": "code",
   "execution_count": 11,
   "id": "9c091679-354c-4e89-929d-d30f74953400",
   "metadata": {},
   "outputs": [
    {
     "name": "stdout",
     "output_type": "stream",
     "text": [
      "['something for a']\n"
     ]
    }
   ],
   "source": [
    "from collections import defaultdict\n",
    "dict_of_lists = defaultdict(list)\n",
    "dict_of_lists['a'].append('something for a')\n",
    "print(dict_of_lists['a'])"
   ]
  },
  {
   "cell_type": "code",
   "execution_count": null,
   "id": "3b647de6-9bd0-4d6f-910d-0eda13f02fc5",
   "metadata": {},
   "outputs": [],
   "source": []
  }
 ],
 "metadata": {
  "kernelspec": {
   "display_name": "Python 3 (ipykernel)",
   "language": "python",
   "name": "python3"
  },
  "language_info": {
   "codemirror_mode": {
    "name": "ipython",
    "version": 3
   },
   "file_extension": ".py",
   "mimetype": "text/x-python",
   "name": "python",
   "nbconvert_exporter": "python",
   "pygments_lexer": "ipython3",
   "version": "3.9.7"
  }
 },
 "nbformat": 4,
 "nbformat_minor": 5
}

{
 "cells": [
  {
   "cell_type": "markdown",
   "id": "c52746bb-c1bd-4739-b428-652443c41e7d",
   "metadata": {},
   "source": [
    "### Q1. Define the relationship between a class and its instances. Is it a one-to-one or a one-to-many partnership, for example?"
   ]
  },
  {
   "cell_type": "markdown",
   "id": "5729d16e-7661-4244-896d-289c9d4bdb86",
   "metadata": {},
   "source": [
    "Relationship between a class and its instances is a one to many partnership."
   ]
  },
  {
   "cell_type": "markdown",
   "id": "5bdbac46-9d87-4732-aaf3-9b10beb57208",
   "metadata": {},
   "source": [
    "### Q2. What kind of data is held only in an instance?"
   ]
  },
  {
   "cell_type": "markdown",
   "id": "08c8d1f5-4a44-47e1-bea9-d1613e1a669a",
   "metadata": {},
   "source": [
    "Instance objects contains the instance variables which are specific to that specific instance object."
   ]
  },
  {
   "cell_type": "markdown",
   "id": "49579588-6b4d-4bc0-92ce-11fec0b9a73f",
   "metadata": {},
   "source": [
    "### Q3. What kind of knowledge is stored in a class?\n"
   ]
  },
  {
   "cell_type": "markdown",
   "id": "5a9d9d15-7a4b-4faa-9322-94a1830e4a97",
   "metadata": {},
   "source": [
    "Classes commonly contains data field to store the data and methods for defining behaviours. It provides a means of building data and functionality together. \n",
    "\n",
    "It is like a blueprint for an object , which can also be thought of as an user-defined data structure. "
   ]
  },
  {
   "cell_type": "markdown",
   "id": "73005e20-b4dc-4bc9-aabb-d6bf16a5c8d9",
   "metadata": {},
   "source": [
    "### Q4. What exactly is a method, and how is it different from a regular function?"
   ]
  },
  {
   "cell_type": "markdown",
   "id": "ba319da8-04f0-4fc1-999b-73ca65e0c82d",
   "metadata": {},
   "source": [
    "A method is a function that \"BELONGS\" to an object . \n",
    "The method lies under Object-Oriented Programming. \n",
    "\n",
    "A function is used to return or pass the data.\n",
    "While a function is an independent functionality."
   ]
  },
  {
   "cell_type": "markdown",
   "id": "521f00a6-941a-460e-8c8e-fee827ece89d",
   "metadata": {},
   "source": [
    "### Q5. Is inheritance supported in Python , and if so , what is the syntax ? "
   ]
  },
  {
   "cell_type": "markdown",
   "id": "85cb1e66-0231-4c2c-9f7f-49888c26a21e",
   "metadata": {},
   "source": [
    "Yes , Python supports inheritance . \n",
    "\n",
    "The syntax is as follows : "
   ]
  },
  {
   "cell_type": "code",
   "execution_count": 4,
   "id": "3c23b993-d204-47d6-94e7-957c530a98bc",
   "metadata": {},
   "outputs": [],
   "source": [
    "class Person:\n",
    "    def __init__(self, name, gender, age):\n",
    "        self.name = name\n",
    "        self.gender = gender\n",
    "        self.age = age\n",
    "    def student_details(self):\n",
    "        print(f\"Name:{self.name}, Gender:{self.gender}, Age:{self.age}\")\n"
   ]
  },
  {
   "cell_type": "code",
   "execution_count": 6,
   "id": "a7d01ff8-dc7a-4e28-8b5c-ad9868feca20",
   "metadata": {},
   "outputs": [
    {
     "name": "stdout",
     "output_type": "stream",
     "text": [
      "Name:Ria, Gender:Male, Age:22\n"
     ]
    }
   ],
   "source": [
    "p1 = Person('Ria', 'Male', 22)\n",
    "p1.student_details()"
   ]
  },
  {
   "cell_type": "markdown",
   "id": "5e82428e-8048-4a04-a396-38f5acae2c57",
   "metadata": {},
   "source": [
    "### Q6. How much encapsulation (making instance or class variable private) does Python support ? "
   ]
  },
  {
   "cell_type": "markdown",
   "id": "579ed196-9fe4-4395-bf42-31f703e130dd",
   "metadata": {},
   "source": [
    "Encapsulation describes the idea of wrapping data and the methods that work on data within one unit. This puts restrictions on accessing variables and methods directly and can prevent the accidental modification of data. To prevent accidental change, an objects variable can only be changed by an objects method."
   ]
  },
  {
   "cell_type": "markdown",
   "id": "4c2744ff-8f5f-49ea-9058-234da1563fa1",
   "metadata": {},
   "source": [
    "### Q7. How do you distinguish between a class variable and an instance variable ?"
   ]
  },
  {
   "cell_type": "markdown",
   "id": "3a765850-4e8f-41f9-8d27-9e91e5e0f210",
   "metadata": {},
   "source": [
    "Class Attributes : Available to all the instance objects of that class.\n",
    "\n",
    "Instance Attributes : Only accessible to the object or instance of that class."
   ]
  },
  {
   "cell_type": "markdown",
   "id": "4aee91ee-c12d-4477-b1f5-80a398ae4447",
   "metadata": {},
   "source": [
    "### Q8. When , if ever , can self be included in a class's method definitions ? "
   ]
  },
  {
   "cell_type": "markdown",
   "id": "84743356-cd7d-4d31-82f2-4f62eb7c5034",
   "metadata": {},
   "source": [
    "Yes , self can  be included in class method definitions to access the instance variables inside class methods .\n"
   ]
  },
  {
   "cell_type": "markdown",
   "id": "230abd5a-ca13-4354-ab81-680da2c2ceba",
   "metadata": {},
   "source": [
    "### Q9. What is the difference between the __add__ and the __radd__ methods ? "
   ]
  },
  {
   "cell_type": "markdown",
   "id": "1ca7e190-572d-4aeb-9d64-c5b9d72833e6",
   "metadata": {},
   "source": [
    "Entering __radd__ python will try __add__() \n",
    "\n",
    "Any expression to add is internally translated to the method call __add__() . But if the implementation of addition cannot deal with objects of different datatype. \n",
    "\n"
   ]
  },
  {
   "cell_type": "markdown",
   "id": "bd2f8e8f-c5a6-4bce-8ac7-34eb576af4db",
   "metadata": {},
   "source": [
    "### Q10. When is it necessary to use a reflection method? When do you not need it, even though you support the operation in question?"
   ]
  },
  {
   "cell_type": "markdown",
   "id": "671afbda-5fe3-44ce-b750-e2cf64dc06ab",
   "metadata": {},
   "source": [
    " Reflection method we often encounter the requirement that a method in the executing object, or a variable in the calling object, or a field of the object should be assigned, while the method name or field name can not be determined when encoding the code, and need to be input in the form of passing strings through parameters.\n",
    "\n"
   ]
  },
  {
   "cell_type": "code",
   "execution_count": null,
   "id": "1f0dae8d-6ebb-4303-a199-aa93a47504cb",
   "metadata": {},
   "outputs": [],
   "source": []
  }
 ],
 "metadata": {
  "kernelspec": {
   "display_name": "Python 3 (ipykernel)",
   "language": "python",
   "name": "python3"
  },
  "language_info": {
   "codemirror_mode": {
    "name": "ipython",
    "version": 3
   },
   "file_extension": ".py",
   "mimetype": "text/x-python",
   "name": "python",
   "nbconvert_exporter": "python",
   "pygments_lexer": "ipython3",
   "version": "3.9.13"
  }
 },
 "nbformat": 4,
 "nbformat_minor": 5
}

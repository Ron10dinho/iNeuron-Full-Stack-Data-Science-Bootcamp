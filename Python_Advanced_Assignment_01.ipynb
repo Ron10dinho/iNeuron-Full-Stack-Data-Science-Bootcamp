{
 "cells": [
  {
   "cell_type": "markdown",
   "id": "acd85ff0-2490-4297-b04e-1708dd472b9d",
   "metadata": {},
   "source": [
    "### Q1. What is the purpose of Python's OOP ? "
   ]
  },
  {
   "cell_type": "markdown",
   "id": "b7722cf1-a973-4e0c-923a-170cab462ada",
   "metadata": {},
   "source": [
    "Like every other general-purpose Programming Language, Python is also an object-oriented language since its beginning. It allows us to develop applications using an Object-Oriented approach . \n",
    "\n",
    "In python , we can easily create and use classes and objects. \n",
    "\n",
    "An object-oriented paradigm is to design the program using classes and objects. \n",
    "The oops concept focuses on writing reusable code and is a widespread technique to solve problems by creating objects thus making development and maintenance easier. \n",
    "\n",
    "It is more secure than Procedural Langugage, as it provides DATA HIDING .\n",
    "\n",
    "The major principles of OOPS are : \n",
    "* Class\n",
    "* Object\n",
    "* Method\n",
    "* Inheritance\n",
    "* Polymorphism\n",
    "* Data Abstraction\n",
    "* Encapsulation\n",
    "\n"
   ]
  },
  {
   "cell_type": "markdown",
   "id": "9b62f10d-d4e1-462e-8d20-f9bd7070b8da",
   "metadata": {},
   "source": [
    "### Q2.  What does an inheritance search look for in an attribute ?"
   ]
  },
  {
   "cell_type": "markdown",
   "id": "28338cd6-076a-4485-88d8-6542e81c3cd4",
   "metadata": {},
   "source": [
    "The inheritance search stops at the first place the attribute is found.\n",
    "The order of traversing through is :\n",
    "1. Looks for the attribute in the instance object.\n",
    "2. Then in the class the instance was created from .\n",
    "3. Further looking into Superclasses \n"
   ]
  },
  {
   "cell_type": "markdown",
   "id": "9b5e55c0-0d81-415a-8550-fe3b9cfaf049",
   "metadata": {},
   "source": [
    "### Q3. How do you distinguish between a class object and an instance object ? "
   ]
  },
  {
   "cell_type": "markdown",
   "id": "22aabfde-691f-4f3b-baf1-97b47fede4b9",
   "metadata": {},
   "source": [
    "The basic concept of OOP is : \n",
    "\n",
    "CLASS >> OBJECT >> INSTANCE\n",
    "\n",
    "The class is the blueprint, the object is the actual thing built based on the \"blueprint\" (class) .\n",
    "An instance is a virtual copy ( but not a real copy ) of the object.\n",
    "\n",
    "Another analogy could be :\n",
    "\n",
    "* A blueprint for a house design is like a class description. \n",
    "* All the houses built from that blueprint are objects of that class . \n",
    "* A given house is an instance."
   ]
  },
  {
   "cell_type": "markdown",
   "id": "c7e47bd6-e089-40b9-be72-bfddacef4f7f",
   "metadata": {},
   "source": [
    "### Q4. What makes the first argument in a class's method function special ? "
   ]
  },
  {
   "cell_type": "markdown",
   "id": "cf32167b-7ad3-4d24-92de-fcf7db5d2d7c",
   "metadata": {},
   "source": [
    "In OOP , whenever we define methods for a class, we use 'self' as the first parameter in each case. \n",
    "\n",
    "We know that class is a blueprint for the objects , which can be used to create multiple numbers of objects.\n",
    "\n",
    "EXAMPLE : \n",
    "Create two different objects from a class called \"Cat\".\n",
    "\n",
    "cat1 = Cat(\"Ram\", 2)\n",
    "\n",
    "cat2 = Cat(\"Shyam\", 3)\n",
    "\n",
    "The self keyword is used to represent an instance(object) of the given class . In this case, the two Cat objects cat1 and cat2 have their own name and age attributes. \n",
    "\n",
    "If there was no self argument, the same class could not hold the information for both these objects.\n",
    "\n",
    "self allows access to the attributes and methods of each object in Python. This allows each object to have its own attributes and methods. \n",
    "\n",
    "Therefore , long before creating these objects, we reference the objects as self while defining the class."
   ]
  },
  {
   "cell_type": "markdown",
   "id": "d5740bea-2724-49f1-8a4f-67e959038cc4",
   "metadata": {},
   "source": [
    "### Q5. What is the purpose of the \"__init__\" method ? "
   ]
  },
  {
   "cell_type": "markdown",
   "id": "eb975eaa-7506-4694-89bf-c1efd1f324a1",
   "metadata": {},
   "source": [
    "It is a constructor , and are used to intitialise the objects state . \n",
    "\n",
    "The task of the constructors is to initialise ( assign values ) to the data members of the class when an object of the class is created . \n",
    "\n",
    "Like methods , a constructor also contains a collection of statements ( i.e. instructions ) that are executed at the time of Object Creation . It is run as soon as an object of a class is instantiated . The method is useful to do any initialisation you want to do with your object . \n",
    "\n",
    "EXAMPLE : "
   ]
  },
  {
   "cell_type": "code",
   "execution_count": 1,
   "id": "66ba1a6c-a43a-4a31-9ae6-b80db026be10",
   "metadata": {},
   "outputs": [
    {
     "name": "stdout",
     "output_type": "stream",
     "text": [
      "Hello , my name is Jack\n"
     ]
    }
   ],
   "source": [
    "class Person():\n",
    "    def __init__(self, name):\n",
    "        self.name = name\n",
    "    def say_hi(self):\n",
    "        print(\"Hello , my name is\", self.name)\n",
    "p = Person(\"Jack\")\n",
    "p.say_hi()"
   ]
  },
  {
   "cell_type": "markdown",
   "id": "634c5983-a578-403c-9004-914b6f0fe611",
   "metadata": {},
   "source": [
    "### Q6. What is the process for creating a class instance ? "
   ]
  },
  {
   "cell_type": "markdown",
   "id": "ce6769a6-b3da-4339-8812-4a7638cd960a",
   "metadata": {},
   "source": [
    "To create a class instance , call the class using class name and pass in whatever arguments its __init__ method accepts"
   ]
  },
  {
   "cell_type": "code",
   "execution_count": 4,
   "id": "b7a477ab-9bc9-41f5-ae9e-00648115ed9f",
   "metadata": {},
   "outputs": [
    {
     "name": "stdout",
     "output_type": "stream",
     "text": [
      "Creating the first instance of Person class.\n",
      "Creating the second instance of Person class.\n",
      "Hello , my name is John and I am 23 years old.\n",
      "Hello , my name is Arun and I am 28 years old.\n"
     ]
    }
   ],
   "source": [
    "class Person():\n",
    "    def __init__(self, name, age):\n",
    "        self.name = name\n",
    "        self.age = age\n",
    "    def say_hi(self):\n",
    "        print(\"Hello , my name is\", self.name, \"and I am\",self.age,\"years old.\")\n",
    "print(\"Creating the first instance of Person class.\")\n",
    "person_1 = Person(\"John\",23)\n",
    "print(\"Creating the second instance of Person class.\")\n",
    "person_2 = Person(\"Arun\",28)\n",
    "person_1.say_hi()\n",
    "person_2.say_hi()"
   ]
  },
  {
   "cell_type": "markdown",
   "id": "8504e9be-55e1-45fc-841f-b4cc1d141a83",
   "metadata": {},
   "source": [
    "### Q7. What is the process for creating a class ? "
   ]
  },
  {
   "cell_type": "markdown",
   "id": "a9aa3753-0478-4e8a-b683-73600ae17b5a",
   "metadata": {},
   "source": [
    "A class can be created by using the keyword class , followed by the name (user given) of the class."
   ]
  },
  {
   "cell_type": "code",
   "execution_count": 2,
   "id": "d05ca80d-f4ed-4e26-9986-a8fe95ef0aec",
   "metadata": {},
   "outputs": [],
   "source": [
    "class className:\n",
    "    # Statement Suite\n",
    "    pass"
   ]
  },
  {
   "cell_type": "markdown",
   "id": "d51b625a-d030-4f6b-9a9a-3b9bfd562067",
   "metadata": {},
   "source": [
    "### Q8. How would you define the superclass of a class ? "
   ]
  },
  {
   "cell_type": "markdown",
   "id": "825b5037-47c4-4882-94fa-7e7c9509fa34",
   "metadata": {},
   "source": [
    "A class that is derived from another class is called a subclass(child class).\n",
    "The class from which the subclass is derived is called the SUPERCLASS (parent class)."
   ]
  },
  {
   "cell_type": "code",
   "execution_count": null,
   "id": "d9babc5a-5105-42cf-861c-80e0ce0b8a25",
   "metadata": {},
   "outputs": [],
   "source": []
  }
 ],
 "metadata": {
  "kernelspec": {
   "display_name": "Python 3 (ipykernel)",
   "language": "python",
   "name": "python3"
  },
  "language_info": {
   "codemirror_mode": {
    "name": "ipython",
    "version": 3
   },
   "file_extension": ".py",
   "mimetype": "text/x-python",
   "name": "python",
   "nbconvert_exporter": "python",
   "pygments_lexer": "ipython3",
   "version": "3.9.13"
  }
 },
 "nbformat": 4,
 "nbformat_minor": 5
}

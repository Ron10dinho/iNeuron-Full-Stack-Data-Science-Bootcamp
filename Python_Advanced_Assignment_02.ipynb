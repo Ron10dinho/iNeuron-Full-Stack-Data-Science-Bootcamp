{
 "cells": [
  {
   "cell_type": "markdown",
   "id": "9f0b3eaa-f720-42e9-883b-325f29b057bb",
   "metadata": {},
   "source": [
    "### Q1. What is the relationship between classes and modules ? "
   ]
  },
  {
   "cell_type": "markdown",
   "id": "a114fb95-9781-4eac-82d8-56335b44877f",
   "metadata": {},
   "source": [
    "A class is used to define a blueprint for a given object , whereas a module is used to reuse a given piece of code inside other program ."
   ]
  },
  {
   "cell_type": "markdown",
   "id": "a931fb7f-9ed3-4176-8179-8cfd510e0188",
   "metadata": {},
   "source": [
    "### Q2. How do you make Instances and Classes ? "
   ]
  },
  {
   "cell_type": "code",
   "execution_count": 7,
   "id": "7040fe2a-16bd-44f4-bc87-ad5d318bb6e1",
   "metadata": {},
   "outputs": [
    {
     "name": "stdout",
     "output_type": "stream",
     "text": [
      "Snow is 5 years old.\n",
      "White is 3 years old.\n"
     ]
    }
   ],
   "source": [
    "class Dog: # Creating a class\n",
    "    def __init__(self, name, age):\n",
    "        self.name = name\n",
    "        self.age = age\n",
    "    def details(self):\n",
    "        print(f\"{self.name} is {self.age} years old.\")\n",
    "dog_1 = Dog(\"Snow\",5) # Creating an Instance of the class.\n",
    "dog_2 = Dog(\"White\",3)\n",
    "dog_1.details()\n",
    "dog_2.details()"
   ]
  },
  {
   "cell_type": "markdown",
   "id": "c283ed0e-6e94-4bec-a1d7-1737ad9d9c4c",
   "metadata": {},
   "source": [
    "### Q3. Where and how should Class Attributes be created ?"
   ]
  },
  {
   "cell_type": "markdown",
   "id": "a56155de-72a7-4a1c-8b2e-12e0499cb503",
   "metadata": {},
   "source": [
    "Class attributes are defined inside the class that are shared directly by all objects of the class.\n",
    "\n",
    "Usually defined in the top of class definition outside all methods."
   ]
  },
  {
   "cell_type": "code",
   "execution_count": 16,
   "id": "a15fabde-44e3-4eff-8bb9-fddff51b182e",
   "metadata": {},
   "outputs": [],
   "source": [
    "class Person:\n",
    "    sex = \"Male\" # Class attribute\n",
    "    def __init__(self, name, age):\n",
    "        self.name = name\n",
    "        self.age = age\n",
    "    def details(self):\n",
    "        print(f\"Name : {self.name}, Gender : {Person.sex}, Age : {self.age}.\")"
   ]
  },
  {
   "cell_type": "code",
   "execution_count": 17,
   "id": "7ece5c48-6639-415a-89a3-7ec61cb610e8",
   "metadata": {},
   "outputs": [
    {
     "name": "stdout",
     "output_type": "stream",
     "text": [
      "Name : Jack, Gender : Male, Age : 34.\n"
     ]
    }
   ],
   "source": [
    "person_1 = Person('Jack',34)\n",
    "person_1.details()"
   ]
  },
  {
   "cell_type": "markdown",
   "id": "ad44c0ef-480a-4939-845a-be8c24c29271",
   "metadata": {},
   "source": [
    "### Q4. Where and how are instance attributes created ?"
   ]
  },
  {
   "cell_type": "markdown",
   "id": "f2d24598-c1d9-46f2-9187-488bf118a0ac",
   "metadata": {},
   "source": [
    "Instance attributes are usually defined with the \"__init__\" method of class. They are passed to the class when an object of the class is created . Unlike class attributes, instance attributes are not shared by all objects of the class. Instead each object maintains its own copy of instance attributes at object level. \n",
    "\n",
    "Example :"
   ]
  },
  {
   "cell_type": "code",
   "execution_count": 19,
   "id": "4879e842-7f35-437f-97d7-a5a4d1fb100d",
   "metadata": {},
   "outputs": [
    {
     "name": "stdout",
     "output_type": "stream",
     "text": [
      "Green\n",
      "V8\n"
     ]
    }
   ],
   "source": [
    "class Car:\n",
    "    def __init__(self, color, price, engine): # Creating instance attributes.\n",
    "        self.color = color\n",
    "        self.price = price\n",
    "        self.engine = engine\n",
    "car_1 = Car('Green','100000','V8')\n",
    "print(car_1.color)\n",
    "print(car_1.engine)"
   ]
  },
  {
   "cell_type": "markdown",
   "id": "ba7a67cd-da9f-442a-9935-f9b7be5645c6",
   "metadata": {},
   "source": [
    "### Q5. What does the term \"self\" in a Python class mean ?"
   ]
  },
  {
   "cell_type": "markdown",
   "id": "03d06903-7532-4d7a-a742-2586e9b1d039",
   "metadata": {},
   "source": [
    "The self parameter is a reference to the current instance of the class, and is used to access variables that belongs to the class.\n",
    "\n",
    "Example :"
   ]
  },
  {
   "cell_type": "code",
   "execution_count": 23,
   "id": "989d314a-8117-4b80-903a-ae2c5f62a1a8",
   "metadata": {},
   "outputs": [],
   "source": [
    "class Person:\n",
    "    def __init__(test, name, age):\n",
    "        test.name = name\n",
    "        test.age = age\n",
    "    def details(test_2):\n",
    "        print(f\"Name:{test_2.name}, Age:{test_2.age}\")"
   ]
  },
  {
   "cell_type": "code",
   "execution_count": 24,
   "id": "1eada8f7-6daa-4537-a478-35d94f1dd90b",
   "metadata": {},
   "outputs": [
    {
     "name": "stdout",
     "output_type": "stream",
     "text": [
      "Name:john, Age:23\n"
     ]
    }
   ],
   "source": [
    "p_1 = Person('john', 23)\n",
    "p_1.details()"
   ]
  },
  {
   "cell_type": "markdown",
   "id": "16d2f77d-71d6-4ca5-b79c-52feb63471db",
   "metadata": {},
   "source": [
    "### Q6. How does a Python class handle operator overloading ?"
   ]
  },
  {
   "cell_type": "markdown",
   "id": "bcea699c-999f-408f-a830-1f4f8bcca657",
   "metadata": {},
   "source": [
    "Operator Overloading : A feature in Python that allows the same operator to have different meaning according to the context .\n",
    "\n",
    "Python classes handle operator overloading by using special methods called Magic Methods , which begin and end with __(double underscore) .\n",
    "\n",
    "Example :"
   ]
  },
  {
   "cell_type": "code",
   "execution_count": 25,
   "id": "9a23f5b4-b865-4096-b932-3d72ed2f5f16",
   "metadata": {},
   "outputs": [
    {
     "name": "stdout",
     "output_type": "stream",
     "text": [
      "The total number of pages in these 2 books are : {300}\n"
     ]
    }
   ],
   "source": [
    "class Book:\n",
    "    def __init__(self, pages):\n",
    "        self.pages = pages\n",
    "    def __add__(self, other):\n",
    "        return self.pages + other.pages\n",
    "b1 = Book(100)\n",
    "b2 = Book(200)\n",
    "print(f\"The total number of pages in these 2 books are :\", {b1 + b2})"
   ]
  },
  {
   "cell_type": "markdown",
   "id": "3e6a9de5-ea1f-4803-8780-b1a887ef4e97",
   "metadata": {},
   "source": [
    "### Q7. What do you consider allowing operator overloading of your classes ?"
   ]
  },
  {
   "cell_type": "markdown",
   "id": "b57f317d-b91a-4368-aa47-edccd6fafd2f",
   "metadata": {},
   "source": [
    "In python , operator overloading means providing extended meaning beyond their predefined operational meaning . \n",
    "\n",
    "Example : Using the '+' operator for adding two integers as well as joining two strings or merging two lists."
   ]
  },
  {
   "cell_type": "markdown",
   "id": "40a8ca17-a43e-4c08-a1cf-a61bf37eb3c3",
   "metadata": {},
   "source": [
    "### Q8. What is the most popular form of operator overloading?"
   ]
  },
  {
   "cell_type": "markdown",
   "id": "2da8fabe-5e40-4280-80e7-e701569f7427",
   "metadata": {},
   "source": [
    "The adding up operator is the most popular form of operator overloading. \n",
    "\n",
    "The plus symbol's practice in dissimilar forms is the largest classic example of the operator level overloading process."
   ]
  },
  {
   "cell_type": "markdown",
   "id": "6ceb253b-b6cc-415b-8e04-e807b7c97391",
   "metadata": {},
   "source": [
    "### Q9. What are the two most important concepts to grasp in order to comprehend Python OOP code?"
   ]
  },
  {
   "cell_type": "markdown",
   "id": "ac133bdf-00ae-4d11-88d4-c524048c701d",
   "metadata": {},
   "source": [
    "Classes and Objects are the two concepts to comprehend python OOP code as more formally objects are entities that represent instances of general abstract concept called class.\n",
    "\n",
    "Along with Classes and Objects , the important concepts to grasp are : \n",
    "1. Inheritance\n",
    "2. Abstraction\n",
    "3. Polymorphism\n",
    "4. Encapsulation"
   ]
  },
  {
   "cell_type": "code",
   "execution_count": null,
   "id": "ee062c4f-32c1-476b-bb53-ccdc5b6022d3",
   "metadata": {},
   "outputs": [],
   "source": []
  }
 ],
 "metadata": {
  "kernelspec": {
   "display_name": "Python 3 (ipykernel)",
   "language": "python",
   "name": "python3"
  },
  "language_info": {
   "codemirror_mode": {
    "name": "ipython",
    "version": 3
   },
   "file_extension": ".py",
   "mimetype": "text/x-python",
   "name": "python",
   "nbconvert_exporter": "python",
   "pygments_lexer": "ipython3",
   "version": "3.9.13"
  }
 },
 "nbformat": 4,
 "nbformat_minor": 5
}

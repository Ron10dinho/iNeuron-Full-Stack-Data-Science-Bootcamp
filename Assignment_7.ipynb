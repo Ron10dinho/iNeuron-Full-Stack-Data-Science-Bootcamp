{
 "cells": [
  {
   "cell_type": "markdown",
   "id": "7a29c91c-41f0-44ff-9e76-2a7b32aeba0e",
   "metadata": {},
   "source": [
    "#### Answer 1 "
   ]
  },
  {
   "cell_type": "markdown",
   "id": "5c9eddef-4697-4d07-917f-697ac36d1504",
   "metadata": {},
   "source": [
    "re.compile() is the feature responsible for generation of Regex objects."
   ]
  },
  {
   "cell_type": "markdown",
   "id": "cc34fe75-31d0-43ec-97ea-3523e637f8a1",
   "metadata": {},
   "source": [
    "#### Answer 2"
   ]
  },
  {
   "cell_type": "markdown",
   "id": "f6780f1b-afe2-4661-bd12-1181185603a0",
   "metadata": {},
   "source": [
    "Reg ex uses the backslash character ('\\') to indicate special forms or to allow special characters to be used without invoking their special meaning . \n",
    "    \n",
    "This collides with Pythons usage of the same character for the same purpose in string literals . \n",
    "    \n",
    "Hence , Raw strings are used (eg. r\"\\n\") so that backslashes do not have to be escaped."
   ]
  },
  {
   "cell_type": "markdown",
   "id": "b6c42e72-8db1-4a44-a256-b6f934691310",
   "metadata": {},
   "source": [
    "#### Answer 3"
   ]
  },
  {
   "cell_type": "markdown",
   "id": "af63a938-6b2a-478f-98df-eedaa2e2ae7b",
   "metadata": {},
   "source": [
    "Return value of re.search(pattern,string) method is a match object if the pattern\n",
    "is observed in the string else it returns a None ."
   ]
  },
  {
   "cell_type": "markdown",
   "id": "35240bee-30bc-499d-9e07-0ad6e4ad9295",
   "metadata": {},
   "source": [
    "#### Answer 4"
   ]
  },
  {
   "cell_type": "markdown",
   "id": "a1751db3-44f9-4b8f-b0da-719d7388b345",
   "metadata": {},
   "source": [
    "group() method returns actual strings that match the pattern . "
   ]
  },
  {
   "cell_type": "markdown",
   "id": "378b5482-4b03-4738-ba34-eed35c3d936e",
   "metadata": {},
   "source": [
    "#### Answer 5"
   ]
  },
  {
   "cell_type": "markdown",
   "id": "3fab58e0-76ec-431a-9ef7-8de89e5841b9",
   "metadata": {},
   "source": [
    "Group zero covers the entire pattern.\n",
    "\n",
    "First group covers (\\d\\d\\d) \n",
    "\n",
    "Second group covers (\\d\\d\\d-\\d\\d\\d\\d)"
   ]
  },
  {
   "cell_type": "markdown",
   "id": "cc768004-0336-4e97-a5fa-485cb344971a",
   "metadata": {},
   "source": [
    "#### Answer 6"
   ]
  },
  {
   "cell_type": "markdown",
   "id": "75244f69-a6ba-4876-a3a1-27050f55377d",
   "metadata": {},
   "source": [
    "Using the \"\\.\",\"\\(\" and \"\\)\" escape characters in the raw string passed to re.compile() .  "
   ]
  },
  {
   "cell_type": "markdown",
   "id": "b8541aed-92c4-4bd1-ba80-235b9f64307b",
   "metadata": {},
   "source": [
    "#### Answer 7"
   ]
  },
  {
   "cell_type": "markdown",
   "id": "88f3a231-dd6b-4baf-a523-0c29de9fac3d",
   "metadata": {},
   "source": [
    "If the regex pattern has no groups , a list of strings matched is returned . If the regex pattern has groups , a list of tuple of strings is returned . "
   ]
  },
  {
   "cell_type": "markdown",
   "id": "a9b8d35a-9d05-4541-ab9d-8a61d6db36e3",
   "metadata": {},
   "source": [
    "#### Answer 8"
   ]
  },
  {
   "cell_type": "markdown",
   "id": "3989b7b7-f1be-437e-84b5-4240bfd619c8",
   "metadata": {},
   "source": [
    "OR operator."
   ]
  },
  {
   "cell_type": "markdown",
   "id": "e8703b5c-480d-446c-a400-c32069b26cc2",
   "metadata": {},
   "source": [
    "#### Answer 9"
   ]
  },
  {
   "cell_type": "markdown",
   "id": "f9987beb-546c-4514-8c3f-5d1726e676c7",
   "metadata": {},
   "source": [
    "? character represents zero or one match of the preceeding group."
   ]
  },
  {
   "cell_type": "markdown",
   "id": "224ff217-a459-4b54-aacd-9eb792148e53",
   "metadata": {},
   "source": [
    "#### Answer 10"
   ]
  },
  {
   "cell_type": "markdown",
   "id": "df36166b-0a0e-4c87-9b5e-ffc9ad6afc93",
   "metadata": {},
   "source": [
    "- (\"*\") represents zero or more occurences of the preceeding group . \n",
    "- (\"+\") represents one or more occurences of the preceeding group. \n"
   ]
  },
  {
   "cell_type": "markdown",
   "id": "d3749197-ad49-4f55-8c3b-b0714548daee",
   "metadata": {},
   "source": [
    "#### Answer 11"
   ]
  },
  {
   "cell_type": "markdown",
   "id": "1026e7ad-ebe8-4be1-ba11-662e281cd33e",
   "metadata": {},
   "source": [
    "{4} = Its preceeding group should repeate 4 times . \n",
    "\n",
    "{4,5} = Means that its preceeding group should repeat 4 times and maximum 5 times"
   ]
  },
  {
   "cell_type": "markdown",
   "id": "3df47228-cae6-4159-be09-c983c8feed11",
   "metadata": {},
   "source": [
    "#### Answer 12"
   ]
  },
  {
   "cell_type": "markdown",
   "id": "f07ba4e1-0d7c-4be2-9a46-c0e79a01864f",
   "metadata": {},
   "source": [
    "\\w = Matches any non-alphanumeric character (^a-zA-Z0-9_)\n",
    "\n",
    "\\d = Matches any non-digit character . Equivalent to [^0-9]\n",
    "\n",
    "\\s = Matches any non-whitespace character."
   ]
  },
  {
   "cell_type": "markdown",
   "id": "2f9f7d16-b4b2-472f-974d-06f97afb7bf4",
   "metadata": {},
   "source": [
    "#### Answer 13"
   ]
  },
  {
   "cell_type": "markdown",
   "id": "9e85eb56-f1cd-48d3-a412-e97665e28b05",
   "metadata": {},
   "source": [
    "\\W – Matches any non-alphanumeric character equivalent to [^a-zA-Z0-9_]\n",
    "\n",
    "\\D – Matches any non-digit character, this is equivalent to the set class [^0-9]\n",
    "\n",
    "\\S – Matches any non-whitespace character"
   ]
  },
  {
   "cell_type": "markdown",
   "id": "f9352d5a-0014-4d96-a4ff-7f8cb75dff1b",
   "metadata": {},
   "source": [
    "#### Answer 14"
   ]
  },
  {
   "cell_type": "markdown",
   "id": "ececc572-10d3-4fa1-8f18-96aa20208da4",
   "metadata": {},
   "source": [
    "(.*) = Greedy mode , returns the longest string that meets the condition.\n",
    "\n",
    "(.*?) = Non greedy mode , returns the shortest string that meets the condition."
   ]
  },
  {
   "cell_type": "markdown",
   "id": "92dde8c3-b67c-4478-b47a-e1acc72ecafc",
   "metadata": {},
   "source": [
    "#### Answer 15"
   ]
  },
  {
   "cell_type": "markdown",
   "id": "4205b0b4-9af1-4483-a555-f2b566f2a548",
   "metadata": {},
   "source": [
    "[a-z0-9] or [0-9a-z]"
   ]
  },
  {
   "cell_type": "markdown",
   "id": "13eeb24b-f624-4a57-81b9-f10c4dd1f993",
   "metadata": {},
   "source": [
    "#### Answer 16"
   ]
  },
  {
   "cell_type": "markdown",
   "id": "a5c0b46b-b010-4266-a512-55df68b3106e",
   "metadata": {},
   "source": [
    "Using re.IGNORECASE as a flag to make normal expression case insensitive."
   ]
  },
  {
   "cell_type": "markdown",
   "id": "bf6a6025-460a-41bd-8d3f-c03ef3383d58",
   "metadata": {},
   "source": [
    "#### Answer 17"
   ]
  },
  {
   "cell_type": "markdown",
   "id": "e199e01c-bf9a-4238-b859-bb4f711bcfa2",
   "metadata": {},
   "source": [
    ".character matches everything in input except newline character.\n",
    "\n",
    "By passing re.DOTALL as a flag to re.compile() , you can make the dot character match all characters , including the newline character . "
   ]
  },
  {
   "cell_type": "markdown",
   "id": "95715456-5e5e-48b2-88dd-805d83112783",
   "metadata": {},
   "source": [
    "#### Answer 18"
   ]
  },
  {
   "cell_type": "code",
   "execution_count": 2,
   "id": "2ace6d41-c1f7-4ccb-acf6-a58e0eda996a",
   "metadata": {},
   "outputs": [
    {
     "data": {
      "text/plain": [
       "'X drummers, X pipers, five rings, X hen'"
      ]
     },
     "execution_count": 2,
     "metadata": {},
     "output_type": "execute_result"
    }
   ],
   "source": [
    "import re\n",
    "numReg = re.compile(r'\\d+')\n",
    "numReg.sub('X', '11 drummers, 10 pipers, five rings, 4 hen')"
   ]
  },
  {
   "cell_type": "markdown",
   "id": "fa85d439-cd6a-498b-930b-42e3bca0a2c1",
   "metadata": {},
   "source": [
    "#### Answer 19"
   ]
  },
  {
   "cell_type": "markdown",
   "id": "ac17284f-9f48-4a6f-bbab-a9599009be4c",
   "metadata": {},
   "source": [
    "re.VERBOSE will allow to add whitespace and comments to string passed to re.compile()"
   ]
  },
  {
   "cell_type": "markdown",
   "id": "ce5519da-c938-4b82-9be2-f96843e5ae9f",
   "metadata": {},
   "source": [
    "#### Answer 20"
   ]
  },
  {
   "cell_type": "code",
   "execution_count": 3,
   "id": "bde7920a-8430-4d3e-8ee2-4cd176449762",
   "metadata": {},
   "outputs": [
    {
     "name": "stdout",
     "output_type": "stream",
     "text": [
      "Output: 42 -> <re.Match object; span=(0, 2), match='42'>\n",
      "Output: 1,234 -> <re.Match object; span=(0, 5), match='1,234'>\n",
      "Output: 6,368,745 -> <re.Match object; span=(0, 9), match='6,368,745'>\n",
      "Output: 12,34,567 -> None\n",
      "Output: 1234 -> None\n"
     ]
    }
   ],
   "source": [
    "import re\n",
    "pattern = r'^\\d{1,3}(,\\d{3})*$'\n",
    "pagex = re.compile(pattern)\n",
    "for ele in ['42','1,234','6,368,745','12,34,567','1234']:\n",
    "    print('Output:',ele, '->', pagex.search(ele))"
   ]
  },
  {
   "cell_type": "markdown",
   "id": "7542fddd-57d2-4d9a-9a81-fe1d0a8f3e71",
   "metadata": {},
   "source": [
    "#### Answer 21"
   ]
  },
  {
   "cell_type": "markdown",
   "id": "273e53c1-4abb-4a40-9634-da06053b588d",
   "metadata": {},
   "source": [
    "pattern = r'[A-Z]{1}[a-z]*\\sWatanabe'"
   ]
  },
  {
   "cell_type": "markdown",
   "id": "dc5ceca5-a461-46a3-8671-e5d338e1d206",
   "metadata": {},
   "source": [
    "#### Answer 22"
   ]
  },
  {
   "cell_type": "raw",
   "id": "c8bd671f-8642-4a0b-9991-3fc098b5b0f5",
   "metadata": {},
   "source": [
    "pattern = r\"(Alice|Bob|Carol)\\s(eats|pets|throws)\\s(apples|cats|baseballs)\\.\""
   ]
  },
  {
   "cell_type": "code",
   "execution_count": null,
   "id": "21172acb-fea2-4f88-b4f4-9aa23893b301",
   "metadata": {},
   "outputs": [],
   "source": []
  }
 ],
 "metadata": {
  "kernelspec": {
   "display_name": "Python 3 (ipykernel)",
   "language": "python",
   "name": "python3"
  },
  "language_info": {
   "codemirror_mode": {
    "name": "ipython",
    "version": 3
   },
   "file_extension": ".py",
   "mimetype": "text/x-python",
   "name": "python",
   "nbconvert_exporter": "python",
   "pygments_lexer": "ipython3",
   "version": "3.9.7"
  }
 },
 "nbformat": 4,
 "nbformat_minor": 5
}

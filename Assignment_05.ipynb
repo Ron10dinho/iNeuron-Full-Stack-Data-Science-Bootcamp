{
 "cells": [
  {
   "cell_type": "markdown",
   "id": "7d601a4c-09e5-4517-b900-b5a6b8241c08",
   "metadata": {},
   "source": [
    "#### Answer 1 :"
   ]
  },
  {
   "cell_type": "code",
   "execution_count": 1,
   "id": "0860e1dc-4d74-45e8-9185-2320829515e7",
   "metadata": {},
   "outputs": [
    {
     "name": "stdout",
     "output_type": "stream",
     "text": [
      "<class 'dict'> <class 'dict'>\n"
     ]
    }
   ],
   "source": [
    "d = {}\n",
    "d1 = dict()\n",
    "print(type(d), type(d1))"
   ]
  },
  {
   "cell_type": "markdown",
   "id": "6c8b8d87-6db3-4fc6-847f-93694c7fd55d",
   "metadata": {},
   "source": [
    "#### Answer 2 : "
   ]
  },
  {
   "cell_type": "code",
   "execution_count": 2,
   "id": "3740818d-6531-4ba2-8080-f602cfa757a1",
   "metadata": {},
   "outputs": [
    {
     "data": {
      "text/plain": [
       "{'foo': 42}"
      ]
     },
     "execution_count": 2,
     "metadata": {},
     "output_type": "execute_result"
    }
   ],
   "source": [
    "{'foo':42}"
   ]
  },
  {
   "cell_type": "markdown",
   "id": "2cb955a1-eff2-487b-9093-4dc48a836841",
   "metadata": {},
   "source": [
    "#### Answer 3 : \n",
    "\n",
    "Dictionaries are represented by \"{}\". Items stored are unordered .\n",
    "\n",
    "Lists are represented by \"[]\".Items stored are ordered ."
   ]
  },
  {
   "cell_type": "markdown",
   "id": "a6f358e9-16a9-46a1-adfc-afc0ddb9f2dd",
   "metadata": {},
   "source": [
    "#### Answer 4:\n",
    "\n",
    "Recieve \"keyError: 'foo'\""
   ]
  },
  {
   "cell_type": "markdown",
   "id": "ac467ac2-7d4f-4c6a-91ba-e46137e12c2e",
   "metadata": {},
   "source": [
    "#### Answer 5:\n",
    "\n",
    "No difference ."
   ]
  },
  {
   "cell_type": "markdown",
   "id": "1d9d33d4-b164-45ef-8467-a437f10eaa2b",
   "metadata": {},
   "source": [
    "#### Answer 6:\n",
    "\n",
    "'cat' in spam checks if there is a 'cat' key in the dictionary.\n",
    "\n",
    "'cat' in spam.values() checks whether there is a value 'cat' for one of the keys."
   ]
  },
  {
   "cell_type": "markdown",
   "id": "c3eec3cc-e986-4594-9eb9-b2a0b4510962",
   "metadata": {
    "tags": []
   },
   "source": [
    "#### Answer 7:\n",
    "spam.setdefault('color','black')"
   ]
  },
  {
   "cell_type": "markdown",
   "id": "56fa8204-1fec-498a-a0da-ec2c83320e85",
   "metadata": {},
   "source": [
    "#### Answer 8:\n",
    "\n",
    "we can pretty print a dictionary using three functions\n",
    "\n",
    "-by using pprint() function of pprint module\n",
    "\n",
    "Note: pprint() function doesnot prettify nested dictionaries\n",
    "\n",
    "-by using dumps() method of json module\n",
    "\n",
    "-by using dumps() method of yaml module"
   ]
  },
  {
   "cell_type": "code",
   "execution_count": null,
   "id": "95778f74-c0f0-469e-8e63-ab922fa2101a",
   "metadata": {},
   "outputs": [],
   "source": []
  }
 ],
 "metadata": {
  "kernelspec": {
   "display_name": "Python 3 (ipykernel)",
   "language": "python",
   "name": "python3"
  },
  "language_info": {
   "codemirror_mode": {
    "name": "ipython",
    "version": 3
   },
   "file_extension": ".py",
   "mimetype": "text/x-python",
   "name": "python",
   "nbconvert_exporter": "python",
   "pygments_lexer": "ipython3",
   "version": "3.9.7"
  }
 },
 "nbformat": 4,
 "nbformat_minor": 5
}

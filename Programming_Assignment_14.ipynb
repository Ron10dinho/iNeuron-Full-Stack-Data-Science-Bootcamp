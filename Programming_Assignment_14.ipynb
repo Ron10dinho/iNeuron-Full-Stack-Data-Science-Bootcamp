{
 "cells": [
  {
   "cell_type": "markdown",
   "id": "55e2add9-0fc6-4580-a0e8-ea7a3c5ccf77",
   "metadata": {},
   "source": [
    "#### Answer 1."
   ]
  },
  {
   "cell_type": "code",
   "execution_count": 4,
   "id": "e175c24e-12b6-4c4d-b97c-742f889bb879",
   "metadata": {},
   "outputs": [
    {
     "name": "stdout",
     "output_type": "stream",
     "text": [
      "0 7 14 21 28 35 42 49 56 63 70 77 84 91 98 "
     ]
    }
   ],
   "source": [
    "class div_7:\n",
    "    def __init__(self,inp):\n",
    "        self.inp = inp\n",
    "    def numbers(self):\n",
    "        for ele in range(self.inp+1):\n",
    "            if ele%7==0:\n",
    "                yield ele\n",
    "output = div_7(100)\n",
    "for ele in output.numbers():\n",
    "    print(ele,end=' ')"
   ]
  },
  {
   "cell_type": "markdown",
   "id": "1bcd8c1e-ce0c-48c2-ab48-c4465039970f",
   "metadata": {},
   "source": [
    "#### Answer 2."
   ]
  },
  {
   "cell_type": "code",
   "execution_count": 8,
   "id": "491a9bb1-bdda-4c4a-a86a-f884beb1a70c",
   "metadata": {},
   "outputs": [
    {
     "name": "stdin",
     "output_type": "stream",
     "text": [
      "Enter string :  New to Python or choosing between Python 2 and Python 3? Read Python 2 or Python 3.\n"
     ]
    },
    {
     "name": "stdout",
     "output_type": "stream",
     "text": [
      "Frequency :\n",
      "2:2 3.:1 3?:1 New:1 Python:5 Read:1 and:1 between:1 choosing:1 or:2 to:1 "
     ]
    }
   ],
   "source": [
    "def frequency_1():\n",
    "    inp = input(\"Enter string : \")\n",
    "    frequency = {}\n",
    "    for ele in inp.split(\" \"):\n",
    "        if (frequency.get(ele) == None):\n",
    "            frequency[ele] = 1\n",
    "        else:\n",
    "            frequency[ele] += 1\n",
    "    # print(frequency)\n",
    "    print(\"Frequency :\")\n",
    "    for ele in sorted(frequency):\n",
    "        print(f\"{ele}:{frequency[ele]}\",end=' ')\n",
    "frequency_1()"
   ]
  },
  {
   "cell_type": "markdown",
   "id": "150bbbdc-0947-4da1-b885-b77c1b8db3ea",
   "metadata": {},
   "source": [
    "#### Answer 3"
   ]
  },
  {
   "cell_type": "code",
   "execution_count": 9,
   "id": "81cdf6d8-64ee-4e11-babd-5743f3636b46",
   "metadata": {},
   "outputs": [
    {
     "name": "stdout",
     "output_type": "stream",
     "text": [
      "Male\n",
      "Female\n"
     ]
    }
   ],
   "source": [
    "class Person():\n",
    "    def getGender():\n",
    "        pass\n",
    "class Male(Person):\n",
    "    def getGender():\n",
    "        print(\"Male\")\n",
    "class Female(Person):\n",
    "    def getGender():\n",
    "        print(\"Female\")\n",
    "        \n",
    "Male.getGender()\n",
    "Female.getGender()"
   ]
  },
  {
   "cell_type": "markdown",
   "id": "46a5e53b-c504-4286-b70e-3ddbd21b542c",
   "metadata": {},
   "source": [
    "#### Answer 4"
   ]
  },
  {
   "cell_type": "code",
   "execution_count": 10,
   "id": "df8e8c6a-4c7a-410e-89d6-dc539775d364",
   "metadata": {},
   "outputs": [
    {
     "name": "stdout",
     "output_type": "stream",
     "text": [
      "I Play Hockey\n",
      "I Play Football\n",
      "I Love Hockey\n",
      "I Love Football\n",
      "You Play Hockey\n",
      "You Play Football\n",
      "You Love Hockey\n",
      "You Love Football\n"
     ]
    }
   ],
   "source": [
    "def generate_sentences():\n",
    "    subject = ['I','You']\n",
    "    verb = ['Play','Love']\n",
    "    object = ['Hockey','Football']\n",
    "    for s in subject:\n",
    "        for v in verb:\n",
    "            for o in object:\n",
    "                print(f\"{s} {v} {o}\")\n",
    "generate_sentences()"
   ]
  },
  {
   "cell_type": "markdown",
   "id": "7d83cae6-56e5-45b6-8d8c-b696e7276e01",
   "metadata": {},
   "source": [
    "#### Answer 5"
   ]
  },
  {
   "cell_type": "code",
   "execution_count": 12,
   "id": "61553d1b-0381-4aff-b8d0-b149e357537d",
   "metadata": {},
   "outputs": [
    {
     "name": "stdout",
     "output_type": "stream",
     "text": [
      "hel2o world!hel2o world!hel2o world!hel2o world!\n",
      "hello world!hello world!hello world!hello world!\n"
     ]
    }
   ],
   "source": [
    "def compress(inp):\n",
    "    output = inp[0]\n",
    "    count = 1\n",
    "    for ele in range(len(inp) - 1):\n",
    "        if inp[ele] == inp[ele+1]:\n",
    "            count += 1\n",
    "        else:\n",
    "            if count > 1:\n",
    "                output += str(count)\n",
    "            output += inp[ele+1]\n",
    "            count = 1\n",
    "    if count > 1:\n",
    "        output += str(count)\n",
    "    print(output)\n",
    "    \n",
    "def decompress(inp):\n",
    "    output = ''\n",
    "    for ele in range(len(inp)):\n",
    "        if inp[ele].isdigit():\n",
    "            output += output[-1]*(int(inp[ele])-1)\n",
    "        else:\n",
    "            output += inp[ele]\n",
    "    print(output)\n",
    "    \n",
    "compress(\"hello world!hello world!hello world!hello world!\")\n",
    "decompress(\"hel2o world!hel2o world!hel2o world!hel2o world!\")"
   ]
  },
  {
   "cell_type": "markdown",
   "id": "3e120cac-47ee-48d3-be7d-bb856c1b1a27",
   "metadata": {},
   "source": [
    "#### Answer 6"
   ]
  },
  {
   "cell_type": "code",
   "execution_count": 14,
   "id": "86ab94a1-ee88-4ff1-b942-32507a994fd4",
   "metadata": {},
   "outputs": [
    {
     "data": {
      "text/plain": [
       "4"
      ]
     },
     "execution_count": 14,
     "metadata": {},
     "output_type": "execute_result"
    }
   ],
   "source": [
    "def binary_search(lst,num):\n",
    "    low = 0\n",
    "    high = len(lst) - 1\n",
    "    while low <= high:\n",
    "        mid = high + low // 2\n",
    "        if lst[mid] < num:\n",
    "            low = mid + 1\n",
    "        elif lst[mid] > num:\n",
    "            high = mid - 1\n",
    "        else:\n",
    "            return mid\n",
    "    else:\n",
    "        return \"Input element not in the list.\"\n",
    "\n",
    "lst = [1,2,3,4,5,6,7,8,9]\n",
    "binary_search(lst,5)"
   ]
  },
  {
   "cell_type": "code",
   "execution_count": null,
   "id": "e767a9a3-9b9a-4405-a8c8-d4a145d30d15",
   "metadata": {},
   "outputs": [],
   "source": []
  }
 ],
 "metadata": {
  "kernelspec": {
   "display_name": "Python 3 (ipykernel)",
   "language": "python",
   "name": "python3"
  },
  "language_info": {
   "codemirror_mode": {
    "name": "ipython",
    "version": 3
   },
   "file_extension": ".py",
   "mimetype": "text/x-python",
   "name": "python",
   "nbconvert_exporter": "python",
   "pygments_lexer": "ipython3",
   "version": "3.9.7"
  }
 },
 "nbformat": 4,
 "nbformat_minor": 5
}

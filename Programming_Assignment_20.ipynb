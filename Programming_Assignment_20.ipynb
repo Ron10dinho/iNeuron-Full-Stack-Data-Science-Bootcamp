{
 "cells": [
  {
   "cell_type": "markdown",
   "id": "a38a307a-dda3-40fa-a8fe-4aa85221d714",
   "metadata": {},
   "source": [
    "#### Answer 1. "
   ]
  },
  {
   "cell_type": "code",
   "execution_count": 2,
   "id": "926e4763-9c44-474c-affa-6c15354419f2",
   "metadata": {},
   "outputs": [
    {
     "name": "stdout",
     "output_type": "stream",
     "text": [
      "Output : [1, 2, 3, 4]\n"
     ]
    }
   ],
   "source": [
    "def filter_ints(lst):\n",
    "    output = []\n",
    "    for ele in lst:\n",
    "        if type(ele) == int:\n",
    "            output.append(ele)\n",
    "    print(f\"Output : {output}\")\n",
    "lst = [1, 2, 3, \"a\", \"b\", 4]\n",
    "filter_ints(lst)"
   ]
  },
  {
   "cell_type": "markdown",
   "id": "b8c63d2b-8918-4822-918e-866d61383af0",
   "metadata": {},
   "source": [
    "#### Answer 2. "
   ]
  },
  {
   "cell_type": "code",
   "execution_count": 3,
   "id": "e1923d02-0be3-4232-8b3b-af9fd093f714",
   "metadata": {},
   "outputs": [
    {
     "name": "stdout",
     "output_type": "stream",
     "text": [
      "Output : [1, 3, 5, 7, 9]\n"
     ]
    }
   ],
   "source": [
    "def add_indexes(inp):\n",
    "    output = []\n",
    "    for ele in range(len(inp)):\n",
    "        output.append(ele+inp[ele])\n",
    "    print(f\"Output : {output}\")\n",
    "lst = [1,2,3,4,5]\n",
    "add_indexes(lst)"
   ]
  },
  {
   "cell_type": "markdown",
   "id": "70ee5f35-7fe4-4631-b70d-e6342ae79f17",
   "metadata": {},
   "source": [
    "#### Answer 3. "
   ]
  },
  {
   "cell_type": "code",
   "execution_count": 4,
   "id": "7a0c25be-2e52-49a1-9168-041f4967e057",
   "metadata": {},
   "outputs": [
    {
     "name": "stdout",
     "output_type": "stream",
     "text": [
      "Output : 565.49\n"
     ]
    }
   ],
   "source": [
    "import math\n",
    "def vol_cube(height,radius):\n",
    "    output = ((math.pi)*pow(radius,2))*(height/3)\n",
    "    print(f\"Output : {output:.2f}\")\n",
    "vol_cube(15,6)"
   ]
  },
  {
   "cell_type": "markdown",
   "id": "c00ce860-89a1-4451-b817-286fea94b144",
   "metadata": {},
   "source": [
    "#### Answer 4."
   ]
  },
  {
   "cell_type": "code",
   "execution_count": 6,
   "id": "199d2618-0cfd-41a3-ab8f-8ff503df013f",
   "metadata": {},
   "outputs": [
    {
     "name": "stdout",
     "output_type": "stream",
     "text": [
      "Output : 21\n"
     ]
    }
   ],
   "source": [
    "def test(inp):\n",
    "    print(f\"Output : {int((inp)*((inp+1)/2))}\")\n",
    "test(6)"
   ]
  },
  {
   "cell_type": "markdown",
   "id": "d365fd7b-627c-4571-bc1b-5a58e5267476",
   "metadata": {},
   "source": [
    "#### Answer 5."
   ]
  },
  {
   "cell_type": "code",
   "execution_count": 7,
   "id": "e9e682f7-61a2-4d93-af91-eb33cdc3dbce",
   "metadata": {},
   "outputs": [
    {
     "name": "stdout",
     "output_type": "stream",
     "text": [
      "6 is not in the list.\n"
     ]
    }
   ],
   "source": [
    "def missing_number(inp):\n",
    "    for i in range(1,11):\n",
    "        if i not in inp:\n",
    "            print(f\"{i} is not in the list.\")\n",
    "lst = [1,2,3,4,5,7,8,9,10]\n",
    "missing_number(lst)"
   ]
  },
  {
   "cell_type": "code",
   "execution_count": null,
   "id": "a735565e-3d3b-49e0-88c6-bbd96a010398",
   "metadata": {},
   "outputs": [],
   "source": []
  }
 ],
 "metadata": {
  "kernelspec": {
   "display_name": "Python 3 (ipykernel)",
   "language": "python",
   "name": "python3"
  },
  "language_info": {
   "codemirror_mode": {
    "name": "ipython",
    "version": 3
   },
   "file_extension": ".py",
   "mimetype": "text/x-python",
   "name": "python",
   "nbconvert_exporter": "python",
   "pygments_lexer": "ipython3",
   "version": "3.9.7"
  }
 },
 "nbformat": 4,
 "nbformat_minor": 5
}

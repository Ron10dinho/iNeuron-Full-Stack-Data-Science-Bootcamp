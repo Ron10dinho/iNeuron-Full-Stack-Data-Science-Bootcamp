{
 "cells": [
  {
   "cell_type": "markdown",
   "id": "a0f2e0dc-61d5-4a44-a9e5-520d662591bf",
   "metadata": {},
   "source": [
    "#### Answer 1. "
   ]
  },
  {
   "cell_type": "code",
   "execution_count": 2,
   "id": "1cbbacd8-e023-4a90-9ad7-d4993d29a839",
   "metadata": {},
   "outputs": [
    {
     "name": "stdout",
     "output_type": "stream",
     "text": [
      "Final list : [3, 6, 9]\n"
     ]
    }
   ],
   "source": [
    "def list_operations(start,end,divisor):\n",
    "    empty = []\n",
    "    for ele in range(start,end+1):\n",
    "        if ele%divisor == 0:\n",
    "            empty.append(ele)\n",
    "    print(f\"Final list : {empty}\")\n",
    "    \n",
    "list_operations(1,10,3)"
   ]
  },
  {
   "cell_type": "markdown",
   "id": "0bb83ea9-913c-4a32-aa93-8aae7775775d",
   "metadata": {},
   "source": [
    "#### Answer 2."
   ]
  },
  {
   "cell_type": "code",
   "execution_count": 3,
   "id": "b889e6cf-c9fd-4f16-afe3-24258a9b0c00",
   "metadata": {},
   "outputs": [
    {
     "name": "stdout",
     "output_type": "stream",
     "text": [
      "([1, 2], [5, 1]) ➞ True\n"
     ]
    }
   ],
   "source": [
    "def simon_says(in_list_1,in_list_2):\n",
    "    if len(in_list_1) == len(in_list_1) and len(in_list_1) >=2 and len(in_list_1) >=2:\n",
    "        if(in_list_1[:-1] == in_list_2[1:]):\n",
    "            print(f'{in_list_1,in_list_2} ➞ {True}')\n",
    "        else:\n",
    "            print(f'{in_list_1,in_list_2} ➞ {False}')\n",
    "            \n",
    "simon_says([1,2],[5,1])"
   ]
  },
  {
   "cell_type": "markdown",
   "id": "ab0c9f7e-3f1b-4673-9b64-1cad991f9825",
   "metadata": {},
   "source": [
    "#### Answer 3. "
   ]
  },
  {
   "cell_type": "code",
   "execution_count": 4,
   "id": "ed3fe740-2959-4476-b910-8c64f25b8c0e",
   "metadata": {},
   "outputs": [
    {
     "name": "stdout",
     "output_type": "stream",
     "text": [
      "Society Name : CJMPRR\n"
     ]
    }
   ],
   "source": [
    "def society_name(lst):\n",
    "    empty = []\n",
    "    for ele in lst:\n",
    "        empty.append(ele[0])\n",
    "    final = ''.join(sorted(empty))\n",
    "    print(f\"Society Name : {final}\")\n",
    "lst = [\"Phoebe\", \"Chandler\", \"Rachel\", \"Ross\", \"Monica\", \"Joey\"]\n",
    "society_name(lst)"
   ]
  },
  {
   "cell_type": "markdown",
   "id": "22c1ae72-db9c-4b38-b3ae-7747870584d6",
   "metadata": {},
   "source": [
    "#### Answer 4. "
   ]
  },
  {
   "cell_type": "code",
   "execution_count": 8,
   "id": "f6cce997-967f-4692-8436-00afbe1a2913",
   "metadata": {},
   "outputs": [
    {
     "name": "stdout",
     "output_type": "stream",
     "text": [
      "Algorism is an Isogram.\n",
      "Password is not an Isogram.\n"
     ]
    }
   ],
   "source": [
    "def is_isogram(inp):\n",
    "    inp_lowerCase = inp.lower()\n",
    "    if len(inp_lowerCase) == len(set(inp_lowerCase)):\n",
    "        print(f\"{inp} is an Isogram.\")\n",
    "    else:\n",
    "        print(f\"{inp} is not an Isogram.\")\n",
    "is_isogram(\"Algorism\")\n",
    "is_isogram(\"Password\")"
   ]
  },
  {
   "cell_type": "markdown",
   "id": "5b89e164-b384-4744-a6a3-6ad347262f29",
   "metadata": {},
   "source": [
    "#### Answer 5.  "
   ]
  },
  {
   "cell_type": "code",
   "execution_count": 18,
   "id": "b33d0965-eb87-41b3-bb4b-3298d180a62d",
   "metadata": {},
   "outputs": [
    {
     "name": "stdout",
     "output_type": "stream",
     "text": [
      "False , edabit is not in order.\n",
      "True , xyzz is in order.\n"
     ]
    }
   ],
   "source": [
    "def is_in_order(inp):\n",
    "    sorted_inp = ''.join(sorted(inp))\n",
    "    if inp == sorted_inp:\n",
    "        print(f\"True , {inp} is in order.\")\n",
    "    else:\n",
    "        print(f\"False , {inp} is not in order.\")\n",
    "is_in_order(\"edabit\")\n",
    "is_in_order(\"xyzz\")"
   ]
  },
  {
   "cell_type": "code",
   "execution_count": null,
   "id": "209545e3-e9a1-4ec1-a9cb-15a88a19c3cf",
   "metadata": {},
   "outputs": [],
   "source": []
  }
 ],
 "metadata": {
  "kernelspec": {
   "display_name": "Python 3 (ipykernel)",
   "language": "python",
   "name": "python3"
  },
  "language_info": {
   "codemirror_mode": {
    "name": "ipython",
    "version": 3
   },
   "file_extension": ".py",
   "mimetype": "text/x-python",
   "name": "python",
   "nbconvert_exporter": "python",
   "pygments_lexer": "ipython3",
   "version": "3.9.7"
  }
 },
 "nbformat": 4,
 "nbformat_minor": 5
}

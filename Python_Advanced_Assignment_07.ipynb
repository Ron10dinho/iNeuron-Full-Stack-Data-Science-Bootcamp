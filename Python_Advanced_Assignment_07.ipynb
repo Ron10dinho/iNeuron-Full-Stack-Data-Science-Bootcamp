{
 "cells": [
  {
   "cell_type": "markdown",
   "id": "0ae3acdf-24f0-4e2e-bfe0-3828d88322f9",
   "metadata": {},
   "source": [
    "###  Q1. What is the purpose of the try statement?"
   ]
  },
  {
   "cell_type": "markdown",
   "id": "b59f30ed-1795-4ba4-bfbf-8baadf99ea44",
   "metadata": {},
   "source": [
    "try statement is used for exception handling in python. it consists of a block of risky statements which might cause an exception during runtime. if code within try block raises exception, then the exception will be reverted to the corresponding except block if multiple except blocks are present, else it willbe reverted to the default except block. In short try and except in union avoid programs from crashing during runtime due to exceptions."
   ]
  },
  {
   "cell_type": "code",
   "execution_count": 1,
   "id": "aa451a86-42db-4f1a-ba6f-bb0b5d638f22",
   "metadata": {},
   "outputs": [
    {
     "name": "stdout",
     "output_type": "stream",
     "text": [
      "Division by Zero is Not Possible\n"
     ]
    }
   ],
   "source": [
    "try:\n",
    "    print(10/0)\n",
    "except ZeroDivisionError:\n",
    "    print('Division by Zero is Not Possible')"
   ]
  },
  {
   "cell_type": "markdown",
   "id": "2a626479-213d-4cc3-bd2e-690e49c97062",
   "metadata": {},
   "source": [
    "### Q2. What are the two most popular try statement variations? "
   ]
  },
  {
   "cell_type": "markdown",
   "id": "291a71a8-3094-4eb2-a5e9-ef63e925a67f",
   "metadata": {},
   "source": [
    "The Popular try statement variations are :\n",
    "1. try, except\n",
    "2. try, except, finally\n",
    "3. try, except, finally, else\n",
    "\n",
    "The try block is used to check code for exceptions during runtime. ie code inside try block will execute completely when there is no error in the program. Whereas the code inside except block will execute whenever the program encounters some error in the preceeding try block.\n",
    "\n",
    "Whereas the code enters the else block if and only if the try clause does not raise and exception. The code in the finally block will execute irrespective of exception."
   ]
  },
  {
   "cell_type": "markdown",
   "id": "1ded7195-97d6-46ca-8771-bb3385ff0cfb",
   "metadata": {},
   "source": [
    "### Q3. What is the purpose of the raise statement? "
   ]
  },
  {
   "cell_type": "markdown",
   "id": "3aff7e23-3d53-462e-abbd-591d00848cd5",
   "metadata": {},
   "source": [
    "raise statement is used to trigger an exception explicitly, if a certain condition is not as per requirement of programmer. raise statement helps in triggering exception as per programming logic."
   ]
  },
  {
   "cell_type": "code",
   "execution_count": 2,
   "id": "acfa239b-27d4-487a-bf98-a37b4c0b9760",
   "metadata": {},
   "outputs": [
    {
     "ename": "AssertionError",
     "evalue": "this is not a valid statement",
     "output_type": "error",
     "traceback": [
      "\u001b[1;31m---------------------------------------------------------------------------\u001b[0m",
      "\u001b[1;31mAssertionError\u001b[0m                            Traceback (most recent call last)",
      "Cell \u001b[1;32mIn[2], line 1\u001b[0m\n\u001b[1;32m----> 1\u001b[0m \u001b[38;5;28;01massert\u001b[39;00m(\u001b[38;5;241m2\u001b[39m \u001b[38;5;241m==\u001b[39m \u001b[38;5;241m4\u001b[39m), \u001b[38;5;124mf\u001b[39m\u001b[38;5;124m'\u001b[39m\u001b[38;5;124mthis is not a valid statement\u001b[39m\u001b[38;5;124m'\u001b[39m\n",
      "\u001b[1;31mAssertionError\u001b[0m: this is not a valid statement"
     ]
    }
   ],
   "source": [
    "assert(2 == 4), f'this is not a valid statement'"
   ]
  },
  {
   "cell_type": "markdown",
   "id": "aba4bf21-19a7-4820-96e5-d7267872dc74",
   "metadata": {},
   "source": [
    "### Q5. What is the purpose of the with/as argument, and what other statement is it like?"
   ]
  },
  {
   "cell_type": "markdown",
   "id": "3851dc1f-4905-4933-b5bb-e763c540fcd2",
   "metadata": {},
   "source": [
    "with/as statement simplifies use of file handling in python. When we use a with statement for file reading, there is no need for programmer to explicitly takecare of activities like resource deallocation and file closing by using file.close() method. with statement itself ensures proper acquisition and release of resources. this avoids triggering of exceptions if file closing is unknowingly forgotten in the code execution."
   ]
  },
  {
   "cell_type": "code",
   "execution_count": 3,
   "id": "5480e935-081c-430b-9ddd-ecc2337e193c",
   "metadata": {},
   "outputs": [],
   "source": [
    "# with open('sample_file.txt','w') as file: file.write('Hello World')"
   ]
  },
  {
   "cell_type": "code",
   "execution_count": null,
   "id": "2997df77-b640-4ec5-9a6b-de030102aa93",
   "metadata": {},
   "outputs": [],
   "source": []
  }
 ],
 "metadata": {
  "kernelspec": {
   "display_name": "Python 3 (ipykernel)",
   "language": "python",
   "name": "python3"
  },
  "language_info": {
   "codemirror_mode": {
    "name": "ipython",
    "version": 3
   },
   "file_extension": ".py",
   "mimetype": "text/x-python",
   "name": "python",
   "nbconvert_exporter": "python",
   "pygments_lexer": "ipython3",
   "version": "3.10.9"
  }
 },
 "nbformat": 4,
 "nbformat_minor": 5
}

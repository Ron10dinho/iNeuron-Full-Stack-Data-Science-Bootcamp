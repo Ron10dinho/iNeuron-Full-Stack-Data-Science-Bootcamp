{
 "cells": [
  {
   "cell_type": "markdown",
   "id": "967b8114-8790-42c3-8ba5-83270a6f5c6d",
   "metadata": {},
   "source": [
    "#### Answer 1."
   ]
  },
  {
   "cell_type": "raw",
   "id": "617be326-6a17-494b-a29c-813052c60416",
   "metadata": {},
   "source": [
    "PdfFileReader() = Should be opened in rb (read binary) mode.\n",
    "PdfFileWriter() = Should be opened in wb (write binary) mode."
   ]
  },
  {
   "cell_type": "markdown",
   "id": "95237820-de81-4870-a108-cc27f2452fbd",
   "metadata": {},
   "source": [
    "#### Answer 2."
   ]
  },
  {
   "cell_type": "raw",
   "id": "ddda67d6-df66-48d9-ae3e-f2cff4392e91",
   "metadata": {},
   "source": [
    "PdfFileReader class provides the getPage() method with the Page Number as the argument to get a page object . "
   ]
  },
  {
   "cell_type": "markdown",
   "id": "aaf8e36b-446b-4e91-a1c8-7de6d3f3277d",
   "metadata": {},
   "source": [
    "#### Answer 3."
   ]
  },
  {
   "cell_type": "raw",
   "id": "fe62adea-670a-4a22-9336-67d864855bf9",
   "metadata": {},
   "source": [
    "getNumPages() method ."
   ]
  },
  {
   "cell_type": "markdown",
   "id": "9f3136e7-155e-47d6-9caa-3250cb454823",
   "metadata": {},
   "source": [
    "#### Answer 4."
   ]
  },
  {
   "cell_type": "raw",
   "id": "afca82f8-1594-4d85-9640-3c3a3f1acf7b",
   "metadata": {},
   "source": [
    "1. Read the Pdf using the PdfFileReader Class.\n",
    "\n",
    "2. Use the isEncrypted attribute of the PdfFileReader Class to check whether a pdf is encrypted or not . \n",
    "\n",
    "3. Use the decrypt() method and then try to read the contents/pages of the pdf ."
   ]
  },
  {
   "cell_type": "markdown",
   "id": "e43ddeda-101b-42f3-9a4d-4b2a5f95b1d4",
   "metadata": {},
   "source": [
    "#### Answer 5."
   ]
  },
  {
   "cell_type": "raw",
   "id": "6fd4ef50-27b5-4961-9457-2a50f3f5f8c6",
   "metadata": {},
   "source": [
    "rotateClockwise() for clockwise rotation.\n",
    "rotateCounterClockWise() for anti-clockwise rotation."
   ]
  },
  {
   "cell_type": "markdown",
   "id": "bcf581cd-ba30-4d67-b4aa-5f2aa7e374d8",
   "metadata": {},
   "source": [
    "#### Answer 6."
   ]
  },
  {
   "cell_type": "raw",
   "id": "7380593c-9752-40d2-ada1-fb5439fb1529",
   "metadata": {},
   "source": [
    "The structure of a document is represented by three different data types in python-Docx. At the highest level, a Document object represents the entire document. \n",
    "The Document object contains a list of PARAGRAPH objects for the paragraphs in the document. \n",
    "    Each of these Paragraph objects contains a list of one or more RUN objects . "
   ]
  },
  {
   "cell_type": "markdown",
   "id": "07d87da5-9878-45d7-bf67-b6d1279fd0b8",
   "metadata": {},
   "source": [
    "#### Answer 7."
   ]
  },
  {
   "cell_type": "code",
   "execution_count": null,
   "id": "4c116509-c7dc-491b-9dd8-6600d6b9e741",
   "metadata": {},
   "outputs": [],
   "source": [
    "from docx import Document\n",
    "doc = Docuent(\"test_file.docx\")\n",
    "print(doc.paragraphs)\n",
    "for paragraph in doc.paragraphs:\n",
    "    print(paragraph.text)"
   ]
  },
  {
   "cell_type": "markdown",
   "id": "d6c82ba0-8a37-4f9a-bfb1-ccf40bc5b319",
   "metadata": {},
   "source": [
    "#### Answer 8."
   ]
  },
  {
   "cell_type": "raw",
   "id": "91d87c52-fc86-4c04-86ba-8f0c6da1a25f",
   "metadata": {},
   "source": [
    "Run object ."
   ]
  },
  {
   "cell_type": "markdown",
   "id": "65648db2-5186-4f19-a1eb-bc4bd78eee35",
   "metadata": {},
   "source": [
    "#### Answer 9."
   ]
  },
  {
   "cell_type": "raw",
   "id": "7f332f9d-ee0a-40ca-b717-4c9fe95a2ff2",
   "metadata": {},
   "source": [
    "bold = True --> Style set to bold\n",
    "bold = False --> Style not set to bold\n",
    "bold = None --> Style is not applicable"
   ]
  },
  {
   "cell_type": "markdown",
   "id": "50772a0b-ddb7-478e-afdb-d60d070d1a35",
   "metadata": {},
   "source": [
    "#### Answer 10"
   ]
  },
  {
   "cell_type": "code",
   "execution_count": null,
   "id": "0e4ec0a8-0d66-422e-ae8f-9dcea8c097dc",
   "metadata": {},
   "outputs": [],
   "source": [
    "from docx import Document\n",
    "document = Document()\n",
    "document.add_paragraph(\"Test Paragraph\")\n",
    "document.save('Test_Paragraph.docx')"
   ]
  },
  {
   "cell_type": "markdown",
   "id": "be732e3b-a978-4910-8f1e-5b9c131da9af",
   "metadata": {},
   "source": [
    "#### Answer 11"
   ]
  },
  {
   "cell_type": "code",
   "execution_count": null,
   "id": "bb395721-d80e-4d0a-8e8f-46dda2db6627",
   "metadata": {},
   "outputs": [],
   "source": [
    "from docx import Document\n",
    "doc = Document()\n",
    "doc.add_paragraph(\"Hello World!\")\n",
    "doc.save(\"Hello_world.docx\")"
   ]
  },
  {
   "cell_type": "markdown",
   "id": "07953af3-9a57-48b2-b326-4f6d654c07f7",
   "metadata": {},
   "source": [
    "#### Answer 12"
   ]
  },
  {
   "cell_type": "raw",
   "id": "d9d4fabb-fca2-496f-8152-17b584377c60",
   "metadata": {},
   "source": [
    "Using the level attribute inside the add_heading method."
   ]
  },
  {
   "cell_type": "code",
   "execution_count": null,
   "id": "b0a57bd5-ca24-409d-be0c-63d5470b76ba",
   "metadata": {},
   "outputs": [],
   "source": []
  }
 ],
 "metadata": {
  "kernelspec": {
   "display_name": "Python 3 (ipykernel)",
   "language": "python",
   "name": "python3"
  },
  "language_info": {
   "codemirror_mode": {
    "name": "ipython",
    "version": 3
   },
   "file_extension": ".py",
   "mimetype": "text/x-python",
   "name": "python",
   "nbconvert_exporter": "python",
   "pygments_lexer": "ipython3",
   "version": "3.9.7"
  }
 },
 "nbformat": 4,
 "nbformat_minor": 5
}

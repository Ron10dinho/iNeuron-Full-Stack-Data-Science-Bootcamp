{
 "cells": [
  {
   "cell_type": "markdown",
   "id": "be40b5f1-a498-4245-b40c-9df06d2781fd",
   "metadata": {},
   "source": [
    "#### Answer 1"
   ]
  },
  {
   "cell_type": "markdown",
   "id": "0cfe4934-6ee9-41ee-9330-e987ece52d98",
   "metadata": {},
   "source": [
    "The relative path is the path to some file with repect to your current working directory (PWD) .\n",
    "\n",
    "Example : \n",
    "\n",
    "Absolute path = C:/users/admin/docs/stuff.txt\n",
    "\n",
    "PWD = C:/users/admin\n",
    "\n",
    "Relative path to stuff.txt is = docs/stuff.txt"
   ]
  },
  {
   "cell_type": "markdown",
   "id": "2e13e1b4-0784-444f-b75e-bd20bec7c8fd",
   "metadata": {},
   "source": [
    "#### Answer 2"
   ]
  },
  {
   "cell_type": "markdown",
   "id": "434f149c-2c91-478d-84fa-c188fcd7e4e1",
   "metadata": {},
   "source": [
    "The absolute path starts with \"/\" in Linux systems , whereas in Windows based systems absolute path starts with C:."
   ]
  },
  {
   "cell_type": "markdown",
   "id": "59aa0ed7-f41f-4ad8-930e-e95e4f13e681",
   "metadata": {},
   "source": [
    "#### Answer 3"
   ]
  },
  {
   "cell_type": "markdown",
   "id": "99ef5926-0ef9-4dbe-8687-400752c62e49",
   "metadata": {},
   "source": [
    "os.getcwd() = Tells us the location of the current working directory (CWD).\n",
    "\n",
    "os.chdir() = Used to change the current working directory to specified path."
   ]
  },
  {
   "cell_type": "markdown",
   "id": "91ff3560-1ff3-4297-add5-754cd55ac347",
   "metadata": {},
   "source": [
    "#### Answer 4"
   ]
  },
  {
   "cell_type": "markdown",
   "id": "201b3bc3-d5c6-4d33-98b8-fd6ff8379ae6",
   "metadata": {},
   "source": [
    "(\".\") represents the Current Directory \n",
    "\n",
    "(\"..\") represents the Parent Directory of the Current directory . "
   ]
  },
  {
   "cell_type": "markdown",
   "id": "1755a13b-f239-4d71-816d-343e0cf3d8b9",
   "metadata": {},
   "source": [
    "#### Answer 5"
   ]
  },
  {
   "cell_type": "markdown",
   "id": "f917e711-35e2-4a40-baac-763a2adae729",
   "metadata": {},
   "source": [
    "For C:\\bacon\\eggs\\spam.txt\n",
    "\n",
    "The dir name is C:\\bacon\\eggs\n",
    "\n",
    "The Base name is spam.txt"
   ]
  },
  {
   "cell_type": "markdown",
   "id": "58115f65-6758-44ec-8836-170afadf3037",
   "metadata": {},
   "source": [
    "#### Answer 6"
   ]
  },
  {
   "cell_type": "markdown",
   "id": "b31617d1-5e2f-4499-af27-8b3760635b99",
   "metadata": {},
   "source": [
    "A file can be accessed using the open() function . \n",
    "\n",
    "It takes 2 arguments : \"filename\" and \"mode of operation\" . \n",
    "\n",
    "syntax being : open(filename,mode)\n",
    "\n",
    "    - 'r' = Read mode\n",
    "    - 'w' = Write mode\n",
    "    - 'r+' = Read/Write mode\n",
    "    - 'a' = Append mode\n",
    "    - 'a+' = Append and Read mode\n",
    "    - 'x' = Exclusive Creating mode"
   ]
  },
  {
   "cell_type": "markdown",
   "id": "e1b82c0b-9f5f-477c-a334-15209dc579aa",
   "metadata": {},
   "source": [
    "#### Answer 7"
   ]
  },
  {
   "cell_type": "markdown",
   "id": "4cd1246f-191a-414a-8713-f1a1325260c7",
   "metadata": {},
   "source": [
    "Overwrite any existing content in a file . \n",
    "\n",
    "If the file does not exist , a new one will be created . "
   ]
  },
  {
   "cell_type": "markdown",
   "id": "c1d263b4-f0de-4941-b809-ad2e17c6b2df",
   "metadata": {},
   "source": [
    "#### Answer 8"
   ]
  },
  {
   "cell_type": "markdown",
   "id": "a5057ad6-5403-4a81-ae32-af3bde3fde7d",
   "metadata": {},
   "source": [
    "The main difference is that read() will read the whole file at once and then print out the first characters that take up as many bytes as you specify in the parenthesis\n",
    "\n",
    "Whereas the readline() that will read and print out only the first characters that take up as many bytes as you specify in the parenthesis. You may want to use readline() when you're reading files that are too big for your RAM.\n",
    "\n",
    "The read() would treat each character in the file separately, meaning that the iteration would happen for every character.\n",
    "\n",
    "The readline() function, on the other hand, only reads a single line of the file. This means that if the first line of the file were three lines long, the readline() function would only parse (or iterate/operate) on the first line of the file.\n"
   ]
  },
  {
   "cell_type": "markdown",
   "id": "5f0ab3a0-a6c4-4cdf-a234-8bd17a741c54",
   "metadata": {},
   "source": [
    "#### Answer 9 "
   ]
  },
  {
   "cell_type": "markdown",
   "id": "1415ef86-c8a4-45b3-940a-fe81837a1396",
   "metadata": {},
   "source": [
    "As it contains keys and values , it represents a Dictionary ."
   ]
  },
  {
   "cell_type": "code",
   "execution_count": null,
   "id": "cb20f78c-e7a6-45c7-83d0-47b510808b21",
   "metadata": {},
   "outputs": [],
   "source": []
  }
 ],
 "metadata": {
  "kernelspec": {
   "display_name": "Python 3 (ipykernel)",
   "language": "python",
   "name": "python3"
  },
  "language_info": {
   "codemirror_mode": {
    "name": "ipython",
    "version": 3
   },
   "file_extension": ".py",
   "mimetype": "text/x-python",
   "name": "python",
   "nbconvert_exporter": "python",
   "pygments_lexer": "ipython3",
   "version": "3.9.7"
  }
 },
 "nbformat": 4,
 "nbformat_minor": 5
}

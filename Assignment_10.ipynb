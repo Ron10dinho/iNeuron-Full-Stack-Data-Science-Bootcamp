{
 "cells": [
  {
   "cell_type": "markdown",
   "id": "1a39a6ba-1d39-4b2a-928b-2b8bb6deb669",
   "metadata": {},
   "source": [
    "#### Answer 1"
   ]
  },
  {
   "cell_type": "markdown",
   "id": "9c8f9683-33bc-45df-820c-8d683307fdd8",
   "metadata": {},
   "source": [
    "    shutil.copy() : This method is used to copy the contents of a file/folder from one file to another . \n",
    "\n",
    "It primarily takes 2 arguments , \"src\" and \"dest\" . \n",
    "\n",
    "src = Represents the file to be copied\n",
    "dest = Represents the file/folder to where the src data should be copied.\n",
    "\n",
    "    shutil.copytree() : Used to copy the entire contents of a folder to other folder . \n",
    "\n",
    "It primarily takes 2 arguments : \"src\" and \"dest\"\n",
    "\n",
    "It copies all the contents recursively and stores it in the destination folder mentioned . \n",
    "\n",
    "dest folder in this case should not exist prior to calling of the function as it will be created during the copy operation ."
   ]
  },
  {
   "cell_type": "markdown",
   "id": "119f37a1-2a2f-4acd-8d06-2e2231832994",
   "metadata": {},
   "source": [
    "#### Answer 2"
   ]
  },
  {
   "cell_type": "markdown",
   "id": "42f54065-e7d2-4e1b-b3be-ba6d53613b19",
   "metadata": {},
   "source": [
    "os.rename() function is used to rename files or directories using a python program . It takes the src and dest arguments."
   ]
  },
  {
   "cell_type": "markdown",
   "id": "0b2b4e85-5614-445d-9518-5de39bbe41a6",
   "metadata": {},
   "source": [
    "#### Answer 3"
   ]
  },
  {
   "cell_type": "markdown",
   "id": "7501387f-2284-4678-953a-ad990d575304",
   "metadata": {},
   "source": [
    "send2trash module provides a function called send2trash.send2trash() to delete a file/directory , which moves the said file/directory to the trash folder instead of permanently deleting them . \n",
    "    \n",
    "shutil.rmtree() permanently deletes a directory and all its contents "
   ]
  },
  {
   "cell_type": "markdown",
   "id": "a3cca84c-8a4b-45b4-8670-e1cb7a64ed22",
   "metadata": {},
   "source": [
    "#### Answer 4"
   ]
  },
  {
   "cell_type": "markdown",
   "id": "3ebe8ee0-46fd-462a-9e54-4494d97f11e5",
   "metadata": {},
   "source": [
    "zipfile.Zipfile() method can be used to read and write to zipFiles . \n",
    "\n",
    "It takes arguments like filename , mode etc . \n",
    "\n",
    "zipfile.Zipfile('filename',mode='r')"
   ]
  },
  {
   "cell_type": "markdown",
   "id": "2cacdcc6-6cb9-4793-b231-e3ee82156fd1",
   "metadata": {},
   "source": [
    "#### Answer 5"
   ]
  },
  {
   "cell_type": "code",
   "execution_count": 10,
   "id": "514a4861-036b-443e-a333-beaa68c7dd23",
   "metadata": {},
   "outputs": [],
   "source": [
    "import os\n",
    "import shutil\n",
    "\n",
    "def search_and_copy(source,destination,extensions):\n",
    "    source = os.path.abspath(source)\n",
    "    destination = os.path.abspath(destination)\n",
    "    for foldername, subfolder, filenames in os.walk(source):\n",
    "        print(f'Folder Name ➞ {foldername}',end='\\n\\n')\n",
    "        print(f'Sub Folders ➞ {subfolder}',end='\\n\\n')\n",
    "        print(f'Files ➞ {filenames}',end='\\n\\n')\n",
    "        for filename in filenames:\n",
    "            fileName,extension = os.path.splitext(filename)\n",
    "            if extension in extensions:\n",
    "                targetFile = foldername+os.path.sep+fileName+extension\n",
    "                shutil.copy(targetFile, destination)\n",
    "        print(f'Files copied successfully from {source} to {destination}')\n",
    "    \n",
    "extensions = ['.pdf','.jpg','.ipynb']\n",
    "source = 'Random Folder' # Add source argument value\n",
    "destination = 'Dummy Destination' # Add destination argument value \n",
    "search_and_copy(source, destination, extensions)"
   ]
  },
  {
   "cell_type": "code",
   "execution_count": null,
   "id": "6591b5f0-c45e-4de6-8744-0b11a4fc92f6",
   "metadata": {},
   "outputs": [],
   "source": []
  }
 ],
 "metadata": {
  "kernelspec": {
   "display_name": "Python 3 (ipykernel)",
   "language": "python",
   "name": "python3"
  },
  "language_info": {
   "codemirror_mode": {
    "name": "ipython",
    "version": 3
   },
   "file_extension": ".py",
   "mimetype": "text/x-python",
   "name": "python",
   "nbconvert_exporter": "python",
   "pygments_lexer": "ipython3",
   "version": "3.9.7"
  }
 },
 "nbformat": 4,
 "nbformat_minor": 5
}

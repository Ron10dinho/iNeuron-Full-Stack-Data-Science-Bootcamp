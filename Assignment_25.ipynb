{
 "cells": [
  {
   "cell_type": "markdown",
   "id": "39ee76a6-8bb1-4c7a-a5ce-77499a8c5da9",
   "metadata": {},
   "source": [
    "#### Answer 1 "
   ]
  },
  {
   "cell_type": "markdown",
   "id": "37bf8745-caef-4bb8-9239-adf6fc0415d7",
   "metadata": {},
   "source": [
    "Enclosing a list comprehension in square brackets returns a list.but where as enclosing a list comprehension in parentheses returns a generator object . \n",
    "\n",
    "Example"
   ]
  },
  {
   "cell_type": "code",
   "execution_count": 1,
   "id": "91992529-3a98-45bf-ba6e-bba14eb8f6c1",
   "metadata": {},
   "outputs": [
    {
     "name": "stdout",
     "output_type": "stream",
     "text": [
      "[0, 1, 2, 3, 4, 5, 6, 7, 8, 9] <class 'list'>\n",
      "<generator object <genexpr> at 0x000001D28A02A4A0> <class 'generator'>\n"
     ]
    }
   ],
   "source": [
    "l = [ele for ele in range(10)]\n",
    "print(l, type(l))\n",
    "g = (ele for ele in range(10))\n",
    "print(g, type(g))"
   ]
  },
  {
   "cell_type": "markdown",
   "id": "52d89a25-7132-449e-a398-2f29e32f98d4",
   "metadata": {},
   "source": [
    "#### Answer 2 "
   ]
  },
  {
   "cell_type": "markdown",
   "id": "a1a81a22-8da2-4eab-9576-26b943411446",
   "metadata": {},
   "source": [
    " An iterator is an object which contains a countable number of values and it is used to iterate over iterable objects like list, tuples, sets, etc. Iterators are implemented using a class. It follows lazy evaluation where the evaluation of the expression will be on hold and stored in the memory until the item is called specifically which helps us to avoid repeated evaluation. \n",
    "- For an iterator: iter() keyword is used to create an iterator containing an iterable object.next() keyword is used to call the next element in the iterable object."
   ]
  },
  {
   "cell_type": "markdown",
   "id": "43cf3d41-e248-4f7a-9e9a-10821be83e34",
   "metadata": {},
   "source": [
    "Similarly Generators are an another way of creating iterators in a simple way where it uses the keyword yield statement instead of return statement in a defined function.Generators are implemented using a function. Just as iterators, generators also follow lazy evaluation. Here, the yield function returns the data without affecting or exiting the function. It will return a sequence of data in an iterable format where we need to iterate over the sequence to use the data as they won’t store the entire sequence in the memory."
   ]
  },
  {
   "cell_type": "markdown",
   "id": "6866f763-18f4-4c48-94e5-608de241ed93",
   "metadata": {},
   "source": [
    "#### Answer 3 "
   ]
  },
  {
   "cell_type": "markdown",
   "id": "d7138f91-213d-498f-a197-090a74865a6b",
   "metadata": {},
   "source": [
    "A generator function uses a yield statement instead of a return statement. A generator function will always return a iterable object called generator. where as a normal function can return a string/list/tuple/dict/NoneType ... etc"
   ]
  },
  {
   "cell_type": "markdown",
   "id": "d386d008-0aec-4597-98e4-ca83018fe70a",
   "metadata": {},
   "source": [
    "#### Answer 4"
   ]
  },
  {
   "cell_type": "markdown",
   "id": "b392f1da-a34d-48a2-9a5f-566900c2e09e",
   "metadata": {},
   "source": [
    "The yield statement suspends function’s execution and sends a value back to the caller, but retains enough state to enable function to resume where it is left off. When resumed, the function continues execution immediately after the last yield run. This allows its code to produce a series of values over time, rather than computing them at once and sending them back like a list."
   ]
  },
  {
   "cell_type": "markdown",
   "id": "81193123-d037-44fc-b4ee-12ae9b3a3811",
   "metadata": {},
   "source": [
    "#### Answer 5 "
   ]
  },
  {
   "cell_type": "markdown",
   "id": "ca890f63-9158-49d7-bcf2-f28818bd2c86",
   "metadata": {},
   "source": [
    "The main differences between map calls and list comprehensiosn are:\n",
    "\n",
    "- List comprehension is more concise and easier to read as compared to map.\n",
    "- List comprehension allows filtering. In map, we have no such facility. \n",
    "- List comprehension are used when a list of results is required as final output.but map only returns a map object. it needs to be explicitly coverted to desired datatype.\n",
    "- List comprehension is faster than map when we need to evaluate expressions that are too long or complicated to express\n",
    "- Map is faster in case of calling an already defined function on a set of values."
   ]
  },
  {
   "cell_type": "code",
   "execution_count": null,
   "id": "339388ef-7884-4e06-b4d8-97812a198202",
   "metadata": {},
   "outputs": [],
   "source": []
  }
 ],
 "metadata": {
  "kernelspec": {
   "display_name": "Python 3 (ipykernel)",
   "language": "python",
   "name": "python3"
  },
  "language_info": {
   "codemirror_mode": {
    "name": "ipython",
    "version": 3
   },
   "file_extension": ".py",
   "mimetype": "text/x-python",
   "name": "python",
   "nbconvert_exporter": "python",
   "pygments_lexer": "ipython3",
   "version": "3.9.7"
  }
 },
 "nbformat": 4,
 "nbformat_minor": 5
}

{
 "cells": [
  {
   "cell_type": "markdown",
   "id": "675f0c16-eae9-4493-b2e2-34694abd06b5",
   "metadata": {},
   "source": [
    "#### Answer 1\n",
    "\n",
    "Represents characters in string values that would otherwise be difficult to type into code . Uses the \"backslash\" character .\n",
    "\n",
    "Example : \n",
    "\\t , \\n"
   ]
  },
  {
   "cell_type": "markdown",
   "id": "7f6991d9-d87b-4771-91b5-84492e6a3036",
   "metadata": {},
   "source": [
    "#### Answer 2\n",
    "\n",
    "\\n = newline\n",
    "\n",
    "\\t = tab"
   ]
  },
  {
   "cell_type": "markdown",
   "id": "c6296a44-29ad-4265-87c4-2faa29ec6af9",
   "metadata": {},
   "source": [
    "#### Answer 3\n",
    "\n",
    "\\\\ = backslash character in a string."
   ]
  },
  {
   "cell_type": "markdown",
   "id": "fdcce540-f740-4874-a296-81cffd264ff8",
   "metadata": {},
   "source": [
    "#### Answer 4\n",
    "\n",
    "Because it is wrapped inside double quotes ."
   ]
  },
  {
   "cell_type": "markdown",
   "id": "8659f1e9-341b-4da8-b7ec-77b7259c169d",
   "metadata": {},
   "source": [
    "#### Answer 5\n",
    "\n",
    "Using multiline comments . \n",
    "Example:"
   ]
  },
  {
   "cell_type": "code",
   "execution_count": 2,
   "id": "ad50e038-68c4-4336-8c5b-97f28c48b415",
   "metadata": {},
   "outputs": [
    {
     "name": "stdout",
     "output_type": "stream",
     "text": [
      "How do you \n",
      "write a string of newlines\n",
      "if you don't want to use the n character?\n"
     ]
    }
   ],
   "source": [
    "a = \"\"\"How do you \n",
    "write a string of newlines\n",
    "if you don't want to use the n character?\"\"\"\n",
    "print(a)"
   ]
  },
  {
   "cell_type": "markdown",
   "id": "8651700b-9ab2-413d-8558-f4b0516c4a00",
   "metadata": {},
   "source": [
    "#### Answer 6 \n",
    "\n",
    "- 'e'\n",
    "- 'Hello'\n",
    "- 'Hello'\n",
    "- 'lo, world!'\n"
   ]
  },
  {
   "cell_type": "markdown",
   "id": "5aa6a97c-282b-43ee-a8ea-978cf0549bbe",
   "metadata": {},
   "source": [
    "#### Answer 7\n",
    "\n",
    "- 'HELLO'\n",
    "-  True\n",
    "- 'hello'"
   ]
  },
  {
   "cell_type": "markdown",
   "id": "ffbe8fb5-a48d-4d1a-9eb2-a83da35c0324",
   "metadata": {},
   "source": [
    "#### Answer 8"
   ]
  },
  {
   "cell_type": "code",
   "execution_count": 8,
   "id": "882793f3-3cdb-4e50-9f94-605ede791331",
   "metadata": {},
   "outputs": [
    {
     "name": "stdout",
     "output_type": "stream",
     "text": [
      "['Remember,', 'remember,', 'the', 'fifith', 'of', 'July.']\n",
      "There-can-only-one\n"
     ]
    }
   ],
   "source": [
    "print('Remember, remember, the fifith of July.'.split())\n",
    "print('-'.join('There can only one'.split()))"
   ]
  },
  {
   "cell_type": "markdown",
   "id": "f0c30302-da77-43d1-a955-1f127cc1fabf",
   "metadata": {},
   "source": [
    "#### Answer 9\n",
    "rjust() , ljust() , center() string methods repectively."
   ]
  },
  {
   "cell_type": "markdown",
   "id": "6d6b57ce-5e5a-4b9c-8c98-99f960e9b5eb",
   "metadata": {},
   "source": [
    "#### Answer 10\n",
    "\n",
    "Using the strip() method , or using lstrip() and rstrip() methods to remove whitespace\n",
    "characters from the left end or the right end."
   ]
  },
  {
   "cell_type": "code",
   "execution_count": null,
   "id": "b80977ac-d44e-44eb-b84b-34b5952e6d3a",
   "metadata": {},
   "outputs": [],
   "source": []
  }
 ],
 "metadata": {
  "kernelspec": {
   "display_name": "Python 3 (ipykernel)",
   "language": "python",
   "name": "python3"
  },
  "language_info": {
   "codemirror_mode": {
    "name": "ipython",
    "version": 3
   },
   "file_extension": ".py",
   "mimetype": "text/x-python",
   "name": "python",
   "nbconvert_exporter": "python",
   "pygments_lexer": "ipython3",
   "version": "3.9.7"
  }
 },
 "nbformat": 4,
 "nbformat_minor": 5
}

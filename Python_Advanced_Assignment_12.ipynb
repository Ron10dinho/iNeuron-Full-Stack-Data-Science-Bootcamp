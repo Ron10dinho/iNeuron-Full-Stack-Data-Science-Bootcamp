{
 "cells": [
  {
   "cell_type": "markdown",
   "id": "02df798e-f92c-4382-8894-27752935d8a1",
   "metadata": {},
   "source": [
    "###  Q1. Does assigning a value to a string's indexed character violate Python's string immutability ?"
   ]
  },
  {
   "cell_type": "markdown",
   "id": "d18c1fac-b996-44ec-8c1e-144a1725d685",
   "metadata": {},
   "source": [
    "String’s indexed character cannot to be assigned a New value , as Strings are immutable.\n",
    "\n",
    "Example:"
   ]
  },
  {
   "cell_type": "code",
   "execution_count": 2,
   "id": "ad32ec06-318b-44fe-87e6-64bc4a919016",
   "metadata": {},
   "outputs": [
    {
     "name": "stdout",
     "output_type": "stream",
     "text": [
      "2423732073072\n"
     ]
    },
    {
     "ename": "TypeError",
     "evalue": "'str' object does not support item assignment",
     "output_type": "error",
     "traceback": [
      "\u001b[1;31m---------------------------------------------------------------------------\u001b[0m",
      "\u001b[1;31mTypeError\u001b[0m                                 Traceback (most recent call last)",
      "Cell \u001b[1;32mIn[2], line 3\u001b[0m\n\u001b[0;32m      1\u001b[0m name \u001b[38;5;241m=\u001b[39m \u001b[38;5;124m'\u001b[39m\u001b[38;5;124mHello_world\u001b[39m\u001b[38;5;124m'\u001b[39m\n\u001b[0;32m      2\u001b[0m \u001b[38;5;28mprint\u001b[39m(\u001b[38;5;28mid\u001b[39m(name))\n\u001b[1;32m----> 3\u001b[0m name[\u001b[38;5;241m0\u001b[39m] \u001b[38;5;241m=\u001b[39m \u001b[38;5;124m'\u001b[39m\u001b[38;5;124mV\u001b[39m\u001b[38;5;124m'\u001b[39m\n",
      "\u001b[1;31mTypeError\u001b[0m: 'str' object does not support item assignment"
     ]
    }
   ],
   "source": [
    "name = 'Hello_world'\n",
    "print(id(name))\n",
    "name[0] = 'V' # Raises TypeError"
   ]
  },
  {
   "cell_type": "markdown",
   "id": "12536bb4-8817-4bea-8fad-4bfd0ca54eae",
   "metadata": {},
   "source": [
    "### Q2. Does using the += operator to concatenate strings violate Python's string immutability? Why or why not ?\n",
    " "
   ]
  },
  {
   "cell_type": "markdown",
   "id": "b9950b2e-cae9-46a1-95d5-316d9b129ac2",
   "metadata": {},
   "source": [
    "+= operator is used to concatenate strings, it does not violate Python’s string immutability Property. Because doing so new creates a new association with data and variable. E.g. str_1=\"a\" and str_1+=\"b. effect of this statements to create string ab and reassign it to variable str_1, any string data is not actually modified.\n",
    "\n",
    "Example:"
   ]
  },
  {
   "cell_type": "code",
   "execution_count": 4,
   "id": "9f82bb09-b4e6-4145-9b6b-bc181d3c9f33",
   "metadata": {},
   "outputs": [
    {
     "name": "stdout",
     "output_type": "stream",
     "text": [
      "2423630634480\n",
      "2423739946480\n"
     ]
    }
   ],
   "source": [
    "str_1 = 'a'\n",
    "print(id(str_1))\n",
    "str_1 += 'b'\n",
    "print(id(str_1)) # Does not modify existing string , creates a New String Object"
   ]
  },
  {
   "cell_type": "markdown",
   "id": "f890efbb-766c-43a7-a382-876248311d08",
   "metadata": {},
   "source": [
    "### Q3. In Python, how many different ways are there to index a character? "
   ]
  },
  {
   "cell_type": "markdown",
   "id": "6218dce9-f50f-45c0-9f1e-5e6481daadc1",
   "metadata": {},
   "source": [
    "A Character in string can be indexed using string name followed by index number of character in square bracket. Positive Indexing i.e. first index is 0 an so on, or Negative Indexing i.e. last letter is -1 and so on can be used to index a character\n",
    "\n",
    "Example:"
   ]
  },
  {
   "cell_type": "code",
   "execution_count": 8,
   "id": "b68f28c0-8519-4218-880b-c5c3caa5077c",
   "metadata": {},
   "outputs": [
    {
     "name": "stdout",
     "output_type": "stream",
     "text": [
      "e e l\n",
      "? d  \n"
     ]
    }
   ],
   "source": [
    "test_string = 'Hello there , how is the weather today ?'\n",
    "print(test_string[8],test_string[10], test_string[2]) # Positive Indexing\n",
    "print(test_string[-1],test_string[-5],test_string[-2]) # Negative Indexing"
   ]
  },
  {
   "cell_type": "markdown",
   "id": "6cf819d5-153a-4b5d-897d-43f20a02b2c7",
   "metadata": {},
   "source": [
    "###  Q4. What is the relationship between indexing and slicing?"
   ]
  },
  {
   "cell_type": "markdown",
   "id": "2e75cc4e-0a8d-4987-b1da-e8961bdccd91",
   "metadata": {},
   "source": [
    "We can access elements of sequence datatypes by using slicing and indexing. Indexing is used to obtaining individual element while slicing for sequence of elements."
   ]
  },
  {
   "cell_type": "code",
   "execution_count": 9,
   "id": "84d5a41a-c388-4e8a-9f96-8d78acb03911",
   "metadata": {},
   "outputs": [
    {
     "name": "stdout",
     "output_type": "stream",
     "text": [
      "N u o\n",
      "Neuron Full St\n"
     ]
    }
   ],
   "source": [
    "in_string = \"iNeuron Full Stack Data Science\"\n",
    "print(in_string[1],in_string[3],in_string[5]) # Indexing\n",
    "print(in_string[1:15]) # Slicing"
   ]
  },
  {
   "cell_type": "markdown",
   "id": "1aa7548f-5dbd-4aa2-b647-735735d977ab",
   "metadata": {},
   "source": [
    "###  Q5. What is an indexed character's exact data type? What is the data form of a slicing-generated substring?\n"
   ]
  },
  {
   "cell_type": "markdown",
   "id": "70c607db-b3dd-4632-9e10-d5f9e0e59173",
   "metadata": {},
   "source": [
    "Indexed characters and sliced substrings have datatype String."
   ]
  },
  {
   "cell_type": "code",
   "execution_count": 10,
   "id": "3249fa35-534b-4e03-958d-02a1c7c3c1c1",
   "metadata": {},
   "outputs": [
    {
     "name": "stdout",
     "output_type": "stream",
     "text": [
      "<class 'str'>\n",
      "<class 'str'>\n"
     ]
    }
   ],
   "source": [
    "in_string = \"iNeuron Full Stack Data Science\"\n",
    "print(type(in_string[3])) # Indexing -> str\n",
    "print(type(in_string[1:10])) # Indexing -> str"
   ]
  },
  {
   "cell_type": "markdown",
   "id": "78eed525-2dcc-41a6-a2b8-b77565db701b",
   "metadata": {},
   "source": [
    "### Q6. What is the relationship between string and character \"types\" in Python? "
   ]
  },
  {
   "cell_type": "markdown",
   "id": "29382816-69c9-4062-bd13-c6276367cffa",
   "metadata": {},
   "source": [
    "Object that contains sequence of character datatypes are called String."
   ]
  },
  {
   "cell_type": "markdown",
   "id": "9600468b-8805-4e41-99c7-b41883f8fbf3",
   "metadata": {},
   "source": [
    "### Q7. Identify at least two operators & one method that allow you to combine one or more smaller strings to create a larger string ?"
   ]
  },
  {
   "cell_type": "markdown",
   "id": "975cdfba-d116-463d-85ab-b3f4ff9f9ee8",
   "metadata": {},
   "source": [
    "+, += and * allow to combine one or more smaller strings to create a larger string. <string>.join(<sep>) method joins element of iterable type like list and tuple to get a combined string."
   ]
  },
  {
   "cell_type": "code",
   "execution_count": 11,
   "id": "1c6e694b-1853-4c9f-8ee1-b822c7d416da",
   "metadata": {},
   "outputs": [
    {
     "name": "stdout",
     "output_type": "stream",
     "text": [
      "iNeuron Full Stack Data Science FSDS\n",
      "FSDS FSDS FSDS \n",
      "I N E U R O N\n",
      "i n e u r o n\n"
     ]
    }
   ],
   "source": [
    "in_string = 'iNeuron '\n",
    "in_string += 'Full Stack Data Science'\n",
    "print(in_string + ' FSDS')\n",
    "print('FSDS '*3)\n",
    "print(\" \".join(['I','N','E','U','R','O','N'])) # List Iterable\n",
    "print(\" \".join(('I','N','E','U','R','O','N')).lower()) # Tuple Iterable"
   ]
  },
  {
   "cell_type": "markdown",
   "id": "519740b3-f951-44e7-ae16-b43a0426dec4",
   "metadata": {},
   "source": [
    "### Q8. What is the benefit of first checking the target string with in or not in before using the index method to find a substring ? "
   ]
  },
  {
   "cell_type": "markdown",
   "id": "565389a4-6fd8-41c2-ba98-c5f7244b4485",
   "metadata": {},
   "source": [
    "Checking the target string with in or not Operators before using the index method to find a substring just helps confirming availability of substring and thus avoid raising of ValueError.\n",
    "\n",
    "Example:"
   ]
  },
  {
   "cell_type": "code",
   "execution_count": 16,
   "id": "4946403a-8a1d-4042-b5cd-867bc0b97440",
   "metadata": {},
   "outputs": [
    {
     "name": "stdout",
     "output_type": "stream",
     "text": [
      "3\n"
     ]
    },
    {
     "ename": "ValueError",
     "evalue": "substring not found",
     "output_type": "error",
     "traceback": [
      "\u001b[1;31m---------------------------------------------------------------------------\u001b[0m",
      "\u001b[1;31mValueError\u001b[0m                                Traceback (most recent call last)",
      "Cell \u001b[1;32mIn[16], line 3\u001b[0m\n\u001b[0;32m      1\u001b[0m in_string \u001b[38;5;241m=\u001b[39m \u001b[38;5;124m'\u001b[39m\u001b[38;5;124mineuron\u001b[39m\u001b[38;5;124m'\u001b[39m\n\u001b[0;32m      2\u001b[0m \u001b[38;5;28mprint\u001b[39m(in_string\u001b[38;5;241m.\u001b[39mindex(\u001b[38;5;124m'\u001b[39m\u001b[38;5;124mu\u001b[39m\u001b[38;5;124m'\u001b[39m))\n\u001b[1;32m----> 3\u001b[0m \u001b[38;5;28mprint\u001b[39m(\u001b[43min_string\u001b[49m\u001b[38;5;241;43m.\u001b[39;49m\u001b[43mindex\u001b[49m\u001b[43m(\u001b[49m\u001b[38;5;124;43m'\u001b[39;49m\u001b[38;5;124;43mx\u001b[39;49m\u001b[38;5;124;43m'\u001b[39;49m\u001b[43m)\u001b[49m)\n",
      "\u001b[1;31mValueError\u001b[0m: substring not found"
     ]
    }
   ],
   "source": [
    "in_string = 'ineuron'\n",
    "print(in_string.index('u'))\n",
    "print(in_string.index('x')) # Raises valueError\n"
   ]
  },
  {
   "cell_type": "markdown",
   "id": "f9730442-b4ea-41fc-b6c8-a072843b0d9a",
   "metadata": {},
   "source": [
    "### Q9. Which operators and built-in string methods produce simple Boolean (true/false) results?\n",
    " "
   ]
  },
  {
   "cell_type": "markdown",
   "id": "e5a3bf2b-1d2f-4a58-82cd-edbcb9a6e4d1",
   "metadata": {},
   "source": [
    "The String Operators and built-in methods to Produce Simple Boolean (True/False) Results are:\n",
    "\n",
    "* in\n",
    "* not\n",
    "* (string).isalpha()\n",
    "* (string).isalnum()\n",
    "* (string).isdecimal()\n",
    "* (string).isdigit()\n",
    "* (string).islower()\n",
    "* (string).isnumeric()\n",
    "* (string).isprintable()\n",
    "* (string).isspace()\n",
    "* (string).istitle()"
   ]
  },
  {
   "cell_type": "code",
   "execution_count": null,
   "id": "d8f3ea85-15f2-448a-9da7-645dc103b1e0",
   "metadata": {},
   "outputs": [],
   "source": []
  }
 ],
 "metadata": {
  "kernelspec": {
   "display_name": "Python 3 (ipykernel)",
   "language": "python",
   "name": "python3"
  },
  "language_info": {
   "codemirror_mode": {
    "name": "ipython",
    "version": 3
   },
   "file_extension": ".py",
   "mimetype": "text/x-python",
   "name": "python",
   "nbconvert_exporter": "python",
   "pygments_lexer": "ipython3",
   "version": "3.10.9"
  }
 },
 "nbformat": 4,
 "nbformat_minor": 5
}

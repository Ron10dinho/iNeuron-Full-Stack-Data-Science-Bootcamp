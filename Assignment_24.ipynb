{
 "cells": [
  {
   "cell_type": "markdown",
   "id": "61447d0b-7b56-489d-80e0-2ef14bc35d7a",
   "metadata": {},
   "source": [
    "#### Answer 1 "
   ]
  },
  {
   "cell_type": "markdown",
   "id": "bde8b76d-ed4d-436d-a308-74fa895e543e",
   "metadata": {},
   "source": [
    "def statement is used to create a normal function .\n",
    "\n",
    "lambda expressions are used to create Anonymous functions , which can be assigned to a variable and can be called using the variable later in function . "
   ]
  },
  {
   "cell_type": "markdown",
   "id": "3bca0dd9-df0e-40b3-885f-adff214dc25b",
   "metadata": {},
   "source": [
    "#### Answer 2 "
   ]
  },
  {
   "cell_type": "markdown",
   "id": "24677656-97c7-4e38-95ad-0e93954c121e",
   "metadata": {},
   "source": [
    "- Can be used to create Nameless/Anonymous functions inside some complex functions when the need for using the function arises only once. \n",
    "- Small / Moderate functions can be created in a single line.\n",
    "- Functions can be assigned to a variable and can be simply used by calling the variable"
   ]
  },
  {
   "cell_type": "markdown",
   "id": "48cd3e7f-83e7-4e9a-bbc6-8e1a03690ad3",
   "metadata": {},
   "source": [
    "#### Answer 3"
   ]
  },
  {
   "cell_type": "markdown",
   "id": "b001a69a-0eca-4bfb-a955-21961eb10197",
   "metadata": {},
   "source": [
    "- map () : The map() function is a type of higher-order. This function takes another function as a parameter along with a sequence of iterables and returns an output after applying the function to each iterable present in the sequence.\n",
    "- filter(): The filter() function is used to create an output list consisting of values for which the function returns true.\n",
    "- reduce(): The reduce() function, as the name describes, applies a given function to the iterables and returns a single value"
   ]
  },
  {
   "cell_type": "code",
   "execution_count": 1,
   "id": "effd1ac0-0d68-41e7-8c72-f2bc1ceb8465",
   "metadata": {},
   "outputs": [
    {
     "name": "stdout",
     "output_type": "stream",
     "text": [
      "Map -> [2, 4, 6, 8]\n",
      "Filter -> [1, 3]\n",
      "Reduce -> 21\n"
     ]
    }
   ],
   "source": [
    "from functools import reduce\n",
    "# map function\n",
    "print('Map ->',list(map(lambda x:x+x, [1,2,3,4])))\n",
    "# fitler function\n",
    "print('Filter ->',list(filter(lambda x:x%2 !=0, [1,2,3,4])))\n",
    "# reduce function\n",
    "print('Reduce ->',reduce(lambda x,y:x+y, [1,2,3,4,5,6]))"
   ]
  },
  {
   "cell_type": "markdown",
   "id": "83205e50-31a0-4289-9b11-b378492f595d",
   "metadata": {},
   "source": [
    "#### Answer 4 "
   ]
  },
  {
   "cell_type": "markdown",
   "id": "a96de512-f1ab-49af-b140-12b86278e9bc",
   "metadata": {},
   "source": [
    "Function annotations provide a way of associating various parts of a function with arbitrary pythoncexpressions at compile time.\n",
    "\n",
    "Annotations of simple parameters def func(x: expression, y: expression = 20):\n",
    "\n",
    "Whereas the annotations for excess parameters are as − def func (**args: expression, **kwargs: expression):"
   ]
  },
  {
   "cell_type": "markdown",
   "id": "1c340e50-e9b7-49a0-b705-93aa31a6724c",
   "metadata": {},
   "source": [
    "#### Answer 5 "
   ]
  },
  {
   "cell_type": "markdown",
   "id": "3414d28f-7bdb-4b91-907c-b7e3bf1bd730",
   "metadata": {},
   "source": [
    "A recursive function is a function that calls itself during its execution. The process may repeat several times, outputting the result and the end of each iteration."
   ]
  },
  {
   "cell_type": "markdown",
   "id": "76876734-c1d8-4066-bd6f-ad0c735434fa",
   "metadata": {},
   "source": [
    "#### Answer 6 "
   ]
  },
  {
   "cell_type": "markdown",
   "id": "5bd2bedb-c009-48be-9759-b69a77513b43",
   "metadata": {},
   "source": [
    "- Always use a docstring to explain the functionality of the function\n",
    "- Try to follow a naming convention for function names (pascalCase or camelCase) and stick with the same convention throughout the application.\n",
    "- Local variables should be named using camelCase format (ex: localVariable) whereas Global variables names should be using PascalCase (ex:GlobalVariable).\n",
    "- Avoid using digits while choosing a variable name"
   ]
  },
  {
   "cell_type": "markdown",
   "id": "56c331c0-6f91-42b6-8ef7-ed9e06aa9470",
   "metadata": {},
   "source": [
    "#### Answer 7"
   ]
  },
  {
   "cell_type": "markdown",
   "id": "2bc71ded-abc1-412c-84ac-0a5cb469409f",
   "metadata": {},
   "source": [
    "Some of the ways in which a function can communicate with the calling function is:\n",
    "\n",
    "- print\n",
    "- return\n",
    "- yield"
   ]
  },
  {
   "cell_type": "code",
   "execution_count": null,
   "id": "bd92c489-1ab0-45e5-9891-3f4995323bb3",
   "metadata": {},
   "outputs": [],
   "source": []
  }
 ],
 "metadata": {
  "kernelspec": {
   "display_name": "Python 3 (ipykernel)",
   "language": "python",
   "name": "python3"
  },
  "language_info": {
   "codemirror_mode": {
    "name": "ipython",
    "version": 3
   },
   "file_extension": ".py",
   "mimetype": "text/x-python",
   "name": "python",
   "nbconvert_exporter": "python",
   "pygments_lexer": "ipython3",
   "version": "3.9.7"
  }
 },
 "nbformat": 4,
 "nbformat_minor": 5
}

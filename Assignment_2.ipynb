{
 "cells": [
  {
   "cell_type": "markdown",
   "id": "e8b378a9-58be-4ce9-a4cb-4051e6dae1f4",
   "metadata": {},
   "source": [
    "#### Ques 1 : What are the two values of the Boolean data type? How do you write them?"
   ]
  },
  {
   "cell_type": "markdown",
   "id": "b9936bc1-9e83-4623-8f48-aa31a170824f",
   "metadata": {},
   "source": [
    "#### Answer :\n",
    "\n",
    "\"True\" and \"False\" are two values of the Boolean data type. \n",
    "\n",
    "Example"
   ]
  },
  {
   "cell_type": "code",
   "execution_count": 2,
   "id": "9df96f00-a709-4e0e-a992-d8933f67a47d",
   "metadata": {},
   "outputs": [
    {
     "name": "stdout",
     "output_type": "stream",
     "text": [
      "True <class 'bool'>  ,  False <class 'bool'>\n"
     ]
    }
   ],
   "source": [
    "a,b = True,False\n",
    "print(a,type(a),\" , \",b,type(b))"
   ]
  },
  {
   "cell_type": "markdown",
   "id": "986e508d-7cdc-4892-b0d7-e665a8cfe58b",
   "metadata": {},
   "source": [
    "#### Ques 2 : What are the three different types of Boolean operators?"
   ]
  },
  {
   "cell_type": "markdown",
   "id": "14428eaf-d045-44a1-80b0-12b8312d62aa",
   "metadata": {},
   "source": [
    "#### Answer : \n",
    "\n",
    "There are three different types of Boolean Opearors in Python \n",
    "- or\n",
    "- and\n",
    "- not"
   ]
  },
  {
   "cell_type": "markdown",
   "id": "35d57dc7-7def-4bb5-991c-4132e414f0c2",
   "metadata": {},
   "source": [
    "#### Ques 3 : Make a list of each Boolean operator's truth tables (i.e. every possible combination of Boolean values for the operator and what it evaluate) ?"
   ]
  },
  {
   "cell_type": "markdown",
   "id": "9790be2e-d047-4958-9516-c5877167c9e2",
   "metadata": {},
   "source": [
    "#### Answer\n",
    "\n",
    "- and\n",
    "\n",
    "True and True = True ||\n",
    "True and False = False || \n",
    "False and True = False || \n",
    "False and False = False\n",
    "\n",
    "- or \n",
    "\n",
    "True or True = True || \n",
    "True or False = True || \n",
    "False or True = True || \n",
    "False or False = False\n",
    "\n",
    "- not \n",
    "\n",
    "True not is False ||\n",
    "False not is True "
   ]
  },
  {
   "cell_type": "markdown",
   "id": "e7ba5309-2552-435e-80da-44196f9a19ec",
   "metadata": {},
   "source": [
    "#### Ques 4 : What are the values of the following expressions?"
   ]
  },
  {
   "cell_type": "markdown",
   "id": "8797d44f-031d-4eba-a723-e8ecd2823dc2",
   "metadata": {},
   "source": [
    "#### Answer : \n",
    "\n",
    "- False\n",
    "- False\n",
    "- True\n",
    "- False\n",
    "- False\n",
    "- True"
   ]
  },
  {
   "cell_type": "markdown",
   "id": "2783a453-8fdb-4326-b27b-f15f25c194f9",
   "metadata": {},
   "source": [
    "#### Ques 5 : What are the six comparison operators?"
   ]
  },
  {
   "cell_type": "markdown",
   "id": "6a46cabc-908d-43f2-aa9c-746441fa972a",
   "metadata": {},
   "source": [
    "#### Answer : \n",
    "The Six comparision operators available in python are:\n",
    "== , != , < , > , <= , =>"
   ]
  },
  {
   "cell_type": "markdown",
   "id": "d5d52353-7606-44d3-8e8c-6880bffd4f63",
   "metadata": {},
   "source": [
    "#### Ques 6 : How do you tell the difference between the equal to and assignment operators ? Describe a condition and when you would use one."
   ]
  },
  {
   "cell_type": "markdown",
   "id": "b4ac4823-7e5a-419e-988a-f1ff77402fc9",
   "metadata": {},
   "source": [
    "Equal to ( == ) opearator compares two values and evaluates to a Boolean condition.\n",
    "\n",
    "Assignment ( = ) operator stores a value in a variable."
   ]
  },
  {
   "cell_type": "markdown",
   "id": "22b036df-b1bd-4712-97ac-703d8cbfaa3f",
   "metadata": {},
   "source": [
    "#### Ques 7 : Identify the three blocks in this code:"
   ]
  },
  {
   "cell_type": "markdown",
   "id": "10ae96cd-9412-477d-ac5d-1379cbab8ca9",
   "metadata": {},
   "source": [
    "- print('eggs')\n",
    "- print('bacon')\n",
    "- print('ham')"
   ]
  },
  {
   "cell_type": "markdown",
   "id": "4ff238ed-d3f9-48fb-b163-5da06691e518",
   "metadata": {
    "tags": []
   },
   "source": [
    "#### Ques 8 : Write code that prints Hello if 1 is stored in spam, prints Howdy if 2 is stored in spam, and prints Greetings! if anything else is stored in spam."
   ]
  },
  {
   "cell_type": "markdown",
   "id": "b32354ae-43a6-4301-9492-b5223d6192f5",
   "metadata": {},
   "source": [
    "#### Answer :"
   ]
  },
  {
   "cell_type": "code",
   "execution_count": 5,
   "id": "fc37417d-1024-433e-b816-c52e651b9591",
   "metadata": {},
   "outputs": [
    {
     "name": "stdout",
     "output_type": "stream",
     "text": [
      "Hello\n",
      "Howdy\n",
      "Greetings!\n"
     ]
    }
   ],
   "source": [
    "def ques_8(spam):\n",
    "    if spam == 1:\n",
    "        print(\"Hello\")\n",
    "    elif spam == 2:\n",
    "        print(\"Howdy\")\n",
    "    else:\n",
    "        print(\"Greetings!\")\n",
    "ques_8(1)\n",
    "ques_8(2)\n",
    "ques_8(5)"
   ]
  },
  {
   "cell_type": "markdown",
   "id": "516350e7-04e7-4e9a-9e9f-ffb82a87c00e",
   "metadata": {},
   "source": [
    "#### Ques 9 : If your programme is stuck in an endless loop, what keys you’ll press?"
   ]
  },
  {
   "cell_type": "markdown",
   "id": "c1ebe14c-33f9-416e-a1be-770231d0e7b6",
   "metadata": {},
   "source": [
    "#### Answer : "
   ]
  },
  {
   "cell_type": "markdown",
   "id": "285ac4dd-2e1a-43c2-9f7e-53b3f66fa6e5",
   "metadata": {},
   "source": [
    "Press Ctrl-c to stop a program stuck in an infinite loop"
   ]
  },
  {
   "cell_type": "markdown",
   "id": "4a7a5e8b-c80e-4eb0-89ea-fdf1272ce492",
   "metadata": {},
   "source": [
    "#### Ques 10 : How can you tell the difference between break and continue?\n"
   ]
  },
  {
   "cell_type": "markdown",
   "id": "c8c12b58-8e9c-46fb-8284-20cbd5034909",
   "metadata": {},
   "source": [
    "#### Answer"
   ]
  },
  {
   "cell_type": "markdown",
   "id": "6ae9aa3f-196c-4afe-b4cf-26aa82c6e87c",
   "metadata": {},
   "source": [
    "- The break statement will move the execution outside the loop when condition is satisfied.\n",
    "\n",
    "- The continue statement will move the execution to the start of the loop"
   ]
  },
  {
   "cell_type": "markdown",
   "id": "15915cdb-c10a-422a-a919-3bbc5f767d21",
   "metadata": {},
   "source": [
    "#### Ques 11 : In a for loop, what is the difference between range(10), range(0, 10), and range(0, 10, 1)?"
   ]
  },
  {
   "cell_type": "markdown",
   "id": "f06965d1-791e-40a2-81ce-37ee3f082d80",
   "metadata": {},
   "source": [
    "#### Answer :"
   ]
  },
  {
   "cell_type": "markdown",
   "id": "a9d46fa9-0498-49eb-b185-93472096c65d",
   "metadata": {},
   "source": [
    "- The range(10) call range from 0 to 9 (but not include 10)\n",
    "\n",
    "- The range (0,10) explicitly tells the loop to start at 0\n",
    "\n",
    "- The range(0,10,1) explicitly tells the loop to increase the variable by 1 on each iteration"
   ]
  },
  {
   "cell_type": "markdown",
   "id": "3b39948d-2ab0-48fd-9d2a-4f8a2a6bc1f6",
   "metadata": {},
   "source": [
    "#### Ques : 12. Write a short program that prints the numbers 1 to 10 using a for loop. Then write an equivalent program that prints the numbers 1 to 10 using a while loop ?"
   ]
  },
  {
   "cell_type": "markdown",
   "id": "8e8c5d90-1c79-46a8-ab69-a774b43df89f",
   "metadata": {},
   "source": [
    "#### Answer : "
   ]
  },
  {
   "cell_type": "code",
   "execution_count": 13,
   "id": "cceb3755-5e02-4840-9e0f-39b4a42ce11f",
   "metadata": {},
   "outputs": [
    {
     "name": "stdout",
     "output_type": "stream",
     "text": [
      "Using for loop.\n",
      "1 2 3 4 5 6 7 8 9 10 \n",
      "Using while loop.\n",
      "1 2 3 4 5 6 7 8 9 10 "
     ]
    }
   ],
   "source": [
    "print(\"Using for loop.\")\n",
    "for n in range(1,11):\n",
    "    print(n,end=' ')\n",
    "print()\n",
    "print(\"Using while loop.\")\n",
    "i = 1\n",
    "while i <= 10:\n",
    "    print(i,end=' ')\n",
    "    i += 1"
   ]
  },
  {
   "cell_type": "markdown",
   "id": "05e64089-a86d-464b-a569-235c256d6dee",
   "metadata": {},
   "source": [
    "#### Ques : 13 : If you had a function named bacon() inside a module named spam, how would you call it after importing spam ?"
   ]
  },
  {
   "cell_type": "markdown",
   "id": "36fda442-c4db-446f-a321-684af87938b3",
   "metadata": {},
   "source": [
    "#### Answer : \n",
    "\n",
    "The function can be called using spam.bacon()"
   ]
  },
  {
   "cell_type": "code",
   "execution_count": null,
   "id": "be1f51ab-1860-45bc-93f4-5ae1cf161a62",
   "metadata": {},
   "outputs": [],
   "source": []
  }
 ],
 "metadata": {
  "kernelspec": {
   "display_name": "Python 3 (ipykernel)",
   "language": "python",
   "name": "python3"
  },
  "language_info": {
   "codemirror_mode": {
    "name": "ipython",
    "version": 3
   },
   "file_extension": ".py",
   "mimetype": "text/x-python",
   "name": "python",
   "nbconvert_exporter": "python",
   "pygments_lexer": "ipython3",
   "version": "3.9.7"
  }
 },
 "nbformat": 4,
 "nbformat_minor": 5
}

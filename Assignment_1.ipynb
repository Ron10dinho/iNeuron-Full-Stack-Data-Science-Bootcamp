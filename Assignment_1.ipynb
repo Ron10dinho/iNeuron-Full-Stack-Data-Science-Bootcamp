{
 "cells": [
  {
   "cell_type": "markdown",
   "id": "937302ad-a8a5-40d8-97df-1bb8b7ebbbbb",
   "metadata": {},
   "source": [
    "#### Ques 1. In the below elements which of them are values or an expression? eg:- values can be integer or string and expressions will be mathematical operators."
   ]
  },
  {
   "cell_type": "markdown",
   "id": "d6b25784-d91c-4f00-a933-596e5ada165d",
   "metadata": {},
   "source": [
    "#### Answer\n",
    "Operators : *,-,/,+\n",
    "Expressions : 'hello',-87.8,6"
   ]
  },
  {
   "cell_type": "markdown",
   "id": "fa813c14-03a8-4c11-a53c-78856132604a",
   "metadata": {},
   "source": [
    "#### Ques 2. What is the difference between a String and Variable ? "
   ]
  },
  {
   "cell_type": "markdown",
   "id": "e32bd90a-514e-4598-9503-005748638562",
   "metadata": {},
   "source": [
    "#### Answer \n",
    "\n",
    "Variable : Something that holds a value that may change i.e. a variable is a box that you can put stuff in.\n",
    "\n",
    "String : Simply put , it is a list of characters in order . "
   ]
  },
  {
   "cell_type": "markdown",
   "id": "52eb4fce-0a1f-4031-9e5a-f24586bcc516",
   "metadata": {},
   "source": [
    "#### Ques 3 . Describe three different data types"
   ]
  },
  {
   "cell_type": "markdown",
   "id": "c28fdfb3-edb1-489e-8e46-f2243bd5d7c7",
   "metadata": {
    "tags": []
   },
   "source": [
    "#### Answer \n",
    "\n",
    "int data type : Used to represent integral values.\n",
    "\n",
    "float data type : Used to represent floating point values i.e. decimal values.\n",
    "\n",
    "complex data type : Used to represent by complex class , it has (real part) + (imaginary part)"
   ]
  },
  {
   "cell_type": "markdown",
   "id": "9fe9e828-c312-4b59-a700-c75752ffb53b",
   "metadata": {},
   "source": [
    "#### Ques 4 : What is an expression made up of? What do all expressions do?"
   ]
  },
  {
   "cell_type": "markdown",
   "id": "6dd50c28-3f3a-40f5-a252-2938d416dc5d",
   "metadata": {},
   "source": [
    "#### Answer \n",
    "\n",
    "An expression is a combination of values, variables, operators, and calls to functions. \n",
    "\n",
    "Expressions need to be evaluated. \n",
    "\n",
    "Example: If we ask Python to print an expression, the interpreter evaluates the expression and displays the result."
   ]
  },
  {
   "cell_type": "markdown",
   "id": "846c7225-f4fa-4a19-9289-1d667e70fd2e",
   "metadata": {},
   "source": [
    "#### Ques 5 : This assignment statements, like spam = 10. What is the difference between an expression and a statement?"
   ]
  },
  {
   "cell_type": "markdown",
   "id": "094c8739-7f64-4ee0-9451-418262568e8f",
   "metadata": {},
   "source": [
    "#### Answer\n",
    "\n",
    "An expression is a combination of values, variables, and operators.When we type an expression at the prompt, the interpreter evaluates it, which means that it finds the value of the expression.\n",
    "\n",
    "A statement is a unit of code that has an effect, like creating a variable or displaying a value.When we type a statement, the interpreter executes it, which means that it does whatever the statement says. \n",
    "\n",
    "In general, statements don’t have values.\n"
   ]
  },
  {
   "cell_type": "markdown",
   "id": "eb7bec8f-578d-4406-8d7c-745c170be433",
   "metadata": {},
   "source": [
    "#### Ques 6 : After running the following code, what does the variable bacon contain?\n",
    "#### bacon = 22\n",
    "#### bacon + 1"
   ]
  },
  {
   "cell_type": "markdown",
   "id": "ec4d5e41-2c1c-436a-87db-874c896001da",
   "metadata": {},
   "source": [
    "#### Answer\n",
    "\n",
    "22"
   ]
  },
  {
   "cell_type": "markdown",
   "id": "cbc8469b-2959-469d-bf31-b2e6c0104a14",
   "metadata": {},
   "source": [
    "#### Ques 7 : What should the values of the following two terms be?"
   ]
  },
  {
   "cell_type": "markdown",
   "id": "f2de3fbf-885f-462f-818e-c9a59e135b64",
   "metadata": {},
   "source": [
    "#### Answer\n"
   ]
  },
  {
   "cell_type": "code",
   "execution_count": 1,
   "id": "5063bddc-4876-4cbb-8b87-f590d841e622",
   "metadata": {},
   "outputs": [
    {
     "name": "stdout",
     "output_type": "stream",
     "text": [
      "spamspamspam\n",
      "spamspamspam\n"
     ]
    }
   ],
   "source": [
    "print('spam'+'spamspam')\n",
    "print('spam'*3) "
   ]
  },
  {
   "cell_type": "markdown",
   "id": "5127a97e-628d-4028-a14c-04e425662960",
   "metadata": {},
   "source": [
    "#### Ques 8 :Why is eggs a valid variable name while 100 is invalid?"
   ]
  },
  {
   "cell_type": "markdown",
   "id": "505aa99f-a3f3-4ca5-9798-1f1030859fb2",
   "metadata": {},
   "source": [
    "#### Answer\n",
    "\n",
    "Because Python variables can not start with a number."
   ]
  },
  {
   "cell_type": "markdown",
   "id": "511a8755-bf2e-4d9a-b2a8-60d0420db26d",
   "metadata": {},
   "source": [
    "#### Ques 9 : What three functions can be used to get the integer, floating-point number, or string version of a value?"
   ]
  },
  {
   "cell_type": "markdown",
   "id": "392a42c4-2432-479f-8b54-0dd2e6918443",
   "metadata": {},
   "source": [
    "#### Answer\n",
    "The int(),float(),and str() functions will evaluate to the integer,floating-point number,string version respectively ,  of the value passed to them."
   ]
  },
  {
   "cell_type": "markdown",
   "id": "3e958ff9-2da8-4ee2-82de-e9cd453b9d7b",
   "metadata": {},
   "source": [
    "#### Ques 10 : Why does this expression cause an error? How can you fix it?\n"
   ]
  },
  {
   "cell_type": "markdown",
   "id": "45a6ddaa-7d74-40db-bde6-03fd66ff3bdc",
   "metadata": {},
   "source": [
    "#### Answer : \n",
    "\n",
    "99 must be typecasted to a string to fix this error."
   ]
  },
  {
   "cell_type": "code",
   "execution_count": 2,
   "id": "6013fced-cd0d-4681-90f2-3e4867fdd094",
   "metadata": {},
   "outputs": [
    {
     "name": "stdout",
     "output_type": "stream",
     "text": [
      "I have eaten 99 burritos\n"
     ]
    }
   ],
   "source": [
    "print(\"I have eaten \"+str(99) + \" burritos\")"
   ]
  },
  {
   "cell_type": "code",
   "execution_count": null,
   "id": "64888251-5bf7-401e-b8ce-c39fd78b3cf4",
   "metadata": {},
   "outputs": [],
   "source": []
  }
 ],
 "metadata": {
  "kernelspec": {
   "display_name": "Python 3 (ipykernel)",
   "language": "python",
   "name": "python3"
  },
  "language_info": {
   "codemirror_mode": {
    "name": "ipython",
    "version": 3
   },
   "file_extension": ".py",
   "mimetype": "text/x-python",
   "name": "python",
   "nbconvert_exporter": "python",
   "pygments_lexer": "ipython3",
   "version": "3.9.7"
  }
 },
 "nbformat": 4,
 "nbformat_minor": 5
}

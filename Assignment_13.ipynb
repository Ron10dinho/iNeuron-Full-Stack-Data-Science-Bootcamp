{
 "cells": [
  {
   "cell_type": "markdown",
   "id": "b862aa30-f304-47c8-aac6-9f8bbde413e8",
   "metadata": {},
   "source": [
    "#### Answer 1."
   ]
  },
  {
   "cell_type": "markdown",
   "id": "1af73ad7-a906-4c14-85b5-6a0a23801ab3",
   "metadata": {},
   "source": [
    "The Advantages of Excel over CSV are:\n",
    "\n",
    "- Excel (XLS and XLSX) file formats are better for storing and analysing complex data.\n",
    "- An Excel not only stores data but can also do operations on the data using macros, formulas etc\n",
    "- CSV files are plain-text files, Does not contain formatting, formulas, macros, etc. It is also known as flat files"
   ]
  },
  {
   "cell_type": "markdown",
   "id": "abca8d6f-23b7-4337-baba-b2cd63e22e6e",
   "metadata": {},
   "source": [
    "#### Answer 2."
   ]
  },
  {
   "cell_type": "markdown",
   "id": "f81a77c6-8780-4078-abcd-b5708752c01b",
   "metadata": {},
   "source": [
    "Using the csv.writer() function ."
   ]
  },
  {
   "cell_type": "markdown",
   "id": "179e57db-a3a2-4f07-98a1-acbbfbfd872e",
   "metadata": {},
   "source": [
    "#### Answer 3."
   ]
  },
  {
   "cell_type": "markdown",
   "id": "c8ce7f70-6232-475e-a1a6-705cc9c5fee7",
   "metadata": {},
   "source": [
    "File objects need to be opened in read Mode (mode = 'r') for reader objects.\n",
    "\n",
    "File objects need to be opened in write mode (mode = 'w') for writer objects."
   ]
  },
  {
   "cell_type": "markdown",
   "id": "ab78e761-3d21-4601-891d-09bdd0cb06ed",
   "metadata": {},
   "source": [
    "#### Answer 4."
   ]
  },
  {
   "cell_type": "markdown",
   "id": "2e217543-7506-4a0a-8e33-b01e3c5b785c",
   "metadata": {},
   "source": [
    "csv.writer() provides two methods for writing to CSV . \n",
    "- writerow() : Writes a single row at a time.\n",
    "- writerows() : Writes multiple rows at a time."
   ]
  },
  {
   "cell_type": "markdown",
   "id": "4de5c444-ab1f-4ed2-8ffc-c7a5e5750192",
   "metadata": {},
   "source": [
    "#### Answer 5."
   ]
  },
  {
   "cell_type": "markdown",
   "id": "2a33e4ca-25ea-412e-ae68-8681a53703bf",
   "metadata": {},
   "source": [
    "Example : \n",
    "\n",
    "First Name , Last Name , Age \n",
    "\n",
    "Peter , Parker , 23\n",
    "\n",
    "Here ',' is the delimiter.\n",
    "\n",
    "Line terminator comes at end of line by default , it can be changed according to requirements . "
   ]
  },
  {
   "cell_type": "markdown",
   "id": "56f3b8ec-09df-490e-881d-35839293cd6b",
   "metadata": {},
   "source": [
    "#### Answer 6."
   ]
  },
  {
   "cell_type": "markdown",
   "id": "70481d66-3b7f-4596-91cd-1c66d1c40d7e",
   "metadata": {},
   "source": [
    "loads() function takes a string of JSON data and returns a Python data structure . "
   ]
  },
  {
   "cell_type": "markdown",
   "id": "f456ce5b-78f9-48ad-b69d-bb314ad04367",
   "metadata": {},
   "source": [
    "#### Answer 7."
   ]
  },
  {
   "cell_type": "markdown",
   "id": "bc4a38a8-ab1e-46cd-bad9-d614a14e875a",
   "metadata": {},
   "source": [
    "dumps() method takes a python data structure and returns a string of JSON data."
   ]
  },
  {
   "cell_type": "code",
   "execution_count": null,
   "id": "0b1fe23c-9dbc-4302-90b0-510b9687559b",
   "metadata": {},
   "outputs": [],
   "source": []
  }
 ],
 "metadata": {
  "kernelspec": {
   "display_name": "Python 3 (ipykernel)",
   "language": "python",
   "name": "python3"
  },
  "language_info": {
   "codemirror_mode": {
    "name": "ipython",
    "version": 3
   },
   "file_extension": ".py",
   "mimetype": "text/x-python",
   "name": "python",
   "nbconvert_exporter": "python",
   "pygments_lexer": "ipython3",
   "version": "3.9.7"
  }
 },
 "nbformat": 4,
 "nbformat_minor": 5
}

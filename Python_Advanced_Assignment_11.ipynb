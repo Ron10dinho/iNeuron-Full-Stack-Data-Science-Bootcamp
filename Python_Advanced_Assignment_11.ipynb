{
 "cells": [
  {
   "cell_type": "markdown",
   "id": "1956ca53-584c-4204-b972-53cd27dafdf5",
   "metadata": {},
   "source": [
    "### Q1. What is the concept of a metaclass? "
   ]
  },
  {
   "cell_type": "markdown",
   "id": "7ae7ce82-1f67-40e1-8555-2125364e8ef6",
   "metadata": {},
   "source": [
    "Metaclass in Python is a class of a class that defines how a class behaves. A class is itself a instance of Metaclass, and any Instance of Class in Python is an Instance of type metaclass. E.g. Type of of int, str, float, list, tuple and many more is of metaclass type."
   ]
  },
  {
   "cell_type": "markdown",
   "id": "cf0c90c9-c2fc-4dd6-a3ae-b8632411f272",
   "metadata": {},
   "source": [
    "### Q2. What is the best way to declare a class's metaclass? "
   ]
  },
  {
   "cell_type": "markdown",
   "id": "90285fba-b8a9-4eef-b007-4c7068504f80",
   "metadata": {},
   "source": [
    "A way to declare a class’ metaclass is by using metaclass keyword in class definition.\n",
    "\n",
    "Example :"
   ]
  },
  {
   "cell_type": "code",
   "execution_count": 1,
   "id": "7c903f36-ff36-42ba-a8a5-3f49f491f47d",
   "metadata": {},
   "outputs": [
    {
     "name": "stdout",
     "output_type": "stream",
     "text": [
      "<class 'type'>\n",
      "<class '__main__.meta'>\n"
     ]
    }
   ],
   "source": [
    "class meta(type):\n",
    "    pass\n",
    "class class_meta(metaclass=meta):\n",
    "    pass\n",
    "print(type(meta))\n",
    "print(type(class_meta))"
   ]
  },
  {
   "cell_type": "markdown",
   "id": "c429b176-20df-4b4a-a501-d5cc76b02b52",
   "metadata": {},
   "source": [
    "### Q3. How do class decorators overlap with metaclasses for handling classes ?\n",
    " "
   ]
  },
  {
   "cell_type": "markdown",
   "id": "80dd3383-c349-4c16-a359-42016cde3d11",
   "metadata": {},
   "source": [
    "Anything you can do with a class decorator, you can of course do with a custom metaclasses (just apply the functionality of the \"decorator function\", i.e., the one that takes a class object and modifies it, in the course of the metaclass's __new__ or __init__ that make the class object!)."
   ]
  },
  {
   "cell_type": "markdown",
   "id": "ef8bd529-4032-4565-9b03-28e228423d95",
   "metadata": {},
   "source": [
    "###  Q4. How do class decorators overlap with metaclasses for handling instances?"
   ]
  },
  {
   "cell_type": "markdown",
   "id": "91080008-eef0-4c42-999d-880c0a374f1f",
   "metadata": {},
   "source": [
    "Anything you can do with a class decorator, you can of course do with a custom metaclass (just apply the functionality of the \"decorator function\", i.e., the one that takes a class object and modifies it, in the course of the metaclass's __new__ or __init__ that make the class object!)."
   ]
  },
  {
   "cell_type": "code",
   "execution_count": null,
   "id": "d7755956-4d3b-4110-a8ab-175cf6a5459b",
   "metadata": {},
   "outputs": [],
   "source": []
  }
 ],
 "metadata": {
  "kernelspec": {
   "display_name": "Python 3 (ipykernel)",
   "language": "python",
   "name": "python3"
  },
  "language_info": {
   "codemirror_mode": {
    "name": "ipython",
    "version": 3
   },
   "file_extension": ".py",
   "mimetype": "text/x-python",
   "name": "python",
   "nbconvert_exporter": "python",
   "pygments_lexer": "ipython3",
   "version": "3.10.9"
  }
 },
 "nbformat": 4,
 "nbformat_minor": 5
}

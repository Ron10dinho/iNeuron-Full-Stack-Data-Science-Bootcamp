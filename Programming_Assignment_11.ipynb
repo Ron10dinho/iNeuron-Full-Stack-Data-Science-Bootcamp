{
 "cells": [
  {
   "cell_type": "markdown",
   "id": "5febaeb3-4ea1-4705-8576-3698da6547f1",
   "metadata": {},
   "source": [
    "#### 1. Write a Python Program to find words which are greater than given length k ?"
   ]
  },
  {
   "cell_type": "code",
   "execution_count": 3,
   "id": "836eca5d-c5cd-4310-8b92-a0b604d66b76",
   "metadata": {},
   "outputs": [
    {
     "data": {
      "text/plain": [
       "['Hello', 'doing']"
      ]
     },
     "execution_count": 3,
     "metadata": {},
     "output_type": "execute_result"
    }
   ],
   "source": [
    "def find_string(k,str):\n",
    "    string = []\n",
    "    text = str.split(\" \")\n",
    "    # print(text)\n",
    "    for x in text:\n",
    "        if len(x) > k:\n",
    "            string.append(x)\n",
    "    return string\n",
    "k = 4\n",
    "str = \" Hello how are you doing \"\n",
    "find_string(k,str)"
   ]
  },
  {
   "cell_type": "markdown",
   "id": "7e55c806-7edc-4c62-8071-060f6e7743bb",
   "metadata": {},
   "source": [
    "#### 2. Write a Python program for removing i-th character from a string ?"
   ]
  },
  {
   "cell_type": "code",
   "execution_count": 9,
   "id": "7d055410-121d-4708-92c0-5e37faa51ed0",
   "metadata": {},
   "outputs": [
    {
     "name": "stdout",
     "output_type": "stream",
     "text": [
      "Goodmrning\n"
     ]
    }
   ],
   "source": [
    "def remove(string,i):\n",
    "    a = string[:i]\n",
    "    b = string[i+1:]\n",
    "    return a+b\n",
    "string = \"Goodmorning\"\n",
    "i = 5\n",
    "print(remove(string,i))\n"
   ]
  },
  {
   "cell_type": "markdown",
   "id": "0477b800-3f4e-4307-b301-dc8d6afdcb7a",
   "metadata": {},
   "source": [
    "#### 3. Write a Python Program to split and join a string ? "
   ]
  },
  {
   "cell_type": "code",
   "execution_count": 20,
   "id": "df35730b-19a1-4e8f-a290-74d8f9d590a0",
   "metadata": {},
   "outputs": [
    {
     "name": "stdin",
     "output_type": "stream",
     "text": [
      "Enter a string :  Hello how are you doing ?\n"
     ]
    },
    {
     "name": "stdout",
     "output_type": "stream",
     "text": [
      "['Hello', 'how', 'are', 'you', 'doing', '?']\n",
      "Hello-how-are-you-doing-?\n"
     ]
    }
   ],
   "source": [
    "def split_join():\n",
    "    string = input(\"Enter a string : \")\n",
    "    a = string.split(\" \")\n",
    "    print(a)\n",
    "    print(\"-\".join(string.split()))\n",
    "split_join()"
   ]
  },
  {
   "cell_type": "markdown",
   "id": "942aae26-1cde-4ad5-882f-5c83c3b5740c",
   "metadata": {},
   "source": [
    "#### 4. Write a Python program to check if a given string is binary string or not ?"
   ]
  },
  {
   "cell_type": "code",
   "execution_count": 33,
   "id": "e948025e-b7ed-4949-99e8-685150779fcc",
   "metadata": {},
   "outputs": [
    {
     "name": "stdout",
     "output_type": "stream",
     "text": [
      "Set : {'0', '1'}\n",
      "Yes , it is a Binary String.\n"
     ]
    }
   ],
   "source": [
    "def check_string(string):\n",
    "    p = set(string)\n",
    "    print(\"Set :\",p)\n",
    "    s = {'0','1'}\n",
    "    if s == p or p == {'0'} or p == {'1'}:\n",
    "        print(\"Yes , it is a Binary String.\")\n",
    "    else:\n",
    "        print(\"No , it is not a Binary String.\")\n",
    "string = '10101001'\n",
    "check_string(string)"
   ]
  },
  {
   "cell_type": "markdown",
   "id": "2adb5cfd-de36-4dcf-8f50-02ebe83577cb",
   "metadata": {},
   "source": [
    "#### 5. Write a Python Program to find uncommon words from two strings ?"
   ]
  },
  {
   "cell_type": "code",
   "execution_count": 28,
   "id": "3fbb0a2e-9fba-41fd-a41d-6b8cb503d179",
   "metadata": {},
   "outputs": [
    {
     "name": "stdout",
     "output_type": "stream",
     "text": [
      " orange banana\n"
     ]
    }
   ],
   "source": [
    "def uncommonWords(a,b):\n",
    "    list_a = a.split()\n",
    "    list_b = b.split()\n",
    "    uc = ''\n",
    "    for i in list_a:\n",
    "        if i not in list_b:\n",
    "            uc = uc + \" \" + i\n",
    "    for j in list_b:\n",
    "        if j not in list_a:\n",
    "            uc = uc + \" \" + j\n",
    "    return uc\n",
    "\n",
    "a = \"pineapple orange watermelon\"\n",
    "b = \"watermelon banana pineapple\"\n",
    "print(uncommonWords(a,b))"
   ]
  },
  {
   "cell_type": "markdown",
   "id": "858c3a2c-fa5f-452b-8983-b5732605619e",
   "metadata": {},
   "source": [
    "#### 6. Write a Python program to find all duplicate characters in string ?"
   ]
  },
  {
   "cell_type": "code",
   "execution_count": 29,
   "id": "2e245b7d-e3e8-456a-8332-416746de2d2d",
   "metadata": {},
   "outputs": [
    {
     "name": "stdin",
     "output_type": "stream",
     "text": [
      "Enter a string : geeksforgeeks\n"
     ]
    },
    {
     "name": "stdout",
     "output_type": "stream",
     "text": [
      "g e k s\n"
     ]
    }
   ],
   "source": [
    "def find_duplicate():\n",
    "    string = input(\"Enter a string :\")\n",
    "    x = []\n",
    "    for i in string:\n",
    "        if i not in x and string.count(i) > 1:\n",
    "            x.append(i)\n",
    "    print(\" \".join(x))\n",
    "find_duplicate()"
   ]
  },
  {
   "cell_type": "markdown",
   "id": "98cc9072-3c23-44ae-a1ca-b3352e4ecfd2",
   "metadata": {},
   "source": [
    "#### 7. Write a Python program to check if a string contains any special character ? "
   ]
  },
  {
   "cell_type": "code",
   "execution_count": 40,
   "id": "21a3066c-935f-46fa-a576-a9368d2050a4",
   "metadata": {},
   "outputs": [],
   "source": [
    "def check_special_characters():\n",
    "    txt = input(\"Enter string :\")\n",
    "    txt.split()\n",
    "    c = 0\n",
    "    s='[@_!#$%^&*()<>?/\\|}{~:]'\n",
    "    for i in range(len(txt)):\n",
    "        if txt[i] in s:\n",
    "            c += 1\n",
    "    if not c:\n",
    "        print(\"String does not have any special characters .\")\n",
    "    else:\n",
    "        print(f\"String has {c} special characters\")"
   ]
  },
  {
   "cell_type": "code",
   "execution_count": 41,
   "id": "a9e9abe9-f8a7-4247-83e8-647026805bb4",
   "metadata": {},
   "outputs": [
    {
     "name": "stdin",
     "output_type": "stream",
     "text": [
      "Enter string : This@is*a&sunny$ day\n"
     ]
    },
    {
     "name": "stdout",
     "output_type": "stream",
     "text": [
      "String has 4 special characters\n"
     ]
    }
   ],
   "source": [
    "check_special_characters()"
   ]
  },
  {
   "cell_type": "code",
   "execution_count": null,
   "id": "1ec87d0e-01cb-416d-afda-ecee941e11cb",
   "metadata": {},
   "outputs": [],
   "source": []
  }
 ],
 "metadata": {
  "kernelspec": {
   "display_name": "Python 3 (ipykernel)",
   "language": "python",
   "name": "python3"
  },
  "language_info": {
   "codemirror_mode": {
    "name": "ipython",
    "version": 3
   },
   "file_extension": ".py",
   "mimetype": "text/x-python",
   "name": "python",
   "nbconvert_exporter": "python",
   "pygments_lexer": "ipython3",
   "version": "3.9.7"
  }
 },
 "nbformat": 4,
 "nbformat_minor": 5
}

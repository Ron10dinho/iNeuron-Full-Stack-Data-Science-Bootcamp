{
 "cells": [
  {
   "cell_type": "markdown",
   "id": "3f204d53-77e0-4768-adae-0f4014970e8b",
   "metadata": {},
   "source": [
    "### Q1. Which two operator overloading methods can you use in your classes to support iteration ?"
   ]
  },
  {
   "cell_type": "markdown",
   "id": "90ced61f-b1d6-4d50-be4c-45b0392e02ab",
   "metadata": {},
   "source": [
    "__iter__ and __next__ are the operator overloading methods in python that support iteration and are collectively called iterator protocol.\n",
    "\n",
    "- __iter__ returns the iterator object and is called at the start of the loop in our respective class.\n",
    "- __next__ is called at each loop increment, it returns the incremented value. Also StopIteration is raised when there is no value to return.\n",
    "\n",
    "Example :"
   ]
  },
  {
   "cell_type": "code",
   "execution_count": 1,
   "id": "01f64307-bcea-43f1-b1fb-e41fdc9d565b",
   "metadata": {},
   "outputs": [
    {
     "name": "stdout",
     "output_type": "stream",
     "text": [
      "5 6 7 8 9 10 11 12 13 14 15 "
     ]
    }
   ],
   "source": [
    "class Counter:\n",
    "    def __init__(self, low, high):\n",
    "        self.current = low\n",
    "        self.high = high\n",
    "    def __iter__(self):\n",
    "        return self\n",
    "    def __next__(self):\n",
    "        if self.current > self.high:\n",
    "            raise StopIteration\n",
    "        else:\n",
    "            self.current += 1\n",
    "            return self.current - 1\n",
    "for ele in Counter(5,15):\n",
    "    print(ele, end=' ')"
   ]
  },
  {
   "cell_type": "markdown",
   "id": "8c07f624-3c5a-4ad7-b6c9-9df3f7e85ea9",
   "metadata": {},
   "source": [
    "### Q2. In what contexts do the two operator overloading methods manage printing ?"
   ]
  },
  {
   "cell_type": "markdown",
   "id": "b7b755f8-6a04-4ad2-8f38-61f635574e6d",
   "metadata": {},
   "source": [
    "__str__ and __repr__ are the two operators that manage printing.\n",
    "\n",
    "The goal of __repr__ is to be unambiguous . \n",
    "The goal of __str__ is to be readable.\n",
    "\n",
    "Example :"
   ]
  },
  {
   "cell_type": "code",
   "execution_count": 5,
   "id": "4f42da87-b2cd-4dbf-a277-68b0c188f7ff",
   "metadata": {},
   "outputs": [
    {
     "name": "stdout",
     "output_type": "stream",
     "text": [
      "<__main__.Student object at 0x0000027F308B9CF0>\n",
      "Student Name : John, Student Roll No. : 2\n",
      "2023-04-22 21:53:49.354214\n",
      "Unable to convert\n",
      "datetime.datetime(2023, 4, 22, 21, 53, 49, 354214)\n",
      "2023-04-22 21:53:49.354214\n"
     ]
    }
   ],
   "source": [
    "class Student:\n",
    "    def __init__(self, name, roll_no):\n",
    "        self.name = name\n",
    "        self.roll_no = roll_no\n",
    "s1 = Student(\"Jack\",1)\n",
    "print(str(s1))\n",
    "\n",
    "class Student:\n",
    "    def __init__(self, name, roll_no):\n",
    "        self.name = name\n",
    "        self.roll_no = roll_no\n",
    "    def __str__(self):\n",
    "        return f\"Student Name : {self.name}, Student Roll No. : {self.roll_no}\"\n",
    "s2 = Student(\"John\",2)\n",
    "print(str(s2))\n",
    "\n",
    "import datetime\n",
    "today = datetime.datetime.now()\n",
    "s = str(today)\n",
    "print(s)\n",
    "try:\n",
    "    d = eval(s)\n",
    "except:\n",
    "    print(\"Unable to convert\")\n",
    "\n",
    "u = repr(today) # Converting datetime object to str\n",
    "print(u)\n",
    "e = eval(u) # Converting str back to datetime object\n",
    "print(e)"
   ]
  },
  {
   "cell_type": "markdown",
   "id": "428f0399-d80f-492e-b0a5-74b42918628b",
   "metadata": {},
   "source": [
    "### Q3. In a class , how do you intercept slice operations ?"
   ]
  },
  {
   "cell_type": "markdown",
   "id": "593d8853-5aa7-4850-9bff-71814a4977b4",
   "metadata": {},
   "source": [
    "Use slice() in __getitem__ for intercepting slice operations.\n",
    "\n",
    "Example : __getitem__(slice(start,stop,step))"
   ]
  },
  {
   "cell_type": "markdown",
   "id": "6c9ffaa0-cd8a-491c-b845-d3e9a590e5ce",
   "metadata": {},
   "source": [
    "### Q4. In a class, how do you capture in-place addition ?"
   ]
  },
  {
   "cell_type": "markdown",
   "id": "ccf63670-b537-429d-87c0-532d829d40b6",
   "metadata": {},
   "source": [
    "a + b is normal addition . a += b is inplace addition operation.\n",
    "\n",
    "In a class , __iadd__ method is used for this in-place operation."
   ]
  },
  {
   "cell_type": "markdown",
   "id": "b085101a-5b42-4a80-8748-593eefda3165",
   "metadata": {},
   "source": [
    "### Q5. When is it appropriate to use Operator Overloading ? "
   ]
  },
  {
   "cell_type": "markdown",
   "id": "5c34b28f-aa15-441d-9e00-29af29465989",
   "metadata": {},
   "source": [
    "Operator Overloading is used when we want to use an operator other than its normal operation to have different meaning according to the context required in user defined function."
   ]
  },
  {
   "cell_type": "code",
   "execution_count": null,
   "id": "2430902a-0c64-4a20-b8a7-daca4773c055",
   "metadata": {},
   "outputs": [],
   "source": []
  }
 ],
 "metadata": {
  "kernelspec": {
   "display_name": "Python 3 (ipykernel)",
   "language": "python",
   "name": "python3"
  },
  "language_info": {
   "codemirror_mode": {
    "name": "ipython",
    "version": 3
   },
   "file_extension": ".py",
   "mimetype": "text/x-python",
   "name": "python",
   "nbconvert_exporter": "python",
   "pygments_lexer": "ipython3",
   "version": "3.10.9"
  }
 },
 "nbformat": 4,
 "nbformat_minor": 5
}

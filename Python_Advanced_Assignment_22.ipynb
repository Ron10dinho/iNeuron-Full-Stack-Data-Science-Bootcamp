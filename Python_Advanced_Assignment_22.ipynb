{
 "cells": [
  {
   "cell_type": "markdown",
   "id": "58a721dc-564e-4d2b-9d8c-dfe938f25c17",
   "metadata": {},
   "source": [
    "### Q1. What are the benefits of the built-in array package, if any ? "
   ]
  },
  {
   "cell_type": "markdown",
   "id": "2eab6225-1e89-4ab1-8e8e-6149350f30e2",
   "metadata": {},
   "source": [
    " Arrays represent multiple data items of the same type using a single name. In arrays, the elements can be accessed randomly by using the index number. Arrays allocate memory in contiguous memory locations for all its elements. Hence there is no chance of extra memory being allocated in case of arrays. This avoids memory overflow or shortage of memory in arrays."
   ]
  },
  {
   "cell_type": "markdown",
   "id": "9e61b7ca-e846-4556-b678-860299890c4c",
   "metadata": {},
   "source": [
    "### Q2. What are some of the array package's limitations ? "
   ]
  },
  {
   "cell_type": "markdown",
   "id": "253cd62c-b9d7-41dd-a2a2-4f6d8a396920",
   "metadata": {},
   "source": [
    "The number of elements to be stored in an array should be known in advance. An array is a static structure (which means the array is of fixed size). Once declared the size of the array cannot be modified. The memory which is allocated to it cannot be increased or decreased.\n",
    "\n",
    "Insertion and deletion are quite difficult in an array as the elements are stored in consecutive memory locations and the shifting operation is costly.\n",
    "\n",
    "Allocating more memory than the requirement leads to wastage of memory space and less allocation of memory also leads to a problem"
   ]
  },
  {
   "cell_type": "markdown",
   "id": "55d10249-5070-48a1-b44e-cb1f5832df51",
   "metadata": {},
   "source": [
    "### Q3. Describe the main differences between the array and numpy packages ? "
   ]
  },
  {
   "cell_type": "markdown",
   "id": "3556a1c5-a0fa-442e-a3fc-0389b0602d5c",
   "metadata": {},
   "source": [
    " The array package doesn't provide any help with numerical calculation with the items insdie it in number form while NumPy give you a wide variety of numerical operations.\n",
    "\n",
    "An array is a single dimensional entity which hold the numerical data, while numpy can have more than 1 dimension.\n",
    "\n",
    "In case of array, item can be accessed by its index position and it is easy task while in numpy item is accessed by its column and row index, which makes it slightly time taking. Same goes with appending operation.\n",
    "\n",
    "In case of array we do not form a tabular structure, while in numpy it forms a tabular structure"
   ]
  },
  {
   "cell_type": "markdown",
   "id": "214abb43-8551-47ec-b8ed-01ae6df7d4b8",
   "metadata": {},
   "source": [
    "### Q4. Explain the distinctions between the empty, ones, and zeros functions ? "
   ]
  },
  {
   "cell_type": "markdown",
   "id": "6def8334-8ab4-49ba-9769-fb3d1764383d",
   "metadata": {},
   "source": [
    "The distinctions between the empty, ones, and zero functions are as follows :\n",
    "\n",
    "* Empty function: An empty function is a function that does not contain any statement within its body. If you try to write a function definition without any statement in python ,it will return an error. To avoid this, we use pass statement. pass is a special statement in Python that does nothing. It only works as a dummy statement.\n",
    "* Ones: This function returns a new array of given shape and data type, where the element’s value is 1.\n",
    "* Zeros: This function returns a new array of given shape and data type, where the element’s value is 0."
   ]
  },
  {
   "cell_type": "markdown",
   "id": "7de58d00-4767-4503-90ff-0c975ae5afce",
   "metadata": {},
   "source": [
    "### Q5. In the fromfunction function, which is used to construct new arrays, what is the role of the callable argument ? "
   ]
  },
  {
   "cell_type": "markdown",
   "id": "c8e53eb7-6e34-47eb-8b9f-6e7d04f0704b",
   "metadata": {},
   "source": [
    "Its function is to execute the function over each coordinate and the resulting array. The function is called with N parameters, where N is the rank of shape. Each parameter represents the coordinates of the array varying along a specific axis."
   ]
  },
  {
   "cell_type": "markdown",
   "id": "b345d665-e2a6-40b0-a32e-685ef7c96241",
   "metadata": {},
   "source": [
    "### Q6. What happens when a numpy array is combined with a single-value operand (a scalar, such as an int or a floating-point value) through addition, as in the expression A + n ? "
   ]
  },
  {
   "cell_type": "markdown",
   "id": "80575fac-d1df-4dca-bec1-e3b33bed51e6",
   "metadata": {},
   "source": [
    "If any scaler value such as integer is added to the numpy array then all the elements inside the array will add that value in it."
   ]
  },
  {
   "cell_type": "markdown",
   "id": "32efdc80-bcdd-49e9-9fc4-c9d379570796",
   "metadata": {},
   "source": [
    "### Q7. Can array-to-scalar operations use combined operation-assign operators (such as += or *=)? What is the outcome ?"
   ]
  },
  {
   "cell_type": "markdown",
   "id": "66e84ee0-fa0c-4baf-8467-fbbbe3d6b43d",
   "metadata": {},
   "source": [
    "It will carry out provided operation on all elements of array."
   ]
  },
  {
   "cell_type": "markdown",
   "id": "b7a76205-8ef0-4dd3-a0a7-a72aea6fc6ab",
   "metadata": {},
   "source": [
    "### Q8. Does a numpy array contain fixed-length strings? What happens if you allocate a longer string to one of these arrays ? "
   ]
  },
  {
   "cell_type": "markdown",
   "id": "c4c545e8-c0bd-41fb-a97a-6572617d6178",
   "metadata": {},
   "source": [
    " Yes, it is possible that we can include a string of fixed length in numpy array. The dtype of any numpy array containing string values is the maximum length of any string present in the array.Once set, it will only be able to store new string having length not more than the maximum length at the time of the creation. If we try to reassign some another string value having length greater than the maximum length of the existing elements, it simply discards all the values beyond the maximum length accept upto those values which are under the limit."
   ]
  },
  {
   "cell_type": "markdown",
   "id": "0e33c97c-bcef-49da-8dad-5b3938ab3026",
   "metadata": {},
   "source": [
    "### Q9. What happens when you combine two numpy arrays using an operation like addition (+) or multiplication (*)? What are the conditions for combining two numpy arrays ? "
   ]
  },
  {
   "cell_type": "markdown",
   "id": "faeb594a-399d-4272-bbf6-71c0d590fbcc",
   "metadata": {},
   "source": [
    " It will simply add or multiply element to element at same position."
   ]
  },
  {
   "cell_type": "code",
   "execution_count": null,
   "id": "da313b32-02f2-4f26-8140-fc657543a015",
   "metadata": {},
   "outputs": [],
   "source": []
  }
 ],
 "metadata": {
  "kernelspec": {
   "display_name": "Python 3 (ipykernel)",
   "language": "python",
   "name": "python3"
  },
  "language_info": {
   "codemirror_mode": {
    "name": "ipython",
    "version": 3
   },
   "file_extension": ".py",
   "mimetype": "text/x-python",
   "name": "python",
   "nbconvert_exporter": "python",
   "pygments_lexer": "ipython3",
   "version": "3.10.9"
  }
 },
 "nbformat": 4,
 "nbformat_minor": 5
}

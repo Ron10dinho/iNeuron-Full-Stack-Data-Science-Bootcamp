{
 "cells": [
  {
   "cell_type": "markdown",
   "id": "b52790b6-7753-4622-9397-689a798170c2",
   "metadata": {},
   "source": [
    "#### Answer 1. "
   ]
  },
  {
   "cell_type": "code",
   "execution_count": 13,
   "id": "f35accb3-7af7-4ace-ba6b-51d2c39a6560",
   "metadata": {},
   "outputs": [
    {
     "name": "stdin",
     "output_type": "stream",
     "text": [
      "Enter the input : 100,150,180\n"
     ]
    },
    {
     "name": "stdout",
     "output_type": "stream",
     "text": [
      "Output : 18,22,24\n"
     ]
    }
   ],
   "source": [
    "from math import sqrt\n",
    "def calculate():\n",
    "    inp = eval(input(\"Enter the input :\"))\n",
    "    empty = []\n",
    "    C = 50\n",
    "    H = 30\n",
    "    for ele in inp:\n",
    "        Q = str(int(sqrt((2*C*ele)/H)))\n",
    "        empty.append(Q)\n",
    "    print(f\"Output : {','.join(empty)}\")\n",
    "calculate()\n",
    "    "
   ]
  },
  {
   "cell_type": "markdown",
   "id": "f8d39699-1ab2-43c5-adc2-ddafcd73483e",
   "metadata": {},
   "source": [
    "#### Answer 2."
   ]
  },
  {
   "cell_type": "code",
   "execution_count": 18,
   "id": "e4c7d03d-dc38-478f-bffa-e9e1e95436dc",
   "metadata": {},
   "outputs": [
    {
     "name": "stdin",
     "output_type": "stream",
     "text": [
      "Enter number of rows : 3\n",
      "Enter number of columns : 5\n"
     ]
    },
    {
     "name": "stdout",
     "output_type": "stream",
     "text": [
      "[[0, 0, 0, 0, 0], [0, 1, 2, 3, 4], [0, 2, 4, 6, 8]]\n"
     ]
    }
   ],
   "source": [
    "import array as arr\n",
    "def generate_array():\n",
    "    x = int(input(\"Enter number of rows :\"))\n",
    "    y = int(input(\"Enter number of columns :\"))\n",
    "    empty = []\n",
    "    for ele in range(x):\n",
    "        # print(ele)\n",
    "        empty.insert(x,[])\n",
    "        for ele_2 in range(y):\n",
    "            # print(ele_2)\n",
    "            # print()\n",
    "            empty[ele].append(ele*ele_2)\n",
    "    print(empty)\n",
    "generate_array()"
   ]
  },
  {
   "cell_type": "markdown",
   "id": "a4d72180-8ad0-468c-b7fa-e0c6862093b1",
   "metadata": {},
   "source": [
    "#### Answer 3."
   ]
  },
  {
   "cell_type": "code",
   "execution_count": 21,
   "id": "096253d6-8b32-47f3-862a-afa33e877e50",
   "metadata": {},
   "outputs": [
    {
     "name": "stdin",
     "output_type": "stream",
     "text": [
      "Enter string values seperated by commas : without,hello,bag,world\n"
     ]
    },
    {
     "name": "stdout",
     "output_type": "stream",
     "text": [
      "Sorted output : bag,hello,without,world\n"
     ]
    }
   ],
   "source": [
    "def sort_words():\n",
    "    inp = input(\"Enter string :\")\n",
    "    output = ','.join(sorted(inp.split(',')))\n",
    "    print(f\"Sorted output : {output}\")\n",
    "sort_words()"
   ]
  },
  {
   "cell_type": "markdown",
   "id": "58b2ae7b-c510-4cd3-a0ea-8679111cd557",
   "metadata": {},
   "source": [
    "#### Answer 4."
   ]
  },
  {
   "cell_type": "code",
   "execution_count": 22,
   "id": "77772ecc-0b6b-40cf-85bb-8dfc239a8356",
   "metadata": {},
   "outputs": [
    {
     "name": "stdin",
     "output_type": "stream",
     "text": [
      "Enter string : hello world and practice makes perfect and hello world again\n"
     ]
    },
    {
     "name": "stdout",
     "output_type": "stream",
     "text": [
      "Output : again and hello makes perfect practice world\n"
     ]
    }
   ],
   "source": [
    "def sort_ques():\n",
    "    inp = input(\"Enter string :\")\n",
    "    output = ' '.join(sorted(sorted(list(set(inp.split(' '))))))\n",
    "    print(f'Output : {output}')\n",
    "sort_ques()"
   ]
  },
  {
   "cell_type": "markdown",
   "id": "50de6482-419a-429f-aae1-19d6271d72de",
   "metadata": {},
   "source": [
    "#### Answer 5."
   ]
  },
  {
   "cell_type": "code",
   "execution_count": 24,
   "id": "d45cd17f-3e1b-47dd-bb64-8b05e86ceaec",
   "metadata": {},
   "outputs": [
    {
     "name": "stdin",
     "output_type": "stream",
     "text": [
      "Enter string : hello world ! 123\n"
     ]
    },
    {
     "name": "stdout",
     "output_type": "stream",
     "text": [
      "Letters = 10 and Digits = 3\n"
     ]
    }
   ],
   "source": [
    "def count():\n",
    "    inp = input(\"Enter string :\")\n",
    "    lettersList = 'ABCDEFGHIJKLMNOPQRSTUVWXYZabcdefghijklmnopqrstuvwxyz'\n",
    "    digitsList = '0123456789'\n",
    "    letters,digits = 0,0\n",
    "    for ele in inp:\n",
    "        if ele in lettersList:\n",
    "            letters += 1\n",
    "        if ele in digitsList:\n",
    "            digits += 1\n",
    "    print(f\"Letters = {letters} and Digits = {digits}\")\n",
    "count()\n",
    "    "
   ]
  },
  {
   "cell_type": "markdown",
   "id": "97117acc-3274-4f4a-bee5-a34b31322232",
   "metadata": {},
   "source": [
    "#### Answer 6."
   ]
  },
  {
   "cell_type": "code",
   "execution_count": 26,
   "id": "dc016b81-00f3-4d28-a486-f8e8d91d8fbf",
   "metadata": {},
   "outputs": [
    {
     "name": "stdin",
     "output_type": "stream",
     "text": [
      "Enter string : ABd1234@1,a F1#,2w3E*,2We3345,CZd1234@3\n"
     ]
    },
    {
     "name": "stdout",
     "output_type": "stream",
     "text": [
      "ABd1234@1\n",
      "CZd1234@3\n"
     ]
    }
   ],
   "source": [
    "def checkPassword():\n",
    "    inp = input(\"Enter string :\")\n",
    "    small_list = \"abcdefghijklmnopqrstuvwxyz\"\n",
    "    cap_list = \"ABCDEFGHIJKLMNOPQRSTUVWXYZ\"\n",
    "    num_list = \"0123456789\"\n",
    "    special_list = \"$#@\"\n",
    "    for ele in inp.split(\",\"):\n",
    "        if len(ele) <= 12 and len(ele) >= 6:\n",
    "            if any(i.isupper() for i in ele):\n",
    "                if any(i.islower() for i in ele):\n",
    "                    if any(i for i in ele if i in special_list):\n",
    "                        print(ele)\n",
    "checkPassword()"
   ]
  },
  {
   "cell_type": "code",
   "execution_count": null,
   "id": "9509269d-71bf-461d-aff4-0856bfc6e3be",
   "metadata": {},
   "outputs": [],
   "source": []
  }
 ],
 "metadata": {
  "kernelspec": {
   "display_name": "Python 3 (ipykernel)",
   "language": "python",
   "name": "python3"
  },
  "language_info": {
   "codemirror_mode": {
    "name": "ipython",
    "version": 3
   },
   "file_extension": ".py",
   "mimetype": "text/x-python",
   "name": "python",
   "nbconvert_exporter": "python",
   "pygments_lexer": "ipython3",
   "version": "3.9.7"
  }
 },
 "nbformat": 4,
 "nbformat_minor": 5
}

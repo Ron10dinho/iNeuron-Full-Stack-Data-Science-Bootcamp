{
 "cells": [
  {
   "cell_type": "markdown",
   "id": "91ee6737-9d2a-47b9-b401-3c32a1b47a47",
   "metadata": {},
   "source": [
    "#### Answer 1"
   ]
  },
  {
   "cell_type": "code",
   "execution_count": 2,
   "id": "c3eed099-5806-4f06-a8ff-5d9a3671c19b",
   "metadata": {},
   "outputs": [],
   "source": [
    "import datetime\n",
    "file = open('today.txt','w')\n",
    "file.write(datetime.datetime.now().strftime(\"%d-%m-%Y\"))\n",
    "file.close()"
   ]
  },
  {
   "cell_type": "code",
   "execution_count": 5,
   "id": "8517a48e-8ca0-4bff-b69d-bc6a6f4993e7",
   "metadata": {},
   "outputs": [],
   "source": [
    "# file = open('today.txt','r')\n",
    "# print(file.read())\n",
    "# file.close()"
   ]
  },
  {
   "cell_type": "markdown",
   "id": "c5f0048a-c298-4935-956c-a9884905d774",
   "metadata": {},
   "source": [
    "#### Answer 2"
   ]
  },
  {
   "cell_type": "code",
   "execution_count": 6,
   "id": "71209265-7c95-4427-8588-51b09fe11445",
   "metadata": {},
   "outputs": [
    {
     "name": "stdout",
     "output_type": "stream",
     "text": [
      "16-08-2022\n"
     ]
    }
   ],
   "source": [
    "file = open('today.txt','r')\n",
    "today_string = file.read()\n",
    "print(today_string)"
   ]
  },
  {
   "cell_type": "markdown",
   "id": "33b5963b-c107-4125-a285-35a47f27cdb8",
   "metadata": {},
   "source": [
    "#### Answer 3"
   ]
  },
  {
   "cell_type": "code",
   "execution_count": 7,
   "id": "0a70c76f-c95b-452c-b07e-4c480a1034d7",
   "metadata": {},
   "outputs": [
    {
     "name": "stdout",
     "output_type": "stream",
     "text": [
      "2022-08-16 00:00:00\n"
     ]
    }
   ],
   "source": [
    "from datetime import datetime\n",
    "parsed_data = datetime.strptime(today_string,'%d-%m-%Y')\n",
    "print(parsed_data)"
   ]
  },
  {
   "cell_type": "markdown",
   "id": "4a1991c4-21b4-48a8-a8d9-ffbc560f05d3",
   "metadata": {},
   "source": [
    "#### Answer 4"
   ]
  },
  {
   "cell_type": "code",
   "execution_count": 8,
   "id": "6253ff70-8113-4afa-b6ce-cc030e931914",
   "metadata": {},
   "outputs": [
    {
     "name": "stdout",
     "output_type": "stream",
     "text": [
      "Assignment_13.ipynb\n",
      "Assignment_11.ipynb\n",
      "Assignment_08.ipynb\n",
      ".DS_Store\n",
      "Assignment_15.ipynb\n",
      "Assignment_17.ipynb\n",
      "Assignment_10.ipynb\n",
      "Assignment_09.ipynb\n",
      "today.txt\n",
      "Assignment_12.ipynb\n",
      "Assignment_16.ipynb\n",
      "Assignment_14.ipynb\n",
      "Assignment_01.ipynb\n",
      "Assignment_03.ipynb\n",
      "books.csv\n",
      "Assignment_07.ipynb\n",
      "Assignment_05.ipynb\n",
      "Assignment_21.ipynb\n",
      "test.txt\n",
      "Assignment_02.ipynb\n",
      "Assignment_19.ipynb\n",
      "books.db\n",
      "Assignment_04.ipynb\n",
      "Assignment_20.ipynb\n",
      "Assignment_06.ipynb\n",
      "zoo.cpython-39.pyc\n",
      "Assignment_21-checkpoint.ipynb\n",
      "Assignment_14-checkpoint.ipynb\n",
      "Assignment_10-checkpoint.ipynb\n",
      "Assignment_20-checkpoint.ipynb\n",
      "Assignment_01-checkpoint.ipynb\n",
      "Assignment_15-checkpoint.ipynb\n",
      "Assignment_11-checkpoint.ipynb\n",
      "Assignment_16-checkpoint.ipynb\n",
      "Assignment_09-checkpoint.ipynb\n",
      "Assignment_19-checkpoint.ipynb\n",
      "test-checkpoint.txt\n",
      "Assignment_12-checkpoint.ipynb\n",
      "Assignment_08-checkpoint.ipynb\n",
      "Assignment_17-checkpoint.ipynb\n",
      "Assignment_07-checkpoint.ipynb\n",
      "Assignment_13-checkpoint.ipynb\n",
      "books-checkpoint.csv\n"
     ]
    }
   ],
   "source": [
    "import os\n",
    "for folders , subfolders , files in os.walk(os.getcwd()):\n",
    "    for file in files:\n",
    "        print(file)"
   ]
  },
  {
   "cell_type": "markdown",
   "id": "a55d605c-983b-43b3-ae18-094d9ef020f1",
   "metadata": {},
   "source": [
    "#### Answer 5"
   ]
  },
  {
   "cell_type": "code",
   "execution_count": 10,
   "id": "e3e8a3e2-cfc3-4309-ab90-83cbc172f9b5",
   "metadata": {},
   "outputs": [
    {
     "data": {
      "text/plain": [
       "['Assignment_13.ipynb',\n",
       " 'Assignment_11.ipynb',\n",
       " 'Assignment_08.ipynb',\n",
       " '.DS_Store',\n",
       " 'Assignment_15.ipynb',\n",
       " 'Assignment_17.ipynb',\n",
       " 'Assignment_10.ipynb',\n",
       " 'Assignment_09.ipynb',\n",
       " 'today.txt',\n",
       " 'Assignment_12.ipynb',\n",
       " 'Assignment_16.ipynb',\n",
       " '__pycache__',\n",
       " 'Assignment_14.ipynb',\n",
       " 'Assignment_01.ipynb',\n",
       " 'Assignment_03.ipynb',\n",
       " 'books.csv',\n",
       " 'Assignment_07.ipynb',\n",
       " 'Assignment_05.ipynb',\n",
       " 'Assignment_21.ipynb',\n",
       " 'test.txt',\n",
       " '.ipynb_checkpoints',\n",
       " 'Assignment_02.ipynb',\n",
       " 'Assignment_19.ipynb',\n",
       " 'books.db',\n",
       " 'Assignment_04.ipynb',\n",
       " 'Assignment_20.ipynb',\n",
       " 'Assignment_06.ipynb']"
      ]
     },
     "execution_count": 10,
     "metadata": {},
     "output_type": "execute_result"
    }
   ],
   "source": [
    "import os \n",
    "os.listdir()"
   ]
  },
  {
   "cell_type": "code",
   "execution_count": 16,
   "id": "d61f9c32-89a3-4e86-ae3e-5527f3ef70d8",
   "metadata": {},
   "outputs": [],
   "source": [
    "    p3.join()"
   ]
  },
  {
   "cell_type": "markdown",
   "id": "69f96568-caaa-449a-9317-55dcfc867ec7",
   "metadata": {},
   "source": [
    "#### Answer 7"
   ]
  },
  {
   "cell_type": "code",
   "execution_count": 11,
   "id": "294d5d15-9ce5-490f-b926-a7b171e33c6f",
   "metadata": {},
   "outputs": [
    {
     "name": "stdout",
     "output_type": "stream",
     "text": [
      "1998-09-24 00:00:00 <class 'datetime.datetime'>\n"
     ]
    }
   ],
   "source": [
    "from datetime import datetime\n",
    "my_dob = datetime.strptime('24/09/1998','%d/%m/%Y')\n",
    "print(my_dob,type(my_dob))"
   ]
  },
  {
   "cell_type": "markdown",
   "id": "b498dec2-c7c5-46c0-a3d6-c8061e074d1a",
   "metadata": {},
   "source": [
    "#### Answer 8"
   ]
  },
  {
   "cell_type": "code",
   "execution_count": 12,
   "id": "4c087198-e6de-4218-8c56-27a1baa6e8cf",
   "metadata": {},
   "outputs": [
    {
     "data": {
      "text/plain": [
       "'Thursday'"
      ]
     },
     "execution_count": 12,
     "metadata": {},
     "output_type": "execute_result"
    }
   ],
   "source": [
    "from datetime import datetime\n",
    "my_dob = datetime(1998,9,24)\n",
    "my_dob.strftime(\"%A\")"
   ]
  },
  {
   "cell_type": "markdown",
   "id": "e42cd224-9c56-4823-bc33-95a4458b353b",
   "metadata": {},
   "source": [
    "#### Answer 9"
   ]
  },
  {
   "cell_type": "code",
   "execution_count": 13,
   "id": "1a4da527-8b6e-4ff3-8936-c11c23f56df9",
   "metadata": {},
   "outputs": [
    {
     "data": {
      "text/plain": [
       "datetime.datetime(1971, 5, 9, 0, 0)"
      ]
     },
     "execution_count": 13,
     "metadata": {},
     "output_type": "execute_result"
    }
   ],
   "source": [
    "from datetime import datetime,timedelta\n",
    "my_dob = datetime.strptime('24/09/1998','%d/%m/%Y')\n",
    "future_date = my_dob-timedelta(10000)\n",
    "future_date"
   ]
  },
  {
   "cell_type": "code",
   "execution_count": null,
   "id": "e1b7df2f-405e-4794-bdb1-d72ca1cd01b3",
   "metadata": {},
   "outputs": [],
   "source": []
  }
 ],
 "metadata": {
  "kernelspec": {
   "display_name": "Python 3 (ipykernel)",
   "language": "python",
   "name": "python3"
  },
  "language_info": {
   "codemirror_mode": {
    "name": "ipython",
    "version": 3
   },
   "file_extension": ".py",
   "mimetype": "text/x-python",
   "name": "python",
   "nbconvert_exporter": "python",
   "pygments_lexer": "ipython3",
   "version": "3.9.7"
  }
 },
 "nbformat": 4,
 "nbformat_minor": 5
}

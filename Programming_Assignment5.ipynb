{
 "cells": [
  {
   "cell_type": "markdown",
   "id": "e78f343e-832a-4f3c-ba5f-5720d9fe7d94",
   "metadata": {},
   "source": [
    "#### Answer 1"
   ]
  },
  {
   "cell_type": "code",
   "execution_count": 13,
   "id": "f9c7b55c-a03b-4277-84ca-2ae9e863a5ab",
   "metadata": {},
   "outputs": [
    {
     "name": "stdin",
     "output_type": "stream",
     "text": [
      "Enter a number : 24\n",
      "Enter another number : 73\n"
     ]
    },
    {
     "name": "stdout",
     "output_type": "stream",
     "text": [
      "LCM of 24 and 73 is 1752\n"
     ]
    }
   ],
   "source": [
    "def find_LCM():\n",
    "    num_1 = int(input(\"Enter a number :\"))\n",
    "    num_2 = int(input(\"Enter another number :\"))\n",
    "    if num_1 >= num_2 :\n",
    "        larger = num_1\n",
    "    else:\n",
    "        larger = num_2\n",
    "    while True:\n",
    "        if(larger % num_1) == 0 and (larger % num_2) == 0:\n",
    "            lcm = larger\n",
    "            break\n",
    "        else:\n",
    "            larger += 1\n",
    "    print(f\"LCM of {num_1} and {num_2} is {lcm}\")\n",
    "find_LCM()"
   ]
  },
  {
   "cell_type": "markdown",
   "id": "a4c9d53f-cf9f-464d-9ecf-7108fb13c244",
   "metadata": {},
   "source": [
    "#### Answer 2"
   ]
  },
  {
   "cell_type": "code",
   "execution_count": 12,
   "id": "b80b7742-700d-4721-85c4-bfd62cb0511f",
   "metadata": {},
   "outputs": [
    {
     "name": "stdin",
     "output_type": "stream",
     "text": [
      "Enter a number : 12\n",
      "Enter another number : 14\n"
     ]
    },
    {
     "name": "stdout",
     "output_type": "stream",
     "text": [
      "HCF of 12 and 14 is 2\n"
     ]
    }
   ],
   "source": [
    "def find_HCF():\n",
    "    n1 = int(input(\"Enter a number :\"))\n",
    "    n2 = int(input(\"Enter another number :\"))\n",
    "    if n1>n2:\n",
    "        smaller = n2\n",
    "    else:\n",
    "        smaller = n1\n",
    "    divisor = 1\n",
    "    while (divisor <= smaller):\n",
    "        if (n1%divisor == 0) and (n2%divisor == 0):\n",
    "            hcf = divisor\n",
    "        divisor += 1\n",
    "    print(f\"HCF of {n1} and {n2} is {hcf}\")\n",
    "find_HCF()"
   ]
  },
  {
   "cell_type": "markdown",
   "id": "966c47b6-f40a-4f3e-b033-f64c3b509e2f",
   "metadata": {},
   "source": [
    "#### Answer 3"
   ]
  },
  {
   "cell_type": "code",
   "execution_count": 14,
   "id": "ba1c9d66-6b8a-4f3c-a702-6b6ec99d8cec",
   "metadata": {},
   "outputs": [
    {
     "name": "stdin",
     "output_type": "stream",
     "text": [
      "Enter Decimal value :  344\n"
     ]
    },
    {
     "name": "stdout",
     "output_type": "stream",
     "text": [
      "Binary value : 0b101011000\n",
      "Octal value : 0o530\n",
      "Hexadecimal value : 0x158\n"
     ]
    }
   ],
   "source": [
    "def convert():\n",
    "    num = int(input(\"Enter Decimal value : \"))\n",
    "    print(\"Binary value :\",bin(num))\n",
    "    print(\"Octal value :\",oct(num))\n",
    "    print(\"Hexadecimal value :\",hex(num))\n",
    "    \n",
    "convert()"
   ]
  },
  {
   "cell_type": "markdown",
   "id": "31618d3d-63fb-4b13-a4aa-bdfdba626a62",
   "metadata": {},
   "source": [
    "#### Answer 4"
   ]
  },
  {
   "cell_type": "code",
   "execution_count": 18,
   "id": "90891cc4-9776-4a96-a0b1-e521f47cc813",
   "metadata": {},
   "outputs": [
    {
     "name": "stdin",
     "output_type": "stream",
     "text": [
      "Enter value : Q\n"
     ]
    },
    {
     "name": "stdout",
     "output_type": "stream",
     "text": [
      "The ASCII value is 81\n"
     ]
    }
   ],
   "source": [
    "def value():\n",
    "    a = input(\"Enter value :\")\n",
    "    print(\"The ASCII value is\",ord(a))\n",
    "value()"
   ]
  },
  {
   "cell_type": "markdown",
   "id": "7f3a34f3-ab20-45e6-8a01-c9e661ce1910",
   "metadata": {},
   "source": [
    "#### Answer 5"
   ]
  },
  {
   "cell_type": "code",
   "execution_count": 24,
   "id": "e7bb4523-51e3-419a-bbc0-5656b6862da6",
   "metadata": {},
   "outputs": [
    {
     "name": "stdin",
     "output_type": "stream",
     "text": [
      "Enter number : 200\n",
      "Enter another number : 150\n",
      "Enter operator (+,-,*,/) : *\n"
     ]
    },
    {
     "data": {
      "text/plain": [
       "30000"
      ]
     },
     "execution_count": 24,
     "metadata": {},
     "output_type": "execute_result"
    }
   ],
   "source": [
    "def simple_calc():\n",
    "    num1 = int(input(\"Enter number :\"))\n",
    "    num2 = int(input(\"Enter another number :\"))\n",
    "    operator = input(\"Enter operator (+,-,*,/) :\")\n",
    "    if operator == '+':\n",
    "        return num1+num2\n",
    "    elif operator == '-':\n",
    "        return num1-num2\n",
    "    elif operator == '*':\n",
    "        return num1*num2\n",
    "    elif operator == '/':\n",
    "        return num1/num2\n",
    "    else:\n",
    "        return \"Incorrect input.\"\n",
    "simple_calc()"
   ]
  },
  {
   "cell_type": "code",
   "execution_count": null,
   "id": "2f41cd1d-8366-4032-8ed8-f50cf395a8f7",
   "metadata": {},
   "outputs": [],
   "source": []
  }
 ],
 "metadata": {
  "kernelspec": {
   "display_name": "Python 3 (ipykernel)",
   "language": "python",
   "name": "python3"
  },
  "language_info": {
   "codemirror_mode": {
    "name": "ipython",
    "version": 3
   },
   "file_extension": ".py",
   "mimetype": "text/x-python",
   "name": "python",
   "nbconvert_exporter": "python",
   "pygments_lexer": "ipython3",
   "version": "3.9.7"
  }
 },
 "nbformat": 4,
 "nbformat_minor": 5
}

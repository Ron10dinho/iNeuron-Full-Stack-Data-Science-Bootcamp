{
 "cells": [
  {
   "cell_type": "markdown",
   "id": "4f186894-eecb-40f0-9d1d-d7f61c7bf749",
   "metadata": {},
   "source": [
    "#### Answer 1"
   ]
  },
  {
   "cell_type": "code",
   "execution_count": 1,
   "id": "1bb5899a-2b6e-46a6-a267-0b74922d3fc8",
   "metadata": {},
   "outputs": [
    {
     "name": "stdout",
     "output_type": "stream",
     "text": [
      "iNeuron\n"
     ]
    }
   ],
   "source": [
    "x = 'iNeuron'\n",
    "def func():\n",
    "    print(x)\n",
    "func()"
   ]
  },
  {
   "cell_type": "markdown",
   "id": "c57955db-80c9-44e5-8676-80f8d5200f34",
   "metadata": {},
   "source": [
    "The function initially looks for the variable 'x' locally , can not find it and thus returns the global variable 'x' . "
   ]
  },
  {
   "cell_type": "markdown",
   "id": "c5d7cae1-831f-4c53-a33b-38abfe9b814c",
   "metadata": {},
   "source": [
    "#### Answer 2 "
   ]
  },
  {
   "cell_type": "code",
   "execution_count": 2,
   "id": "fb5a0ae7-3ba1-470a-b770-c06f9e80342b",
   "metadata": {},
   "outputs": [
    {
     "name": "stdout",
     "output_type": "stream",
     "text": [
      "iNeuron\n"
     ]
    }
   ],
   "source": [
    "x = 'iNeuron'\n",
    "def func():\n",
    "    x = 'NI!'\n",
    "func()\n",
    "print(x)"
   ]
  },
  {
   "cell_type": "markdown",
   "id": "54b87b9a-2446-44e0-b862-8f4e784573b8",
   "metadata": {},
   "source": [
    "Since there was no variable call with the func() , it prints the global variable 'x' ."
   ]
  },
  {
   "cell_type": "markdown",
   "id": "6cc4f334-1753-4d86-95d5-5ef1c85cf014",
   "metadata": {},
   "source": [
    "#### Answer 3 "
   ]
  },
  {
   "cell_type": "code",
   "execution_count": 4,
   "id": "89c83c5c-ff71-480d-843a-6432751d50fc",
   "metadata": {},
   "outputs": [
    {
     "name": "stdout",
     "output_type": "stream",
     "text": [
      "NI!\n",
      "iNeuron\n"
     ]
    }
   ],
   "source": [
    "x = 'iNeuron'\n",
    "def func():\n",
    "    x = 'NI!'\n",
    "    print(x)\n",
    "func()\n",
    "print(x)"
   ]
  },
  {
   "cell_type": "markdown",
   "id": "05aded5f-0191-4c24-bb3e-10d2db2ae439",
   "metadata": {},
   "source": [
    "Since there is a print variable with the func() call , it prints both the local as well as the global variable."
   ]
  },
  {
   "cell_type": "markdown",
   "id": "c35ab413-b8ee-4474-9f6c-d35958b35f1f",
   "metadata": {},
   "source": [
    "#### Answer 4 "
   ]
  },
  {
   "cell_type": "code",
   "execution_count": 5,
   "id": "ed1c5e46-3302-43dd-8a0a-7f73a075b1fc",
   "metadata": {},
   "outputs": [
    {
     "name": "stdout",
     "output_type": "stream",
     "text": [
      "NI!\n"
     ]
    }
   ],
   "source": [
    "x = 'iNeuron'\n",
    "def func():\n",
    "    global x\n",
    "    x = 'NI!'\n",
    "func()\n",
    "print(x)"
   ]
  },
  {
   "cell_type": "markdown",
   "id": "837b9c3f-e7b9-4cd1-9e2c-880baa413b29",
   "metadata": {},
   "source": [
    "Declared the value inside the func() as the global value rather that it being a local value . Therefore it returns the newly assigned global value."
   ]
  },
  {
   "cell_type": "markdown",
   "id": "1f925a9c-f948-4f1f-ae85-e480fae85e1f",
   "metadata": {},
   "source": [
    "#### Answer 5 "
   ]
  },
  {
   "cell_type": "code",
   "execution_count": 7,
   "id": "f305ddcf-fb51-4672-9cb3-bce209d76fe6",
   "metadata": {},
   "outputs": [
    {
     "name": "stdout",
     "output_type": "stream",
     "text": [
      "NI!\n"
     ]
    },
    {
     "data": {
      "text/plain": [
       "'iNeuron'"
      ]
     },
     "execution_count": 7,
     "metadata": {},
     "output_type": "execute_result"
    }
   ],
   "source": [
    "x = 'iNeuron'\n",
    "def func():\n",
    "    x = 'NI!'\n",
    "    def nested():\n",
    "        print(x)\n",
    "    nested()\n",
    "func()\n",
    "x"
   ]
  },
  {
   "cell_type": "markdown",
   "id": "bff23705-b7ca-4d36-ab80-ec4ad0a15a91",
   "metadata": {},
   "source": [
    "Process starts from the nested function , it is called , it prints the value of x locally stated within the parent function . \n",
    "But since the function has not been assosciated with another variable , the last value of x (global value) is shown as output ."
   ]
  },
  {
   "cell_type": "markdown",
   "id": "c09284d2-f0f9-4e75-b783-381d8abf6857",
   "metadata": {},
   "source": [
    "#### Answer 6 "
   ]
  },
  {
   "cell_type": "code",
   "execution_count": 8,
   "id": "8b872453-4e06-4792-a138-efdb61f4f165",
   "metadata": {},
   "outputs": [
    {
     "name": "stdout",
     "output_type": "stream",
     "text": [
      "Spam\n"
     ]
    }
   ],
   "source": [
    "x = 'iNeuron'\n",
    "def func():\n",
    "    x = 'NI!'\n",
    "    def nested():\n",
    "        nonlocal x\n",
    "        x = 'Spam'\n",
    "    nested()\n",
    "    print(x)\n",
    "func()"
   ]
  },
  {
   "cell_type": "markdown",
   "id": "7cc81e42-5b7c-4b2b-ac99-1c0046e9d5ec",
   "metadata": {},
   "source": [
    "nonlocal keyword is used to declare that a variable is not in the local scope , therefore , x = 'Spam' is modified in the global scope , which is eventually returned ."
   ]
  },
  {
   "cell_type": "code",
   "execution_count": null,
   "id": "9db069eb-97bb-4c7a-b16f-4bd8bcb8bb11",
   "metadata": {},
   "outputs": [],
   "source": []
  }
 ],
 "metadata": {
  "kernelspec": {
   "display_name": "Python 3 (ipykernel)",
   "language": "python",
   "name": "python3"
  },
  "language_info": {
   "codemirror_mode": {
    "name": "ipython",
    "version": 3
   },
   "file_extension": ".py",
   "mimetype": "text/x-python",
   "name": "python",
   "nbconvert_exporter": "python",
   "pygments_lexer": "ipython3",
   "version": "3.9.7"
  }
 },
 "nbformat": 4,
 "nbformat_minor": 5
}

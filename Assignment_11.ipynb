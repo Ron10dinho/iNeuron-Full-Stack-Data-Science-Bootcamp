{
 "cells": [
  {
   "cell_type": "markdown",
   "id": "0aa228ff-434b-49f7-bebd-9a690262f293",
   "metadata": {},
   "source": [
    "#### Answer 1"
   ]
  },
  {
   "cell_type": "code",
   "execution_count": 13,
   "id": "d0debda4-2524-4c69-be29-ae529e4d5bcc",
   "metadata": {},
   "outputs": [
    {
     "ename": "AssertionError",
     "evalue": "spam should be positive",
     "output_type": "error",
     "traceback": [
      "\u001b[0;31m---------------------------------------------------------------------------\u001b[0m",
      "\u001b[0;31mAssertionError\u001b[0m                            Traceback (most recent call last)",
      "\u001b[0;32m/var/folders/6y/_srjvzgn1h79w_v9wg96n2v40000gn/T/ipykernel_47186/148908208.py\u001b[0m in \u001b[0;36m<module>\u001b[0;34m\u001b[0m\n\u001b[1;32m      1\u001b[0m \u001b[0mspam\u001b[0m \u001b[0;34m=\u001b[0m \u001b[0;34m-\u001b[0m\u001b[0;36m22\u001b[0m\u001b[0;34m\u001b[0m\u001b[0;34m\u001b[0m\u001b[0m\n\u001b[0;32m----> 2\u001b[0;31m \u001b[0;32massert\u001b[0m \u001b[0mspam\u001b[0m \u001b[0;34m>=\u001b[0m \u001b[0;36m0\u001b[0m \u001b[0;34m,\u001b[0m \u001b[0;34m'spam should be positive'\u001b[0m\u001b[0;34m\u001b[0m\u001b[0;34m\u001b[0m\u001b[0m\n\u001b[0m",
      "\u001b[0;31mAssertionError\u001b[0m: spam should be positive"
     ]
    }
   ],
   "source": [
    "spam = -22\n",
    "assert spam >= 0 , 'spam should be positive'"
   ]
  },
  {
   "cell_type": "markdown",
   "id": "61c4c1c2-1794-4f05-aa38-94d5a6ff5837",
   "metadata": {},
   "source": [
    "#### Answer 2"
   ]
  },
  {
   "cell_type": "code",
   "execution_count": 14,
   "id": "3d770298-ac0d-4d7c-b440-c393f0d04ce8",
   "metadata": {},
   "outputs": [
    {
     "ename": "AssertionError",
     "evalue": "egg and bacon should not be the same",
     "output_type": "error",
     "traceback": [
      "\u001b[0;31m---------------------------------------------------------------------------\u001b[0m",
      "\u001b[0;31mAssertionError\u001b[0m                            Traceback (most recent call last)",
      "\u001b[0;32m/var/folders/6y/_srjvzgn1h79w_v9wg96n2v40000gn/T/ipykernel_47186/3890880916.py\u001b[0m in \u001b[0;36m<module>\u001b[0;34m\u001b[0m\n\u001b[1;32m      3\u001b[0m     \u001b[0mbacon\u001b[0m \u001b[0;34m=\u001b[0m \u001b[0mbacon\u001b[0m\u001b[0;34m.\u001b[0m\u001b[0mupper\u001b[0m\u001b[0;34m(\u001b[0m\u001b[0;34m)\u001b[0m\u001b[0;34m\u001b[0m\u001b[0;34m\u001b[0m\u001b[0m\n\u001b[1;32m      4\u001b[0m     \u001b[0;32massert\u001b[0m \u001b[0;32mnot\u001b[0m \u001b[0;34m(\u001b[0m\u001b[0megg\u001b[0m\u001b[0;34m==\u001b[0m\u001b[0mbacon\u001b[0m\u001b[0;34m)\u001b[0m \u001b[0;34m,\u001b[0m \u001b[0;34m'egg and bacon should not be the same'\u001b[0m\u001b[0;34m\u001b[0m\u001b[0;34m\u001b[0m\u001b[0m\n\u001b[0;32m----> 5\u001b[0;31m \u001b[0mraise_error\u001b[0m\u001b[0;34m(\u001b[0m\u001b[0;34m'helloworld'\u001b[0m\u001b[0;34m,\u001b[0m\u001b[0;34m'HelloWORld'\u001b[0m\u001b[0;34m)\u001b[0m\u001b[0;34m\u001b[0m\u001b[0;34m\u001b[0m\u001b[0m\n\u001b[0m",
      "\u001b[0;32m/var/folders/6y/_srjvzgn1h79w_v9wg96n2v40000gn/T/ipykernel_47186/3890880916.py\u001b[0m in \u001b[0;36mraise_error\u001b[0;34m(egg, bacon)\u001b[0m\n\u001b[1;32m      2\u001b[0m     \u001b[0megg\u001b[0m \u001b[0;34m=\u001b[0m \u001b[0megg\u001b[0m\u001b[0;34m.\u001b[0m\u001b[0mupper\u001b[0m\u001b[0;34m(\u001b[0m\u001b[0;34m)\u001b[0m\u001b[0;34m\u001b[0m\u001b[0;34m\u001b[0m\u001b[0m\n\u001b[1;32m      3\u001b[0m     \u001b[0mbacon\u001b[0m \u001b[0;34m=\u001b[0m \u001b[0mbacon\u001b[0m\u001b[0;34m.\u001b[0m\u001b[0mupper\u001b[0m\u001b[0;34m(\u001b[0m\u001b[0;34m)\u001b[0m\u001b[0;34m\u001b[0m\u001b[0;34m\u001b[0m\u001b[0m\n\u001b[0;32m----> 4\u001b[0;31m     \u001b[0;32massert\u001b[0m \u001b[0;32mnot\u001b[0m \u001b[0;34m(\u001b[0m\u001b[0megg\u001b[0m\u001b[0;34m==\u001b[0m\u001b[0mbacon\u001b[0m\u001b[0;34m)\u001b[0m \u001b[0;34m,\u001b[0m \u001b[0;34m'egg and bacon should not be the same'\u001b[0m\u001b[0;34m\u001b[0m\u001b[0;34m\u001b[0m\u001b[0m\n\u001b[0m\u001b[1;32m      5\u001b[0m \u001b[0mraise_error\u001b[0m\u001b[0;34m(\u001b[0m\u001b[0;34m'helloworld'\u001b[0m\u001b[0;34m,\u001b[0m\u001b[0;34m'HelloWORld'\u001b[0m\u001b[0;34m)\u001b[0m\u001b[0;34m\u001b[0m\u001b[0;34m\u001b[0m\u001b[0m\n",
      "\u001b[0;31mAssertionError\u001b[0m: egg and bacon should not be the same"
     ]
    }
   ],
   "source": [
    "def raise_error(egg,bacon):\n",
    "    egg = egg.upper()\n",
    "    bacon = bacon.upper()\n",
    "    assert not (egg==bacon) , 'egg and bacon should not be the same'\n",
    "raise_error('helloworld','HelloWORld')"
   ]
  },
  {
   "cell_type": "markdown",
   "id": "a1f433d2-d1a8-4be0-a4af-5e2cf99540bb",
   "metadata": {},
   "source": [
    "#### Answer 3"
   ]
  },
  {
   "cell_type": "code",
   "execution_count": 16,
   "id": "d03058b9-1033-46a1-b3e2-1276199bb327",
   "metadata": {},
   "outputs": [
    {
     "ename": "AssertionError",
     "evalue": "This function will always show an Assertion Error ",
     "output_type": "error",
     "traceback": [
      "\u001b[0;31m---------------------------------------------------------------------------\u001b[0m",
      "\u001b[0;31mAssertionError\u001b[0m                            Traceback (most recent call last)",
      "\u001b[0;32m/var/folders/6y/_srjvzgn1h79w_v9wg96n2v40000gn/T/ipykernel_47186/4123369299.py\u001b[0m in \u001b[0;36m<module>\u001b[0;34m\u001b[0m\n\u001b[1;32m      1\u001b[0m \u001b[0;32mdef\u001b[0m \u001b[0massertion_error\u001b[0m\u001b[0;34m(\u001b[0m\u001b[0;34m)\u001b[0m\u001b[0;34m:\u001b[0m\u001b[0;34m\u001b[0m\u001b[0;34m\u001b[0m\u001b[0m\n\u001b[1;32m      2\u001b[0m     \u001b[0;32massert\u001b[0m \u001b[0;32mFalse\u001b[0m \u001b[0;34m,\u001b[0m \u001b[0;34m'This function will always show an Assertion Error '\u001b[0m\u001b[0;34m\u001b[0m\u001b[0;34m\u001b[0m\u001b[0m\n\u001b[0;32m----> 3\u001b[0;31m \u001b[0massertion_error\u001b[0m\u001b[0;34m(\u001b[0m\u001b[0;34m)\u001b[0m\u001b[0;34m\u001b[0m\u001b[0;34m\u001b[0m\u001b[0m\n\u001b[0m",
      "\u001b[0;32m/var/folders/6y/_srjvzgn1h79w_v9wg96n2v40000gn/T/ipykernel_47186/4123369299.py\u001b[0m in \u001b[0;36massertion_error\u001b[0;34m()\u001b[0m\n\u001b[1;32m      1\u001b[0m \u001b[0;32mdef\u001b[0m \u001b[0massertion_error\u001b[0m\u001b[0;34m(\u001b[0m\u001b[0;34m)\u001b[0m\u001b[0;34m:\u001b[0m\u001b[0;34m\u001b[0m\u001b[0;34m\u001b[0m\u001b[0m\n\u001b[0;32m----> 2\u001b[0;31m     \u001b[0;32massert\u001b[0m \u001b[0;32mFalse\u001b[0m \u001b[0;34m,\u001b[0m \u001b[0;34m'This function will always show an Assertion Error '\u001b[0m\u001b[0;34m\u001b[0m\u001b[0;34m\u001b[0m\u001b[0m\n\u001b[0m\u001b[1;32m      3\u001b[0m \u001b[0massertion_error\u001b[0m\u001b[0;34m(\u001b[0m\u001b[0;34m)\u001b[0m\u001b[0;34m\u001b[0m\u001b[0;34m\u001b[0m\u001b[0m\n",
      "\u001b[0;31mAssertionError\u001b[0m: This function will always show an Assertion Error "
     ]
    }
   ],
   "source": [
    "def assertion_error():\n",
    "    assert False , 'This function will always show an Assertion Error '\n",
    "assertion_error()"
   ]
  },
  {
   "cell_type": "markdown",
   "id": "77d3a894-21f4-4dc6-ad53-424fb906180b",
   "metadata": {},
   "source": [
    "#### Answer 4"
   ]
  },
  {
   "cell_type": "code",
   "execution_count": 17,
   "id": "c593a968-243c-42ed-8a6e-01c736adc431",
   "metadata": {},
   "outputs": [],
   "source": [
    "# 1\n",
    "import logging\n",
    "# 2 \n",
    "logging.basicConfig(filename = 'application_log.txt',level=logging.DEBUG, format=' %(asctime)s - %(levelname)s - %(message)s')\n"
   ]
  },
  {
   "cell_type": "markdown",
   "id": "160e999c-2f44-476e-82dc-61f75e4e02fa",
   "metadata": {},
   "source": [
    "#### Answer 5"
   ]
  },
  {
   "cell_type": "code",
   "execution_count": 18,
   "id": "43922d3e-5bc7-48b1-bbc5-29e92d3fd7eb",
   "metadata": {},
   "outputs": [],
   "source": [
    "import logging\n",
    "logging.basicConfig(filename = 'application_log.txt',level=logging.DEBUG, format=' %(asctime)s - %(levelname)s - %(message)s')\n",
    "logging.debug(\"Data inserted Successfully\")\n",
    "logging.debug(\"Connection closed Successfully\")"
   ]
  },
  {
   "cell_type": "code",
   "execution_count": 19,
   "id": "846a90f5-da76-4c94-a00d-a672dc28c50d",
   "metadata": {},
   "outputs": [
    {
     "name": "stdout",
     "output_type": "stream",
     "text": [
      " 2022-08-11 07:44:11,088 - DEBUG - Data inserted Successfully\n",
      "\n",
      " 2022-08-11 07:44:11,091 - DEBUG - Connection closed Successfully\n",
      "\n"
     ]
    }
   ],
   "source": [
    "file = open(\"./application_log.txt\",\"r\")\n",
    "for record in file.readlines():\n",
    "    print(record)"
   ]
  },
  {
   "cell_type": "markdown",
   "id": "e35d31d1-a0fd-4ed3-863d-4b50e48bdfaa",
   "metadata": {},
   "source": [
    "#### Answer 6"
   ]
  },
  {
   "cell_type": "markdown",
   "id": "70ddb150-f3d3-4d59-a2ea-aac3605d5918",
   "metadata": {},
   "source": [
    "- FATAL \n",
    "- ERROR \n",
    "- WARN \n",
    "- INFO \n",
    "- DEBUG \n",
    "- TRACE\n"
   ]
  },
  {
   "cell_type": "markdown",
   "id": "f64e8a68-47ec-48d0-b035-26ade69f7542",
   "metadata": {},
   "source": [
    "After development of your code , you can disable logging messages without removing the logging function , whereas you will need to manually remove print() statements . \n",
    "\n",
    "Also print() is used to display a particular message or help whereas logging is used to record all events like error , infor , debug messages and timestamps . "
   ]
  },
  {
   "cell_type": "markdown",
   "id": "9d2aa278-fb2e-4d58-ace1-f39ba8f0da1d",
   "metadata": {},
   "source": [
    "#### Answer 7"
   ]
  },
  {
   "cell_type": "code",
   "execution_count": 20,
   "id": "6608190e-4fea-45ed-a458-09ec5d12f08f",
   "metadata": {},
   "outputs": [],
   "source": [
    "logging.disable = True"
   ]
  },
  {
   "cell_type": "markdown",
   "id": "227b16a2-c232-4ec0-b472-9099822344a1",
   "metadata": {},
   "source": [
    "#### Answer 8"
   ]
  },
  {
   "cell_type": "markdown",
   "id": "f8a51b38-0328-4d24-b7ef-2e38c86bec3b",
   "metadata": {},
   "source": [
    "After development of your code , you can disable logging messages without removing the logging function , whereas you will need to manually remove print() statements . \n",
    "\n",
    "Also print() is used to display a particular message or help whereas logging is used to record all events like error , infor , debug messages and timestamps . "
   ]
  },
  {
   "cell_type": "markdown",
   "id": "abdfdd8c-e69d-4e68-9ba4-f5a6b05c2e75",
   "metadata": {},
   "source": [
    "#### Answer 9"
   ]
  },
  {
   "cell_type": "markdown",
   "id": "717864bc-951b-4004-9c3f-f5a6e3fd1cae",
   "metadata": {},
   "source": [
    "Step in = Causes the debugger to execute the next line of code and then pause again . \n",
    "\n",
    "Step Over = Causes the debugger to execute the next line of code , and on encountering a function , it will \"step-over\" the code in the function , the function will execute and the debugger will pause as soon as the function call returns . \n",
    "\n",
    "Step out = Causes the debugger to execute lines of code at full speed until it returns from the current function ."
   ]
  },
  {
   "cell_type": "markdown",
   "id": "1f858fb3-07d8-4433-a261-93078ae0faa3",
   "metadata": {},
   "source": [
    "#### Answer 10"
   ]
  },
  {
   "cell_type": "markdown",
   "id": "c20ccd75-526a-4be4-8cad-0b9911f6c163",
   "metadata": {},
   "source": [
    "Program continues running normally without pausing for debugging until it terminates or reaches a breakpoint . "
   ]
  },
  {
   "cell_type": "markdown",
   "id": "40a7391c-055c-4f68-b96b-da50e66fddfb",
   "metadata": {},
   "source": [
    "#### Answer 11"
   ]
  },
  {
   "cell_type": "markdown",
   "id": "12446255-83d9-452f-983a-0efc17ddc8a1",
   "metadata": {},
   "source": [
    "Breakpoint is a setting on a line of code that causes the debugger to pause when the program execution reaches the line ."
   ]
  },
  {
   "cell_type": "code",
   "execution_count": null,
   "id": "e033232f-de83-4618-9328-c75d56a53dab",
   "metadata": {},
   "outputs": [],
   "source": []
  }
 ],
 "metadata": {
  "kernelspec": {
   "display_name": "Python 3 (ipykernel)",
   "language": "python",
   "name": "python3"
  },
  "language_info": {
   "codemirror_mode": {
    "name": "ipython",
    "version": 3
   },
   "file_extension": ".py",
   "mimetype": "text/x-python",
   "name": "python",
   "nbconvert_exporter": "python",
   "pygments_lexer": "ipython3",
   "version": "3.9.7"
  }
 },
 "nbformat": 4,
 "nbformat_minor": 5
}
